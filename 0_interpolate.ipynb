{
 "cells": [
  {
   "cell_type": "code",
   "execution_count": 1,
   "metadata": {},
   "outputs": [],
   "source": [
    "import numpy as np\n",
    "import pandas as pd\n",
    "import matplotlib.pyplot as plt\n",
    "from sklearn.preprocessing import LabelEncoder\n",
    "import psutil \n",
    "import gc"
   ]
  },
  {
   "cell_type": "code",
   "execution_count": 2,
   "metadata": {},
   "outputs": [
    {
     "name": "stdout",
     "output_type": "stream",
     "text": [
      "C:\\Users\\minih\\python_prac1\\m5\\git-repository\\kaggle-m5-accuracy-library\\library\n"
     ]
    }
   ],
   "source": [
    "cd C:/Users/minih/python_prac1/m5/git-repository/kaggle-m5-accuracy-library/library/"
   ]
  },
  {
   "cell_type": "code",
   "execution_count": 3,
   "metadata": {},
   "outputs": [],
   "source": [
    "# reduce用\n",
    "import patair"
   ]
  },
  {
   "cell_type": "code",
   "execution_count": 4,
   "metadata": {},
   "outputs": [
    {
     "name": "stdout",
     "output_type": "stream",
     "text": [
      "C:\\Users\\minih\\python_prac1\\library\\m5\n"
     ]
    }
   ],
   "source": [
    "cd C:/Users/minih/python_prac1/library/m5/"
   ]
  },
  {
   "cell_type": "code",
   "execution_count": 5,
   "metadata": {},
   "outputs": [],
   "source": [
    "def encode_categorical(df, cols):\n",
    "    \n",
    "    for col in cols:\n",
    "        # Leave NaN as it is.\n",
    "        le = LabelEncoder()\n",
    "        #not_null = df[col][df[col].notnull()]\n",
    "        df[col] = df[col].fillna('nan')\n",
    "        df[col] = pd.Series(le.fit_transform(df[col]), index=df.index)\n",
    "\n",
    "    return df\n"
   ]
  },
  {
   "cell_type": "code",
   "execution_count": 22,
   "metadata": {},
   "outputs": [
    {
     "name": "stdout",
     "output_type": "stream",
     "text": [
      "Mem. usage decreased to 119.65 Mb (50.0% reduction)\n",
      "Mem. usage decreased to 99.71 Mb (6.2% reduction)\n"
     ]
    },
    {
     "data": {
      "text/plain": [
       "98"
      ]
     },
     "execution_count": 22,
     "metadata": {},
     "output_type": "execute_result"
    }
   ],
   "source": [
    "datas = pd.read_csv(\"add_Clean_Analysis_WI_3.csv\").pipe(patair.reduce_mem_usage)\n",
    "datas = encode_categorical(\n",
    "   datas, [\"item_id\"]\n",
    ").pipe(patair.reduce_mem_usage)\n",
    "gc.collect()"
   ]
  },
  {
   "cell_type": "code",
   "execution_count": 23,
   "metadata": {},
   "outputs": [],
   "source": [
    "datas.sort_values([\"item_id\", \"variable\", \"week\", \"wday\"], inplace=True)"
   ]
  },
  {
   "cell_type": "code",
   "execution_count": 24,
   "metadata": {},
   "outputs": [],
   "source": [
    "datas[\"variable\"] = datas[\"variable\"].apply(lambda x: x[-2:])\n",
    "datas[\"variable\"] = datas[\"variable\"].astype(np.int8)"
   ]
  },
  {
   "cell_type": "code",
   "execution_count": 25,
   "metadata": {},
   "outputs": [],
   "source": [
    "datas.drop(\"Unnamed: 0\", axis=1, inplace=True)\n",
    "datas = datas[datas[\"variable\"] >= 13]"
   ]
  },
  {
   "cell_type": "code",
   "execution_count": 26,
   "metadata": {},
   "outputs": [],
   "source": [
    "#順序の整った一意なキーを取得\n",
    "product = pd.read_pickle(\"product_WI_3.pickle\")"
   ]
  },
  {
   "cell_type": "code",
   "execution_count": 20,
   "metadata": {
    "scrolled": true
   },
   "outputs": [
    {
     "data": {
      "text/html": [
       "<div>\n",
       "<style scoped>\n",
       "    .dataframe tbody tr th:only-of-type {\n",
       "        vertical-align: middle;\n",
       "    }\n",
       "\n",
       "    .dataframe tbody tr th {\n",
       "        vertical-align: top;\n",
       "    }\n",
       "\n",
       "    .dataframe thead th {\n",
       "        text-align: right;\n",
       "    }\n",
       "</style>\n",
       "<table border=\"1\" class=\"dataframe\">\n",
       "  <thead>\n",
       "    <tr style=\"text-align: right;\">\n",
       "      <th></th>\n",
       "      <th>item_id</th>\n",
       "      <th>week</th>\n",
       "      <th>wday</th>\n",
       "      <th>variable</th>\n",
       "      <th>value</th>\n",
       "      <th>prev_1year</th>\n",
       "      <th>year</th>\n",
       "      <th>date</th>\n",
       "    </tr>\n",
       "  </thead>\n",
       "  <tbody>\n",
       "    <tr>\n",
       "      <th>1612</th>\n",
       "      <td>0</td>\n",
       "      <td>1</td>\n",
       "      <td>1</td>\n",
       "      <td>13</td>\n",
       "      <td>0.0</td>\n",
       "      <td>NaN</td>\n",
       "      <td>2013</td>\n",
       "      <td>2013-01-26</td>\n",
       "    </tr>\n",
       "    <tr>\n",
       "      <th>4661</th>\n",
       "      <td>0</td>\n",
       "      <td>1</td>\n",
       "      <td>2</td>\n",
       "      <td>13</td>\n",
       "      <td>1.0</td>\n",
       "      <td>NaN</td>\n",
       "      <td>2013</td>\n",
       "      <td>2013-01-27</td>\n",
       "    </tr>\n",
       "    <tr>\n",
       "      <th>7710</th>\n",
       "      <td>0</td>\n",
       "      <td>1</td>\n",
       "      <td>3</td>\n",
       "      <td>13</td>\n",
       "      <td>4.0</td>\n",
       "      <td>NaN</td>\n",
       "      <td>2013</td>\n",
       "      <td>2013-01-28</td>\n",
       "    </tr>\n",
       "    <tr>\n",
       "      <th>10759</th>\n",
       "      <td>0</td>\n",
       "      <td>1</td>\n",
       "      <td>4</td>\n",
       "      <td>13</td>\n",
       "      <td>3.0</td>\n",
       "      <td>NaN</td>\n",
       "      <td>2013</td>\n",
       "      <td>2013-01-29</td>\n",
       "    </tr>\n",
       "    <tr>\n",
       "      <th>13808</th>\n",
       "      <td>0</td>\n",
       "      <td>1</td>\n",
       "      <td>5</td>\n",
       "      <td>13</td>\n",
       "      <td>1.0</td>\n",
       "      <td>NaN</td>\n",
       "      <td>2013</td>\n",
       "      <td>2013-01-30</td>\n",
       "    </tr>\n",
       "    <tr>\n",
       "      <th>...</th>\n",
       "      <td>...</td>\n",
       "      <td>...</td>\n",
       "      <td>...</td>\n",
       "      <td>...</td>\n",
       "      <td>...</td>\n",
       "      <td>...</td>\n",
       "      <td>...</td>\n",
       "      <td>...</td>\n",
       "    </tr>\n",
       "    <tr>\n",
       "      <th>3471373</th>\n",
       "      <td>3048</td>\n",
       "      <td>16</td>\n",
       "      <td>5</td>\n",
       "      <td>16</td>\n",
       "      <td>NaN</td>\n",
       "      <td>0.0</td>\n",
       "      <td>2016</td>\n",
       "      <td>2016-05-18</td>\n",
       "    </tr>\n",
       "    <tr>\n",
       "      <th>3474422</th>\n",
       "      <td>3048</td>\n",
       "      <td>16</td>\n",
       "      <td>6</td>\n",
       "      <td>16</td>\n",
       "      <td>NaN</td>\n",
       "      <td>0.0</td>\n",
       "      <td>2016</td>\n",
       "      <td>2016-05-19</td>\n",
       "    </tr>\n",
       "    <tr>\n",
       "      <th>3477471</th>\n",
       "      <td>3048</td>\n",
       "      <td>16</td>\n",
       "      <td>7</td>\n",
       "      <td>16</td>\n",
       "      <td>NaN</td>\n",
       "      <td>0.0</td>\n",
       "      <td>2016</td>\n",
       "      <td>2016-05-20</td>\n",
       "    </tr>\n",
       "    <tr>\n",
       "      <th>3480520</th>\n",
       "      <td>3048</td>\n",
       "      <td>17</td>\n",
       "      <td>1</td>\n",
       "      <td>16</td>\n",
       "      <td>NaN</td>\n",
       "      <td>0.0</td>\n",
       "      <td>2016</td>\n",
       "      <td>2016-05-21</td>\n",
       "    </tr>\n",
       "    <tr>\n",
       "      <th>3483569</th>\n",
       "      <td>3048</td>\n",
       "      <td>17</td>\n",
       "      <td>2</td>\n",
       "      <td>16</td>\n",
       "      <td>NaN</td>\n",
       "      <td>0.0</td>\n",
       "      <td>2016</td>\n",
       "      <td>2016-05-22</td>\n",
       "    </tr>\n",
       "  </tbody>\n",
       "</table>\n",
       "<p>3485007 rows × 8 columns</p>\n",
       "</div>"
      ],
      "text/plain": [
       "         item_id  week  wday  variable  value  prev_1year  year        date\n",
       "1612           0     1     1        13    0.0         NaN  2013  2013-01-26\n",
       "4661           0     1     2        13    1.0         NaN  2013  2013-01-27\n",
       "7710           0     1     3        13    4.0         NaN  2013  2013-01-28\n",
       "10759          0     1     4        13    3.0         NaN  2013  2013-01-29\n",
       "13808          0     1     5        13    1.0         NaN  2013  2013-01-30\n",
       "...          ...   ...   ...       ...    ...         ...   ...         ...\n",
       "3471373     3048    16     5        16    NaN         0.0  2016  2016-05-18\n",
       "3474422     3048    16     6        16    NaN         0.0  2016  2016-05-19\n",
       "3477471     3048    16     7        16    NaN         0.0  2016  2016-05-20\n",
       "3480520     3048    17     1        16    NaN         0.0  2016  2016-05-21\n",
       "3483569     3048    17     2        16    NaN         0.0  2016  2016-05-22\n",
       "\n",
       "[3485007 rows x 8 columns]"
      ]
     },
     "execution_count": 20,
     "metadata": {},
     "output_type": "execute_result"
    }
   ],
   "source": [
    "datas"
   ]
  },
  {
   "cell_type": "code",
   "execution_count": 27,
   "metadata": {},
   "outputs": [],
   "source": [
    "#一意なキーをnumpy配列で取得\n",
    "columns = np.array(product[\"item_id\"])"
   ]
  },
  {
   "cell_type": "code",
   "execution_count": 22,
   "metadata": {},
   "outputs": [
    {
     "data": {
      "text/plain": [
       "array([1437, 1438, 1439, ..., 1434, 1435, 1436], dtype=int16)"
      ]
     },
     "execution_count": 22,
     "metadata": {},
     "output_type": "execute_result"
    }
   ],
   "source": [
    "columns"
   ]
  },
  {
   "cell_type": "code",
   "execution_count": 28,
   "metadata": {},
   "outputs": [
    {
     "name": "stdout",
     "output_type": "stream",
     "text": [
      "0/3049\n",
      "100/3049\n",
      "200/3049\n",
      "300/3049\n",
      "400/3049\n",
      "500/3049\n",
      "600/3049\n",
      "700/3049\n",
      "800/3049\n",
      "900/3049\n",
      "1000/3049\n",
      "1100/3049\n",
      "1200/3049\n",
      "1300/3049\n",
      "1400/3049\n",
      "1500/3049\n",
      "1600/3049\n",
      "1700/3049\n",
      "1800/3049\n",
      "1900/3049\n",
      "2000/3049\n",
      "2100/3049\n",
      "2200/3049\n",
      "2300/3049\n",
      "2400/3049\n",
      "2500/3049\n",
      "2600/3049\n",
      "2700/3049\n",
      "2800/3049\n",
      "2900/3049\n",
      "3000/3049\n"
     ]
    }
   ],
   "source": [
    "#各アイテムIDについて、0が15日以上続く区間で昨年の売り上げ(prev365)を射影\n",
    "for l, item in enumerate(columns):\n",
    "    buff = datas[datas[\"item_id\"] == item]\n",
    "    buff.reset_index(inplace=True)\n",
    "    array = np.array(buff[\"value\"])\n",
    "    j = 0\n",
    "    range_list = []\n",
    "    for i in range(len(array)):\n",
    "        if array[i] == 0:\n",
    "            j += 1\n",
    "        else:\n",
    "            if j >= 15:\n",
    "                range_list.extend(np.arange(i-j,i,1))\n",
    "            j = 0\n",
    "    if j >= 15:\n",
    "        range_list.extend(np.arange(i-j+1,i+1,1))\n",
    "    change_array = np.array(buff.loc[range_list][\"index\"])\n",
    "    datas.loc[change_array,\"value\"] = datas.loc[change_array,\"prev_1year\"]\n",
    "    if l % 100 == 0:\n",
    "        print(f\"{l}/3049\")   "
   ]
  },
  {
   "cell_type": "code",
   "execution_count": 29,
   "metadata": {},
   "outputs": [],
   "source": [
    "datas.to_pickle(\"WI_3_interpolate.pickle\")"
   ]
  }
 ],
 "metadata": {
  "kernelspec": {
   "display_name": "Python 3",
   "language": "python",
   "name": "python3"
  },
  "language_info": {
   "codemirror_mode": {
    "name": "ipython",
    "version": 3
   },
   "file_extension": ".py",
   "mimetype": "text/x-python",
   "name": "python",
   "nbconvert_exporter": "python",
   "pygments_lexer": "ipython3",
   "version": "3.7.7"
  }
 },
 "nbformat": 4,
 "nbformat_minor": 4
}
