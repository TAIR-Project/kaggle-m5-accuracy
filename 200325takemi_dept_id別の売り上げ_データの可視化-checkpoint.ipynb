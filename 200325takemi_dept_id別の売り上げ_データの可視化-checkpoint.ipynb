{
 "cells": [
  {
   "cell_type": "code",
   "execution_count": null,
   "metadata": {
    "_cell_guid": "b1076dfc-b9ad-4769-8c92-a6c4dae69d19",
    "_uuid": "8f2839f25d086af736a60e9eeb907d3b93b6e0e5"
   },
   "outputs": [],
   "source": [
    "# This Python 3 environment comes with many helpful analytics libraries installed\n",
    "# It is defined by the kaggle/python docker image: https://github.com/kaggle/docker-python\n",
    "# For example, here's several helpful packages to load in \n",
    "\n",
    "import numpy as np # linear algebra\n",
    "import pandas as pd # data processing, CSV file I/O (e.g. pd.read_csv)\n",
    "import matplotlib.pyplot as plt\n",
    "# Input data files are available in the \"../input/\" directory.\n",
    "# For example, running this (by clicking run or pressing Shift+Enter) will list all files under the input directory\n",
    "\n",
    "import os\n",
    "for dirname, _, filenames in os.walk('/kaggle/input'):\n",
    "    for filename in filenames:\n",
    "        print(os.path.join(dirname, filename))\n",
    "\n",
    "# Any results you write to the current directory are saved as output."
   ]
  },
  {
   "cell_type": "code",
   "execution_count": null,
   "metadata": {
    "_cell_guid": "79c7e3d0-c299-4dcb-8224-4455121ee9b0",
    "_uuid": "d629ff2d2480ee46fbb7e2d37f6b5fab8052498a"
   },
   "outputs": [],
   "source": [
    "sales_train_validation=pd.read_csv('../input/m5-forecasting-accuracy/sales_train_validation.csv')\n",
    "sales_train_validation.head()"
   ]
  },
  {
   "cell_type": "code",
   "execution_count": null,
   "metadata": {},
   "outputs": [],
   "source": [
    "#dept_id別の横軸:時間　、縦軸:売上個数のグラフをとりたいので、それ以外は削除\n",
    "sales_train_validation=sales_train_validation.drop(['id','item_id','cat_id','store_id','state_id'],axis=1)\n",
    "sales_train_validation.head()"
   ]
  },
  {
   "cell_type": "code",
   "execution_count": null,
   "metadata": {},
   "outputs": [],
   "source": [
    "#groupbyでdeptごとの合計をとる\n",
    "sales_train_validation=sales_train_validation.groupby('dept_id').sum()\n",
    "sales_train_validation.head()"
   ]
  },
  {
   "cell_type": "code",
   "execution_count": null,
   "metadata": {},
   "outputs": [],
   "source": [
    "plt.plot(np.arange(len(sales_train_validation[\"FOODS_1\"])),sales_train_validation[\"FOODS_1\"],'o')"
   ]
  },
  {
   "cell_type": "code",
   "execution_count": null,
   "metadata": {},
   "outputs": [],
   "source": [
    "#x,yを入れ替え(転置)\n",
    "sales_train_validation=sales_train_validation.transpose()\n",
    "sales_train_validation.head()"
   ]
  },
  {
   "cell_type": "code",
   "execution_count": null,
   "metadata": {},
   "outputs": [],
   "source": [
    "# ここでdept_idに番号を振られるのはなぜ？\n",
    "#d_1→0に変換したい(d_1913→1912)\n",
    "sales_train_validation=sales_train_validation.reset_index() \n",
    "sales_train_validation.head()"
   ]
  },
  {
   "cell_type": "code",
   "execution_count": null,
   "metadata": {},
   "outputs": [],
   "source": [
    "#dept_idを落とす(drop)\n",
    "sales_train_validation=sales_train_validation.drop('index',axis=1)\n",
    "sales_train_validation.head()"
   ]
  },
  {
   "cell_type": "code",
   "execution_count": null,
   "metadata": {},
   "outputs": [],
   "source": [
    "sales_train_validation=sales_train_validation.drop(330)\n",
    "sales_train_validation=sales_train_validation.drop(696)\n",
    "sales_train_validation=sales_train_validation.drop(1061)\n",
    "sales_train_validation=sales_train_validation.drop(1426)\n",
    "sales_train_validation=sales_train_validation.drop(1791)"
   ]
  },
  {
   "cell_type": "code",
   "execution_count": null,
   "metadata": {},
   "outputs": [],
   "source": [
    "plt.subplot(3,3,1)\n",
    "plt.plot(sales_train_validation['FOODS_1'])\n",
    "plt.subplot(3,3,2)\n",
    "plt.plot(sales_train_validation['FOODS_2'])\n",
    "plt.subplot(3,3,3)\n",
    "plt.plot(sales_train_validation['FOODS_3'])\n",
    "plt.subplot(3,3,4)\n",
    "plt.plot(sales_train_validation['HOBBIES_1'])\n",
    "plt.subplot(3,3,5)\n",
    "plt.plot(sales_train_validation['HOBBIES_2'])\n",
    "plt.subplot(3,3,7)\n",
    "plt.plot(sales_train_validation['HOUSEHOLD_1'])\n",
    "plt.subplot(3,3,8)\n",
    "plt.plot(sales_train_validation['HOUSEHOLD_2'])"
   ]
  },
  {
   "cell_type": "code",
   "execution_count": null,
   "metadata": {},
   "outputs": [],
   "source": [
    "#foodの売り上げグラフ\n",
    "plt.plot(sales_train_validation['FOODS_1'],label='FOODS_1')\n",
    "plt.plot(sales_train_validation['FOODS_2'],label='FOODS_2')\n",
    "plt.plot(sales_train_validation['FOODS_3'],label='FOODS_3')\n",
    "plt.legend(loc='upper left')"
   ]
  },
  {
   "cell_type": "code",
   "execution_count": null,
   "metadata": {},
   "outputs": [],
   "source": [
    "#HOBBIESの売り上げグラフ\n",
    "plt.plot(sales_train_validation['HOBBIES_1'],label='HOBBIES_1')\n",
    "plt.plot(sales_train_validation['HOBBIES_2'],label='HOBBIES_2')\n",
    "plt.legend(loc='upper left')"
   ]
  },
  {
   "cell_type": "code",
   "execution_count": null,
   "metadata": {},
   "outputs": [],
   "source": [
    "#HOUSEHOLDの売り上げグラフ\n",
    "plt.plot(sales_train_validation['HOUSEHOLD_1'],label='HOUSEHOLD_1')\n",
    "plt.plot(sales_train_validation['HOUSEHOLD_2'],label='HOUSEHOLD_2')\n",
    "plt.legend(loc='upper left')"
   ]
  },
  {
   "cell_type": "code",
   "execution_count": null,
   "metadata": {},
   "outputs": [],
   "source": [
    "#subplotを使用\n",
    "# from _plotly_future_ import v4_subplots \n",
    "# from plotly.subplots import make_subplots\n",
    "\n",
    "#以下の操作で\n",
    "#今回はgraph_objsを使用\n",
    "import plotly.graph_objs as go\n",
    "\n",
    "fig = go.Figure()\n",
    "# plt.plot(np.arange(len(sales_train_validation[\"FOODS_1\"])),sales_train_validation[\"FOODS_1\"],'o')\n",
    "fig.add_trace(go.Scatter(x=np.arange(len(sales_train_validation[\"FOODS_1\"])), y=sales_train_validation[\"FOODS_1\"]))\n",
    "# fig.legend(loc='upper left')"
   ]
  },
  {
   "cell_type": "markdown",
   "metadata": {},
   "source": [
    "## わかったこと\n",
    "### 売上Down\n",
    "- Christmas 売上:0\n",
    "\n",
    "### 売上Up\n",
    "- ValentinesDay(16)\n",
    "- OrthodoxEaster(85)\n",
    " - Easter(413)"
   ]
  },
  {
   "cell_type": "code",
   "execution_count": null,
   "metadata": {},
   "outputs": [],
   "source": [
    "#Food2\n",
    "fig = go.Figure()\n",
    "fig.add_trace(go.Scatter(x=np.arange(len(sales_train_validation[\"FOODS_2\"])), y=sales_train_validation[\"FOODS_2\"]))"
   ]
  },
  {
   "cell_type": "code",
   "execution_count": null,
   "metadata": {},
   "outputs": [],
   "source": [
    "#Food3\n",
    "fig = go.Figure()\n",
    "fig.add_trace(go.Scatter(x=np.arange(len(sales_train_validation[\"FOODS_3\"])), y=sales_train_validation[\"FOODS_3\"]))"
   ]
  },
  {
   "cell_type": "code",
   "execution_count": null,
   "metadata": {},
   "outputs": [],
   "source": [
    "#Household1\n",
    "fig = go.Figure()\n",
    "fig.add_trace(go.Scatter(x=np.arange(len(sales_train_validation[\"HOUSEHOLD_1\"])), y=sales_train_validation[\"FOODS_3\"]))"
   ]
  },
  {
   "cell_type": "code",
   "execution_count": null,
   "metadata": {},
   "outputs": [],
   "source": [
    "#Household2\n",
    "fig = go.Figure()\n",
    "fig.add_trace(go.Scatter(x=np.arange(len(sales_train_validation[\"HOUSEHOLD_2\"])), y=sales_train_validation[\"HOUSEHOLD_2\"]))"
   ]
  },
  {
   "cell_type": "code",
   "execution_count": null,
   "metadata": {},
   "outputs": [],
   "source": []
  }
 ],
 "metadata": {
  "kernelspec": {
   "display_name": "Python 3",
   "language": "python",
   "name": "python3"
  },
  "language_info": {
   "codemirror_mode": {
    "name": "ipython",
    "version": 3
   },
   "file_extension": ".py",
   "mimetype": "text/x-python",
   "name": "python",
   "nbconvert_exporter": "python",
   "pygments_lexer": "ipython3",
   "version": "3.7.6"
  }
 },
 "nbformat": 4,
 "nbformat_minor": 4
}
