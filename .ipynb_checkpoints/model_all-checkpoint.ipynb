{
 "cells": [
  {
   "cell_type": "code",
   "execution_count": 1,
   "metadata": {
    "_cell_guid": "b1076dfc-b9ad-4769-8c92-a6c4dae69d19",
    "_uuid": "8f2839f25d086af736a60e9eeb907d3b93b6e0e5"
   },
   "outputs": [],
   "source": [
    "# This Python 3 environment comes with many helpful analytics libraries installed\n",
    "# It is defined by the kaggle/python docker image: https://github.com/kaggle/docker-python\n",
    "# For example, here's several helpful packages to load in \n",
    "\n",
    "import numpy as np # linear algebra\n",
    "import pandas as pd # data processing, CSV file I/O (e.g. pd.read_csv)\n",
    "\n",
    "# Input data files are available in the \"../input/\" directory.\n",
    "# For example, running this (by clicking run or pressing Shift+Enter) will list all files under the input directory\n",
    "\n",
    "#import os\n",
    "#for dirname, _, filenames in os.walk('/kaggle/input'):\n",
    " #   for filename in filenames:\n",
    "  #      print(os.path.join(dirname, filename))\n",
    "\n",
    "# Any results you write to the current directory are saved as output."
   ]
  },
  {
   "cell_type": "code",
   "execution_count": 2,
   "metadata": {
    "_cell_guid": "79c7e3d0-c299-4dcb-8224-4455121ee9b0",
    "_uuid": "d629ff2d2480ee46fbb7e2d37f6b5fab8052498a"
   },
   "outputs": [],
   "source": [
    "import matplotlib.pyplot as plt\n",
    "\n",
    "# Random Forestの回帰\n",
    "from sklearn.ensemble import RandomForestRegressor"
   ]
  },
  {
   "cell_type": "code",
   "execution_count": 3,
   "metadata": {},
   "outputs": [
    {
     "name": "stdout",
     "output_type": "stream",
     "text": [
      "C:\\Users\\minih\\python_prac1\\library\\m5\n"
     ]
    }
   ],
   "source": [
    "cd C:\\Users\\minih\\python_prac1\\library\\m5"
   ]
  },
  {
   "cell_type": "code",
   "execution_count": 4,
   "metadata": {},
   "outputs": [],
   "source": [
    "train_X = pd.read_pickle(\"trainX.pickle\")\n",
    "train_y = pd.read_pickle(\"trainy.pickle\")"
   ]
  },
  {
   "cell_type": "code",
   "execution_count": 5,
   "metadata": {},
   "outputs": [],
   "source": [
    "train_X.drop(\"item_id\",axis=1,inplace=True)"
   ]
  },
  {
   "cell_type": "code",
   "execution_count": 6,
   "metadata": {},
   "outputs": [
    {
     "name": "stderr",
     "output_type": "stream",
     "text": [
      "[Parallel(n_jobs=1)]: Using backend SequentialBackend with 1 concurrent workers.\n",
      "[Parallel(n_jobs=1)]: Done 100 out of 100 | elapsed: 63.5min finished\n"
     ]
    },
    {
     "data": {
      "text/plain": [
       "RandomForestRegressor(bootstrap=True, ccp_alpha=0.0, criterion='mse',\n",
       "                      max_depth=None, max_features='auto', max_leaf_nodes=None,\n",
       "                      max_samples=None, min_impurity_decrease=0.0,\n",
       "                      min_impurity_split=None, min_samples_leaf=1,\n",
       "                      min_samples_split=2, min_weight_fraction_leaf=0.0,\n",
       "                      n_estimators=100, n_jobs=None, oob_score=False,\n",
       "                      random_state=None, verbose=True, warm_start=False)"
      ]
     },
     "execution_count": 6,
     "metadata": {},
     "output_type": "execute_result"
    }
   ],
   "source": [
    "rfr = RandomForestRegressor(verbose=True)\n",
    "rfr.fit(train_X,train_y)"
   ]
  },
  {
   "cell_type": "code",
   "execution_count": 8,
   "metadata": {},
   "outputs": [],
   "source": [
    "test = pd.read_pickle(\"test.pickle\")"
   ]
  },
  {
   "cell_type": "code",
   "execution_count": 10,
   "metadata": {},
   "outputs": [
    {
     "data": {
      "text/plain": [
       "id             object\n",
       "item_id         int16\n",
       "sell_num      float16\n",
       "prev_28       float16\n",
       "prev_29       float16\n",
       "prev_30       float16\n",
       "prev_35       float16\n",
       "prev_182      float16\n",
       "prev_365      float16\n",
       "prev_730      float16\n",
       "prev_1095     float16\n",
       "prev_1460     float16\n",
       "prev_1825     float16\n",
       "is_test         int64\n",
       "dept_id_1       uint8\n",
       "dept_id_2       uint8\n",
       "dept_id_3       uint8\n",
       "dept_id_4       uint8\n",
       "dept_id_5       uint8\n",
       "dept_id_6       uint8\n",
       "cat_id_1        uint8\n",
       "cat_id_2        uint8\n",
       "store_id_1      uint8\n",
       "store_id_2      uint8\n",
       "store_id_3      uint8\n",
       "store_id_4      uint8\n",
       "store_id_5      uint8\n",
       "store_id_6      uint8\n",
       "store_id_7      uint8\n",
       "store_id_8      uint8\n",
       "store_id_9      uint8\n",
       "state_id_1      uint8\n",
       "state_id_2      uint8\n",
       "wday_2          uint8\n",
       "wday_3          uint8\n",
       "wday_4          uint8\n",
       "wday_5          uint8\n",
       "wday_6          uint8\n",
       "wday_7          uint8\n",
       "month_2         uint8\n",
       "month_3         uint8\n",
       "month_4         uint8\n",
       "dtype: object"
      ]
     },
     "execution_count": 10,
     "metadata": {},
     "output_type": "execute_result"
    }
   ],
   "source": [
    "test.head(3)"
   ]
  },
  {
   "cell_type": "code",
   "execution_count": 11,
   "metadata": {},
   "outputs": [],
   "source": [
    "#test.reset_index(inplace=True)"
   ]
  },
  {
   "cell_type": "code",
   "execution_count": 12,
   "metadata": {},
   "outputs": [],
   "source": [
    "#test.drop([\"id\",\"index\"], axis=1, inplace=True)"
   ]
  },
  {
   "cell_type": "code",
   "execution_count": 17,
   "metadata": {},
   "outputs": [
    {
     "data": {
      "text/plain": [
       "prev_28       float16\n",
       "prev_29       float16\n",
       "prev_30       float16\n",
       "prev_35       float16\n",
       "prev_182      float16\n",
       "prev_365      float16\n",
       "prev_730      float16\n",
       "prev_1095     float16\n",
       "prev_1460     float16\n",
       "prev_1825     float16\n",
       "dept_id_1       uint8\n",
       "dept_id_2       uint8\n",
       "dept_id_3       uint8\n",
       "dept_id_4       uint8\n",
       "dept_id_5       uint8\n",
       "dept_id_6       uint8\n",
       "cat_id_1        uint8\n",
       "cat_id_2        uint8\n",
       "store_id_1      uint8\n",
       "store_id_2      uint8\n",
       "store_id_3      uint8\n",
       "store_id_4      uint8\n",
       "store_id_5      uint8\n",
       "store_id_6      uint8\n",
       "store_id_7      uint8\n",
       "store_id_8      uint8\n",
       "store_id_9      uint8\n",
       "state_id_1      uint8\n",
       "state_id_2      uint8\n",
       "wday_2          uint8\n",
       "wday_3          uint8\n",
       "wday_4          uint8\n",
       "wday_5          uint8\n",
       "wday_6          uint8\n",
       "wday_7          uint8\n",
       "month_2         uint8\n",
       "month_3         uint8\n",
       "month_4         uint8\n",
       "dtype: object"
      ]
     },
     "execution_count": 17,
     "metadata": {},
     "output_type": "execute_result"
    }
   ],
   "source": [
    "train_X.dtypes"
   ]
  },
  {
   "cell_type": "code",
   "execution_count": 18,
   "metadata": {},
   "outputs": [],
   "source": [
    "#test.drop(\"is_test\", axis=1, inplace=True)"
   ]
  },
  {
   "cell_type": "code",
   "execution_count": 20,
   "metadata": {},
   "outputs": [],
   "source": [
    "#test.drop(\"sell_num\", axis=1, inplace=True)"
   ]
  },
  {
   "cell_type": "code",
   "execution_count": 22,
   "metadata": {},
   "outputs": [],
   "source": [
    "#test.drop(\"item_id\", axis=1, inplace=True)"
   ]
  },
  {
   "cell_type": "code",
   "execution_count": 23,
   "metadata": {},
   "outputs": [
    {
     "name": "stderr",
     "output_type": "stream",
     "text": [
      "[Parallel(n_jobs=1)]: Using backend SequentialBackend with 1 concurrent workers.\n",
      "[Parallel(n_jobs=1)]: Done 100 out of 100 | elapsed:  1.9min finished\n"
     ]
    }
   ],
   "source": [
    "y_pred = rfr.predict(test)"
   ]
  },
  {
   "cell_type": "code",
   "execution_count": 24,
   "metadata": {},
   "outputs": [],
   "source": [
    "answear = pd.read_pickle(\"answear.pickle\")"
   ]
  },
  {
   "cell_type": "code",
   "execution_count": 26,
   "metadata": {},
   "outputs": [
    {
     "data": {
      "text/plain": [
       "id\n",
       "HOBBIES_1_001_CA_1_validation    1\n",
       "HOBBIES_1_001_CA_1_validation    0\n",
       "HOBBIES_1_001_CA_1_validation    0\n",
       "HOBBIES_1_001_CA_1_validation    0\n",
       "HOBBIES_1_001_CA_1_validation    0\n",
       "                                ..\n",
       "FOODS_3_827_WI_3_validation      0\n",
       "FOODS_3_827_WI_3_validation      0\n",
       "FOODS_3_827_WI_3_validation      0\n",
       "FOODS_3_827_WI_3_validation      0\n",
       "FOODS_3_827_WI_3_validation      0\n",
       "Name: sell_num, Length: 853720, dtype: int16"
      ]
     },
     "execution_count": 26,
     "metadata": {},
     "output_type": "execute_result"
    }
   ],
   "source": [
    "answear"
   ]
  },
  {
   "cell_type": "code",
   "execution_count": 27,
   "metadata": {},
   "outputs": [
    {
     "name": "stderr",
     "output_type": "stream",
     "text": [
      "[Parallel(n_jobs=1)]: Using backend SequentialBackend with 1 concurrent workers.\n",
      "[Parallel(n_jobs=1)]: Done 100 out of 100 | elapsed:  1.8min finished\n"
     ]
    },
    {
     "data": {
      "text/plain": [
       "0.5937494139309265"
      ]
     },
     "execution_count": 27,
     "metadata": {},
     "output_type": "execute_result"
    }
   ],
   "source": [
    "rfr.score(test,answear.values)"
   ]
  },
  {
   "cell_type": "code",
   "execution_count": 28,
   "metadata": {},
   "outputs": [],
   "source": [
    "max_val = np.max(y_pred)\n",
    "if max_val < np.max(answear.values):\n",
    "    max_val = np.max(answear.values)"
   ]
  },
  {
   "cell_type": "code",
   "execution_count": 29,
   "metadata": {},
   "outputs": [
    {
     "name": "stderr",
     "output_type": "stream",
     "text": [
      "No handles with labels found to put in legend.\n"
     ]
    },
    {
     "data": {
      "text/plain": [
       "<matplotlib.legend.Legend at 0x1e7a7c64808>"
      ]
     },
     "execution_count": 29,
     "metadata": {},
     "output_type": "execute_result"
    },
    {
     "data": {
      "image/png": "[encoded data removed]",
      "text/plain": [
       "<Figure size 432x288 with 1 Axes>"
      ]
     },
     "metadata": {
      "needs_background": "light"
     },
     "output_type": "display_data"
    }
   ],
   "source": [
    "plt.scatter(y_pred,answear.values)\n",
    "plt.plot(np.arange(0,max_val),np.arange(0,max_val),color='red')\n",
    "plt.xlabel(\"predict\")\n",
    "plt.ylabel(\"real\")\n",
    "plt.legend()"
   ]
  },
  {
   "cell_type": "code",
   "execution_count": 30,
   "metadata": {},
   "outputs": [
    {
     "data": {
      "image/png": "[encoded data removed]",
      "text/plain": [
       "<Figure size 360x360 with 1 Axes>"
      ]
     },
     "metadata": {
      "needs_background": "light"
     },
     "output_type": "display_data"
    }
   ],
   "source": [
    "# グラフ可視化用に加工した場合\n",
    "df_imp = pd.DataFrame(rfr.feature_importances_, columns=[\"importance\"])\n",
    "df_imp[\"Feature Names\"] = train_X.columns\n",
    "df_imp.set_index(\"Feature Names\", inplace=True)\n",
    "df_imp.sort_values(by=\"importance\").tail(10).plot(kind=\"barh\", figsize=(5, 5))\n",
    "plt.show()"
   ]
  },
  {
   "cell_type": "code",
   "execution_count": 31,
   "metadata": {},
   "outputs": [
    {
     "name": "stdout",
     "output_type": "stream",
     "text": [
      "C:\\Users\\minih\\python_prac1\\m5\\git-repository\\kaggle-m5-accuracy-library\\library\n"
     ]
    }
   ],
   "source": [
    "cd C:\\Users\\minih\\python_prac1\\m5\\git-repository\\kaggle-m5-accuracy-library\\library"
   ]
  },
  {
   "cell_type": "code",
   "execution_count": 32,
   "metadata": {},
   "outputs": [],
   "source": [
    "import metari"
   ]
  },
  {
   "cell_type": "code",
   "execution_count": 34,
   "metadata": {},
   "outputs": [
    {
     "name": "stdout",
     "output_type": "stream",
     "text": [
      "C:\\Users\\minih\\python_prac1\\library\\m5\n"
     ]
    }
   ],
   "source": [
    "cd C:\\Users\\minih\\python_prac1\\library\\m5"
   ]
  },
  {
   "cell_type": "code",
   "execution_count": 35,
   "metadata": {},
   "outputs": [],
   "source": [
    "train_df = pd.read_csv(\"sales_train_validation.csv\")\n",
    "calender = pd.read_csv(\"calendar.csv\")\n",
    "prices = pd.read_csv(\"sell_prices.csv\")"
   ]
  },
  {
   "cell_type": "code",
   "execution_count": 37,
   "metadata": {},
   "outputs": [
    {
     "name": "stdout",
     "output_type": "stream",
     "text": [
      "C:\\Users\\minih\\python_prac1\\m5\\git-repository\\kaggle-m5-accuracy-library\n"
     ]
    }
   ],
   "source": [
    "cd C:\\Users\\minih\\python_prac1\\m5\\git-repository\\kaggle-m5-accuracy-library"
   ]
  },
  {
   "cell_type": "code",
   "execution_count": 44,
   "metadata": {},
   "outputs": [],
   "source": [
    "import metari4"
   ]
  },
  {
   "cell_type": "code",
   "execution_count": 45,
   "metadata": {},
   "outputs": [
    {
     "name": "stdout",
     "output_type": "stream",
     "text": [
      "精度計算の前の前準備を実行中...\n",
      "重みとRMSSEを計算中...\n"
     ]
    },
    {
     "data": {
      "application/vnd.jupyter.widget-view+json": {
       "model_id": "",
       "version_major": 2,
       "version_minor": 0
      },
      "text/plain": [
       "HBox(children=(FloatProgress(value=0.0, max=12.0), HTML(value='')))"
      ]
     },
     "metadata": {},
     "output_type": "display_data"
    },
    {
     "name": "stdout",
     "output_type": "stream",
     "text": [
      "\r"
     ]
    },
    {
     "data": {
      "application/vnd.jupyter.widget-view+json": {
       "model_id": "",
       "version_major": 2,
       "version_minor": 0
      },
      "text/plain": [
       "HBox(children=(FloatProgress(value=0.0, max=12.0), HTML(value='')))"
      ]
     },
     "metadata": {},
     "output_type": "display_data"
    },
    {
     "name": "stdout",
     "output_type": "stream",
     "text": [
      "\r"
     ]
    },
    {
     "data": {
      "application/vnd.jupyter.widget-view+json": {
       "model_id": "",
       "version_major": 2,
       "version_minor": 0
      },
      "text/plain": [
       "HBox(children=(FloatProgress(value=0.0, max=12.0), HTML(value='')))"
      ]
     },
     "metadata": {},
     "output_type": "display_data"
    },
    {
     "name": "stdout",
     "output_type": "stream",
     "text": [
      "\r"
     ]
    },
    {
     "data": {
      "application/vnd.jupyter.widget-view+json": {
       "model_id": "9237ca81601c4c00bf75bb19c315ef5d",
       "version_major": 2,
       "version_minor": 0
      },
      "text/plain": [
       "HBox(children=(FloatProgress(value=0.0, max=42840.0), HTML(value='')))"
      ]
     },
     "metadata": {},
     "output_type": "display_data"
    },
    {
     "name": "stdout",
     "output_type": "stream",
     "text": [
      "\n",
      "精度を計算中...\n"
     ]
    },
    {
     "data": {
      "text/plain": [
       "0.9686424052225157"
      ]
     },
     "execution_count": 45,
     "metadata": {},
     "output_type": "execute_result"
    }
   ],
   "source": [
    "metari4.calculate_WRMSSE(train_df,calender,prices,1,1913,y_pred)"
   ]
  },
  {
   "cell_type": "code",
   "execution_count": null,
   "metadata": {},
   "outputs": [],
   "source": []
  }
 ],
 "metadata": {
  "kernelspec": {
   "display_name": "Python 3",
   "language": "python",
   "name": "python3"
  },
  "language_info": {
   "codemirror_mode": {
    "name": "ipython",
    "version": 3
   },
   "file_extension": ".py",
   "mimetype": "text/x-python",
   "name": "python",
   "nbconvert_exporter": "python",
   "pygments_lexer": "ipython3",
   "version": "3.7.6"
  }
 },
 "nbformat": 4,
 "nbformat_minor": 4
}
