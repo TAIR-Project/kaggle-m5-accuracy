{
 "cells": [
  {
   "cell_type": "code",
   "execution_count": 1,
   "metadata": {},
   "outputs": [],
   "source": [
    "# Random Forestの回帰と分類\n",
    "from sklearn.ensemble import RandomForestRegressor\n",
    "\n",
    "# ランダムサーチ\n",
    "from sklearn.model_selection import RandomizedSearchCV\n",
    "\n",
    "import numpy as np\n",
    "import pandas as pd\n",
    "import matplotlib.pyplot as plt\n",
    "\n",
    "import random\n",
    "\n",
    "from sklearn.model_selection import KFold,train_test_split,cross_val_score\n",
    "\n",
    "import psutil "
   ]
  },
  {
   "cell_type": "code",
   "execution_count": 2,
   "metadata": {
    "scrolled": true
   },
   "outputs": [
    {
     "name": "stdout",
     "output_type": "stream",
     "text": [
      "C:\\Users\\minih\\python_prac1\\library\\m5\n"
     ]
    }
   ],
   "source": [
    "cd ./../library/m5/"
   ]
  },
  {
   "cell_type": "code",
   "execution_count": 3,
   "metadata": {},
   "outputs": [
    {
     "data": {
      "text/html": [
       "<div>\n",
       "<style scoped>\n",
       "    .dataframe tbody tr th:only-of-type {\n",
       "        vertical-align: middle;\n",
       "    }\n",
       "\n",
       "    .dataframe tbody tr th {\n",
       "        vertical-align: top;\n",
       "    }\n",
       "\n",
       "    .dataframe thead th {\n",
       "        text-align: right;\n",
       "    }\n",
       "</style>\n",
       "<table border=\"1\" class=\"dataframe\">\n",
       "  <thead>\n",
       "    <tr style=\"text-align: right;\">\n",
       "      <th></th>\n",
       "      <th>Unnamed: 0</th>\n",
       "      <th>id</th>\n",
       "      <th>item_id</th>\n",
       "      <th>dept_id</th>\n",
       "      <th>cat_id</th>\n",
       "      <th>store_id</th>\n",
       "      <th>state_id</th>\n",
       "      <th>date</th>\n",
       "      <th>sell_num</th>\n",
       "      <th>wday</th>\n",
       "      <th>month</th>\n",
       "    </tr>\n",
       "  </thead>\n",
       "  <tbody>\n",
       "    <tr>\n",
       "      <th>0</th>\n",
       "      <td>0</td>\n",
       "      <td>FOODS_1_001_CA_1_validation</td>\n",
       "      <td>1</td>\n",
       "      <td>1</td>\n",
       "      <td>FOODS</td>\n",
       "      <td>1</td>\n",
       "      <td>CA</td>\n",
       "      <td>1</td>\n",
       "      <td>3</td>\n",
       "      <td>1</td>\n",
       "      <td>1</td>\n",
       "    </tr>\n",
       "    <tr>\n",
       "      <th>1</th>\n",
       "      <td>1</td>\n",
       "      <td>FOODS_1_002_CA_1_validation</td>\n",
       "      <td>2</td>\n",
       "      <td>1</td>\n",
       "      <td>FOODS</td>\n",
       "      <td>1</td>\n",
       "      <td>CA</td>\n",
       "      <td>1</td>\n",
       "      <td>0</td>\n",
       "      <td>1</td>\n",
       "      <td>1</td>\n",
       "    </tr>\n",
       "    <tr>\n",
       "      <th>2</th>\n",
       "      <td>2</td>\n",
       "      <td>FOODS_1_003_CA_1_validation</td>\n",
       "      <td>3</td>\n",
       "      <td>1</td>\n",
       "      <td>FOODS</td>\n",
       "      <td>1</td>\n",
       "      <td>CA</td>\n",
       "      <td>1</td>\n",
       "      <td>0</td>\n",
       "      <td>1</td>\n",
       "      <td>1</td>\n",
       "    </tr>\n",
       "  </tbody>\n",
       "</table>\n",
       "</div>"
      ],
      "text/plain": [
       "   Unnamed: 0                           id  item_id  dept_id cat_id  store_id  \\\n",
       "0           0  FOODS_1_001_CA_1_validation        1        1  FOODS         1   \n",
       "1           1  FOODS_1_002_CA_1_validation        2        1  FOODS         1   \n",
       "2           2  FOODS_1_003_CA_1_validation        3        1  FOODS         1   \n",
       "\n",
       "  state_id  date  sell_num  wday  month  \n",
       "0       CA     1         3     1      1  \n",
       "1       CA     1         0     1      1  \n",
       "2       CA     1         0     1      1  "
      ]
     },
     "execution_count": 3,
     "metadata": {},
     "output_type": "execute_result"
    }
   ],
   "source": [
    "datas = pd.read_csv(\"one_year_sales_train_validation.csv\",engine=\"python\",encoding=\"utf-8\")\n",
    "datas.head(3)"
   ]
  },
  {
   "cell_type": "code",
   "execution_count": 4,
   "metadata": {},
   "outputs": [],
   "source": [
    "datas.set_index(\"id\",inplace=True)"
   ]
  },
  {
   "cell_type": "code",
   "execution_count": 5,
   "metadata": {},
   "outputs": [],
   "source": [
    "datas.drop(\"Unnamed: 0\", axis=1, inplace=True)"
   ]
  },
  {
   "cell_type": "code",
   "execution_count": 6,
   "metadata": {},
   "outputs": [],
   "source": [
    "def reduce_mem_usage(df, verbose=True):\n",
    "    numerics = ['int16', 'int32', 'int64', 'float16', 'float32', 'float64']\n",
    "    start_mem = df.memory_usage().sum() / 1024**2    \n",
    "    for col in df.columns: #columns毎に処理\n",
    "        col_type = df[col].dtypes\n",
    "        if col_type in numerics: #numericsのデータ型の範囲内のときに処理を実行. データの最大最小値を元にデータ型を効率的なものに変更\n",
    "            c_min = df[col].min()\n",
    "            c_max = df[col].max()\n",
    "            if str(col_type)[:3] == 'int':\n",
    "                if c_min > np.iinfo(np.int8).min and c_max < np.iinfo(np.int8).max:\n",
    "                    df[col] = df[col].astype(np.int8)\n",
    "                elif c_min > np.iinfo(np.int16).min and c_max < np.iinfo(np.int16).max:\n",
    "                    df[col] = df[col].astype(np.int16)\n",
    "                elif c_min > np.iinfo(np.int32).min and c_max < np.iinfo(np.int32).max:\n",
    "                    df[col] = df[col].astype(np.int32)\n",
    "                elif c_min > np.iinfo(np.int64).min and c_max < np.iinfo(np.int64).max:\n",
    "                    df[col] = df[col].astype(np.int64)  \n",
    "            else:\n",
    "                if c_min > np.finfo(np.float16).min and c_max < np.finfo(np.float16).max:\n",
    "                    df[col] = df[col].astype(np.float16)\n",
    "                elif c_min > np.finfo(np.float32).min and c_max < np.finfo(np.float32).max:\n",
    "                    df[col] = df[col].astype(np.float32)\n",
    "                else:\n",
    "                    df[col] = df[col].astype(np.float64)    \n",
    "    end_mem = df.memory_usage().sum() / 1024**2\n",
    "    if verbose: print('Mem. usage decreased to {:5.2f} Mb ({:.1f}% reduction)'.format(end_mem, 100 * (start_mem - end_mem) / start_mem))\n",
    "    return df"
   ]
  },
  {
   "cell_type": "code",
   "execution_count": null,
   "metadata": {},
   "outputs": [],
   "source": [
    "import ./../"
   ]
  },
  {
   "cell_type": "code",
   "execution_count": 7,
   "metadata": {},
   "outputs": [
    {
     "name": "stdout",
     "output_type": "stream",
     "text": [
      "Mem. usage decreased to 360.85 Mb (57.5% reduction)\n"
     ]
    }
   ],
   "source": [
    "datas = reduce_mem_usage(datas,True)"
   ]
  },
  {
   "cell_type": "code",
   "execution_count": 8,
   "metadata": {},
   "outputs": [
    {
     "data": {
      "text/plain": [
       "item_id      int16\n",
       "dept_id       int8\n",
       "cat_id      object\n",
       "store_id      int8\n",
       "state_id    object\n",
       "date         int16\n",
       "sell_num     int16\n",
       "wday          int8\n",
       "month         int8\n",
       "dtype: object"
      ]
     },
     "execution_count": 8,
     "metadata": {},
     "output_type": "execute_result"
    }
   ],
   "source": [
    "datas.dtypes"
   ]
  },
  {
   "cell_type": "code",
   "execution_count": 9,
   "metadata": {},
   "outputs": [],
   "source": [
    "datas[\"item_id\"] = datas[\"item_id\"].astype('str')\n",
    "datas[\"dept_id\"] = datas[\"dept_id\"].astype('str')\n",
    "datas[\"store_id\"] = datas[\"store_id\"].astype('str')"
   ]
  },
  {
   "cell_type": "code",
   "execution_count": 10,
   "metadata": {},
   "outputs": [
    {
     "data": {
      "text/html": [
       "<div>\n",
       "<style scoped>\n",
       "    .dataframe tbody tr th:only-of-type {\n",
       "        vertical-align: middle;\n",
       "    }\n",
       "\n",
       "    .dataframe tbody tr th {\n",
       "        vertical-align: top;\n",
       "    }\n",
       "\n",
       "    .dataframe thead th {\n",
       "        text-align: right;\n",
       "    }\n",
       "</style>\n",
       "<table border=\"1\" class=\"dataframe\">\n",
       "  <thead>\n",
       "    <tr style=\"text-align: right;\">\n",
       "      <th></th>\n",
       "      <th>item_id</th>\n",
       "      <th>dept_id</th>\n",
       "      <th>cat_id</th>\n",
       "      <th>store_id</th>\n",
       "      <th>state_id</th>\n",
       "      <th>date</th>\n",
       "      <th>sell_num</th>\n",
       "      <th>wday</th>\n",
       "      <th>month</th>\n",
       "    </tr>\n",
       "    <tr>\n",
       "      <th>id</th>\n",
       "      <th></th>\n",
       "      <th></th>\n",
       "      <th></th>\n",
       "      <th></th>\n",
       "      <th></th>\n",
       "      <th></th>\n",
       "      <th></th>\n",
       "      <th></th>\n",
       "      <th></th>\n",
       "    </tr>\n",
       "  </thead>\n",
       "  <tbody>\n",
       "    <tr>\n",
       "      <th>FOODS_1_001_CA_1_validation</th>\n",
       "      <td>1</td>\n",
       "      <td>1</td>\n",
       "      <td>FOODS</td>\n",
       "      <td>1</td>\n",
       "      <td>CA</td>\n",
       "      <td>1</td>\n",
       "      <td>3</td>\n",
       "      <td>1</td>\n",
       "      <td>1</td>\n",
       "    </tr>\n",
       "    <tr>\n",
       "      <th>FOODS_1_002_CA_1_validation</th>\n",
       "      <td>2</td>\n",
       "      <td>1</td>\n",
       "      <td>FOODS</td>\n",
       "      <td>1</td>\n",
       "      <td>CA</td>\n",
       "      <td>1</td>\n",
       "      <td>0</td>\n",
       "      <td>1</td>\n",
       "      <td>1</td>\n",
       "    </tr>\n",
       "    <tr>\n",
       "      <th>FOODS_1_003_CA_1_validation</th>\n",
       "      <td>3</td>\n",
       "      <td>1</td>\n",
       "      <td>FOODS</td>\n",
       "      <td>1</td>\n",
       "      <td>CA</td>\n",
       "      <td>1</td>\n",
       "      <td>0</td>\n",
       "      <td>1</td>\n",
       "      <td>1</td>\n",
       "    </tr>\n",
       "  </tbody>\n",
       "</table>\n",
       "</div>"
      ],
      "text/plain": [
       "                            item_id dept_id cat_id store_id state_id  date  \\\n",
       "id                                                                           \n",
       "FOODS_1_001_CA_1_validation       1       1  FOODS        1       CA     1   \n",
       "FOODS_1_002_CA_1_validation       2       1  FOODS        1       CA     1   \n",
       "FOODS_1_003_CA_1_validation       3       1  FOODS        1       CA     1   \n",
       "\n",
       "                             sell_num  wday  month  \n",
       "id                                                  \n",
       "FOODS_1_001_CA_1_validation         3     1      1  \n",
       "FOODS_1_002_CA_1_validation         0     1      1  \n",
       "FOODS_1_003_CA_1_validation         0     1      1  "
      ]
     },
     "execution_count": 10,
     "metadata": {},
     "output_type": "execute_result"
    }
   ],
   "source": [
    "datas.head(3)"
   ]
  },
  {
   "cell_type": "code",
   "execution_count": 11,
   "metadata": {},
   "outputs": [],
   "source": [
    "datas.sort_values([\"state_id\",\"store_id\",\"cat_id\",\"dept_id\",\"item_id\",\"date\"],inplace=True)"
   ]
  },
  {
   "cell_type": "code",
   "execution_count": 12,
   "metadata": {},
   "outputs": [
    {
     "data": {
      "text/html": [
       "<div>\n",
       "<style scoped>\n",
       "    .dataframe tbody tr th:only-of-type {\n",
       "        vertical-align: middle;\n",
       "    }\n",
       "\n",
       "    .dataframe tbody tr th {\n",
       "        vertical-align: top;\n",
       "    }\n",
       "\n",
       "    .dataframe thead th {\n",
       "        text-align: right;\n",
       "    }\n",
       "</style>\n",
       "<table border=\"1\" class=\"dataframe\">\n",
       "  <thead>\n",
       "    <tr style=\"text-align: right;\">\n",
       "      <th></th>\n",
       "      <th>item_id</th>\n",
       "      <th>dept_id</th>\n",
       "      <th>cat_id</th>\n",
       "      <th>store_id</th>\n",
       "      <th>state_id</th>\n",
       "      <th>date</th>\n",
       "      <th>sell_num</th>\n",
       "      <th>wday</th>\n",
       "      <th>month</th>\n",
       "    </tr>\n",
       "    <tr>\n",
       "      <th>id</th>\n",
       "      <th></th>\n",
       "      <th></th>\n",
       "      <th></th>\n",
       "      <th></th>\n",
       "      <th></th>\n",
       "      <th></th>\n",
       "      <th></th>\n",
       "      <th></th>\n",
       "      <th></th>\n",
       "    </tr>\n",
       "  </thead>\n",
       "  <tbody>\n",
       "    <tr>\n",
       "      <th>FOODS_1_001_CA_1_validation</th>\n",
       "      <td>1</td>\n",
       "      <td>1</td>\n",
       "      <td>FOODS</td>\n",
       "      <td>1</td>\n",
       "      <td>CA</td>\n",
       "      <td>1</td>\n",
       "      <td>3</td>\n",
       "      <td>1</td>\n",
       "      <td>1</td>\n",
       "    </tr>\n",
       "    <tr>\n",
       "      <th>FOODS_1_001_CA_1_validation</th>\n",
       "      <td>1</td>\n",
       "      <td>1</td>\n",
       "      <td>FOODS</td>\n",
       "      <td>1</td>\n",
       "      <td>CA</td>\n",
       "      <td>2</td>\n",
       "      <td>0</td>\n",
       "      <td>2</td>\n",
       "      <td>1</td>\n",
       "    </tr>\n",
       "    <tr>\n",
       "      <th>FOODS_1_001_CA_1_validation</th>\n",
       "      <td>1</td>\n",
       "      <td>1</td>\n",
       "      <td>FOODS</td>\n",
       "      <td>1</td>\n",
       "      <td>CA</td>\n",
       "      <td>3</td>\n",
       "      <td>0</td>\n",
       "      <td>3</td>\n",
       "      <td>1</td>\n",
       "    </tr>\n",
       "    <tr>\n",
       "      <th>FOODS_1_001_CA_1_validation</th>\n",
       "      <td>1</td>\n",
       "      <td>1</td>\n",
       "      <td>FOODS</td>\n",
       "      <td>1</td>\n",
       "      <td>CA</td>\n",
       "      <td>4</td>\n",
       "      <td>1</td>\n",
       "      <td>4</td>\n",
       "      <td>2</td>\n",
       "    </tr>\n",
       "    <tr>\n",
       "      <th>FOODS_1_001_CA_1_validation</th>\n",
       "      <td>1</td>\n",
       "      <td>1</td>\n",
       "      <td>FOODS</td>\n",
       "      <td>1</td>\n",
       "      <td>CA</td>\n",
       "      <td>5</td>\n",
       "      <td>4</td>\n",
       "      <td>5</td>\n",
       "      <td>2</td>\n",
       "    </tr>\n",
       "  </tbody>\n",
       "</table>\n",
       "</div>"
      ],
      "text/plain": [
       "                            item_id dept_id cat_id store_id state_id  date  \\\n",
       "id                                                                           \n",
       "FOODS_1_001_CA_1_validation       1       1  FOODS        1       CA     1   \n",
       "FOODS_1_001_CA_1_validation       1       1  FOODS        1       CA     2   \n",
       "FOODS_1_001_CA_1_validation       1       1  FOODS        1       CA     3   \n",
       "FOODS_1_001_CA_1_validation       1       1  FOODS        1       CA     4   \n",
       "FOODS_1_001_CA_1_validation       1       1  FOODS        1       CA     5   \n",
       "\n",
       "                             sell_num  wday  month  \n",
       "id                                                  \n",
       "FOODS_1_001_CA_1_validation         3     1      1  \n",
       "FOODS_1_001_CA_1_validation         0     2      1  \n",
       "FOODS_1_001_CA_1_validation         0     3      1  \n",
       "FOODS_1_001_CA_1_validation         1     4      2  \n",
       "FOODS_1_001_CA_1_validation         4     5      2  "
      ]
     },
     "execution_count": 12,
     "metadata": {},
     "output_type": "execute_result"
    }
   ],
   "source": [
    "datas.head(5)"
   ]
  },
  {
   "cell_type": "code",
   "execution_count": 13,
   "metadata": {},
   "outputs": [
    {
     "data": {
      "text/plain": [
       "(11128850, 9)"
      ]
     },
     "execution_count": 13,
     "metadata": {},
     "output_type": "execute_result"
    }
   ],
   "source": [
    "datas.shape"
   ]
  },
  {
   "cell_type": "code",
   "execution_count": 14,
   "metadata": {},
   "outputs": [],
   "source": [
    "#翌年の1月のデータのみ抽出\n",
    "#datas[(datas[\"month\"] == 1) & (datas[\"date\"] >= 100)].to_csv(\"one_year_answear.csv\")"
   ]
  },
  {
   "cell_type": "code",
   "execution_count": 14,
   "metadata": {},
   "outputs": [],
   "source": [
    "answear = datas[(datas[\"month\"] == 1) & (datas[\"date\"] >= 100)][\"sell_num\"]"
   ]
  },
  {
   "cell_type": "code",
   "execution_count": 15,
   "metadata": {},
   "outputs": [
    {
     "data": {
      "text/plain": [
       "id\n",
       "FOODS_1_001_CA_1_validation    2\n",
       "FOODS_1_001_CA_1_validation    0\n",
       "FOODS_1_001_CA_1_validation    0\n",
       "Name: sell_num, dtype: int16"
      ]
     },
     "execution_count": 15,
     "metadata": {},
     "output_type": "execute_result"
    }
   ],
   "source": [
    "answear.head(3)"
   ]
  },
  {
   "cell_type": "code",
   "execution_count": 16,
   "metadata": {},
   "outputs": [],
   "source": [
    "answear.to_csv(\"answear.csv\")"
   ]
  },
  {
   "cell_type": "code",
   "execution_count": 17,
   "metadata": {},
   "outputs": [
    {
     "data": {
      "text/plain": [
       "(853720,)"
      ]
     },
     "execution_count": 17,
     "metadata": {},
     "output_type": "execute_result"
    }
   ],
   "source": [
    "answear.shape"
   ]
  },
  {
   "cell_type": "code",
   "execution_count": 18,
   "metadata": {},
   "outputs": [],
   "source": [
    "datas.loc[((datas[\"month\"] == 1) & (datas[\"date\"] >= 100)),'sell_num'] = np.NaN"
   ]
  },
  {
   "cell_type": "code",
   "execution_count": 19,
   "metadata": {},
   "outputs": [
    {
     "data": {
      "text/plain": [
       "id\n",
       "FOODS_1_001_CA_1_validation       NaN\n",
       "FOODS_1_001_CA_1_validation       NaN\n",
       "FOODS_1_001_CA_1_validation       NaN\n",
       "FOODS_1_001_CA_1_validation       NaN\n",
       "FOODS_1_001_CA_1_validation       NaN\n",
       "                                   ..\n",
       "HOUSEHOLD_2_099_WI_3_validation   NaN\n",
       "HOUSEHOLD_2_099_WI_3_validation   NaN\n",
       "HOUSEHOLD_2_099_WI_3_validation   NaN\n",
       "HOUSEHOLD_2_099_WI_3_validation   NaN\n",
       "HOUSEHOLD_2_099_WI_3_validation   NaN\n",
       "Name: sell_num, Length: 853720, dtype: float64"
      ]
     },
     "execution_count": 19,
     "metadata": {},
     "output_type": "execute_result"
    }
   ],
   "source": [
    "datas[(datas[\"month\"] == 1) & (datas[\"date\"] >= 100)][\"sell_num\"]"
   ]
  },
  {
   "cell_type": "code",
   "execution_count": 17,
   "metadata": {},
   "outputs": [],
   "source": [
    "\n",
    "#state = np.unique(datas[\"state_id\"])\n",
    "\n",
    "#for i in np.arange(len(state)):\n",
    "#    buff = datas[datas[\"state_id\"] == state[i]]\n",
    "#    store =  np.unique(buff[\"store_id\"])\n",
    "#    for j in np.arange(len(store)):\n",
    "#        buff2 = buff[buff[\"store_id\"] == store[j]]\n",
    "#        cat = np.unique(buff2[\"cat_id\"])\n",
    "#        for k in np.arange(len(cat)):\n",
    "#            buff3 = buff2[buff2[\"cat_id\"] == cat[k]]\n",
    "#            dept = np.unique(buff3[\"dept_id\"])\n",
    "#            for l in np.arange(len(dept)):\n",
    "#                buff4 = buff3[buff3[\"dept_id\"] == dept[l]]\n",
    "#               item = np.unique(buff4[\"item_id\"])\n",
    "#                for m in np.arange(len(item)):\n",
    "#                    datas.loc[datas[(datas[\"state_id\"] == state[i])&\\\n",
    "#                            (datas[\"store_id\"] == store[j])&(datas[\"cat_id\"] == cat[k])&\\\n",
    "#                            (datas[\"dept_id\"] == dept[l]) & (datas[\"item_id\"] == item[m])].index,\"prev_month\"]\\\n",
    "#                            = datas[(datas[\"state_id\"] == state[i])&\\\n",
    "#                            (datas[\"store_id\"] == store[j])&(datas[\"cat_id\"] == cat[k])&\\\n",
    "#                            (datas[\"dept_id\"] == dept[l]) & (datas[\"item_id\"] == item[m])][\"sell_num\"].shift(28)"
   ]
  },
  {
   "cell_type": "code",
   "execution_count": 20,
   "metadata": {},
   "outputs": [],
   "source": [
    "#31と同じ内容が以下の2通りで書ける\n",
    "\n",
    "#1(関数の利用)\n",
    "#def shift_28(x)\n",
    " #   return x.shift(28)\n",
    "\n",
    "#datas[\"prev_28\"] = datas.groupby(\"id\")[\"sell_num\"].transform(shift_28)\n",
    "\n",
    "#2(lambda式=無名関数の利用)\n",
    "datas[\"prev_28\"] = datas.groupby(\"id\")[\"sell_num\"].transform(lambda x:x.shift(28))"
   ]
  },
  {
   "cell_type": "code",
   "execution_count": 21,
   "metadata": {},
   "outputs": [
    {
     "data": {
      "text/plain": [
       "(10275130, 10)"
      ]
     },
     "execution_count": 21,
     "metadata": {},
     "output_type": "execute_result"
    }
   ],
   "source": [
    "#prev_28の特徴がnanのデータをdrop\n",
    "datas.dropna(subset=['prev_28'],inplace=True)\n",
    "datas.shape"
   ]
  },
  {
   "cell_type": "code",
   "execution_count": 22,
   "metadata": {},
   "outputs": [],
   "source": [
    "datas.to_csv(\"one_year_sales_train_validation_translated.csv\")"
   ]
  }
 ],
 "metadata": {
  "kernelspec": {
   "display_name": "Python 3",
   "language": "python",
   "name": "python3"
  },
  "language_info": {
   "codemirror_mode": {
    "name": "ipython",
    "version": 3
   },
   "file_extension": ".py",
   "mimetype": "text/x-python",
   "name": "python",
   "nbconvert_exporter": "python",
   "pygments_lexer": "ipython3",
   "version": "3.7.6"
  }
 },
 "nbformat": 4,
 "nbformat_minor": 4
}
