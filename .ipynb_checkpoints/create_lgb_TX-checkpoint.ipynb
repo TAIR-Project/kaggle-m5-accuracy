{
 "cells": [
  {
   "cell_type": "code",
   "execution_count": 1,
   "metadata": {},
   "outputs": [],
   "source": [
    "import numpy as np\n",
    "import pandas as pd\n",
    "import matplotlib.pyplot as plt\n",
    "\n",
    "import lightgbm as lgb\n",
    "from sklearn import preprocessing, metrics\n",
    "from sklearn.metrics import r2_score\n",
    "from sklearn.preprocessing import LabelEncoder\n",
    "import gc\n",
    "from tqdm import tqdm\n",
    "from scipy.sparse import csr_matrix\n",
    "from  datetime import datetime, timedelta"
   ]
  },
  {
   "cell_type": "code",
   "execution_count": 2,
   "metadata": {},
   "outputs": [
    {
     "name": "stdout",
     "output_type": "stream",
     "text": [
      "C:\\Users\\minih\\python_prac1\\m5\\git-repository\\kaggle-m5-accuracy-library\\library\n"
     ]
    }
   ],
   "source": [
    "cd C:\\Users\\minih\\python_prac1\\m5\\git-repository\\kaggle-m5-accuracy-library\\library"
   ]
  },
  {
   "cell_type": "code",
   "execution_count": 3,
   "metadata": {},
   "outputs": [],
   "source": [
    "from patair import reduce_mem_usage"
   ]
  },
  {
   "cell_type": "code",
   "execution_count": 4,
   "metadata": {
    "scrolled": true
   },
   "outputs": [
    {
     "name": "stdout",
     "output_type": "stream",
     "text": [
      "C:\\Users\\minih\\python_prac1\\library\\m5\n"
     ]
    }
   ],
   "source": [
    "cd C:\\Users\\minih\\python_prac1\\library\\m5"
   ]
  },
  {
   "cell_type": "code",
   "execution_count": 5,
   "metadata": {},
   "outputs": [],
   "source": [
    "def encode_categorical(df, cols):\n",
    "    \n",
    "    for col in cols:\n",
    "        # Leave NaN as it is.\n",
    "        le = LabelEncoder()\n",
    "        #not_null = df[col][df[col].notnull()]\n",
    "        df[col] = df[col].fillna('nan')\n",
    "        df[col] = pd.Series(le.fit_transform(df[col]), index=df.index)\n",
    "\n",
    "    return df\n",
    "\n",
    "\n",
    "#calendar = encode_categorical(\n",
    " #   calendar, [\"event_name_1\", \"event_type_1\", \"event_name_2\", \"event_type_2\"]\n",
    "#).pipe(reduce_mem_usage)"
   ]
  },
  {
   "cell_type": "code",
   "execution_count": 6,
   "metadata": {},
   "outputs": [
    {
     "name": "stdout",
     "output_type": "stream",
     "text": [
      "Mem. usage decreased to  0.64 Mb (0.0% reduction)\n"
     ]
    }
   ],
   "source": [
    "product = pd.read_pickle(\"product.pickle\").pipe(reduce_mem_usage)"
   ]
  },
  {
   "cell_type": "code",
   "execution_count": 7,
   "metadata": {},
   "outputs": [
    {
     "data": {
      "text/html": [
       "<div>\n",
       "<style scoped>\n",
       "    .dataframe tbody tr th:only-of-type {\n",
       "        vertical-align: middle;\n",
       "    }\n",
       "\n",
       "    .dataframe tbody tr th {\n",
       "        vertical-align: top;\n",
       "    }\n",
       "\n",
       "    .dataframe thead th {\n",
       "        text-align: right;\n",
       "    }\n",
       "</style>\n",
       "<table border=\"1\" class=\"dataframe\">\n",
       "  <thead>\n",
       "    <tr style=\"text-align: right;\">\n",
       "      <th></th>\n",
       "      <th>id</th>\n",
       "      <th>item_id</th>\n",
       "      <th>dept_id</th>\n",
       "      <th>cat_id</th>\n",
       "      <th>store_id</th>\n",
       "      <th>state_id</th>\n",
       "    </tr>\n",
       "  </thead>\n",
       "  <tbody>\n",
       "    <tr>\n",
       "      <th>0</th>\n",
       "      <td>HOBBIES_1_001_CA_1_validation</td>\n",
       "      <td>1437</td>\n",
       "      <td>3</td>\n",
       "      <td>1</td>\n",
       "      <td>0</td>\n",
       "      <td>0</td>\n",
       "    </tr>\n",
       "    <tr>\n",
       "      <th>1</th>\n",
       "      <td>HOBBIES_1_002_CA_1_validation</td>\n",
       "      <td>1438</td>\n",
       "      <td>3</td>\n",
       "      <td>1</td>\n",
       "      <td>0</td>\n",
       "      <td>0</td>\n",
       "    </tr>\n",
       "    <tr>\n",
       "      <th>2</th>\n",
       "      <td>HOBBIES_1_003_CA_1_validation</td>\n",
       "      <td>1439</td>\n",
       "      <td>3</td>\n",
       "      <td>1</td>\n",
       "      <td>0</td>\n",
       "      <td>0</td>\n",
       "    </tr>\n",
       "    <tr>\n",
       "      <th>3</th>\n",
       "      <td>HOBBIES_1_004_CA_1_validation</td>\n",
       "      <td>1440</td>\n",
       "      <td>3</td>\n",
       "      <td>1</td>\n",
       "      <td>0</td>\n",
       "      <td>0</td>\n",
       "    </tr>\n",
       "    <tr>\n",
       "      <th>4</th>\n",
       "      <td>HOBBIES_1_005_CA_1_validation</td>\n",
       "      <td>1441</td>\n",
       "      <td>3</td>\n",
       "      <td>1</td>\n",
       "      <td>0</td>\n",
       "      <td>0</td>\n",
       "    </tr>\n",
       "    <tr>\n",
       "      <th>...</th>\n",
       "      <td>...</td>\n",
       "      <td>...</td>\n",
       "      <td>...</td>\n",
       "      <td>...</td>\n",
       "      <td>...</td>\n",
       "      <td>...</td>\n",
       "    </tr>\n",
       "    <tr>\n",
       "      <th>30485</th>\n",
       "      <td>FOODS_3_823_WI_3_validation</td>\n",
       "      <td>1432</td>\n",
       "      <td>2</td>\n",
       "      <td>0</td>\n",
       "      <td>9</td>\n",
       "      <td>2</td>\n",
       "    </tr>\n",
       "    <tr>\n",
       "      <th>30486</th>\n",
       "      <td>FOODS_3_824_WI_3_validation</td>\n",
       "      <td>1433</td>\n",
       "      <td>2</td>\n",
       "      <td>0</td>\n",
       "      <td>9</td>\n",
       "      <td>2</td>\n",
       "    </tr>\n",
       "    <tr>\n",
       "      <th>30487</th>\n",
       "      <td>FOODS_3_825_WI_3_validation</td>\n",
       "      <td>1434</td>\n",
       "      <td>2</td>\n",
       "      <td>0</td>\n",
       "      <td>9</td>\n",
       "      <td>2</td>\n",
       "    </tr>\n",
       "    <tr>\n",
       "      <th>30488</th>\n",
       "      <td>FOODS_3_826_WI_3_validation</td>\n",
       "      <td>1435</td>\n",
       "      <td>2</td>\n",
       "      <td>0</td>\n",
       "      <td>9</td>\n",
       "      <td>2</td>\n",
       "    </tr>\n",
       "    <tr>\n",
       "      <th>30489</th>\n",
       "      <td>FOODS_3_827_WI_3_validation</td>\n",
       "      <td>1436</td>\n",
       "      <td>2</td>\n",
       "      <td>0</td>\n",
       "      <td>9</td>\n",
       "      <td>2</td>\n",
       "    </tr>\n",
       "  </tbody>\n",
       "</table>\n",
       "<p>30490 rows × 6 columns</p>\n",
       "</div>"
      ],
      "text/plain": [
       "                                  id  item_id  dept_id  cat_id  store_id  \\\n",
       "0      HOBBIES_1_001_CA_1_validation     1437        3       1         0   \n",
       "1      HOBBIES_1_002_CA_1_validation     1438        3       1         0   \n",
       "2      HOBBIES_1_003_CA_1_validation     1439        3       1         0   \n",
       "3      HOBBIES_1_004_CA_1_validation     1440        3       1         0   \n",
       "4      HOBBIES_1_005_CA_1_validation     1441        3       1         0   \n",
       "...                              ...      ...      ...     ...       ...   \n",
       "30485    FOODS_3_823_WI_3_validation     1432        2       0         9   \n",
       "30486    FOODS_3_824_WI_3_validation     1433        2       0         9   \n",
       "30487    FOODS_3_825_WI_3_validation     1434        2       0         9   \n",
       "30488    FOODS_3_826_WI_3_validation     1435        2       0         9   \n",
       "30489    FOODS_3_827_WI_3_validation     1436        2       0         9   \n",
       "\n",
       "       state_id  \n",
       "0             0  \n",
       "1             0  \n",
       "2             0  \n",
       "3             0  \n",
       "4             0  \n",
       "...         ...  \n",
       "30485         2  \n",
       "30486         2  \n",
       "30487         2  \n",
       "30488         2  \n",
       "30489         2  \n",
       "\n",
       "[30490 rows x 6 columns]"
      ]
     },
     "execution_count": 7,
     "metadata": {},
     "output_type": "execute_result"
    }
   ],
   "source": [
    "product"
   ]
  },
  {
   "cell_type": "code",
   "execution_count": 8,
   "metadata": {
    "scrolled": false
   },
   "outputs": [],
   "source": [
    "#datas = pd.DataFrame()\n",
    "#for i, file in enumerate([\"dataCA_1.pickle\", \"dataCA_2.pickle\", \"dataCA_3.pickle\", \n",
    "#            \"dataCA_4.pickle\", \"dataTX_1.pickle\", \"dataTX_2.pickle\", \n",
    "#           \"dataTX_3.pickle\", \"dataWI_1.pickle\", \"dataWI_2.pickle\", \"dataWI_3.pickle\"]):\n",
    "#    data = pd.read_pickle(file).pipe(reduce_mem_usage)\n",
    "#    data = encode_categorical(\n",
    "#        data, [\"item_id\", \"dept_id\", \"cat_id\", \"event_name_1\", \"event_name_2\"],\n",
    "#    ).pipe(reduce_mem_usage)\n",
    "#    if(file[4:6] == \"CA\"):\n",
    "#        data[\"state_id\"] = 0\n",
    "#        data = pd.merge(product[(product[\"state_id\"] == 0) & (product[\"store_id\"] == i)],data,how=\"left\")\n",
    "#    elif(file[4:6] == \"TX\"):\n",
    "#        data[\"state_id\"] = 1\n",
    "#        data = pd.merge(product[(product[\"state_id\"] == 1) & (product[\"store_id\"] == i)],data,how=\"left\")\n",
    "#    else:\n",
    "#        data[\"state_id\"] = 2\n",
    "#        data = pd.merge(product[(product[\"state_id\"] == 2) & (product[\"store_id\"] == i)],data,how=\"left\")\n",
    "#    data[\"store_id\"] = i\n",
    "#    datas = pd.concat([datas,data])"
   ]
  },
  {
   "cell_type": "code",
   "execution_count": 7,
   "metadata": {},
   "outputs": [],
   "source": [
    "datas = pd.read_pickle(\"all_sales_train_validation_translated_contain_null.pickle\")"
   ]
  },
  {
   "cell_type": "code",
   "execution_count": 8,
   "metadata": {},
   "outputs": [],
   "source": [
    "datas = datas[datas[\"state_id\"] == 1]"
   ]
  },
  {
   "cell_type": "code",
   "execution_count": 9,
   "metadata": {},
   "outputs": [
    {
     "data": {
      "text/plain": [
       "Index(['id', 'item_id', 'dept_id', 'cat_id', 'store_id', 'state_id',\n",
       "       'sell_num', 'date', 'event_name_1', 'event_type_1', 'event_name_2',\n",
       "       'event_type_2', 'snap_CA', 'snap_TX', 'snap_WI', 'sell_price',\n",
       "       'prev_28', 'p_prev_1', 'rolling_mean_t7', 'rolling_mean_t14',\n",
       "       'rolling_std_t7', 'rolling_std_t14', 'price_change_t1',\n",
       "       'rolling_price_std_t7', 'rolling_price_std_t30', 'year', 'quarter',\n",
       "       'month', 'week', 'day', 'dayofweek', 'is_weekend'],\n",
       "      dtype='object')"
      ]
     },
     "execution_count": 9,
     "metadata": {},
     "output_type": "execute_result"
    }
   ],
   "source": [
    "datas.columns"
   ]
  },
  {
   "cell_type": "code",
   "execution_count": 9,
   "metadata": {},
   "outputs": [],
   "source": [
    "check_feature=[\n",
    "               'prev_28', 'p_prev_1','rolling_mean_t7', \n",
    "               'rolling_mean_t14', 'price_change_t1','rolling_std_t7', 'rolling_std_t14',\n",
    "               'rolling_price_std_t7', 'rolling_price_std_t30', 'price_change_t1', 'rolling_price_std_t7',\n",
    "               ]"
   ]
  },
  {
   "cell_type": "code",
   "execution_count": 10,
   "metadata": {},
   "outputs": [],
   "source": [
    "#dataの時系列特徴列(prev_〇など)をみてnanを含むデータ削除する\n",
    "#len(np.unique(datas.dropna(subset=check_feature)[\"id\"]))\n",
    "datas.dropna(subset=check_feature, inplace=True)\n",
    "#len(np.unique(datas.dropna(subset=check_feature)[\"id\"]))"
   ]
  },
  {
   "cell_type": "code",
   "execution_count": null,
   "metadata": {},
   "outputs": [],
   "source": [
    "#57日前のものとかは既に使え無さそう..."
   ]
  },
  {
   "cell_type": "code",
   "execution_count": 11,
   "metadata": {},
   "outputs": [
    {
     "data": {
      "text/plain": [
       "20"
      ]
     },
     "execution_count": 11,
     "metadata": {},
     "output_type": "execute_result"
    }
   ],
   "source": [
    "#x_train = datas[datas['date'] < '2016-04-18']\n",
    "x_train = datas[datas['date'] < '2016-03-28']\n",
    "y_train = x_train['sell_num']\n",
    "#x_val = datas[datas['date'] >= '2016-04-18']\n",
    "x_val = datas[(datas['date'] >= '2016-03-28')& (datas['date'] <= '2016-04-24')]\n",
    "y_val = x_val['sell_num']\n",
    "test = datas[datas['date'] > '2016-04-24']\n",
    "del datas\n",
    "gc.collect()"
   ]
  },
  {
   "cell_type": "code",
   "execution_count": 13,
   "metadata": {},
   "outputs": [
    {
     "data": {
      "text/plain": [
       "Index(['id', 'item_id', 'dept_id', 'cat_id', 'store_id', 'state_id',\n",
       "       'sell_num', 'date', 'event_name_1', 'event_type_1', 'event_name_2',\n",
       "       'event_type_2', 'snap_CA', 'snap_TX', 'snap_WI', 'sell_price',\n",
       "       'prev_28', 'p_prev_1', 'rolling_mean_t7', 'rolling_mean_t14',\n",
       "       'rolling_std_t7', 'rolling_std_t14', 'price_change_t1',\n",
       "       'rolling_price_std_t7', 'rolling_price_std_t30', 'year', 'quarter',\n",
       "       'month', 'week', 'day', 'dayofweek', 'is_weekend'],\n",
       "      dtype='object')"
      ]
     },
     "execution_count": 13,
     "metadata": {},
     "output_type": "execute_result"
    }
   ],
   "source": [
    "x_train.columns"
   ]
  },
  {
   "cell_type": "code",
   "execution_count": 12,
   "metadata": {},
   "outputs": [],
   "source": [
    "features = [\n",
    "   #訓練に用いる特徴量をここに記述\n",
    "    \"item_id\",\n",
    "    \"dept_id\",\n",
    "    \"cat_id\",\n",
    "    \"store_id\",\n",
    "    #\"state_id\",\n",
    "    \"event_name_1\",\n",
    "    #\"event_type_1\",\n",
    "    \"event_name_2\",\n",
    "    #\"event_type_2\",\n",
    "    \n",
    "    \n",
    "    #\"snap_CA\",\n",
    "    \"snap_TX\",\n",
    "    #\"snap_WI\",\n",
    "    \n",
    "    \"sell_price\",\n",
    "    # demand features.\n",
    "    #'prev_14', \n",
    "    'prev_28',\n",
    "    #'prev_182', \n",
    "    #'prev_365', \n",
    "    'p_prev_1', \n",
    "    'rolling_mean_t7',\n",
    "    'rolling_mean_t14', \n",
    "    'rolling_mean_t30',\n",
    "    'rolling_std_t7',\n",
    "    'rolling_std_t14',\n",
    "    'rolling_std_t30',\n",
    "    #'rolling_mean_t60', \n",
    "    #'rolling_mean_t90',\n",
    "    #'rolling_mean_t180',  \n",
    "    # price features\n",
    "    \"price_change_t1\",\n",
    "    #\"price_change_t365\",\n",
    "    #'rolling_price_max_t365', \n",
    "    #'price_change_t365',\n",
    "    \"rolling_price_std_t7\",\n",
    "    \"rolling_price_std_t30\",\n",
    "    # time features.\n",
    "    \"year\",\n",
    "    \"month\",\n",
    "    \"week\",\n",
    "    \"day\",\n",
    "    \"dayofweek\",\n",
    "    #\"is_year_end\",\n",
    "    #\"is_year_start\",\n",
    "    #\"is_quarter_end\",\n",
    "    #\"is_quarter_start\",\n",
    "    #\"is_month_end\",\n",
    "    #\"is_month_start\",\n",
    "    #\"is_weekend\",\n",
    "]\n",
    "\n",
    "train_set = lgb.Dataset(x_train[features], y_train)\n",
    "val_set = lgb.Dataset(x_val[features], y_val)\n",
    "\n",
    "del x_train, y_train"
   ]
  },
  {
   "cell_type": "code",
   "execution_count": 14,
   "metadata": {},
   "outputs": [
    {
     "data": {
      "text/plain": [
       "341488"
      ]
     },
     "execution_count": 14,
     "metadata": {},
     "output_type": "execute_result"
    }
   ],
   "source": [
    "len(y_val)"
   ]
  },
  {
   "cell_type": "code",
   "execution_count": 13,
   "metadata": {},
   "outputs": [],
   "source": [
    "#kernelから取ってきたパラメータ\n",
    "params = {\n",
    "        \"objective\" : \"poisson\",\n",
    "        #\"metric\" :[\"custom\", \"rmse\"],\n",
    "        \"metric\" : \"rmse\",\n",
    "        \"force_row_wise\" : True,\n",
    "        \"learning_rate\" : 0.075,\n",
    "        \"sub_row\" : 0.75,\n",
    "        \"bagging_freq\" : 1,\n",
    "        \"lambda_l2\" : 0.1,\n",
    "        \"nthread\" : 2,\n",
    "        'verbosity': 1,\n",
    "        'num_iterations' : 1200,\n",
    "        'num_leaves': 128,\n",
    "        \"min_data_in_leaf\": 100,\n",
    "        \"random_state\": 32,\n",
    "}"
   ]
  },
  {
   "cell_type": "code",
   "execution_count": 15,
   "metadata": {},
   "outputs": [],
   "source": [
    "params ={\n",
    "            'boosting_type': 'gbdt',\n",
    "            'objective': 'tweedie',\n",
    "            'tweedie_variance_power': 1.1,\n",
    "            'metric':[\"custom\", \"rmse\"],\n",
    "            'subsample': 0.5,\n",
    "            'subsample_freq': 1,\n",
    "            'learning_rate': 0.03,\n",
    "            'num_leaves': 2**11-1,\n",
    "            'min_data_in_leaf': 2**12-1,\n",
    "            'feature_fraction': 0.5,\n",
    "            'max_bin': 100,\n",
    "            'n_estimators': 1400,\n",
    "            'boost_from_average': False,\n",
    "            'verbose': -1,\n",
    "         } "
   ]
  },
  {
   "cell_type": "code",
   "execution_count": 16,
   "metadata": {},
   "outputs": [
    {
     "name": "stderr",
     "output_type": "stream",
     "text": [
      "C:\\Users\\minih\\anaconda3\\lib\\site-packages\\lightgbm\\engine.py:148: UserWarning: Found `n_estimators` in params. Will use it instead of argument\n",
      "  warnings.warn(\"Found `{}` in params. Will use it instead of argument\".format(alias))\n"
     ]
    },
    {
     "name": "stdout",
     "output_type": "stream",
     "text": [
      "Training until validation scores don't improve for 50 rounds\n",
      "[20]\ttraining's rmse: 2.95097\tvalid_1's rmse: 2.62941\n",
      "[40]\ttraining's rmse: 2.52473\tvalid_1's rmse: 2.16425\n",
      "[60]\ttraining's rmse: 2.33718\tvalid_1's rmse: 1.97164\n",
      "[80]\ttraining's rmse: 2.24693\tvalid_1's rmse: 1.90631\n",
      "[100]\ttraining's rmse: 2.19991\tvalid_1's rmse: 1.88186\n",
      "[120]\ttraining's rmse: 2.1676\tvalid_1's rmse: 1.87222\n",
      "[140]\ttraining's rmse: 2.14165\tvalid_1's rmse: 1.86886\n",
      "[160]\ttraining's rmse: 2.1185\tvalid_1's rmse: 1.86702\n",
      "[180]\ttraining's rmse: 2.10298\tvalid_1's rmse: 1.86561\n",
      "[200]\ttraining's rmse: 2.09088\tvalid_1's rmse: 1.86482\n",
      "[220]\ttraining's rmse: 2.08064\tvalid_1's rmse: 1.86511\n",
      "[240]\ttraining's rmse: 2.07142\tvalid_1's rmse: 1.8651\n",
      "[260]\ttraining's rmse: 2.06449\tvalid_1's rmse: 1.86401\n",
      "[280]\ttraining's rmse: 2.05665\tvalid_1's rmse: 1.86345\n",
      "[300]\ttraining's rmse: 2.0509\tvalid_1's rmse: 1.86287\n",
      "[320]\ttraining's rmse: 2.04542\tvalid_1's rmse: 1.86188\n",
      "[340]\ttraining's rmse: 2.03921\tvalid_1's rmse: 1.8616\n",
      "[360]\ttraining's rmse: 2.03456\tvalid_1's rmse: 1.86053\n",
      "[380]\ttraining's rmse: 2.03026\tvalid_1's rmse: 1.86008\n",
      "[400]\ttraining's rmse: 2.02541\tvalid_1's rmse: 1.86017\n",
      "[420]\ttraining's rmse: 2.0215\tvalid_1's rmse: 1.85962\n",
      "[440]\ttraining's rmse: 2.01688\tvalid_1's rmse: 1.86008\n",
      "[460]\ttraining's rmse: 2.01328\tvalid_1's rmse: 1.85891\n",
      "[480]\ttraining's rmse: 2.01035\tvalid_1's rmse: 1.8583\n",
      "[500]\ttraining's rmse: 2.00633\tvalid_1's rmse: 1.85726\n",
      "[520]\ttraining's rmse: 2.00272\tvalid_1's rmse: 1.85795\n",
      "[540]\ttraining's rmse: 1.99871\tvalid_1's rmse: 1.85894\n",
      "Early stopping, best iteration is:\n",
      "[495]\ttraining's rmse: 2.00767\tvalid_1's rmse: 1.8572\n"
     ]
    }
   ],
   "source": [
    "#訓練\n",
    "model = lgb.train(params, train_set, early_stopping_rounds = 50,\n",
    "        valid_sets = [train_set, val_set], categorical_feature = [\"item_id\",\"dept_id\",\"cat_id\",\"store_id\",\"event_name_1\",\"event_name_2\"], verbose_eval = 20)\n",
    "#valid_sets = [train_set, val_set], categorical_feature = [\"item_id\",\"dept_id\",\"cat_id\",\"store_id\",\"state_id\",\"event_name_1\",\"event_name_2\"], verbose_eval = 50, feval= wrmsse)\n",
    "#カテゴリ変数は、エンコードしたかに関わらず明示しておいた方が良さそう"
   ]
  },
  {
   "cell_type": "code",
   "execution_count": 17,
   "metadata": {},
   "outputs": [
    {
     "name": "stderr",
     "output_type": "stream",
     "text": [
      "C:\\Users\\minih\\anaconda3\\lib\\site-packages\\lightgbm\\engine.py:148: UserWarning: Found `num_iterations` in params. Will use it instead of argument\n",
      "  warnings.warn(\"Found `{}` in params. Will use it instead of argument\".format(alias))\n",
      "C:\\Users\\minih\\anaconda3\\lib\\site-packages\\lightgbm\\basic.py:1295: UserWarning: categorical_feature in Dataset is overridden.\n",
      "New categorical_feature is ['cat_id', 'dept_id', 'event_name_1', 'event_name_2', 'item_id', 'store_id']\n",
      "  'New categorical_feature is {}'.format(sorted(list(categorical_feature))))\n"
     ]
    },
    {
     "name": "stdout",
     "output_type": "stream",
     "text": [
      "Training until validation scores don't improve for 50 rounds\n",
      "[20]\ttraining's rmse: 2.43693\tvalid_1's rmse: 2.23073\n",
      "[40]\ttraining's rmse: 2.16584\tvalid_1's rmse: 1.99369\n",
      "[60]\ttraining's rmse: 2.09537\tvalid_1's rmse: 1.94415\n",
      "[80]\ttraining's rmse: 2.06994\tvalid_1's rmse: 1.93834\n",
      "[100]\ttraining's rmse: 2.05159\tvalid_1's rmse: 1.9381\n",
      "[120]\ttraining's rmse: 2.03781\tvalid_1's rmse: 1.93637\n",
      "[140]\ttraining's rmse: 2.02145\tvalid_1's rmse: 1.92515\n",
      "[160]\ttraining's rmse: 2.00839\tvalid_1's rmse: 1.92004\n",
      "[180]\ttraining's rmse: 1.99899\tvalid_1's rmse: 1.91831\n",
      "[200]\ttraining's rmse: 1.99004\tvalid_1's rmse: 1.91571\n",
      "[220]\ttraining's rmse: 1.98284\tvalid_1's rmse: 1.91406\n",
      "[240]\ttraining's rmse: 1.97562\tvalid_1's rmse: 1.91298\n",
      "[260]\ttraining's rmse: 1.96834\tvalid_1's rmse: 1.90942\n",
      "[280]\ttraining's rmse: 1.96195\tvalid_1's rmse: 1.90899\n",
      "[300]\ttraining's rmse: 1.95288\tvalid_1's rmse: 1.9072\n",
      "[320]\ttraining's rmse: 1.94549\tvalid_1's rmse: 1.90569\n",
      "[340]\ttraining's rmse: 1.93789\tvalid_1's rmse: 1.90514\n",
      "[360]\ttraining's rmse: 1.93074\tvalid_1's rmse: 1.90306\n",
      "[380]\ttraining's rmse: 1.92472\tvalid_1's rmse: 1.90229\n",
      "[400]\ttraining's rmse: 1.91669\tvalid_1's rmse: 1.90064\n",
      "[420]\ttraining's rmse: 1.90759\tvalid_1's rmse: 1.8984\n",
      "[440]\ttraining's rmse: 1.89977\tvalid_1's rmse: 1.89451\n",
      "[460]\ttraining's rmse: 1.89355\tvalid_1's rmse: 1.89382\n",
      "[480]\ttraining's rmse: 1.8863\tvalid_1's rmse: 1.89088\n",
      "[500]\ttraining's rmse: 1.88037\tvalid_1's rmse: 1.89104\n",
      "[520]\ttraining's rmse: 1.8753\tvalid_1's rmse: 1.89008\n",
      "[540]\ttraining's rmse: 1.87072\tvalid_1's rmse: 1.89039\n",
      "[560]\ttraining's rmse: 1.86577\tvalid_1's rmse: 1.89033\n",
      "[580]\ttraining's rmse: 1.86156\tvalid_1's rmse: 1.88993\n",
      "[600]\ttraining's rmse: 1.85656\tvalid_1's rmse: 1.88885\n",
      "[620]\ttraining's rmse: 1.85105\tvalid_1's rmse: 1.88871\n",
      "[640]\ttraining's rmse: 1.84744\tvalid_1's rmse: 1.88867\n",
      "[660]\ttraining's rmse: 1.84244\tvalid_1's rmse: 1.88629\n",
      "[680]\ttraining's rmse: 1.83787\tvalid_1's rmse: 1.88623\n",
      "[700]\ttraining's rmse: 1.83399\tvalid_1's rmse: 1.88662\n",
      "Early stopping, best iteration is:\n",
      "[665]\ttraining's rmse: 1.84087\tvalid_1's rmse: 1.88589\n"
     ]
    }
   ],
   "source": [
    "#訓練\n",
    "model = lgb.train(params, train_set, early_stopping_rounds = 50,\n",
    "        valid_sets = [train_set, val_set], categorical_feature = [\"item_id\",\"dept_id\",\"cat_id\",\"store_id\",\"event_name_1\",\"event_name_2\"], verbose_eval = 20)\n",
    "#valid_sets = [train_set, val_set], categorical_feature = [\"item_id\",\"dept_id\",\"cat_id\",\"store_id\",\"state_id\",\"event_name_1\",\"event_name_2\"], verbose_eval = 50, feval= wrmsse)\n",
    "#カテゴリ変数は、エンコードしたかに関わらず明示しておいた方が良さそう"
   ]
  },
  {
   "cell_type": "code",
   "execution_count": 17,
   "metadata": {},
   "outputs": [],
   "source": [
    "#いちおうR値でも精度を検証\n",
    "#予測\n",
    "val_pred = model.predict(x_val[features])"
   ]
  },
  {
   "cell_type": "code",
   "execution_count": 19,
   "metadata": {},
   "outputs": [
    {
     "data": {
      "text/plain": [
       "0.5988016015334101"
      ]
     },
     "execution_count": 19,
     "metadata": {},
     "output_type": "execute_result"
    }
   ],
   "source": [
    "#R値\n",
    "r2_score(val_pred,y_val)"
   ]
  },
  {
   "cell_type": "code",
   "execution_count": 18,
   "metadata": {},
   "outputs": [
    {
     "data": {
      "text/plain": [
       "0.5904891304166953"
      ]
     },
     "execution_count": 18,
     "metadata": {},
     "output_type": "execute_result"
    }
   ],
   "source": [
    "r2_score(val_pred,y_val)"
   ]
  },
  {
   "cell_type": "code",
   "execution_count": 20,
   "metadata": {
    "scrolled": true
   },
   "outputs": [
    {
     "name": "stderr",
     "output_type": "stream",
     "text": [
      "No handles with labels found to put in legend.\n"
     ]
    },
    {
     "data": {
      "text/plain": [
       "<matplotlib.legend.Legend at 0x23c3d777748>"
      ]
     },
     "execution_count": 20,
     "metadata": {},
     "output_type": "execute_result"
    },
    {
     "data": {
      "image/png": "[encoded data removed]",
      "text/plain": [
       "<Figure size 432x288 with 1 Axes>"
      ]
     },
     "metadata": {
      "needs_background": "light"
     },
     "output_type": "display_data"
    }
   ],
   "source": [
    "#R値グラフの表示\n",
    "max_val = np.max(val_pred)\n",
    "if max_val < np.max(y_val):\n",
    "    max_val = np.max(y_val)\n",
    "\n",
    "plt.scatter(val_pred,y_val)\n",
    "plt.plot(np.arange(0,max_val),np.arange(0,max_val),color='red')\n",
    "plt.xlabel(\"predict\")\n",
    "plt.ylabel(\"real\")\n",
    "plt.legend()"
   ]
  },
  {
   "cell_type": "code",
   "execution_count": 19,
   "metadata": {},
   "outputs": [],
   "source": [
    "import pickle"
   ]
  },
  {
   "cell_type": "code",
   "execution_count": 20,
   "metadata": {},
   "outputs": [],
   "source": [
    "with open('lgb_TX.pickle', mode='wb') as fp:\n",
    "         pickle.dump(model, fp)"
   ]
  },
  {
   "cell_type": "code",
   "execution_count": 21,
   "metadata": {},
   "outputs": [],
   "source": [
    "test = test[test[\"date\"] <= \"2016-05-22\"]"
   ]
  },
  {
   "cell_type": "code",
   "execution_count": 24,
   "metadata": {},
   "outputs": [
    {
     "data": {
      "text/plain": [
       "256116"
      ]
     },
     "execution_count": 24,
     "metadata": {},
     "output_type": "execute_result"
    }
   ],
   "source": [
    "len(test)"
   ]
  },
  {
   "cell_type": "code",
   "execution_count": 22,
   "metadata": {
    "scrolled": true
   },
   "outputs": [],
   "source": [
    "#テストデータを用いて予測\n",
    "y_pred = model.predict(test[features])\n",
    "test['demand'] = y_pred"
   ]
  },
  {
   "cell_type": "code",
   "execution_count": 23,
   "metadata": {},
   "outputs": [],
   "source": [
    "result = pd.DataFrame(val_pred,columns=[\"valid\"])\n",
    "result[\"predict\"] = y_pred"
   ]
  },
  {
   "cell_type": "code",
   "execution_count": 24,
   "metadata": {},
   "outputs": [],
   "source": [
    "result.to_csv(\"result_lgb_TX.csv\")"
   ]
  },
  {
   "cell_type": "code",
   "execution_count": 26,
   "metadata": {},
   "outputs": [
    {
     "data": {
      "text/plain": [
       "<matplotlib.axes._subplots.AxesSubplot at 0x21d21963c88>"
      ]
     },
     "execution_count": 26,
     "metadata": {},
     "output_type": "execute_result"
    },
    {
     "data": {
      "image/png": "[encoded data removed]",
      "text/plain": [
       "<Figure size 864x432 with 1 Axes>"
      ]
     },
     "metadata": {
      "needs_background": "light"
     },
     "output_type": "display_data"
    }
   ],
   "source": [
    "lgb.plot_importance(model, figsize=(12, 6))"
   ]
  },
  {
   "cell_type": "code",
   "execution_count": null,
   "metadata": {},
   "outputs": [],
   "source": []
  },
  {
   "cell_type": "code",
   "execution_count": null,
   "metadata": {},
   "outputs": [],
   "source": []
  },
  {
   "cell_type": "code",
   "execution_count": null,
   "metadata": {},
   "outputs": [],
   "source": []
  },
  {
   "cell_type": "code",
   "execution_count": 25,
   "metadata": {},
   "outputs": [],
   "source": [
    "#提出用ファイルを読み込む\n",
    "submission = pd.read_csv('sample_submission.csv')"
   ]
  },
  {
   "cell_type": "code",
   "execution_count": 33,
   "metadata": {},
   "outputs": [
    {
     "data": {
      "text/plain": [
       "558       2016-04-25\n",
       "559       2016-04-26\n",
       "560       2016-04-27\n",
       "561       2016-04-28\n",
       "562       2016-04-29\n",
       "             ...    \n",
       "2668524   2016-05-18\n",
       "2668525   2016-05-19\n",
       "2668526   2016-05-20\n",
       "2668527   2016-05-21\n",
       "2668528   2016-05-22\n",
       "Name: date, Length: 853720, dtype: datetime64[ns]"
      ]
     },
     "execution_count": 33,
     "metadata": {},
     "output_type": "execute_result"
    }
   ],
   "source": [
    "test[\"date\"]"
   ]
  },
  {
   "cell_type": "code",
   "execution_count": 42,
   "metadata": {},
   "outputs": [],
   "source": [
    "#予測値を提出用ファイルに整形\n",
    "predictions = test[['id', 'date', 'demand']]\n",
    "predictions = pd.pivot(predictions, index = 'id', columns = 'date', values = 'demand').reset_index()\n",
    "predictions.columns = ['id'] + ['F' + str(i + 1) for i in range(28)]\n",
    "\n",
    "evaluation_rows = [row for row in submission['id'] if 'evaluation' in row] \n",
    "evaluation = submission[submission['id'].isin(evaluation_rows)]\n",
    "\n",
    "validation = submission[['id']].merge(predictions, on = 'id')\n",
    "final = pd.concat([validation, evaluation])"
   ]
  },
  {
   "cell_type": "code",
   "execution_count": 43,
   "metadata": {},
   "outputs": [],
   "source": [
    "#finalが提出形式のdfなので、これをto_csvする\n",
    "final.to_csv('create3.csv', index = False)"
   ]
  }
 ],
 "metadata": {
  "kernelspec": {
   "display_name": "Python 3",
   "language": "python",
   "name": "python3"
  },
  "language_info": {
   "codemirror_mode": {
    "name": "ipython",
    "version": 3
   },
   "file_extension": ".py",
   "mimetype": "text/x-python",
   "name": "python",
   "nbconvert_exporter": "python",
   "pygments_lexer": "ipython3",
   "version": "3.7.7"
  }
 },
 "nbformat": 4,
 "nbformat_minor": 4
}
