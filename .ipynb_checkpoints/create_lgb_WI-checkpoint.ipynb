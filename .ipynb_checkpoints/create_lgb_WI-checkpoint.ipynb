{
 "cells": [
  {
   "cell_type": "code",
   "execution_count": 1,
   "metadata": {},
   "outputs": [],
   "source": [
    "import numpy as np\n",
    "import pandas as pd\n",
    "import matplotlib.pyplot as plt\n",
    "\n",
    "import lightgbm as lgb\n",
    "from sklearn import preprocessing, metrics\n",
    "from sklearn.metrics import r2_score\n",
    "from sklearn.preprocessing import LabelEncoder\n",
    "import gc\n",
    "from tqdm import tqdm\n",
    "from scipy.sparse import csr_matrix\n",
    "from  datetime import datetime, timedelta"
   ]
  },
  {
   "cell_type": "code",
   "execution_count": 2,
   "metadata": {},
   "outputs": [
    {
     "name": "stdout",
     "output_type": "stream",
     "text": [
      "C:\\Users\\minih\\python_prac1\\m5\\git-repository\\kaggle-m5-accuracy-library\\library\n"
     ]
    }
   ],
   "source": [
    "cd C:\\Users\\minih\\python_prac1\\m5\\git-repository\\kaggle-m5-accuracy-library\\library"
   ]
  },
  {
   "cell_type": "code",
   "execution_count": 3,
   "metadata": {},
   "outputs": [],
   "source": [
    "from patair import reduce_mem_usage"
   ]
  },
  {
   "cell_type": "code",
   "execution_count": 4,
   "metadata": {
    "scrolled": true
   },
   "outputs": [
    {
     "name": "stdout",
     "output_type": "stream",
     "text": [
      "C:\\Users\\minih\\python_prac1\\library\\m5\n"
     ]
    }
   ],
   "source": [
    "cd C:\\Users\\minih\\python_prac1\\library\\m5"
   ]
  },
  {
   "cell_type": "code",
   "execution_count": 5,
   "metadata": {},
   "outputs": [],
   "source": [
    "def encode_categorical(df, cols):\n",
    "    \n",
    "    for col in cols:\n",
    "        # Leave NaN as it is.\n",
    "        le = LabelEncoder()\n",
    "        #not_null = df[col][df[col].notnull()]\n",
    "        df[col] = df[col].fillna('nan')\n",
    "        df[col] = pd.Series(le.fit_transform(df[col]), index=df.index)\n",
    "\n",
    "    return df\n",
    "\n",
    "\n",
    "#calendar = encode_categorical(\n",
    " #   calendar, [\"event_name_1\", \"event_type_1\", \"event_name_2\", \"event_type_2\"]\n",
    "#).pipe(reduce_mem_usage)"
   ]
  },
  {
   "cell_type": "code",
   "execution_count": 6,
   "metadata": {},
   "outputs": [
    {
     "name": "stdout",
     "output_type": "stream",
     "text": [
      "Mem. usage decreased to  0.64 Mb (0.0% reduction)\n"
     ]
    }
   ],
   "source": [
    "product = pd.read_pickle(\"product.pickle\").pipe(reduce_mem_usage)"
   ]
  },
  {
   "cell_type": "code",
   "execution_count": 7,
   "metadata": {},
   "outputs": [
    {
     "data": {
      "text/html": [
       "<div>\n",
       "<style scoped>\n",
       "    .dataframe tbody tr th:only-of-type {\n",
       "        vertical-align: middle;\n",
       "    }\n",
       "\n",
       "    .dataframe tbody tr th {\n",
       "        vertical-align: top;\n",
       "    }\n",
       "\n",
       "    .dataframe thead th {\n",
       "        text-align: right;\n",
       "    }\n",
       "</style>\n",
       "<table border=\"1\" class=\"dataframe\">\n",
       "  <thead>\n",
       "    <tr style=\"text-align: right;\">\n",
       "      <th></th>\n",
       "      <th>id</th>\n",
       "      <th>item_id</th>\n",
       "      <th>dept_id</th>\n",
       "      <th>cat_id</th>\n",
       "      <th>store_id</th>\n",
       "      <th>state_id</th>\n",
       "    </tr>\n",
       "  </thead>\n",
       "  <tbody>\n",
       "    <tr>\n",
       "      <th>0</th>\n",
       "      <td>HOBBIES_1_001_CA_1_validation</td>\n",
       "      <td>1437</td>\n",
       "      <td>3</td>\n",
       "      <td>1</td>\n",
       "      <td>0</td>\n",
       "      <td>0</td>\n",
       "    </tr>\n",
       "    <tr>\n",
       "      <th>1</th>\n",
       "      <td>HOBBIES_1_002_CA_1_validation</td>\n",
       "      <td>1438</td>\n",
       "      <td>3</td>\n",
       "      <td>1</td>\n",
       "      <td>0</td>\n",
       "      <td>0</td>\n",
       "    </tr>\n",
       "    <tr>\n",
       "      <th>2</th>\n",
       "      <td>HOBBIES_1_003_CA_1_validation</td>\n",
       "      <td>1439</td>\n",
       "      <td>3</td>\n",
       "      <td>1</td>\n",
       "      <td>0</td>\n",
       "      <td>0</td>\n",
       "    </tr>\n",
       "    <tr>\n",
       "      <th>3</th>\n",
       "      <td>HOBBIES_1_004_CA_1_validation</td>\n",
       "      <td>1440</td>\n",
       "      <td>3</td>\n",
       "      <td>1</td>\n",
       "      <td>0</td>\n",
       "      <td>0</td>\n",
       "    </tr>\n",
       "    <tr>\n",
       "      <th>4</th>\n",
       "      <td>HOBBIES_1_005_CA_1_validation</td>\n",
       "      <td>1441</td>\n",
       "      <td>3</td>\n",
       "      <td>1</td>\n",
       "      <td>0</td>\n",
       "      <td>0</td>\n",
       "    </tr>\n",
       "    <tr>\n",
       "      <th>...</th>\n",
       "      <td>...</td>\n",
       "      <td>...</td>\n",
       "      <td>...</td>\n",
       "      <td>...</td>\n",
       "      <td>...</td>\n",
       "      <td>...</td>\n",
       "    </tr>\n",
       "    <tr>\n",
       "      <th>30485</th>\n",
       "      <td>FOODS_3_823_WI_3_validation</td>\n",
       "      <td>1432</td>\n",
       "      <td>2</td>\n",
       "      <td>0</td>\n",
       "      <td>9</td>\n",
       "      <td>2</td>\n",
       "    </tr>\n",
       "    <tr>\n",
       "      <th>30486</th>\n",
       "      <td>FOODS_3_824_WI_3_validation</td>\n",
       "      <td>1433</td>\n",
       "      <td>2</td>\n",
       "      <td>0</td>\n",
       "      <td>9</td>\n",
       "      <td>2</td>\n",
       "    </tr>\n",
       "    <tr>\n",
       "      <th>30487</th>\n",
       "      <td>FOODS_3_825_WI_3_validation</td>\n",
       "      <td>1434</td>\n",
       "      <td>2</td>\n",
       "      <td>0</td>\n",
       "      <td>9</td>\n",
       "      <td>2</td>\n",
       "    </tr>\n",
       "    <tr>\n",
       "      <th>30488</th>\n",
       "      <td>FOODS_3_826_WI_3_validation</td>\n",
       "      <td>1435</td>\n",
       "      <td>2</td>\n",
       "      <td>0</td>\n",
       "      <td>9</td>\n",
       "      <td>2</td>\n",
       "    </tr>\n",
       "    <tr>\n",
       "      <th>30489</th>\n",
       "      <td>FOODS_3_827_WI_3_validation</td>\n",
       "      <td>1436</td>\n",
       "      <td>2</td>\n",
       "      <td>0</td>\n",
       "      <td>9</td>\n",
       "      <td>2</td>\n",
       "    </tr>\n",
       "  </tbody>\n",
       "</table>\n",
       "<p>30490 rows × 6 columns</p>\n",
       "</div>"
      ],
      "text/plain": [
       "                                  id  item_id  dept_id  cat_id  store_id  \\\n",
       "0      HOBBIES_1_001_CA_1_validation     1437        3       1         0   \n",
       "1      HOBBIES_1_002_CA_1_validation     1438        3       1         0   \n",
       "2      HOBBIES_1_003_CA_1_validation     1439        3       1         0   \n",
       "3      HOBBIES_1_004_CA_1_validation     1440        3       1         0   \n",
       "4      HOBBIES_1_005_CA_1_validation     1441        3       1         0   \n",
       "...                              ...      ...      ...     ...       ...   \n",
       "30485    FOODS_3_823_WI_3_validation     1432        2       0         9   \n",
       "30486    FOODS_3_824_WI_3_validation     1433        2       0         9   \n",
       "30487    FOODS_3_825_WI_3_validation     1434        2       0         9   \n",
       "30488    FOODS_3_826_WI_3_validation     1435        2       0         9   \n",
       "30489    FOODS_3_827_WI_3_validation     1436        2       0         9   \n",
       "\n",
       "       state_id  \n",
       "0             0  \n",
       "1             0  \n",
       "2             0  \n",
       "3             0  \n",
       "4             0  \n",
       "...         ...  \n",
       "30485         2  \n",
       "30486         2  \n",
       "30487         2  \n",
       "30488         2  \n",
       "30489         2  \n",
       "\n",
       "[30490 rows x 6 columns]"
      ]
     },
     "execution_count": 7,
     "metadata": {},
     "output_type": "execute_result"
    }
   ],
   "source": [
    "product"
   ]
  },
  {
   "cell_type": "code",
   "execution_count": 8,
   "metadata": {
    "scrolled": false
   },
   "outputs": [],
   "source": [
    "#datas = pd.DataFrame()\n",
    "#for i, file in enumerate([\"dataCA_1.pickle\", \"dataCA_2.pickle\", \"dataCA_3.pickle\", \n",
    "#            \"dataCA_4.pickle\", \"dataTX_1.pickle\", \"dataTX_2.pickle\", \n",
    "#           \"dataTX_3.pickle\", \"dataWI_1.pickle\", \"dataWI_2.pickle\", \"dataWI_3.pickle\"]):\n",
    "#    data = pd.read_pickle(file).pipe(reduce_mem_usage)\n",
    "#    data = encode_categorical(\n",
    "#        data, [\"item_id\", \"dept_id\", \"cat_id\", \"event_name_1\", \"event_name_2\"],\n",
    "#    ).pipe(reduce_mem_usage)\n",
    "#    if(file[4:6] == \"CA\"):\n",
    "#        data[\"state_id\"] = 0\n",
    "#        data = pd.merge(product[(product[\"state_id\"] == 0) & (product[\"store_id\"] == i)],data,how=\"left\")\n",
    "#    elif(file[4:6] == \"TX\"):\n",
    "#        data[\"state_id\"] = 1\n",
    "#        data = pd.merge(product[(product[\"state_id\"] == 1) & (product[\"store_id\"] == i)],data,how=\"left\")\n",
    "#    else:\n",
    "#        data[\"state_id\"] = 2\n",
    "#        data = pd.merge(product[(product[\"state_id\"] == 2) & (product[\"store_id\"] == i)],data,how=\"left\")\n",
    "#    data[\"store_id\"] = i\n",
    "#    datas = pd.concat([datas,data])"
   ]
  },
  {
   "cell_type": "code",
   "execution_count": 7,
   "metadata": {},
   "outputs": [],
   "source": [
    "datas = pd.read_pickle(\"all_sales_train_validation_translated_contain_null.pickle\")"
   ]
  },
  {
   "cell_type": "code",
   "execution_count": 8,
   "metadata": {},
   "outputs": [],
   "source": [
    "datas = datas[datas[\"state_id\"] == 2] "
   ]
  },
  {
   "cell_type": "code",
   "execution_count": 13,
   "metadata": {},
   "outputs": [
    {
     "data": {
      "text/plain": [
       "Index(['id', 'item_id', 'dept_id', 'cat_id', 'store_id', 'state_id',\n",
       "       'sell_num', 'date', 'event_name_1', 'event_type_1', 'event_name_2',\n",
       "       'event_type_2', 'snap_CA', 'snap_TX', 'snap_WI', 'sell_price',\n",
       "       'prev_28', 'p_prev_1', 'rolling_mean_t7', 'rolling_mean_t14',\n",
       "       'rolling_std_t7', 'rolling_std_t14', 'price_change_t1',\n",
       "       'rolling_price_std_t7', 'rolling_price_std_t30', 'year', 'quarter',\n",
       "       'month', 'week', 'day', 'dayofweek', 'is_weekend'],\n",
       "      dtype='object')"
      ]
     },
     "execution_count": 13,
     "metadata": {},
     "output_type": "execute_result"
    }
   ],
   "source": [
    "datas.columns"
   ]
  },
  {
   "cell_type": "code",
   "execution_count": 9,
   "metadata": {},
   "outputs": [],
   "source": [
    "check_feature=[\n",
    "               'prev_28', 'p_prev_1','rolling_mean_t7', \n",
    "               'rolling_mean_t14', 'price_change_t1','rolling_std_t7', 'rolling_std_t14',\n",
    "               'rolling_price_std_t7', 'rolling_price_std_t30', 'price_change_t1', 'rolling_price_std_t7',\n",
    "               ]"
   ]
  },
  {
   "cell_type": "code",
   "execution_count": 10,
   "metadata": {},
   "outputs": [],
   "source": [
    "#dataの時系列特徴列(prev_〇など)をみてnanを含むデータ削除する\n",
    "#len(np.unique(datas.dropna(subset=check_feature)[\"id\"]))\n",
    "datas.dropna(subset=check_feature, inplace=True)\n",
    "#len(np.unique(datas.dropna(subset=check_feature)[\"id\"]))"
   ]
  },
  {
   "cell_type": "code",
   "execution_count": null,
   "metadata": {},
   "outputs": [],
   "source": [
    "#57日前のものとかは既に使え無さそう..."
   ]
  },
  {
   "cell_type": "code",
   "execution_count": 12,
   "metadata": {},
   "outputs": [
    {
     "data": {
      "text/plain": [
       "30490"
      ]
     },
     "execution_count": 12,
     "metadata": {},
     "output_type": "execute_result"
    }
   ],
   "source": [
    "len(np.unique(datas[\"id\"]))"
   ]
  },
  {
   "cell_type": "code",
   "execution_count": 13,
   "metadata": {},
   "outputs": [
    {
     "data": {
      "text/html": [
       "<div>\n",
       "<style scoped>\n",
       "    .dataframe tbody tr th:only-of-type {\n",
       "        vertical-align: middle;\n",
       "    }\n",
       "\n",
       "    .dataframe tbody tr th {\n",
       "        vertical-align: top;\n",
       "    }\n",
       "\n",
       "    .dataframe thead th {\n",
       "        text-align: right;\n",
       "    }\n",
       "</style>\n",
       "<table border=\"1\" class=\"dataframe\">\n",
       "  <thead>\n",
       "    <tr style=\"text-align: right;\">\n",
       "      <th></th>\n",
       "      <th>id</th>\n",
       "      <th>item_id</th>\n",
       "      <th>dept_id</th>\n",
       "      <th>cat_id</th>\n",
       "      <th>store_id</th>\n",
       "      <th>state_id</th>\n",
       "      <th>d</th>\n",
       "      <th>sell_num</th>\n",
       "      <th>date</th>\n",
       "      <th>event_name_1</th>\n",
       "      <th>...</th>\n",
       "      <th>price_change_t1</th>\n",
       "      <th>rolling_price_std_t7</th>\n",
       "      <th>rolling_price_std_t30</th>\n",
       "      <th>year</th>\n",
       "      <th>quarter</th>\n",
       "      <th>month</th>\n",
       "      <th>week</th>\n",
       "      <th>day</th>\n",
       "      <th>dayofweek</th>\n",
       "      <th>is_weekend</th>\n",
       "    </tr>\n",
       "  </thead>\n",
       "  <tbody>\n",
       "    <tr>\n",
       "      <th>21405592</th>\n",
       "      <td>FOODS_1_001_CA_1_validation</td>\n",
       "      <td>0</td>\n",
       "      <td>0</td>\n",
       "      <td>0</td>\n",
       "      <td>0</td>\n",
       "      <td>0</td>\n",
       "      <td>d_1886</td>\n",
       "      <td>2.0</td>\n",
       "      <td>2016-03-28</td>\n",
       "      <td>30</td>\n",
       "      <td>...</td>\n",
       "      <td>0.0</td>\n",
       "      <td>0.0</td>\n",
       "      <td>0.0</td>\n",
       "      <td>2016</td>\n",
       "      <td>1</td>\n",
       "      <td>3</td>\n",
       "      <td>13</td>\n",
       "      <td>28</td>\n",
       "      <td>0</td>\n",
       "      <td>0</td>\n",
       "    </tr>\n",
       "    <tr>\n",
       "      <th>21436082</th>\n",
       "      <td>FOODS_1_001_CA_1_validation</td>\n",
       "      <td>0</td>\n",
       "      <td>0</td>\n",
       "      <td>0</td>\n",
       "      <td>0</td>\n",
       "      <td>0</td>\n",
       "      <td>d_1887</td>\n",
       "      <td>1.0</td>\n",
       "      <td>2016-03-29</td>\n",
       "      <td>30</td>\n",
       "      <td>...</td>\n",
       "      <td>0.0</td>\n",
       "      <td>0.0</td>\n",
       "      <td>0.0</td>\n",
       "      <td>2016</td>\n",
       "      <td>1</td>\n",
       "      <td>3</td>\n",
       "      <td>13</td>\n",
       "      <td>29</td>\n",
       "      <td>1</td>\n",
       "      <td>0</td>\n",
       "    </tr>\n",
       "    <tr>\n",
       "      <th>21466572</th>\n",
       "      <td>FOODS_1_001_CA_1_validation</td>\n",
       "      <td>0</td>\n",
       "      <td>0</td>\n",
       "      <td>0</td>\n",
       "      <td>0</td>\n",
       "      <td>0</td>\n",
       "      <td>d_1888</td>\n",
       "      <td>1.0</td>\n",
       "      <td>2016-03-30</td>\n",
       "      <td>30</td>\n",
       "      <td>...</td>\n",
       "      <td>0.0</td>\n",
       "      <td>0.0</td>\n",
       "      <td>0.0</td>\n",
       "      <td>2016</td>\n",
       "      <td>1</td>\n",
       "      <td>3</td>\n",
       "      <td>13</td>\n",
       "      <td>30</td>\n",
       "      <td>2</td>\n",
       "      <td>0</td>\n",
       "    </tr>\n",
       "    <tr>\n",
       "      <th>21497062</th>\n",
       "      <td>FOODS_1_001_CA_1_validation</td>\n",
       "      <td>0</td>\n",
       "      <td>0</td>\n",
       "      <td>0</td>\n",
       "      <td>0</td>\n",
       "      <td>0</td>\n",
       "      <td>d_1889</td>\n",
       "      <td>0.0</td>\n",
       "      <td>2016-03-31</td>\n",
       "      <td>30</td>\n",
       "      <td>...</td>\n",
       "      <td>0.0</td>\n",
       "      <td>0.0</td>\n",
       "      <td>0.0</td>\n",
       "      <td>2016</td>\n",
       "      <td>1</td>\n",
       "      <td>3</td>\n",
       "      <td>13</td>\n",
       "      <td>31</td>\n",
       "      <td>3</td>\n",
       "      <td>0</td>\n",
       "    </tr>\n",
       "    <tr>\n",
       "      <th>21527552</th>\n",
       "      <td>FOODS_1_001_CA_1_validation</td>\n",
       "      <td>0</td>\n",
       "      <td>0</td>\n",
       "      <td>0</td>\n",
       "      <td>0</td>\n",
       "      <td>0</td>\n",
       "      <td>d_1890</td>\n",
       "      <td>4.0</td>\n",
       "      <td>2016-04-01</td>\n",
       "      <td>30</td>\n",
       "      <td>...</td>\n",
       "      <td>0.0</td>\n",
       "      <td>0.0</td>\n",
       "      <td>0.0</td>\n",
       "      <td>2016</td>\n",
       "      <td>2</td>\n",
       "      <td>4</td>\n",
       "      <td>13</td>\n",
       "      <td>1</td>\n",
       "      <td>4</td>\n",
       "      <td>0</td>\n",
       "    </tr>\n",
       "    <tr>\n",
       "      <th>...</th>\n",
       "      <td>...</td>\n",
       "      <td>...</td>\n",
       "      <td>...</td>\n",
       "      <td>...</td>\n",
       "      <td>...</td>\n",
       "      <td>...</td>\n",
       "      <td>...</td>\n",
       "      <td>...</td>\n",
       "      <td>...</td>\n",
       "      <td>...</td>\n",
       "      <td>...</td>\n",
       "      <td>...</td>\n",
       "      <td>...</td>\n",
       "      <td>...</td>\n",
       "      <td>...</td>\n",
       "      <td>...</td>\n",
       "      <td>...</td>\n",
       "      <td>...</td>\n",
       "      <td>...</td>\n",
       "      <td>...</td>\n",
       "      <td>...</td>\n",
       "    </tr>\n",
       "    <tr>\n",
       "      <th>22134302</th>\n",
       "      <td>HOUSEHOLD_2_516_WI_3_validation</td>\n",
       "      <td>3048</td>\n",
       "      <td>6</td>\n",
       "      <td>2</td>\n",
       "      <td>9</td>\n",
       "      <td>2</td>\n",
       "      <td>d_1909</td>\n",
       "      <td>0.0</td>\n",
       "      <td>2016-04-20</td>\n",
       "      <td>30</td>\n",
       "      <td>...</td>\n",
       "      <td>0.0</td>\n",
       "      <td>0.0</td>\n",
       "      <td>0.0</td>\n",
       "      <td>2016</td>\n",
       "      <td>2</td>\n",
       "      <td>4</td>\n",
       "      <td>16</td>\n",
       "      <td>20</td>\n",
       "      <td>2</td>\n",
       "      <td>0</td>\n",
       "    </tr>\n",
       "    <tr>\n",
       "      <th>22164792</th>\n",
       "      <td>HOUSEHOLD_2_516_WI_3_validation</td>\n",
       "      <td>3048</td>\n",
       "      <td>6</td>\n",
       "      <td>2</td>\n",
       "      <td>9</td>\n",
       "      <td>2</td>\n",
       "      <td>d_1910</td>\n",
       "      <td>0.0</td>\n",
       "      <td>2016-04-21</td>\n",
       "      <td>30</td>\n",
       "      <td>...</td>\n",
       "      <td>0.0</td>\n",
       "      <td>0.0</td>\n",
       "      <td>0.0</td>\n",
       "      <td>2016</td>\n",
       "      <td>2</td>\n",
       "      <td>4</td>\n",
       "      <td>16</td>\n",
       "      <td>21</td>\n",
       "      <td>3</td>\n",
       "      <td>0</td>\n",
       "    </tr>\n",
       "    <tr>\n",
       "      <th>22195282</th>\n",
       "      <td>HOUSEHOLD_2_516_WI_3_validation</td>\n",
       "      <td>3048</td>\n",
       "      <td>6</td>\n",
       "      <td>2</td>\n",
       "      <td>9</td>\n",
       "      <td>2</td>\n",
       "      <td>d_1911</td>\n",
       "      <td>0.0</td>\n",
       "      <td>2016-04-22</td>\n",
       "      <td>30</td>\n",
       "      <td>...</td>\n",
       "      <td>0.0</td>\n",
       "      <td>0.0</td>\n",
       "      <td>0.0</td>\n",
       "      <td>2016</td>\n",
       "      <td>2</td>\n",
       "      <td>4</td>\n",
       "      <td>16</td>\n",
       "      <td>22</td>\n",
       "      <td>4</td>\n",
       "      <td>0</td>\n",
       "    </tr>\n",
       "    <tr>\n",
       "      <th>22225772</th>\n",
       "      <td>HOUSEHOLD_2_516_WI_3_validation</td>\n",
       "      <td>3048</td>\n",
       "      <td>6</td>\n",
       "      <td>2</td>\n",
       "      <td>9</td>\n",
       "      <td>2</td>\n",
       "      <td>d_1912</td>\n",
       "      <td>0.0</td>\n",
       "      <td>2016-04-23</td>\n",
       "      <td>30</td>\n",
       "      <td>...</td>\n",
       "      <td>0.0</td>\n",
       "      <td>0.0</td>\n",
       "      <td>0.0</td>\n",
       "      <td>2016</td>\n",
       "      <td>2</td>\n",
       "      <td>4</td>\n",
       "      <td>16</td>\n",
       "      <td>23</td>\n",
       "      <td>5</td>\n",
       "      <td>1</td>\n",
       "    </tr>\n",
       "    <tr>\n",
       "      <th>22256262</th>\n",
       "      <td>HOUSEHOLD_2_516_WI_3_validation</td>\n",
       "      <td>3048</td>\n",
       "      <td>6</td>\n",
       "      <td>2</td>\n",
       "      <td>9</td>\n",
       "      <td>2</td>\n",
       "      <td>d_1913</td>\n",
       "      <td>0.0</td>\n",
       "      <td>2016-04-24</td>\n",
       "      <td>30</td>\n",
       "      <td>...</td>\n",
       "      <td>0.0</td>\n",
       "      <td>0.0</td>\n",
       "      <td>0.0</td>\n",
       "      <td>2016</td>\n",
       "      <td>2</td>\n",
       "      <td>4</td>\n",
       "      <td>16</td>\n",
       "      <td>24</td>\n",
       "      <td>6</td>\n",
       "      <td>1</td>\n",
       "    </tr>\n",
       "  </tbody>\n",
       "</table>\n",
       "<p>853720 rows × 37 columns</p>\n",
       "</div>"
      ],
      "text/plain": [
       "                                       id  item_id  dept_id  cat_id  store_id  \\\n",
       "21405592      FOODS_1_001_CA_1_validation        0        0       0         0   \n",
       "21436082      FOODS_1_001_CA_1_validation        0        0       0         0   \n",
       "21466572      FOODS_1_001_CA_1_validation        0        0       0         0   \n",
       "21497062      FOODS_1_001_CA_1_validation        0        0       0         0   \n",
       "21527552      FOODS_1_001_CA_1_validation        0        0       0         0   \n",
       "...                                   ...      ...      ...     ...       ...   \n",
       "22134302  HOUSEHOLD_2_516_WI_3_validation     3048        6       2         9   \n",
       "22164792  HOUSEHOLD_2_516_WI_3_validation     3048        6       2         9   \n",
       "22195282  HOUSEHOLD_2_516_WI_3_validation     3048        6       2         9   \n",
       "22225772  HOUSEHOLD_2_516_WI_3_validation     3048        6       2         9   \n",
       "22256262  HOUSEHOLD_2_516_WI_3_validation     3048        6       2         9   \n",
       "\n",
       "          state_id       d  sell_num       date  event_name_1  ...  \\\n",
       "21405592         0  d_1886       2.0 2016-03-28            30  ...   \n",
       "21436082         0  d_1887       1.0 2016-03-29            30  ...   \n",
       "21466572         0  d_1888       1.0 2016-03-30            30  ...   \n",
       "21497062         0  d_1889       0.0 2016-03-31            30  ...   \n",
       "21527552         0  d_1890       4.0 2016-04-01            30  ...   \n",
       "...            ...     ...       ...        ...           ...  ...   \n",
       "22134302         2  d_1909       0.0 2016-04-20            30  ...   \n",
       "22164792         2  d_1910       0.0 2016-04-21            30  ...   \n",
       "22195282         2  d_1911       0.0 2016-04-22            30  ...   \n",
       "22225772         2  d_1912       0.0 2016-04-23            30  ...   \n",
       "22256262         2  d_1913       0.0 2016-04-24            30  ...   \n",
       "\n",
       "          price_change_t1  rolling_price_std_t7  rolling_price_std_t30  year  \\\n",
       "21405592              0.0                   0.0                    0.0  2016   \n",
       "21436082              0.0                   0.0                    0.0  2016   \n",
       "21466572              0.0                   0.0                    0.0  2016   \n",
       "21497062              0.0                   0.0                    0.0  2016   \n",
       "21527552              0.0                   0.0                    0.0  2016   \n",
       "...                   ...                   ...                    ...   ...   \n",
       "22134302              0.0                   0.0                    0.0  2016   \n",
       "22164792              0.0                   0.0                    0.0  2016   \n",
       "22195282              0.0                   0.0                    0.0  2016   \n",
       "22225772              0.0                   0.0                    0.0  2016   \n",
       "22256262              0.0                   0.0                    0.0  2016   \n",
       "\n",
       "          quarter  month  week  day  dayofweek  is_weekend  \n",
       "21405592        1      3    13   28          0           0  \n",
       "21436082        1      3    13   29          1           0  \n",
       "21466572        1      3    13   30          2           0  \n",
       "21497062        1      3    13   31          3           0  \n",
       "21527552        2      4    13    1          4           0  \n",
       "...           ...    ...   ...  ...        ...         ...  \n",
       "22134302        2      4    16   20          2           0  \n",
       "22164792        2      4    16   21          3           0  \n",
       "22195282        2      4    16   22          4           0  \n",
       "22225772        2      4    16   23          5           1  \n",
       "22256262        2      4    16   24          6           1  \n",
       "\n",
       "[853720 rows x 37 columns]"
      ]
     },
     "execution_count": 13,
     "metadata": {},
     "output_type": "execute_result"
    }
   ],
   "source": [
    "#検証用期間のデータが消えても困る\n",
    "datas[(datas['date'] > '2016-03-27') & (datas['date'] <= '2016-04-24')]"
   ]
  },
  {
   "cell_type": "code",
   "execution_count": 11,
   "metadata": {},
   "outputs": [
    {
     "data": {
      "text/plain": [
       "20"
      ]
     },
     "execution_count": 11,
     "metadata": {},
     "output_type": "execute_result"
    }
   ],
   "source": [
    "#x_train = datas[datas['date'] < '2016-04-18']\n",
    "x_train = datas[datas['date'] < '2016-03-28']\n",
    "y_train = x_train['sell_num']\n",
    "#x_val = datas[datas['date'] >= '2016-04-18']\n",
    "x_val = datas[(datas['date'] >= '2016-03-28')& (datas['date'] <= '2016-04-24')]\n",
    "y_val = x_val['sell_num']\n",
    "test = datas[datas['date'] > '2016-04-24']\n",
    "del datas\n",
    "gc.collect()"
   ]
  },
  {
   "cell_type": "code",
   "execution_count": 17,
   "metadata": {},
   "outputs": [
    {
     "data": {
      "text/plain": [
       "Index(['id', 'item_id', 'dept_id', 'cat_id', 'store_id', 'state_id',\n",
       "       'sell_num', 'date', 'event_name_1', 'event_type_1', 'event_name_2',\n",
       "       'event_type_2', 'snap_CA', 'snap_TX', 'snap_WI', 'sell_price',\n",
       "       'prev_28', 'p_prev_1', 'rolling_mean_t7', 'rolling_mean_t14',\n",
       "       'rolling_std_t7', 'rolling_std_t14', 'price_change_t1',\n",
       "       'rolling_price_std_t7', 'rolling_price_std_t30', 'year', 'quarter',\n",
       "       'month', 'week', 'day', 'dayofweek', 'is_weekend'],\n",
       "      dtype='object')"
      ]
     },
     "execution_count": 17,
     "metadata": {},
     "output_type": "execute_result"
    }
   ],
   "source": [
    "x_train.columns"
   ]
  },
  {
   "cell_type": "code",
   "execution_count": 12,
   "metadata": {},
   "outputs": [],
   "source": [
    "features = [\n",
    "   #訓練に用いる特徴量をここに記述\n",
    "    \"item_id\",\n",
    "    \"dept_id\",\n",
    "    \"cat_id\",\n",
    "    \"store_id\",\n",
    "    #\"state_id\",\n",
    "    \"event_name_1\",\n",
    "    #\"event_type_1\",\n",
    "    \"event_name_2\",\n",
    "    #\"event_type_2\",\n",
    "    \n",
    "    \n",
    "    #\"snap_CA\",\n",
    "    #\"snap_TX\",\n",
    "    \"snap_WI\",\n",
    "    \n",
    "    \"sell_price\",\n",
    "    # demand features.\n",
    "    #'prev_1',\n",
    "    #'prev_2',\n",
    "    #'prev_7', \n",
    "    #'prev_14', \n",
    "    'prev_28',\n",
    "    #'prev_182', \n",
    "    #'prev_365', \n",
    "    'p_prev_1', \n",
    "    'rolling_mean_t7',\n",
    "    'rolling_mean_t14', \n",
    "    'rolling_mean_t30',\n",
    "    'rolling_std_t7',\n",
    "    'rolling_std_t14',\n",
    "    'rolling_std_t30',\n",
    "    #'rolling_mean_t60', \n",
    "    #'rolling_mean_t90',\n",
    "    #'rolling_mean_t180',  \n",
    "    # price features\n",
    "    \"price_change_t1\",\n",
    "    #\"price_change_t365\",\n",
    "    #'rolling_price_max_t365', \n",
    "    #'price_change_t365',\n",
    "    \"rolling_price_std_t7\",\n",
    "    \"rolling_price_std_t30\",\n",
    "    # time features.\n",
    "    \"year\",\n",
    "    \"month\",\n",
    "    \"week\",\n",
    "    \"day\",\n",
    "    \"dayofweek\",\n",
    "    #\"is_year_end\",\n",
    "    #\"is_year_start\",\n",
    "    #\"is_quarter_end\",\n",
    "    #\"is_quarter_start\",\n",
    "    #\"is_month_end\",\n",
    "    #\"is_month_start\",\n",
    "    #\"is_weekend\",\n",
    "]\n",
    "\n",
    "train_set = lgb.Dataset(x_train[features], y_train)\n",
    "val_set = lgb.Dataset(x_val[features], y_val)\n",
    "\n",
    "del x_train, y_train"
   ]
  },
  {
   "cell_type": "code",
   "execution_count": 14,
   "metadata": {},
   "outputs": [
    {
     "data": {
      "text/plain": [
       "341488"
      ]
     },
     "execution_count": 14,
     "metadata": {},
     "output_type": "execute_result"
    }
   ],
   "source": [
    "len(y_val)"
   ]
  },
  {
   "cell_type": "code",
   "execution_count": 13,
   "metadata": {},
   "outputs": [],
   "source": [
    "#kernelから取ってきたパラメータ\n",
    "params = {\n",
    "        \"objective\" : \"poisson\",\n",
    "        #\"metric\" :[\"custom\", \"rmse\"],\n",
    "        \"metric\" : \"rmse\",\n",
    "        \"force_row_wise\" : True,\n",
    "        \"learning_rate\" : 0.075,\n",
    "        \"sub_row\" : 0.75,\n",
    "        \"bagging_freq\" : 1,\n",
    "        \"lambda_l2\" : 0.1,\n",
    "        \"nthread\" : 2,\n",
    "        'verbosity': 1,\n",
    "        'num_iterations' : 1200,\n",
    "        'num_leaves': 128,\n",
    "        \"min_data_in_leaf\": 100,\n",
    "        \"random_state\": 32,\n",
    "}"
   ]
  },
  {
   "cell_type": "code",
   "execution_count": 14,
   "metadata": {},
   "outputs": [],
   "source": [
    "params ={\n",
    "            'boosting_type': 'gbdt',\n",
    "            'objective': 'tweedie',\n",
    "            'tweedie_variance_power': 1.1,\n",
    "            'metric':[\"custom\", \"rmse\"],\n",
    "            'subsample': 0.5,\n",
    "            'subsample_freq': 1,\n",
    "            'learning_rate': 0.03,\n",
    "            'num_leaves': 2**11-1,\n",
    "            'min_data_in_leaf': 2**12-1,\n",
    "            'feature_fraction': 0.5,\n",
    "            'max_bin': 100,\n",
    "            'n_estimators': 1400,\n",
    "            'boost_from_average': False,\n",
    "            'verbose': -1,\n",
    "         } "
   ]
  },
  {
   "cell_type": "code",
   "execution_count": 15,
   "metadata": {},
   "outputs": [
    {
     "name": "stderr",
     "output_type": "stream",
     "text": [
      "C:\\Users\\minih\\anaconda3\\lib\\site-packages\\lightgbm\\engine.py:148: UserWarning: Found `n_estimators` in params. Will use it instead of argument\n",
      "  warnings.warn(\"Found `{}` in params. Will use it instead of argument\".format(alias))\n",
      "C:\\Users\\minih\\anaconda3\\lib\\site-packages\\lightgbm\\basic.py:1295: UserWarning: categorical_feature in Dataset is overridden.\n",
      "New categorical_feature is ['cat_id', 'dept_id', 'event_name_1', 'event_name_2', 'item_id', 'store_id']\n",
      "  'New categorical_feature is {}'.format(sorted(list(categorical_feature))))\n"
     ]
    },
    {
     "name": "stdout",
     "output_type": "stream",
     "text": [
      "Training until validation scores don't improve for 50 rounds\n",
      "[20]\ttraining's rmse: 2.88122\tvalid_1's rmse: 3.23662\n",
      "[40]\ttraining's rmse: 2.54874\tvalid_1's rmse: 2.79553\n",
      "[60]\ttraining's rmse: 2.40903\tvalid_1's rmse: 2.59185\n",
      "[80]\ttraining's rmse: 2.34855\tvalid_1's rmse: 2.49882\n",
      "[100]\ttraining's rmse: 2.31784\tvalid_1's rmse: 2.45582\n",
      "[120]\ttraining's rmse: 2.29686\tvalid_1's rmse: 2.4321\n",
      "[140]\ttraining's rmse: 2.28001\tvalid_1's rmse: 2.42198\n",
      "[160]\ttraining's rmse: 2.26411\tvalid_1's rmse: 2.41222\n",
      "[180]\ttraining's rmse: 2.25292\tvalid_1's rmse: 2.40639\n",
      "[200]\ttraining's rmse: 2.24235\tvalid_1's rmse: 2.40138\n",
      "[220]\ttraining's rmse: 2.23398\tvalid_1's rmse: 2.39484\n",
      "[240]\ttraining's rmse: 2.22507\tvalid_1's rmse: 2.39217\n",
      "[260]\ttraining's rmse: 2.21706\tvalid_1's rmse: 2.38756\n",
      "[280]\ttraining's rmse: 2.20954\tvalid_1's rmse: 2.38632\n",
      "[300]\ttraining's rmse: 2.20385\tvalid_1's rmse: 2.38586\n",
      "[320]\ttraining's rmse: 2.19769\tvalid_1's rmse: 2.38474\n",
      "[340]\ttraining's rmse: 2.19187\tvalid_1's rmse: 2.38456\n",
      "[360]\ttraining's rmse: 2.18562\tvalid_1's rmse: 2.38376\n",
      "[380]\ttraining's rmse: 2.18082\tvalid_1's rmse: 2.38249\n",
      "[400]\ttraining's rmse: 2.17535\tvalid_1's rmse: 2.38194\n",
      "[420]\ttraining's rmse: 2.17092\tvalid_1's rmse: 2.38107\n",
      "[440]\ttraining's rmse: 2.16563\tvalid_1's rmse: 2.37901\n",
      "[460]\ttraining's rmse: 2.16195\tvalid_1's rmse: 2.37935\n",
      "[480]\ttraining's rmse: 2.15809\tvalid_1's rmse: 2.37834\n",
      "[500]\ttraining's rmse: 2.1535\tvalid_1's rmse: 2.37589\n",
      "[520]\ttraining's rmse: 2.14862\tvalid_1's rmse: 2.37508\n",
      "[540]\ttraining's rmse: 2.14413\tvalid_1's rmse: 2.37454\n",
      "[560]\ttraining's rmse: 2.14063\tvalid_1's rmse: 2.37486\n",
      "[580]\ttraining's rmse: 2.13668\tvalid_1's rmse: 2.37172\n",
      "[600]\ttraining's rmse: 2.13188\tvalid_1's rmse: 2.37073\n",
      "[620]\ttraining's rmse: 2.12777\tvalid_1's rmse: 2.37159\n",
      "[640]\ttraining's rmse: 2.12488\tvalid_1's rmse: 2.37\n",
      "[660]\ttraining's rmse: 2.12101\tvalid_1's rmse: 2.37018\n",
      "[680]\ttraining's rmse: 2.11784\tvalid_1's rmse: 2.36874\n",
      "[700]\ttraining's rmse: 2.11412\tvalid_1's rmse: 2.36782\n",
      "[720]\ttraining's rmse: 2.10906\tvalid_1's rmse: 2.36564\n",
      "[740]\ttraining's rmse: 2.1054\tvalid_1's rmse: 2.36447\n",
      "[760]\ttraining's rmse: 2.10237\tvalid_1's rmse: 2.36402\n",
      "[780]\ttraining's rmse: 2.09866\tvalid_1's rmse: 2.36109\n",
      "[800]\ttraining's rmse: 2.09474\tvalid_1's rmse: 2.35877\n",
      "[820]\ttraining's rmse: 2.09225\tvalid_1's rmse: 2.35762\n",
      "[840]\ttraining's rmse: 2.08917\tvalid_1's rmse: 2.356\n",
      "[860]\ttraining's rmse: 2.08693\tvalid_1's rmse: 2.35662\n",
      "[880]\ttraining's rmse: 2.08381\tvalid_1's rmse: 2.35463\n",
      "[900]\ttraining's rmse: 2.08156\tvalid_1's rmse: 2.35455\n",
      "[920]\ttraining's rmse: 2.07917\tvalid_1's rmse: 2.35399\n",
      "[940]\ttraining's rmse: 2.07661\tvalid_1's rmse: 2.35386\n",
      "[960]\ttraining's rmse: 2.0745\tvalid_1's rmse: 2.35346\n",
      "[980]\ttraining's rmse: 2.07145\tvalid_1's rmse: 2.35263\n",
      "[1000]\ttraining's rmse: 2.06843\tvalid_1's rmse: 2.35155\n",
      "[1020]\ttraining's rmse: 2.06653\tvalid_1's rmse: 2.35065\n",
      "[1040]\ttraining's rmse: 2.06394\tvalid_1's rmse: 2.3497\n",
      "[1060]\ttraining's rmse: 2.06181\tvalid_1's rmse: 2.34911\n",
      "[1080]\ttraining's rmse: 2.05944\tvalid_1's rmse: 2.34873\n",
      "[1100]\ttraining's rmse: 2.05739\tvalid_1's rmse: 2.34773\n",
      "[1120]\ttraining's rmse: 2.05493\tvalid_1's rmse: 2.34814\n",
      "[1140]\ttraining's rmse: 2.05262\tvalid_1's rmse: 2.34616\n",
      "[1160]\ttraining's rmse: 2.04998\tvalid_1's rmse: 2.3451\n",
      "[1180]\ttraining's rmse: 2.04756\tvalid_1's rmse: 2.34556\n",
      "[1200]\ttraining's rmse: 2.04541\tvalid_1's rmse: 2.34435\n",
      "[1220]\ttraining's rmse: 2.04275\tvalid_1's rmse: 2.34311\n",
      "[1240]\ttraining's rmse: 2.04095\tvalid_1's rmse: 2.34302\n",
      "[1260]\ttraining's rmse: 2.03855\tvalid_1's rmse: 2.34038\n",
      "[1280]\ttraining's rmse: 2.03664\tvalid_1's rmse: 2.34054\n",
      "[1300]\ttraining's rmse: 2.03445\tvalid_1's rmse: 2.34089\n",
      "Early stopping, best iteration is:\n",
      "[1262]\ttraining's rmse: 2.03823\tvalid_1's rmse: 2.34015\n"
     ]
    }
   ],
   "source": [
    "#訓練\n",
    "model = lgb.train(params, train_set, early_stopping_rounds = 50,\n",
    "        valid_sets = [train_set, val_set], categorical_feature = [\"item_id\",\"dept_id\",\"cat_id\",\"store_id\",\"event_name_1\",\"event_name_2\"], verbose_eval = 20)\n",
    "#valid_sets = [train_set, val_set], categorical_feature = [\"item_id\",\"dept_id\",\"cat_id\",\"store_id\",\"state_id\",\"event_name_1\",\"event_name_2\"], verbose_eval = 50, feval= wrmsse)\n",
    "#カテゴリ変数は、エンコードしたかに関わらず明示しておいた方が良さそう"
   ]
  },
  {
   "cell_type": "code",
   "execution_count": 20,
   "metadata": {},
   "outputs": [
    {
     "name": "stderr",
     "output_type": "stream",
     "text": [
      "C:\\Users\\minih\\anaconda3\\lib\\site-packages\\lightgbm\\engine.py:148: UserWarning: Found `num_iterations` in params. Will use it instead of argument\n",
      "  warnings.warn(\"Found `{}` in params. Will use it instead of argument\".format(alias))\n",
      "C:\\Users\\minih\\anaconda3\\lib\\site-packages\\lightgbm\\basic.py:1295: UserWarning: categorical_feature in Dataset is overridden.\n",
      "New categorical_feature is ['cat_id', 'dept_id', 'event_name_1', 'event_name_2', 'item_id', 'store_id']\n",
      "  'New categorical_feature is {}'.format(sorted(list(categorical_feature))))\n"
     ]
    },
    {
     "name": "stdout",
     "output_type": "stream",
     "text": [
      "Training until validation scores don't improve for 50 rounds\n",
      "[20]\ttraining's rmse: 2.54398\tvalid_1's rmse: 2.81707\n",
      "[40]\ttraining's rmse: 2.30542\tvalid_1's rmse: 2.51124\n",
      "[60]\ttraining's rmse: 2.23373\tvalid_1's rmse: 2.42397\n",
      "[80]\ttraining's rmse: 2.20208\tvalid_1's rmse: 2.3924\n",
      "[100]\ttraining's rmse: 2.17805\tvalid_1's rmse: 2.37841\n",
      "[120]\ttraining's rmse: 2.15921\tvalid_1's rmse: 2.37474\n",
      "[140]\ttraining's rmse: 2.14365\tvalid_1's rmse: 2.37282\n",
      "[160]\ttraining's rmse: 2.12825\tvalid_1's rmse: 2.37078\n",
      "[180]\ttraining's rmse: 2.11388\tvalid_1's rmse: 2.36786\n",
      "[200]\ttraining's rmse: 2.10445\tvalid_1's rmse: 2.36858\n",
      "[220]\ttraining's rmse: 2.0941\tvalid_1's rmse: 2.36876\n",
      "Early stopping, best iteration is:\n",
      "[177]\ttraining's rmse: 2.11518\tvalid_1's rmse: 2.36761\n"
     ]
    }
   ],
   "source": [
    "#訓練\n",
    "model = lgb.train(params, train_set, early_stopping_rounds = 50,\n",
    "        valid_sets = [train_set, val_set], categorical_feature = [\"item_id\",\"dept_id\",\"cat_id\",\"store_id\",\"event_name_1\",\"event_name_2\"], verbose_eval = 20)\n",
    "#valid_sets = [train_set, val_set], categorical_feature = [\"item_id\",\"dept_id\",\"cat_id\",\"store_id\",\"state_id\",\"event_name_1\",\"event_name_2\"], verbose_eval = 50, feval= wrmsse)\n",
    "#カテゴリ変数は、エンコードしたかに関わらず明示しておいた方が良さそう"
   ]
  },
  {
   "cell_type": "code",
   "execution_count": 16,
   "metadata": {},
   "outputs": [],
   "source": [
    "#いちおうR値でも精度を検証\n",
    "#予測\n",
    "val_pred = model.predict(x_val[features])"
   ]
  },
  {
   "cell_type": "code",
   "execution_count": 22,
   "metadata": {},
   "outputs": [
    {
     "data": {
      "text/plain": [
       "0.3583914739219831"
      ]
     },
     "execution_count": 22,
     "metadata": {},
     "output_type": "execute_result"
    }
   ],
   "source": [
    "r2_score(val_pred,y_val)"
   ]
  },
  {
   "cell_type": "code",
   "execution_count": 17,
   "metadata": {},
   "outputs": [
    {
     "data": {
      "text/plain": [
       "0.343283558706574"
      ]
     },
     "execution_count": 17,
     "metadata": {},
     "output_type": "execute_result"
    }
   ],
   "source": [
    "r2_score(val_pred,y_val)"
   ]
  },
  {
   "cell_type": "code",
   "execution_count": 23,
   "metadata": {
    "scrolled": true
   },
   "outputs": [
    {
     "name": "stderr",
     "output_type": "stream",
     "text": [
      "No handles with labels found to put in legend.\n"
     ]
    },
    {
     "data": {
      "text/plain": [
       "<matplotlib.legend.Legend at 0x259014d0548>"
      ]
     },
     "execution_count": 23,
     "metadata": {},
     "output_type": "execute_result"
    },
    {
     "data": {
      "image/png": "[encoded data removed]",
      "text/plain": [
       "<Figure size 432x288 with 1 Axes>"
      ]
     },
     "metadata": {
      "needs_background": "light"
     },
     "output_type": "display_data"
    }
   ],
   "source": [
    "#R値グラフの表示\n",
    "max_val = np.max(val_pred)\n",
    "if max_val < np.max(y_val):\n",
    "    max_val = np.max(y_val)\n",
    "\n",
    "plt.scatter(val_pred,y_val)\n",
    "plt.plot(np.arange(0,max_val),np.arange(0,max_val),color='red')\n",
    "plt.xlabel(\"predict\")\n",
    "plt.ylabel(\"real\")\n",
    "plt.legend()"
   ]
  },
  {
   "cell_type": "code",
   "execution_count": 18,
   "metadata": {},
   "outputs": [],
   "source": [
    "import pickle"
   ]
  },
  {
   "cell_type": "code",
   "execution_count": 19,
   "metadata": {},
   "outputs": [],
   "source": [
    "with open('lgb_WI.pickle', mode='wb') as fp:\n",
    "         pickle.dump(model, fp)"
   ]
  },
  {
   "cell_type": "code",
   "execution_count": null,
   "metadata": {},
   "outputs": [],
   "source": []
  },
  {
   "cell_type": "code",
   "execution_count": null,
   "metadata": {},
   "outputs": [],
   "source": []
  },
  {
   "cell_type": "code",
   "execution_count": 28,
   "metadata": {
    "scrolled": true
   },
   "outputs": [],
   "source": [
    "#テストデータを用いて予測\n",
    "y_pred = model.predict(test[features])\n",
    "test['demand'] = y_pred"
   ]
  },
  {
   "cell_type": "code",
   "execution_count": 36,
   "metadata": {},
   "outputs": [
    {
     "data": {
      "text/plain": [
       "Index(['id', 'item_id', 'dept_id', 'cat_id', 'store_id', 'state_id', 'd',\n",
       "       'sell_num', 'date', 'event_name_1', 'event_type_1', 'event_name_2',\n",
       "       'event_type_2', 'snap_CA', 'snap_TX', 'snap_WI', 'sell_price',\n",
       "       'prev_28', 'prev_29', 'prev_35', 'prev_182', 'prev_365', 'p_prev_1',\n",
       "       'rolling_mean_t7', 'rolling_mean_t30', 'rolling_mean_t60',\n",
       "       'rolling_mean_t90', 'rolling_mean_t180', 'price_change_t1',\n",
       "       'rolling_price_max_t365', 'price_change_t365', 'rolling_price_std_t7',\n",
       "       'rolling_price_std_t30', 'year', 'quarter', 'month', 'week', 'day',\n",
       "       'dayofweek', 'is_year_end', 'is_year_start', 'is_quarter_end',\n",
       "       'is_quarter_start', 'is_month_end', 'is_month_start', 'is_weekend',\n",
       "       'demand'],\n",
       "      dtype='object')"
      ]
     },
     "execution_count": 36,
     "metadata": {},
     "output_type": "execute_result"
    }
   ],
   "source": [
    "test.columns"
   ]
  },
  {
   "cell_type": "code",
   "execution_count": 37,
   "metadata": {},
   "outputs": [
    {
     "data": {
      "text/plain": [
       "853720"
      ]
     },
     "execution_count": 37,
     "metadata": {},
     "output_type": "execute_result"
    }
   ],
   "source": [
    "len(y_pred)"
   ]
  },
  {
   "cell_type": "code",
   "execution_count": 29,
   "metadata": {},
   "outputs": [
    {
     "data": {
      "text/plain": [
       "array([0.31996888, 0.32944861, 0.32944861, ..., 0.09276033, 0.1016068 ,\n",
       "       0.09991039])"
      ]
     },
     "execution_count": 29,
     "metadata": {},
     "output_type": "execute_result"
    }
   ],
   "source": [
    "val_pred"
   ]
  },
  {
   "cell_type": "code",
   "execution_count": 30,
   "metadata": {},
   "outputs": [],
   "source": [
    "result = pd.DataFrame(val_pred,columns=[\"valid\"])\n",
    "result[\"predict\"] = y_pred"
   ]
  },
  {
   "cell_type": "code",
   "execution_count": 31,
   "metadata": {},
   "outputs": [],
   "source": [
    "result.to_csv(\"result_lgb_WI.csv\")"
   ]
  },
  {
   "cell_type": "code",
   "execution_count": null,
   "metadata": {},
   "outputs": [],
   "source": []
  },
  {
   "cell_type": "code",
   "execution_count": null,
   "metadata": {},
   "outputs": [],
   "source": []
  },
  {
   "cell_type": "code",
   "execution_count": 41,
   "metadata": {},
   "outputs": [],
   "source": [
    "#提出用ファイルを読み込む\n",
    "submission = pd.read_csv('sample_submission.csv')"
   ]
  },
  {
   "cell_type": "code",
   "execution_count": 33,
   "metadata": {},
   "outputs": [
    {
     "data": {
      "text/plain": [
       "558       2016-04-25\n",
       "559       2016-04-26\n",
       "560       2016-04-27\n",
       "561       2016-04-28\n",
       "562       2016-04-29\n",
       "             ...    \n",
       "2668524   2016-05-18\n",
       "2668525   2016-05-19\n",
       "2668526   2016-05-20\n",
       "2668527   2016-05-21\n",
       "2668528   2016-05-22\n",
       "Name: date, Length: 853720, dtype: datetime64[ns]"
      ]
     },
     "execution_count": 33,
     "metadata": {},
     "output_type": "execute_result"
    }
   ],
   "source": [
    "test[\"date\"]"
   ]
  },
  {
   "cell_type": "code",
   "execution_count": 42,
   "metadata": {},
   "outputs": [],
   "source": [
    "#予測値を提出用ファイルに整形\n",
    "predictions = test[['id', 'date', 'demand']]\n",
    "predictions = pd.pivot(predictions, index = 'id', columns = 'date', values = 'demand').reset_index()\n",
    "predictions.columns = ['id'] + ['F' + str(i + 1) for i in range(28)]\n",
    "\n",
    "evaluation_rows = [row for row in submission['id'] if 'evaluation' in row] \n",
    "evaluation = submission[submission['id'].isin(evaluation_rows)]\n",
    "\n",
    "validation = submission[['id']].merge(predictions, on = 'id')\n",
    "final = pd.concat([validation, evaluation])"
   ]
  },
  {
   "cell_type": "code",
   "execution_count": 43,
   "metadata": {},
   "outputs": [],
   "source": [
    "#finalが提出形式のdfなので、これをto_csvする\n",
    "final.to_csv('create3.csv', index = False)"
   ]
  }
 ],
 "metadata": {
  "kernelspec": {
   "display_name": "Python 3",
   "language": "python",
   "name": "python3"
  },
  "language_info": {
   "codemirror_mode": {
    "name": "ipython",
    "version": 3
   },
   "file_extension": ".py",
   "mimetype": "text/x-python",
   "name": "python",
   "nbconvert_exporter": "python",
   "pygments_lexer": "ipython3",
   "version": "3.7.7"
  }
 },
 "nbformat": 4,
 "nbformat_minor": 4
}
