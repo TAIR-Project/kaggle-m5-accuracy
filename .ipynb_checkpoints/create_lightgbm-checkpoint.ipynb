{
 "cells": [
  {
   "cell_type": "code",
   "execution_count": null,
   "metadata": {},
   "outputs": [],
   "source": [
    "import numpy as np\n",
    "import pandas as pd\n",
    "import matplotlib.pyplot as plt\n",
    "\n",
    "import lightgbm as lgb\n",
    "from sklearn import preprocessing, metrics\n",
    "from sklearn.metrics import r2_score\n",
    "from sklearn.preprocessing import LabelEncoder\n",
    "import gc\n",
    "from tqdm import tqdm\n",
    "from scipy.sparse import csr_matrix\n",
    "from  datetime import datetime, timedelta"
   ]
  },
  {
   "cell_type": "code",
   "execution_count": null,
   "metadata": {},
   "outputs": [],
   "source": [
    "#時系列特徴を追加した後の整然ファイルをここで読み込み(固有IDの順番に注意)\n",
    "#data = pd.read_pickle(\"\")\n",
    "#data = pd.read_csv(\"\")"
   ]
  },
  {
   "cell_type": "code",
   "execution_count": null,
   "metadata": {},
   "outputs": [],
   "source": [
    "check_feature=[]"
   ]
  },
  {
   "cell_type": "code",
   "execution_count": null,
   "metadata": {},
   "outputs": [],
   "source": [
    "#dataの時系列特徴列(prev_〇など)をみてnanを含むデータ削除する\n",
    "data.dropna(subset=check_feature,inplace=True)"
   ]
  },
  {
   "cell_type": "code",
   "execution_count": null,
   "metadata": {},
   "outputs": [],
   "source": [
    "#訓練,検証,テストに分割(訓練-検証28日-テスト28日の並びで取得)\n",
    "x_train = data[data['date'] <= '2016-03-27']\n",
    "y_train = x_train['sell_num']\n",
    "x_val = data[(data['date'] > '2016-03-27') & (data['date'] <= '2016-04-24')]\n",
    "y_val = x_val['sell_num']\n",
    "test = data[(data['date'] > '2016-04-24')]"
   ]
  },
  {
   "cell_type": "code",
   "execution_count": null,
   "metadata": {},
   "outputs": [],
   "source": [
    "features = [\n",
    "   #訓練に用いる特徴量をここに記述\n",
    "]\n",
    "\n",
    "train_set = lgb.Dataset(x_train[features], y_train)\n",
    "val_set = lgb.Dataset(x_val[features], y_val)\n",
    "\n",
    "del x_train, y_train"
   ]
  },
  {
   "cell_type": "code",
   "execution_count": null,
   "metadata": {},
   "outputs": [],
   "source": [
    "#kernelから取ってきたパラメータ\n",
    "params = {\n",
    "        \"objective\" : \"poisson\",\n",
    "        \"metric\" :\"custom\",\n",
    "        \"force_row_wise\" : True,\n",
    "        \"learning_rate\" : 0.075,\n",
    "        \"sub_row\" : 0.75,\n",
    "        \"bagging_freq\" : 1,\n",
    "        \"lambda_l2\" : 0.1,\n",
    "#         \"nthread\" : 4\n",
    "    'verbosity': 1,\n",
    "    'num_iterations' : 1200,\n",
    "    'num_leaves': 128,\n",
    "    \"min_data_in_leaf\": 100,\n",
    "}"
   ]
  },
  {
   "cell_type": "code",
   "execution_count": null,
   "metadata": {},
   "outputs": [],
   "source": [
    "#WRMSSEの計算用(kernelより)\n",
    "\n",
    "NUM_ITEMS = 30490\n",
    "DAYS_PRED = 28\n",
    "\n",
    "weight_mat = np.c_[np.ones([NUM_ITEMS,1]).astype(np.int8), # level 1\n",
    "                   pd.get_dummies(product.state_id.astype(str),drop_first=False).astype('int8').values,\n",
    "                   pd.get_dummies(product.store_id.astype(str),drop_first=False).astype('int8').values,\n",
    "                   pd.get_dummies(product.cat_id.astype(str),drop_first=False).astype('int8').values,\n",
    "                   pd.get_dummies(product.dept_id.astype(str),drop_first=False).astype('int8').values,\n",
    "                   pd.get_dummies(product.state_id.astype(str) + product.cat_id.astype(str),drop_first=False).astype('int8').values,\n",
    "                   pd.get_dummies(product.state_id.astype(str) + product.dept_id.astype(str),drop_first=False).astype('int8').values,\n",
    "                   pd.get_dummies(product.store_id.astype(str) + product.cat_id.astype(str),drop_first=False).astype('int8').values,\n",
    "                   pd.get_dummies(product.store_id.astype(str) + product.dept_id.astype(str),drop_first=False).astype('int8').values,\n",
    "                   pd.get_dummies(product.item_id.astype(str),drop_first=False).astype('int8').values,\n",
    "                   pd.get_dummies(product.state_id.astype(str) + product.item_id.astype(str),drop_first=False).astype('int8').values,\n",
    "                   np.identity(NUM_ITEMS).astype(np.int8) #item :level 12\n",
    "                   ].T\n",
    "\n",
    "weight_mat_csr = csr_matrix(weight_mat)\n",
    "del weight_mat; gc.collect()\n",
    "\n",
    "def weight_calc(data,product):\n",
    "    \n",
    "    # calculate the denominator of RMSSE, and calculate the weight base on sales amount\n",
    "\n",
    "    sales_train_val = pd.read_csv('sales_train_validation.csv')\n",
    "\n",
    "    d_name = ['d_' + str(i+1) for i in range(1913)]\n",
    "\n",
    "    sales_train_val = weight_mat_csr * sales_train_val[d_name].values\n",
    "\n",
    "    # calculate the start position(first non-zero demand observed date) for each item / 商品の最初の売上日\n",
    "    # 1-1914のdayの数列のうち, 売上が存在しない日を一旦0にし、0を9999に置換。そのうえでminimum numberを計算\n",
    "    df_tmp = ((sales_train_val>0) * np.tile(np.arange(1,1914),(weight_mat_csr.shape[0],1)))\n",
    "\n",
    "    start_no = np.min(np.where(df_tmp==0,9999,df_tmp),axis=1)-1\n",
    "\n",
    "    flag = np.dot(np.diag(1/(start_no+1)) , np.tile(np.arange(1,1914),(weight_mat_csr.shape[0],1)))<1\n",
    "\n",
    "    sales_train_val = np.where(flag,np.nan,sales_train_val)\n",
    "\n",
    "    # denominator of RMSSE / RMSSEの分母\n",
    "    weight1 = np.nansum(np.diff(sales_train_val,axis=1)**2,axis=1)/(1913-start_no)\n",
    "\n",
    "    # calculate the sales amount for each item/level\n",
    "    df_tmp = data[(data['date'] > '2016-03-27') & (data['date'] <= '2016-04-24')]\n",
    "    df_tmp['sell_num'] = df_tmp['sell_num'] * df_tmp['sell_price']\n",
    "    df_tmp =df_tmp.groupby(['id'])['sell_num'].apply(np.sum)\n",
    "    df_tmp = df_tmp[product.id].values\n",
    "    \n",
    "    weight2 = weight_mat_csr * df_tmp \n",
    "\n",
    "    weight2 = weight2/np.sum(weight2)\n",
    "\n",
    "    del sales_train_val\n",
    "    gc.collect()\n",
    "    \n",
    "    return weight1, weight2\n",
    "\n",
    "weight1, weight2 = weight_calc(data,product)\n",
    "\n",
    "def wrmsse(preds, data):\n",
    "    \n",
    "    # this function is calculate for last 28 days to consider the non-zero demand period\n",
    "    \n",
    "    # actual obserbed values / 正解ラベル\n",
    "    y_true = data.get_label()\n",
    "    \n",
    "    y_true = y_true[-(NUM_ITEMS * DAYS_PRED):]\n",
    "    preds = preds[-(NUM_ITEMS * DAYS_PRED):]\n",
    "    # number of columns\n",
    "    num_col = DAYS_PRED\n",
    "    \n",
    "    # reshape data to original array((NUM_ITEMS*num_col,1)->(NUM_ITEMS, num_col) ) / 推論の結果が 1 次元の配列になっているので直す\n",
    "    reshaped_preds = preds.reshape(num_col, NUM_ITEMS).T\n",
    "    reshaped_true = y_true.reshape(num_col, NUM_ITEMS).T\n",
    "    \n",
    "          \n",
    "    train = weight_mat_csr*np.c_[reshaped_preds, reshaped_true]\n",
    "    \n",
    "    score = np.sum(\n",
    "                np.sqrt(\n",
    "                    np.mean(\n",
    "                        np.square(\n",
    "                            train[:,:num_col] - train[:,num_col:])\n",
    "                        ,axis=1) / weight1) * weight2)\n",
    "    \n",
    "    return 'wrmsse', score, False\n",
    "\n",
    "def wrmsse_simple(preds, data):\n",
    "    \n",
    "    # actual obserbed values / 正解ラベル\n",
    "    y_true = data.get_label()\n",
    "    \n",
    "    y_true = y_true[-(NUM_ITEMS * DAYS_PRED):]\n",
    "    preds = preds[-(NUM_ITEMS * DAYS_PRED):]\n",
    "    # number of columns\n",
    "    num_col = DAYS_PRED\n",
    "    \n",
    "    # reshape data to original array((NUM_ITEMS*num_col,1)->(NUM_ITEMS, num_col) ) / 推論の結果が 1 次元の配列になっているので直す\n",
    "    reshaped_preds = preds.reshape(num_col, NUM_ITEMS).T\n",
    "    reshaped_true = y_true.reshape(num_col, NUM_ITEMS).T\n",
    "          \n",
    "    train = np.c_[reshaped_preds, reshaped_true]\n",
    "    \n",
    "    weight2_2 = weight2[:NUM_ITEMS]\n",
    "    weight2_2 = weight2_2/np.sum(weight2_2)\n",
    "    \n",
    "    score = np.sum(\n",
    "                np.sqrt(\n",
    "                    np.mean(\n",
    "                        np.square(\n",
    "                            train[:,:num_col] - train[:,num_col:])\n",
    "                        ,axis=1) /  weight1[:NUM_ITEMS])*weight2_2)\n",
    "    \n",
    "    return 'wrmsse', score, False"
   ]
  },
  {
   "cell_type": "code",
   "execution_count": null,
   "metadata": {},
   "outputs": [],
   "source": [
    "#訓練\n",
    "model = lgb.train(params, train_set, early_stopping_rounds = 50,\n",
    "                  valid_sets = [train_set, val_set], categorical_feature = [\"item_id\",\"dept_id\",\"cat_id\",\"store_id\",\"state_id\"], verbose_eval = 100, feval= wrmsse)\n",
    "#カテゴリ変数は、エンコードしたかに関わらず明示しておいた方が良さそう"
   ]
  },
  {
   "cell_type": "code",
   "execution_count": null,
   "metadata": {},
   "outputs": [],
   "source": [
    "#いちおうR値でも精度を検証\n",
    "#予測\n",
    "val_pred = model.predict(x_val[features])"
   ]
  },
  {
   "cell_type": "code",
   "execution_count": null,
   "metadata": {},
   "outputs": [],
   "source": [
    "#R値\n",
    "r2_score(val_pred,y_val)"
   ]
  },
  {
   "cell_type": "code",
   "execution_count": null,
   "metadata": {},
   "outputs": [],
   "source": [
    "#R値グラフの表示\n",
    "max_val = np.max(y_pred)\n",
    "if max_val < np.max(y_val):\n",
    "    max_val = np.max(y_val)\n",
    "\n",
    "plt.scatter(y_pred,y_val)\n",
    "plt.plot(np.arange(0,max_val),np.arange(0,max_val),color='red')\n",
    "plt.xlabel(\"predict\")\n",
    "plt.ylabel(\"real\")\n",
    "plt.legend()"
   ]
  },
  {
   "cell_type": "code",
   "execution_count": null,
   "metadata": {},
   "outputs": [],
   "source": [
    "#テストデータを用いて予測\n",
    "y_pred = model.predict(test[features])\n",
    "test['demand'] = y_pred"
   ]
  },
  {
   "cell_type": "code",
   "execution_count": null,
   "metadata": {},
   "outputs": [],
   "source": [
    "#提出用ファイルを読み込む\n",
    "submission = pd.read_csv('sample_submission.csv')"
   ]
  },
  {
   "cell_type": "code",
   "execution_count": null,
   "metadata": {},
   "outputs": [],
   "source": [
    "#予測値を提出用ファイルに整形\n",
    "predictions = test[['id', 'date', 'demand']]\n",
    "predictions = pd.pivot(predictions, index = 'id', columns = 'date', values = 'demand').reset_index()\n",
    "predictions.columns = ['id'] + ['F' + str(i + 1) for i in range(28)]\n",
    "\n",
    "evaluation_rows = [row for row in submission['id'] if 'evaluation' in row] \n",
    "evaluation = submission[submission['id'].isin(evaluation_rows)]\n",
    "\n",
    "validation = submission[['id']].merge(predictions, on = 'id')\n",
    "final = pd.concat([validation, evaluation])"
   ]
  },
  {
   "cell_type": "code",
   "execution_count": null,
   "metadata": {},
   "outputs": [],
   "source": [
    "#finalが提出形式のdfなので、これをto_csvする\n",
    "final.to_csv('hoge.csv', index = False)"
   ]
  }
 ],
 "metadata": {
  "kernelspec": {
   "display_name": "Python 3",
   "language": "python",
   "name": "python3"
  },
  "language_info": {
   "codemirror_mode": {
    "name": "ipython",
    "version": 3
   },
   "file_extension": ".py",
   "mimetype": "text/x-python",
   "name": "python",
   "nbconvert_exporter": "python",
   "pygments_lexer": "ipython3",
   "version": "3.7.6"
  }
 },
 "nbformat": 4,
 "nbformat_minor": 4
}
