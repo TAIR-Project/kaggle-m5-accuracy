{
 "cells": [
  {
   "cell_type": "code",
   "execution_count": 1,
   "metadata": {},
   "outputs": [],
   "source": [
    "import numpy as np\n",
    "import pandas as pd\n",
    "import matplotlib.pyplot as plt\n",
    "\n",
    "import lightgbm as lgb\n",
    "from sklearn import preprocessing, metrics\n",
    "from sklearn.metrics import r2_score\n",
    "from sklearn.preprocessing import LabelEncoder\n",
    "import gc\n",
    "from tqdm import tqdm\n",
    "from scipy.sparse import csr_matrix\n",
    "from  datetime import datetime, timedelta"
   ]
  },
  {
   "cell_type": "code",
   "execution_count": 2,
   "metadata": {},
   "outputs": [
    {
     "name": "stdout",
     "output_type": "stream",
     "text": [
      "C:\\Users\\minih\\python_prac1\\m5\\git-repository\\kaggle-m5-accuracy-library\\library\n"
     ]
    }
   ],
   "source": [
    "cd C:\\Users\\minih\\python_prac1\\m5\\git-repository\\kaggle-m5-accuracy-library\\library"
   ]
  },
  {
   "cell_type": "code",
   "execution_count": 3,
   "metadata": {},
   "outputs": [],
   "source": [
    "from patair import reduce_mem_usage"
   ]
  },
  {
   "cell_type": "code",
   "execution_count": 4,
   "metadata": {
    "scrolled": true
   },
   "outputs": [
    {
     "name": "stdout",
     "output_type": "stream",
     "text": [
      "C:\\Users\\minih\\python_prac1\\library\\m5\n"
     ]
    }
   ],
   "source": [
    "cd C:\\Users\\minih\\python_prac1\\library\\m5"
   ]
  },
  {
   "cell_type": "code",
   "execution_count": 5,
   "metadata": {},
   "outputs": [],
   "source": [
    "def encode_categorical(df, cols):\n",
    "    \n",
    "    for col in cols:\n",
    "        # Leave NaN as it is.\n",
    "        le = LabelEncoder()\n",
    "        #not_null = df[col][df[col].notnull()]\n",
    "        df[col] = df[col].fillna('nan')\n",
    "        df[col] = pd.Series(le.fit_transform(df[col]), index=df.index)\n",
    "\n",
    "    return df\n",
    "\n",
    "\n",
    "#calendar = encode_categorical(\n",
    " #   calendar, [\"event_name_1\", \"event_type_1\", \"event_name_2\", \"event_type_2\"]\n",
    "#).pipe(reduce_mem_usage)"
   ]
  },
  {
   "cell_type": "code",
   "execution_count": 6,
   "metadata": {},
   "outputs": [
    {
     "name": "stdout",
     "output_type": "stream",
     "text": [
      "Mem. usage decreased to  0.64 Mb (0.0% reduction)\n"
     ]
    }
   ],
   "source": [
    "product = pd.read_pickle(\"product.pickle\").pipe(reduce_mem_usage)"
   ]
  },
  {
   "cell_type": "code",
   "execution_count": 7,
   "metadata": {},
   "outputs": [
    {
     "data": {
      "text/html": [
       "<div>\n",
       "<style scoped>\n",
       "    .dataframe tbody tr th:only-of-type {\n",
       "        vertical-align: middle;\n",
       "    }\n",
       "\n",
       "    .dataframe tbody tr th {\n",
       "        vertical-align: top;\n",
       "    }\n",
       "\n",
       "    .dataframe thead th {\n",
       "        text-align: right;\n",
       "    }\n",
       "</style>\n",
       "<table border=\"1\" class=\"dataframe\">\n",
       "  <thead>\n",
       "    <tr style=\"text-align: right;\">\n",
       "      <th></th>\n",
       "      <th>id</th>\n",
       "      <th>item_id</th>\n",
       "      <th>dept_id</th>\n",
       "      <th>cat_id</th>\n",
       "      <th>store_id</th>\n",
       "      <th>state_id</th>\n",
       "    </tr>\n",
       "  </thead>\n",
       "  <tbody>\n",
       "    <tr>\n",
       "      <th>0</th>\n",
       "      <td>HOBBIES_1_001_CA_1_validation</td>\n",
       "      <td>1437</td>\n",
       "      <td>3</td>\n",
       "      <td>1</td>\n",
       "      <td>0</td>\n",
       "      <td>0</td>\n",
       "    </tr>\n",
       "    <tr>\n",
       "      <th>1</th>\n",
       "      <td>HOBBIES_1_002_CA_1_validation</td>\n",
       "      <td>1438</td>\n",
       "      <td>3</td>\n",
       "      <td>1</td>\n",
       "      <td>0</td>\n",
       "      <td>0</td>\n",
       "    </tr>\n",
       "    <tr>\n",
       "      <th>2</th>\n",
       "      <td>HOBBIES_1_003_CA_1_validation</td>\n",
       "      <td>1439</td>\n",
       "      <td>3</td>\n",
       "      <td>1</td>\n",
       "      <td>0</td>\n",
       "      <td>0</td>\n",
       "    </tr>\n",
       "    <tr>\n",
       "      <th>3</th>\n",
       "      <td>HOBBIES_1_004_CA_1_validation</td>\n",
       "      <td>1440</td>\n",
       "      <td>3</td>\n",
       "      <td>1</td>\n",
       "      <td>0</td>\n",
       "      <td>0</td>\n",
       "    </tr>\n",
       "    <tr>\n",
       "      <th>4</th>\n",
       "      <td>HOBBIES_1_005_CA_1_validation</td>\n",
       "      <td>1441</td>\n",
       "      <td>3</td>\n",
       "      <td>1</td>\n",
       "      <td>0</td>\n",
       "      <td>0</td>\n",
       "    </tr>\n",
       "    <tr>\n",
       "      <th>...</th>\n",
       "      <td>...</td>\n",
       "      <td>...</td>\n",
       "      <td>...</td>\n",
       "      <td>...</td>\n",
       "      <td>...</td>\n",
       "      <td>...</td>\n",
       "    </tr>\n",
       "    <tr>\n",
       "      <th>30485</th>\n",
       "      <td>FOODS_3_823_WI_3_validation</td>\n",
       "      <td>1432</td>\n",
       "      <td>2</td>\n",
       "      <td>0</td>\n",
       "      <td>9</td>\n",
       "      <td>2</td>\n",
       "    </tr>\n",
       "    <tr>\n",
       "      <th>30486</th>\n",
       "      <td>FOODS_3_824_WI_3_validation</td>\n",
       "      <td>1433</td>\n",
       "      <td>2</td>\n",
       "      <td>0</td>\n",
       "      <td>9</td>\n",
       "      <td>2</td>\n",
       "    </tr>\n",
       "    <tr>\n",
       "      <th>30487</th>\n",
       "      <td>FOODS_3_825_WI_3_validation</td>\n",
       "      <td>1434</td>\n",
       "      <td>2</td>\n",
       "      <td>0</td>\n",
       "      <td>9</td>\n",
       "      <td>2</td>\n",
       "    </tr>\n",
       "    <tr>\n",
       "      <th>30488</th>\n",
       "      <td>FOODS_3_826_WI_3_validation</td>\n",
       "      <td>1435</td>\n",
       "      <td>2</td>\n",
       "      <td>0</td>\n",
       "      <td>9</td>\n",
       "      <td>2</td>\n",
       "    </tr>\n",
       "    <tr>\n",
       "      <th>30489</th>\n",
       "      <td>FOODS_3_827_WI_3_validation</td>\n",
       "      <td>1436</td>\n",
       "      <td>2</td>\n",
       "      <td>0</td>\n",
       "      <td>9</td>\n",
       "      <td>2</td>\n",
       "    </tr>\n",
       "  </tbody>\n",
       "</table>\n",
       "<p>30490 rows × 6 columns</p>\n",
       "</div>"
      ],
      "text/plain": [
       "                                  id  item_id  dept_id  cat_id  store_id  \\\n",
       "0      HOBBIES_1_001_CA_1_validation     1437        3       1         0   \n",
       "1      HOBBIES_1_002_CA_1_validation     1438        3       1         0   \n",
       "2      HOBBIES_1_003_CA_1_validation     1439        3       1         0   \n",
       "3      HOBBIES_1_004_CA_1_validation     1440        3       1         0   \n",
       "4      HOBBIES_1_005_CA_1_validation     1441        3       1         0   \n",
       "...                              ...      ...      ...     ...       ...   \n",
       "30485    FOODS_3_823_WI_3_validation     1432        2       0         9   \n",
       "30486    FOODS_3_824_WI_3_validation     1433        2       0         9   \n",
       "30487    FOODS_3_825_WI_3_validation     1434        2       0         9   \n",
       "30488    FOODS_3_826_WI_3_validation     1435        2       0         9   \n",
       "30489    FOODS_3_827_WI_3_validation     1436        2       0         9   \n",
       "\n",
       "       state_id  \n",
       "0             0  \n",
       "1             0  \n",
       "2             0  \n",
       "3             0  \n",
       "4             0  \n",
       "...         ...  \n",
       "30485         2  \n",
       "30486         2  \n",
       "30487         2  \n",
       "30488         2  \n",
       "30489         2  \n",
       "\n",
       "[30490 rows x 6 columns]"
      ]
     },
     "execution_count": 7,
     "metadata": {},
     "output_type": "execute_result"
    }
   ],
   "source": [
    "product"
   ]
  },
  {
   "cell_type": "code",
   "execution_count": 8,
   "metadata": {
    "scrolled": false
   },
   "outputs": [],
   "source": [
    "#datas = pd.DataFrame()\n",
    "#for i, file in enumerate([\"dataCA_1.pickle\", \"dataCA_2.pickle\", \"dataCA_3.pickle\", \n",
    "#            \"dataCA_4.pickle\", \"dataTX_1.pickle\", \"dataTX_2.pickle\", \n",
    "#           \"dataTX_3.pickle\", \"dataWI_1.pickle\", \"dataWI_2.pickle\", \"dataWI_3.pickle\"]):\n",
    "#    data = pd.read_pickle(file).pipe(reduce_mem_usage)\n",
    "#    data = encode_categorical(\n",
    "#        data, [\"item_id\", \"dept_id\", \"cat_id\", \"event_name_1\", \"event_name_2\"],\n",
    "#    ).pipe(reduce_mem_usage)\n",
    "#    if(file[4:6] == \"CA\"):\n",
    "#        data[\"state_id\"] = 0\n",
    "#        data = pd.merge(product[(product[\"state_id\"] == 0) & (product[\"store_id\"] == i)],data,how=\"left\")\n",
    "#    elif(file[4:6] == \"TX\"):\n",
    "#        data[\"state_id\"] = 1\n",
    "#        data = pd.merge(product[(product[\"state_id\"] == 1) & (product[\"store_id\"] == i)],data,how=\"left\")\n",
    "#    else:\n",
    "#        data[\"state_id\"] = 2\n",
    "#        data = pd.merge(product[(product[\"state_id\"] == 2) & (product[\"store_id\"] == i)],data,how=\"left\")\n",
    "#    data[\"store_id\"] = i\n",
    "#    datas = pd.concat([datas,data])"
   ]
  },
  {
   "cell_type": "code",
   "execution_count": 75,
   "metadata": {},
   "outputs": [],
   "source": [
    "datas = pd.read_pickle(\"all_sales_train_validation_translated_contain_null.pickle\")"
   ]
  },
  {
   "cell_type": "code",
   "execution_count": 8,
   "metadata": {},
   "outputs": [
    {
     "data": {
      "text/plain": [
       "(22589864, 32)"
      ]
     },
     "execution_count": 8,
     "metadata": {},
     "output_type": "execute_result"
    }
   ],
   "source": [
    "datas.shape"
   ]
  },
  {
   "cell_type": "code",
   "execution_count": null,
   "metadata": {},
   "outputs": [],
   "source": []
  },
  {
   "cell_type": "code",
   "execution_count": 8,
   "metadata": {},
   "outputs": [
    {
     "data": {
      "text/html": [
       "<div>\n",
       "<style scoped>\n",
       "    .dataframe tbody tr th:only-of-type {\n",
       "        vertical-align: middle;\n",
       "    }\n",
       "\n",
       "    .dataframe tbody tr th {\n",
       "        vertical-align: top;\n",
       "    }\n",
       "\n",
       "    .dataframe thead th {\n",
       "        text-align: right;\n",
       "    }\n",
       "</style>\n",
       "<table border=\"1\" class=\"dataframe\">\n",
       "  <thead>\n",
       "    <tr style=\"text-align: right;\">\n",
       "      <th></th>\n",
       "      <th>id</th>\n",
       "      <th>date</th>\n",
       "    </tr>\n",
       "  </thead>\n",
       "  <tbody>\n",
       "    <tr>\n",
       "      <th>22259312</th>\n",
       "      <td>FOODS_1_001_CA_1_validation</td>\n",
       "      <td>2016-04-25</td>\n",
       "    </tr>\n",
       "    <tr>\n",
       "      <th>22289802</th>\n",
       "      <td>FOODS_1_001_CA_1_validation</td>\n",
       "      <td>2016-04-26</td>\n",
       "    </tr>\n",
       "    <tr>\n",
       "      <th>22320292</th>\n",
       "      <td>FOODS_1_001_CA_1_validation</td>\n",
       "      <td>2016-04-27</td>\n",
       "    </tr>\n",
       "    <tr>\n",
       "      <th>22350782</th>\n",
       "      <td>FOODS_1_001_CA_1_validation</td>\n",
       "      <td>2016-04-28</td>\n",
       "    </tr>\n",
       "    <tr>\n",
       "      <th>22381272</th>\n",
       "      <td>FOODS_1_001_CA_1_validation</td>\n",
       "      <td>2016-04-29</td>\n",
       "    </tr>\n",
       "    <tr>\n",
       "      <th>...</th>\n",
       "      <td>...</td>\n",
       "      <td>...</td>\n",
       "    </tr>\n",
       "    <tr>\n",
       "      <th>22988022</th>\n",
       "      <td>HOUSEHOLD_2_516_WI_3_validation</td>\n",
       "      <td>2016-05-18</td>\n",
       "    </tr>\n",
       "    <tr>\n",
       "      <th>23018512</th>\n",
       "      <td>HOUSEHOLD_2_516_WI_3_validation</td>\n",
       "      <td>2016-05-19</td>\n",
       "    </tr>\n",
       "    <tr>\n",
       "      <th>23049002</th>\n",
       "      <td>HOUSEHOLD_2_516_WI_3_validation</td>\n",
       "      <td>2016-05-20</td>\n",
       "    </tr>\n",
       "    <tr>\n",
       "      <th>23079492</th>\n",
       "      <td>HOUSEHOLD_2_516_WI_3_validation</td>\n",
       "      <td>2016-05-21</td>\n",
       "    </tr>\n",
       "    <tr>\n",
       "      <th>23109982</th>\n",
       "      <td>HOUSEHOLD_2_516_WI_3_validation</td>\n",
       "      <td>2016-05-22</td>\n",
       "    </tr>\n",
       "  </tbody>\n",
       "</table>\n",
       "<p>853720 rows × 2 columns</p>\n",
       "</div>"
      ],
      "text/plain": [
       "                                       id       date\n",
       "22259312      FOODS_1_001_CA_1_validation 2016-04-25\n",
       "22289802      FOODS_1_001_CA_1_validation 2016-04-26\n",
       "22320292      FOODS_1_001_CA_1_validation 2016-04-27\n",
       "22350782      FOODS_1_001_CA_1_validation 2016-04-28\n",
       "22381272      FOODS_1_001_CA_1_validation 2016-04-29\n",
       "...                                   ...        ...\n",
       "22988022  HOUSEHOLD_2_516_WI_3_validation 2016-05-18\n",
       "23018512  HOUSEHOLD_2_516_WI_3_validation 2016-05-19\n",
       "23049002  HOUSEHOLD_2_516_WI_3_validation 2016-05-20\n",
       "23079492  HOUSEHOLD_2_516_WI_3_validation 2016-05-21\n",
       "23109982  HOUSEHOLD_2_516_WI_3_validation 2016-05-22\n",
       "\n",
       "[853720 rows x 2 columns]"
      ]
     },
     "execution_count": 8,
     "metadata": {},
     "output_type": "execute_result"
    }
   ],
   "source": [
    "# テスト区間(private含む？)\n",
    "#datas[(datas['date'] > '2016-04-24')][[\"id\",\"date\"]]"
   ]
  },
  {
   "cell_type": "code",
   "execution_count": 8,
   "metadata": {},
   "outputs": [],
   "source": [
    "#datas = datas[datas['date'] <= '2016-04-24']"
   ]
  },
  {
   "cell_type": "code",
   "execution_count": 9,
   "metadata": {
    "scrolled": true
   },
   "outputs": [
    {
     "data": {
      "text/plain": [
       "20"
      ]
     },
     "execution_count": 9,
     "metadata": {},
     "output_type": "execute_result"
    }
   ],
   "source": [
    "#del data\n",
    "#gc.collect()"
   ]
  },
  {
   "cell_type": "code",
   "execution_count": 9,
   "metadata": {},
   "outputs": [
    {
     "data": {
      "text/plain": [
       "(1067150, 32)"
      ]
     },
     "execution_count": 9,
     "metadata": {},
     "output_type": "execute_result"
    }
   ],
   "source": [
    "#valid\n",
    "datas[datas['date'] >= '2016-04-18'].shape"
   ]
  },
  {
   "cell_type": "code",
   "execution_count": null,
   "metadata": {},
   "outputs": [],
   "source": [
    "#未売期間を切っているので\"price_change_t1\",\"rolling_price_std_t7\" \"rolling_price_std_t30\"  \"rolling_price_std_t7\", \"price_change_t1\" \"p_prev_1\" このあたりは使えない\n",
    "#後々最も遅く販売されたものに注目してpriceの時系列特徴を決める"
   ]
  },
  {
   "cell_type": "code",
   "execution_count": null,
   "metadata": {},
   "outputs": [],
   "source": [
    "#'id', 'item_id', 'dept_id', 'cat_id', 'store_id', 'state_id', 'd',\n",
    "#      'sell_num', 'date', 'wm_yr_wk', 'event_name_1', 'event_type_1',\n",
    "#     'event_name_2', 'event_type_2', 'snap_CA', 'snap_TX', 'snap_WI',\n",
    "#    'sell_price', 'prev_28', 'prev_29', 'prev_35', 'prev_182', 'prev_365',\n",
    "#       'p_prev_1', 'rolling_mean_t7', 'rolling_mean_t30', 'rolling_mean_t60',\n",
    "#       'rolling_mean_t90', 'rolling_mean_t180', 'price_change_t1',\n",
    "#       'rolling_price_max_t365', 'price_change_t365', 'rolling_price_std_t7',\n",
    "#       'rolling_price_std_t30'"
   ]
  },
  {
   "cell_type": "code",
   "execution_count": 8,
   "metadata": {},
   "outputs": [
    {
     "data": {
      "text/plain": [
       "Index(['id', 'item_id', 'dept_id', 'cat_id', 'store_id', 'state_id',\n",
       "       'sell_num', 'date', 'event_name_1', 'event_type_1', 'event_name_2',\n",
       "       'event_type_2', 'snap_CA', 'snap_TX', 'snap_WI', 'sell_price',\n",
       "       'prev_28', 'p_prev_1', 'rolling_mean_t7', 'rolling_mean_t14',\n",
       "       'rolling_std_t7', 'rolling_std_t14', 'price_change_t1',\n",
       "       'rolling_price_std_t7', 'rolling_price_std_t30', 'year', 'quarter',\n",
       "       'month', 'week', 'day', 'dayofweek', 'is_weekend'],\n",
       "      dtype='object')"
      ]
     },
     "execution_count": 8,
     "metadata": {},
     "output_type": "execute_result"
    }
   ],
   "source": [
    "datas.columns"
   ]
  },
  {
   "cell_type": "code",
   "execution_count": 76,
   "metadata": {},
   "outputs": [],
   "source": [
    "check_feature=[\n",
    "               'prev_28', 'p_prev_1','rolling_mean_t7', \n",
    "               'rolling_mean_t14', 'price_change_t1','rolling_std_t7', 'rolling_std_t14',\n",
    "               'rolling_price_std_t7', 'rolling_price_std_t30', 'price_change_t1', 'rolling_price_std_t7',\n",
    "               ]"
   ]
  },
  {
   "cell_type": "code",
   "execution_count": 77,
   "metadata": {},
   "outputs": [],
   "source": [
    "#dataの時系列特徴列(prev_〇など)をみてnanを含むデータ削除する\n",
    "#len(np.unique(datas.dropna(subset=check_feature)[\"id\"]))\n",
    "datas.dropna(subset=check_feature, inplace=True)\n",
    "#len(np.unique(datas.dropna(subset=check_feature)[\"id\"]))"
   ]
  },
  {
   "cell_type": "code",
   "execution_count": null,
   "metadata": {},
   "outputs": [],
   "source": [
    "#57日前のものとかは既に使え無さそう..."
   ]
  },
  {
   "cell_type": "code",
   "execution_count": 13,
   "metadata": {},
   "outputs": [
    {
     "data": {
      "text/plain": [
       "30490"
      ]
     },
     "execution_count": 13,
     "metadata": {},
     "output_type": "execute_result"
    }
   ],
   "source": [
    "len(np.unique(datas[\"id\"]))"
   ]
  },
  {
   "cell_type": "code",
   "execution_count": 14,
   "metadata": {},
   "outputs": [
    {
     "data": {
      "text/html": [
       "<div>\n",
       "<style scoped>\n",
       "    .dataframe tbody tr th:only-of-type {\n",
       "        vertical-align: middle;\n",
       "    }\n",
       "\n",
       "    .dataframe tbody tr th {\n",
       "        vertical-align: top;\n",
       "    }\n",
       "\n",
       "    .dataframe thead th {\n",
       "        text-align: right;\n",
       "    }\n",
       "</style>\n",
       "<table border=\"1\" class=\"dataframe\">\n",
       "  <thead>\n",
       "    <tr style=\"text-align: right;\">\n",
       "      <th></th>\n",
       "      <th>id</th>\n",
       "      <th>item_id</th>\n",
       "      <th>dept_id</th>\n",
       "      <th>cat_id</th>\n",
       "      <th>store_id</th>\n",
       "      <th>state_id</th>\n",
       "      <th>sell_num</th>\n",
       "      <th>date</th>\n",
       "      <th>event_name_1</th>\n",
       "      <th>event_type_1</th>\n",
       "      <th>...</th>\n",
       "      <th>price_change_t1</th>\n",
       "      <th>rolling_price_std_t7</th>\n",
       "      <th>rolling_price_std_t30</th>\n",
       "      <th>year</th>\n",
       "      <th>quarter</th>\n",
       "      <th>month</th>\n",
       "      <th>week</th>\n",
       "      <th>day</th>\n",
       "      <th>dayofweek</th>\n",
       "      <th>is_weekend</th>\n",
       "    </tr>\n",
       "  </thead>\n",
       "  <tbody>\n",
       "    <tr>\n",
       "      <th>21405592</th>\n",
       "      <td>FOODS_1_001_CA_1_validation</td>\n",
       "      <td>0</td>\n",
       "      <td>0</td>\n",
       "      <td>0</td>\n",
       "      <td>0</td>\n",
       "      <td>0</td>\n",
       "      <td>2.0</td>\n",
       "      <td>2016-03-28</td>\n",
       "      <td>30</td>\n",
       "      <td>4</td>\n",
       "      <td>...</td>\n",
       "      <td>0.0</td>\n",
       "      <td>0.0</td>\n",
       "      <td>0.0</td>\n",
       "      <td>2016</td>\n",
       "      <td>1</td>\n",
       "      <td>3</td>\n",
       "      <td>13</td>\n",
       "      <td>28</td>\n",
       "      <td>0</td>\n",
       "      <td>0</td>\n",
       "    </tr>\n",
       "    <tr>\n",
       "      <th>21436082</th>\n",
       "      <td>FOODS_1_001_CA_1_validation</td>\n",
       "      <td>0</td>\n",
       "      <td>0</td>\n",
       "      <td>0</td>\n",
       "      <td>0</td>\n",
       "      <td>0</td>\n",
       "      <td>1.0</td>\n",
       "      <td>2016-03-29</td>\n",
       "      <td>30</td>\n",
       "      <td>4</td>\n",
       "      <td>...</td>\n",
       "      <td>0.0</td>\n",
       "      <td>0.0</td>\n",
       "      <td>0.0</td>\n",
       "      <td>2016</td>\n",
       "      <td>1</td>\n",
       "      <td>3</td>\n",
       "      <td>13</td>\n",
       "      <td>29</td>\n",
       "      <td>1</td>\n",
       "      <td>0</td>\n",
       "    </tr>\n",
       "    <tr>\n",
       "      <th>21466572</th>\n",
       "      <td>FOODS_1_001_CA_1_validation</td>\n",
       "      <td>0</td>\n",
       "      <td>0</td>\n",
       "      <td>0</td>\n",
       "      <td>0</td>\n",
       "      <td>0</td>\n",
       "      <td>1.0</td>\n",
       "      <td>2016-03-30</td>\n",
       "      <td>30</td>\n",
       "      <td>4</td>\n",
       "      <td>...</td>\n",
       "      <td>0.0</td>\n",
       "      <td>0.0</td>\n",
       "      <td>0.0</td>\n",
       "      <td>2016</td>\n",
       "      <td>1</td>\n",
       "      <td>3</td>\n",
       "      <td>13</td>\n",
       "      <td>30</td>\n",
       "      <td>2</td>\n",
       "      <td>0</td>\n",
       "    </tr>\n",
       "    <tr>\n",
       "      <th>21497062</th>\n",
       "      <td>FOODS_1_001_CA_1_validation</td>\n",
       "      <td>0</td>\n",
       "      <td>0</td>\n",
       "      <td>0</td>\n",
       "      <td>0</td>\n",
       "      <td>0</td>\n",
       "      <td>0.0</td>\n",
       "      <td>2016-03-31</td>\n",
       "      <td>30</td>\n",
       "      <td>4</td>\n",
       "      <td>...</td>\n",
       "      <td>0.0</td>\n",
       "      <td>0.0</td>\n",
       "      <td>0.0</td>\n",
       "      <td>2016</td>\n",
       "      <td>1</td>\n",
       "      <td>3</td>\n",
       "      <td>13</td>\n",
       "      <td>31</td>\n",
       "      <td>3</td>\n",
       "      <td>0</td>\n",
       "    </tr>\n",
       "    <tr>\n",
       "      <th>21527552</th>\n",
       "      <td>FOODS_1_001_CA_1_validation</td>\n",
       "      <td>0</td>\n",
       "      <td>0</td>\n",
       "      <td>0</td>\n",
       "      <td>0</td>\n",
       "      <td>0</td>\n",
       "      <td>4.0</td>\n",
       "      <td>2016-04-01</td>\n",
       "      <td>30</td>\n",
       "      <td>4</td>\n",
       "      <td>...</td>\n",
       "      <td>0.0</td>\n",
       "      <td>0.0</td>\n",
       "      <td>0.0</td>\n",
       "      <td>2016</td>\n",
       "      <td>2</td>\n",
       "      <td>4</td>\n",
       "      <td>13</td>\n",
       "      <td>1</td>\n",
       "      <td>4</td>\n",
       "      <td>0</td>\n",
       "    </tr>\n",
       "    <tr>\n",
       "      <th>...</th>\n",
       "      <td>...</td>\n",
       "      <td>...</td>\n",
       "      <td>...</td>\n",
       "      <td>...</td>\n",
       "      <td>...</td>\n",
       "      <td>...</td>\n",
       "      <td>...</td>\n",
       "      <td>...</td>\n",
       "      <td>...</td>\n",
       "      <td>...</td>\n",
       "      <td>...</td>\n",
       "      <td>...</td>\n",
       "      <td>...</td>\n",
       "      <td>...</td>\n",
       "      <td>...</td>\n",
       "      <td>...</td>\n",
       "      <td>...</td>\n",
       "      <td>...</td>\n",
       "      <td>...</td>\n",
       "      <td>...</td>\n",
       "      <td>...</td>\n",
       "    </tr>\n",
       "    <tr>\n",
       "      <th>22134302</th>\n",
       "      <td>HOUSEHOLD_2_516_WI_3_validation</td>\n",
       "      <td>3048</td>\n",
       "      <td>6</td>\n",
       "      <td>2</td>\n",
       "      <td>9</td>\n",
       "      <td>2</td>\n",
       "      <td>0.0</td>\n",
       "      <td>2016-04-20</td>\n",
       "      <td>30</td>\n",
       "      <td>4</td>\n",
       "      <td>...</td>\n",
       "      <td>0.0</td>\n",
       "      <td>0.0</td>\n",
       "      <td>0.0</td>\n",
       "      <td>2016</td>\n",
       "      <td>2</td>\n",
       "      <td>4</td>\n",
       "      <td>16</td>\n",
       "      <td>20</td>\n",
       "      <td>2</td>\n",
       "      <td>0</td>\n",
       "    </tr>\n",
       "    <tr>\n",
       "      <th>22164792</th>\n",
       "      <td>HOUSEHOLD_2_516_WI_3_validation</td>\n",
       "      <td>3048</td>\n",
       "      <td>6</td>\n",
       "      <td>2</td>\n",
       "      <td>9</td>\n",
       "      <td>2</td>\n",
       "      <td>0.0</td>\n",
       "      <td>2016-04-21</td>\n",
       "      <td>30</td>\n",
       "      <td>4</td>\n",
       "      <td>...</td>\n",
       "      <td>0.0</td>\n",
       "      <td>0.0</td>\n",
       "      <td>0.0</td>\n",
       "      <td>2016</td>\n",
       "      <td>2</td>\n",
       "      <td>4</td>\n",
       "      <td>16</td>\n",
       "      <td>21</td>\n",
       "      <td>3</td>\n",
       "      <td>0</td>\n",
       "    </tr>\n",
       "    <tr>\n",
       "      <th>22195282</th>\n",
       "      <td>HOUSEHOLD_2_516_WI_3_validation</td>\n",
       "      <td>3048</td>\n",
       "      <td>6</td>\n",
       "      <td>2</td>\n",
       "      <td>9</td>\n",
       "      <td>2</td>\n",
       "      <td>0.0</td>\n",
       "      <td>2016-04-22</td>\n",
       "      <td>30</td>\n",
       "      <td>4</td>\n",
       "      <td>...</td>\n",
       "      <td>0.0</td>\n",
       "      <td>0.0</td>\n",
       "      <td>0.0</td>\n",
       "      <td>2016</td>\n",
       "      <td>2</td>\n",
       "      <td>4</td>\n",
       "      <td>16</td>\n",
       "      <td>22</td>\n",
       "      <td>4</td>\n",
       "      <td>0</td>\n",
       "    </tr>\n",
       "    <tr>\n",
       "      <th>22225772</th>\n",
       "      <td>HOUSEHOLD_2_516_WI_3_validation</td>\n",
       "      <td>3048</td>\n",
       "      <td>6</td>\n",
       "      <td>2</td>\n",
       "      <td>9</td>\n",
       "      <td>2</td>\n",
       "      <td>0.0</td>\n",
       "      <td>2016-04-23</td>\n",
       "      <td>30</td>\n",
       "      <td>4</td>\n",
       "      <td>...</td>\n",
       "      <td>0.0</td>\n",
       "      <td>0.0</td>\n",
       "      <td>0.0</td>\n",
       "      <td>2016</td>\n",
       "      <td>2</td>\n",
       "      <td>4</td>\n",
       "      <td>16</td>\n",
       "      <td>23</td>\n",
       "      <td>5</td>\n",
       "      <td>1</td>\n",
       "    </tr>\n",
       "    <tr>\n",
       "      <th>22256262</th>\n",
       "      <td>HOUSEHOLD_2_516_WI_3_validation</td>\n",
       "      <td>3048</td>\n",
       "      <td>6</td>\n",
       "      <td>2</td>\n",
       "      <td>9</td>\n",
       "      <td>2</td>\n",
       "      <td>0.0</td>\n",
       "      <td>2016-04-24</td>\n",
       "      <td>30</td>\n",
       "      <td>4</td>\n",
       "      <td>...</td>\n",
       "      <td>0.0</td>\n",
       "      <td>0.0</td>\n",
       "      <td>0.0</td>\n",
       "      <td>2016</td>\n",
       "      <td>2</td>\n",
       "      <td>4</td>\n",
       "      <td>16</td>\n",
       "      <td>24</td>\n",
       "      <td>6</td>\n",
       "      <td>1</td>\n",
       "    </tr>\n",
       "  </tbody>\n",
       "</table>\n",
       "<p>853720 rows × 32 columns</p>\n",
       "</div>"
      ],
      "text/plain": [
       "                                       id  item_id  dept_id  cat_id  store_id  \\\n",
       "21405592      FOODS_1_001_CA_1_validation        0        0       0         0   \n",
       "21436082      FOODS_1_001_CA_1_validation        0        0       0         0   \n",
       "21466572      FOODS_1_001_CA_1_validation        0        0       0         0   \n",
       "21497062      FOODS_1_001_CA_1_validation        0        0       0         0   \n",
       "21527552      FOODS_1_001_CA_1_validation        0        0       0         0   \n",
       "...                                   ...      ...      ...     ...       ...   \n",
       "22134302  HOUSEHOLD_2_516_WI_3_validation     3048        6       2         9   \n",
       "22164792  HOUSEHOLD_2_516_WI_3_validation     3048        6       2         9   \n",
       "22195282  HOUSEHOLD_2_516_WI_3_validation     3048        6       2         9   \n",
       "22225772  HOUSEHOLD_2_516_WI_3_validation     3048        6       2         9   \n",
       "22256262  HOUSEHOLD_2_516_WI_3_validation     3048        6       2         9   \n",
       "\n",
       "          state_id  sell_num       date  event_name_1  event_type_1  ...  \\\n",
       "21405592         0       2.0 2016-03-28            30             4  ...   \n",
       "21436082         0       1.0 2016-03-29            30             4  ...   \n",
       "21466572         0       1.0 2016-03-30            30             4  ...   \n",
       "21497062         0       0.0 2016-03-31            30             4  ...   \n",
       "21527552         0       4.0 2016-04-01            30             4  ...   \n",
       "...            ...       ...        ...           ...           ...  ...   \n",
       "22134302         2       0.0 2016-04-20            30             4  ...   \n",
       "22164792         2       0.0 2016-04-21            30             4  ...   \n",
       "22195282         2       0.0 2016-04-22            30             4  ...   \n",
       "22225772         2       0.0 2016-04-23            30             4  ...   \n",
       "22256262         2       0.0 2016-04-24            30             4  ...   \n",
       "\n",
       "          price_change_t1  rolling_price_std_t7  rolling_price_std_t30  year  \\\n",
       "21405592              0.0                   0.0                    0.0  2016   \n",
       "21436082              0.0                   0.0                    0.0  2016   \n",
       "21466572              0.0                   0.0                    0.0  2016   \n",
       "21497062              0.0                   0.0                    0.0  2016   \n",
       "21527552              0.0                   0.0                    0.0  2016   \n",
       "...                   ...                   ...                    ...   ...   \n",
       "22134302              0.0                   0.0                    0.0  2016   \n",
       "22164792              0.0                   0.0                    0.0  2016   \n",
       "22195282              0.0                   0.0                    0.0  2016   \n",
       "22225772              0.0                   0.0                    0.0  2016   \n",
       "22256262              0.0                   0.0                    0.0  2016   \n",
       "\n",
       "          quarter  month  week  day  dayofweek  is_weekend  \n",
       "21405592        1      3    13   28          0           0  \n",
       "21436082        1      3    13   29          1           0  \n",
       "21466572        1      3    13   30          2           0  \n",
       "21497062        1      3    13   31          3           0  \n",
       "21527552        2      4    13    1          4           0  \n",
       "...           ...    ...   ...  ...        ...         ...  \n",
       "22134302        2      4    16   20          2           0  \n",
       "22164792        2      4    16   21          3           0  \n",
       "22195282        2      4    16   22          4           0  \n",
       "22225772        2      4    16   23          5           1  \n",
       "22256262        2      4    16   24          6           1  \n",
       "\n",
       "[853720 rows x 32 columns]"
      ]
     },
     "execution_count": 14,
     "metadata": {},
     "output_type": "execute_result"
    }
   ],
   "source": [
    "#検証用期間のデータが消えても困る\n",
    "datas[(datas['date'] > '2016-03-27') & (datas['date'] <= '2016-04-24')]"
   ]
  },
  {
   "cell_type": "code",
   "execution_count": 10,
   "metadata": {
    "scrolled": true
   },
   "outputs": [],
   "source": [
    "#WRMSSEの計算用(kernelより)\n",
    "\n",
    "NUM_ITEMS = 30490\n",
    "DAYS_PRED = 28\n",
    "\n",
    "weight_mat = np.c_[np.ones([NUM_ITEMS,1]).astype(np.int8), # level 1\n",
    "                   pd.get_dummies(product.state_id.astype(str),drop_first=False).astype('int8').values,\n",
    "                   pd.get_dummies(product.store_id.astype(str),drop_first=False).astype('int8').values,\n",
    "                   pd.get_dummies(product.cat_id.astype(str),drop_first=False).astype('int8').values,\n",
    "                   pd.get_dummies(product.dept_id.astype(str),drop_first=False).astype('int8').values,\n",
    "                   pd.get_dummies(product.state_id.astype(str) + product.cat_id.astype(str),drop_first=False).astype('int8').values,\n",
    "                   pd.get_dummies(product.state_id.astype(str) + product.dept_id.astype(str),drop_first=False).astype('int8').values,\n",
    "                   pd.get_dummies(product.store_id.astype(str) + product.cat_id.astype(str),drop_first=False).astype('int8').values,\n",
    "                   pd.get_dummies(product.store_id.astype(str) + product.dept_id.astype(str),drop_first=False).astype('int8').values,\n",
    "                   pd.get_dummies(product.item_id.astype(str),drop_first=False).astype('int8').values,\n",
    "                   pd.get_dummies(product.state_id.astype(str) + product.item_id.astype(str),drop_first=False).astype('int8').values,\n",
    "                   np.identity(NUM_ITEMS).astype(np.int8) #item :level 12\n",
    "                   ].T\n",
    "\n",
    "weight_mat_csr = csr_matrix(weight_mat)\n",
    "del weight_mat; gc.collect()\n",
    "\n",
    "def weight_calc(data,product):\n",
    "    \n",
    "    # calculate the denominator of RMSSE, and calculate the weight base on sales amount\n",
    "\n",
    "    sales_train_val = pd.read_csv('sales_train_validation.csv')\n",
    "\n",
    "    d_name = ['d_' + str(i+1) for i in range(1913)]\n",
    "\n",
    "    sales_train_val = weight_mat_csr * sales_train_val[d_name].values\n",
    "\n",
    "    # calculate the start position(first non-zero demand observed date) for each item / 商品の最初の売上日\n",
    "    # 1-1914のdayの数列のうち, 売上が存在しない日を一旦0にし、0を9999に置換。そのうえでminimum numberを計算\n",
    "    df_tmp = ((sales_train_val>0) * np.tile(np.arange(1,1914),(weight_mat_csr.shape[0],1)))\n",
    "\n",
    "    start_no = np.min(np.where(df_tmp==0,9999,df_tmp),axis=1)-1\n",
    "\n",
    "    flag = np.dot(np.diag(1/(start_no+1)) , np.tile(np.arange(1,1914),(weight_mat_csr.shape[0],1)))<1\n",
    "\n",
    "    sales_train_val = np.where(flag,np.nan,sales_train_val)\n",
    "\n",
    "    # denominator of RMSSE / RMSSEの分母\n",
    "    weight1 = np.nansum(np.diff(sales_train_val,axis=1)**2,axis=1)/(1913-start_no)\n",
    "\n",
    "    # calculate the sales amount for each item/level\n",
    "    df_tmp = data[(data['date'] > '2016-03-27') & (data['date'] <= '2016-04-24')]\n",
    "    df_tmp['sell_num'] = df_tmp['sell_num'] * df_tmp['sell_price']\n",
    "    df_tmp =df_tmp.groupby(['id'])['sell_num'].apply(np.sum)\n",
    "    df_tmp = df_tmp[product.id].values\n",
    "    \n",
    "    weight2 = weight_mat_csr * df_tmp \n",
    "\n",
    "    weight2 = weight2/np.sum(weight2)\n",
    "\n",
    "    del sales_train_val\n",
    "    gc.collect()\n",
    "    \n",
    "    return weight1, weight2\n",
    "\n",
    "#weight1, weight2 = weight_calc(datas,product)\n",
    "\n",
    "def wrmsse(preds, data):\n",
    "    \n",
    "    # this function is calculate for last 28 days to consider the non-zero demand period\n",
    "    \n",
    "    # actual obserbed values / 正解ラベル\n",
    "    y_true = data.get_label()\n",
    "    \n",
    "    y_true = y_true[-(NUM_ITEMS * DAYS_PRED):]\n",
    "    preds = preds[-(NUM_ITEMS * DAYS_PRED):]\n",
    "    # number of columns\n",
    "    num_col = DAYS_PRED\n",
    "    \n",
    "    # reshape data to original array((NUM_ITEMS*num_col,1)->(NUM_ITEMS, num_col) ) / 推論の結果が 1 次元の配列になっているので直す\n",
    "    print(preds)\n",
    "    print(y_true)\n",
    "    reshaped_preds = preds.reshape(num_col, NUM_ITEMS).T\n",
    "    reshaped_true = np.array(y_true).reshape(num_col, NUM_ITEMS).T\n",
    "    \n",
    "          \n",
    "    train = weight_mat_csr*np.c_[reshaped_preds, reshaped_true]\n",
    "    print(train)\n",
    "    \n",
    "    score = np.sum(\n",
    "                np.sqrt(\n",
    "                    np.mean(\n",
    "                        np.square(\n",
    "                            train[:,:num_col] - train[:,num_col:])\n",
    "                        ,axis=1) / weight1) * weight2)\n",
    "    \n",
    "    return 'wrmsse', score, False\n",
    "\n",
    "def wrmsse_simple(preds, data):\n",
    "    \n",
    "    # actual obserbed values / 正解ラベル\n",
    "    y_true = data.get_label()\n",
    "    \n",
    "    y_true = y_true[-(NUM_ITEMS * DAYS_PRED):]\n",
    "    preds = preds[-(NUM_ITEMS * DAYS_PRED):]\n",
    "    # number of columns\n",
    "    num_col = DAYS_PRED\n",
    "    \n",
    "    # reshape data to original array((NUM_ITEMS*num_col,1)->(NUM_ITEMS, num_col) ) / 推論の結果が 1 次元の配列になっているので直す\n",
    "    reshaped_preds = preds.reshape(num_col, NUM_ITEMS).T\n",
    "    reshaped_true = y_true.reshape(num_col, NUM_ITEMS).T\n",
    "          \n",
    "    train = np.c_[reshaped_preds, reshaped_true]\n",
    "   \n",
    "    \n",
    "    weight2_2 = weight2[:NUM_ITEMS]\n",
    "    weight2_2 = weight2_2/np.sum(weight2_2)\n",
    "    \n",
    "    score = np.sum(\n",
    "                np.sqrt(\n",
    "                    np.mean(\n",
    "                        np.square(\n",
    "                            train[:,:num_col] - train[:,num_col:])\n",
    "                        ,axis=1) /  weight1[:NUM_ITEMS])*weight2_2)\n",
    "    \n",
    "    return 'wrmsse', score, False"
   ]
  },
  {
   "cell_type": "code",
   "execution_count": 23,
   "metadata": {},
   "outputs": [
    {
     "data": {
      "text/html": [
       "<div>\n",
       "<style scoped>\n",
       "    .dataframe tbody tr th:only-of-type {\n",
       "        vertical-align: middle;\n",
       "    }\n",
       "\n",
       "    .dataframe tbody tr th {\n",
       "        vertical-align: top;\n",
       "    }\n",
       "\n",
       "    .dataframe thead th {\n",
       "        text-align: right;\n",
       "    }\n",
       "</style>\n",
       "<table border=\"1\" class=\"dataframe\">\n",
       "  <thead>\n",
       "    <tr style=\"text-align: right;\">\n",
       "      <th></th>\n",
       "      <th>0</th>\n",
       "      <th>1</th>\n",
       "      <th>2</th>\n",
       "      <th>3</th>\n",
       "      <th>4</th>\n",
       "      <th>5</th>\n",
       "      <th>6</th>\n",
       "      <th>7</th>\n",
       "      <th>8</th>\n",
       "      <th>9</th>\n",
       "      <th>...</th>\n",
       "      <th>42830</th>\n",
       "      <th>42831</th>\n",
       "      <th>42832</th>\n",
       "      <th>42833</th>\n",
       "      <th>42834</th>\n",
       "      <th>42835</th>\n",
       "      <th>42836</th>\n",
       "      <th>42837</th>\n",
       "      <th>42838</th>\n",
       "      <th>42839</th>\n",
       "    </tr>\n",
       "  </thead>\n",
       "  <tbody>\n",
       "    <tr>\n",
       "      <th>0</th>\n",
       "      <td>3.509927e+07</td>\n",
       "      <td>7.337428e+06</td>\n",
       "      <td>3.337802e+06</td>\n",
       "      <td>3.763386e+06</td>\n",
       "      <td>749550.641924</td>\n",
       "      <td>574287.130162</td>\n",
       "      <td>924828.466283</td>\n",
       "      <td>100120.341871</td>\n",
       "      <td>356136.930998</td>\n",
       "      <td>581088.886566</td>\n",
       "      <td>...</td>\n",
       "      <td>3.893499</td>\n",
       "      <td>11.042342</td>\n",
       "      <td>3.995818</td>\n",
       "      <td>3.149374</td>\n",
       "      <td>10.450078</td>\n",
       "      <td>1.341183e+00</td>\n",
       "      <td>1.038260e+00</td>\n",
       "      <td>2.298117</td>\n",
       "      <td>2.174538e+00</td>\n",
       "      <td>6.757344e+00</td>\n",
       "    </tr>\n",
       "    <tr>\n",
       "      <th>1</th>\n",
       "      <td>8.333333e-02</td>\n",
       "      <td>3.686415e-02</td>\n",
       "      <td>2.244127e-02</td>\n",
       "      <td>2.402791e-02</td>\n",
       "      <td>0.009241</td>\n",
       "      <td>0.009187</td>\n",
       "      <td>0.012969</td>\n",
       "      <td>0.005467</td>\n",
       "      <td>0.006463</td>\n",
       "      <td>0.007933</td>\n",
       "      <td>...</td>\n",
       "      <td>0.000003</td>\n",
       "      <td>0.000003</td>\n",
       "      <td>0.000002</td>\n",
       "      <td>0.000003</td>\n",
       "      <td>0.000006</td>\n",
       "      <td>3.974128e-07</td>\n",
       "      <td>4.964186e-07</td>\n",
       "      <td>0.000002</td>\n",
       "      <td>7.399381e-07</td>\n",
       "      <td>6.669865e-07</td>\n",
       "    </tr>\n",
       "  </tbody>\n",
       "</table>\n",
       "<p>2 rows × 42840 columns</p>\n",
       "</div>"
      ],
      "text/plain": [
       "          0             1             2             3              4      \\\n",
       "0  3.509927e+07  7.337428e+06  3.337802e+06  3.763386e+06  749550.641924   \n",
       "1  8.333333e-02  3.686415e-02  2.244127e-02  2.402791e-02       0.009241   \n",
       "\n",
       "           5              6              7              8              9      \\\n",
       "0  574287.130162  924828.466283  100120.341871  356136.930998  581088.886566   \n",
       "1       0.009187       0.012969       0.005467       0.006463       0.007933   \n",
       "\n",
       "   ...     42830      42831     42832     42833      42834         42835  \\\n",
       "0  ...  3.893499  11.042342  3.995818  3.149374  10.450078  1.341183e+00   \n",
       "1  ...  0.000003   0.000003  0.000002  0.000003   0.000006  3.974128e-07   \n",
       "\n",
       "          42836     42837         42838         42839  \n",
       "0  1.038260e+00  2.298117  2.174538e+00  6.757344e+00  \n",
       "1  4.964186e-07  0.000002  7.399381e-07  6.669865e-07  \n",
       "\n",
       "[2 rows x 42840 columns]"
      ]
     },
     "execution_count": 23,
     "metadata": {},
     "output_type": "execute_result"
    }
   ],
   "source": [
    "weights"
   ]
  },
  {
   "cell_type": "code",
   "execution_count": 11,
   "metadata": {},
   "outputs": [],
   "source": [
    "#weight_mat_csr\n",
    "weights = pd.read_pickle(\"weight.pickle\")\n",
    "weight1 = weights[weights.index ==0]\n",
    "weight2 = weights[weights.index ==1]"
   ]
  },
  {
   "cell_type": "code",
   "execution_count": 12,
   "metadata": {},
   "outputs": [],
   "source": [
    "weight1=weight1.values\n",
    "weight2=weight2.values"
   ]
  },
  {
   "cell_type": "code",
   "execution_count": 23,
   "metadata": {
    "scrolled": false
   },
   "outputs": [
    {
     "data": {
      "text/plain": [
       "19764"
      ]
     },
     "execution_count": 23,
     "metadata": {},
     "output_type": "execute_result"
    }
   ],
   "source": [
    "#訓練,検証,テストに分割(訓練-検証28日-テスト28日の並びで取得)\n",
    "#x_train = datas[datas['date'] <= '2016-03-27']\n",
    "#y_train = x_train['sell_num']\n",
    "#x_val = datas[(datas['date'] > '2016-03-27') & (datas['date'] <= '2016-04-24')]\n",
    "#y_val = x_val['sell_num']\n",
    "#test = datas[(datas['date'] > '2016-04-24')]\n",
    "#del datas\n",
    "#gc.collect()"
   ]
  },
  {
   "cell_type": "code",
   "execution_count": 37,
   "metadata": {},
   "outputs": [
    {
     "data": {
      "text/plain": [
       "18691"
      ]
     },
     "execution_count": 37,
     "metadata": {},
     "output_type": "execute_result"
    }
   ],
   "source": [
    "#x_train = datas[datas['date'] < '2016-04-18']\n",
    "x_train = datas[datas['date'] < '2016-03-28']\n",
    "y_train = x_train['sell_num']\n",
    "#x_val = datas[datas['date'] >= '2016-04-18']\n",
    "x_val = datas[(datas['date'] >= '2016-03-28')& (datas['date'] <= '2016-04-24')]\n",
    "y_val = x_val['sell_num']\n",
    "test = datas[datas['date'] > '2016-04-24']\n",
    "del datas\n",
    "gc.collect()"
   ]
  },
  {
   "cell_type": "code",
   "execution_count": 78,
   "metadata": {},
   "outputs": [
    {
     "data": {
      "text/plain": [
       "2916"
      ]
     },
     "execution_count": 78,
     "metadata": {},
     "output_type": "execute_result"
    }
   ],
   "source": [
    "test = datas[datas['date'] > '2016-04-24']\n",
    "del datas\n",
    "gc.collect()"
   ]
  },
  {
   "cell_type": "code",
   "execution_count": null,
   "metadata": {},
   "outputs": [],
   "source": []
  },
  {
   "cell_type": "code",
   "execution_count": 17,
   "metadata": {},
   "outputs": [
    {
     "data": {
      "text/plain": [
       "Index(['id', 'item_id', 'dept_id', 'cat_id', 'store_id', 'state_id', 'd',\n",
       "       'sell_num', 'date', 'event_name_1', 'event_type_1', 'event_name_2',\n",
       "       'event_type_2', 'snap_CA', 'snap_TX', 'snap_WI', 'sell_price', 'prev_7',\n",
       "       'prev_14', 'prev_28', 'p_prev_1', 'rolling_mean_t7', 'rolling_mean_t30',\n",
       "       'price_change_t1', 'rolling_std_t7', 'rolling_std_t30',\n",
       "       'rolling_price_std_t7', 'rolling_price_std_t30', 'year', 'quarter',\n",
       "       'month', 'week', 'day', 'dayofweek', 'is_year_end', 'is_year_start',\n",
       "       'is_quarter_end', 'is_quarter_start', 'is_month_end', 'is_month_start',\n",
       "       'is_weekend'],\n",
       "      dtype='object')"
      ]
     },
     "execution_count": 17,
     "metadata": {},
     "output_type": "execute_result"
    }
   ],
   "source": [
    "x_train.columns"
   ]
  },
  {
   "cell_type": "code",
   "execution_count": 39,
   "metadata": {},
   "outputs": [],
   "source": [
    "features = [\n",
    "   #訓練に用いる特徴量をここに記述\n",
    "    \"item_id\",\n",
    "    \"dept_id\",\n",
    "    \"cat_id\",\n",
    "    \"store_id\",\n",
    "    \"state_id\",\n",
    "    \"event_name_1\",\n",
    "    #\"event_type_1\",\n",
    "    \"event_name_2\",\n",
    "    #\"event_type_2\",\n",
    "    \n",
    "    \n",
    "    \"snap_CA\",\n",
    "    \"snap_TX\",\n",
    "    \"snap_WI\",\n",
    "    \n",
    "    \"sell_price\",\n",
    "    # demand features.\n",
    "    #'prev_1',\n",
    "    #'prev_2',\n",
    "    #'prev_7', \n",
    "    #'prev_14', \n",
    "    'prev_28',\n",
    "    #'prev_182', \n",
    "    #'prev_365', \n",
    "    'p_prev_1', \n",
    "    'rolling_mean_t7',\n",
    "    'rolling_mean_t14', \n",
    "    'rolling_std_t7',\n",
    "    'rolling_std_t14',\n",
    "    #'rolling_mean_t60', \n",
    "    #'rolling_mean_t90',\n",
    "    #'rolling_mean_t180',  \n",
    "    # price features\n",
    "    \"price_change_t1\",\n",
    "    #\"price_change_t365\",\n",
    "    #'rolling_price_max_t365', \n",
    "    #'price_change_t365',\n",
    "    \"rolling_price_std_t7\",\n",
    "    \"rolling_price_std_t30\",\n",
    "    # time features.\n",
    "    \"year\",\n",
    "    \"month\",\n",
    "    \"week\",\n",
    "    \"day\",\n",
    "    \"dayofweek\",\n",
    "    #\"is_year_end\",\n",
    "    #\"is_year_start\",\n",
    "    #\"is_quarter_end\",\n",
    "    #\"is_quarter_start\",\n",
    "    #\"is_month_end\",\n",
    "    #\"is_month_start\",\n",
    "    #\"is_weekend\",\n",
    "]\n",
    "\n",
    "train_set = lgb.Dataset(x_train[features], y_train)\n",
    "val_set = lgb.Dataset(x_val[features], y_val)\n",
    "\n",
    "del x_train, y_train"
   ]
  },
  {
   "cell_type": "code",
   "execution_count": 31,
   "metadata": {},
   "outputs": [
    {
     "data": {
      "text/plain": [
       "853720"
      ]
     },
     "execution_count": 31,
     "metadata": {},
     "output_type": "execute_result"
    }
   ],
   "source": [
    "len(y_val)"
   ]
  },
  {
   "cell_type": "code",
   "execution_count": 40,
   "metadata": {},
   "outputs": [],
   "source": [
    "#kernelから取ってきたパラメータ\n",
    "params = {\n",
    "        \"objective\" : \"poisson\",\n",
    "        #\"metric\" :[\"custom\", \"rmse\"],\n",
    "        \"metric\" : \"rmse\",\n",
    "        \"force_row_wise\" : True,\n",
    "        \"learning_rate\" : 0.075,\n",
    "        \"sub_row\" : 0.75,\n",
    "        \"bagging_freq\" : 1,\n",
    "        \"lambda_l2\" : 0.1,\n",
    "#         \"nthread\" : 4\n",
    "        'verbosity': 1,\n",
    "        'num_iterations' : 1200,\n",
    "        'num_leaves': 128,\n",
    "        \"min_data_in_leaf\": 100,\n",
    "        \"random_state\": 32,\n",
    "}"
   ]
  },
  {
   "cell_type": "code",
   "execution_count": 16,
   "metadata": {},
   "outputs": [],
   "source": [
    "params ={\n",
    "            'boosting_type': 'gbdt',\n",
    "            'objective': 'tweedie',\n",
    "            'tweedie_variance_power': 1.1,\n",
    "            'metric':[\"custom\", \"rmse\"],\n",
    "            'subsample': 0.5,\n",
    "            'subsample_freq': 1,\n",
    "            'learning_rate': 0.03,\n",
    "            'num_leaves': 2**11-1,\n",
    "            'min_data_in_leaf': 2**12-1,\n",
    "            'feature_fraction': 0.5,\n",
    "            'max_bin': 100,\n",
    "            'n_estimators': 1400,\n",
    "            'boost_from_average': False,\n",
    "            'verbose': -1,\n",
    "         } "
   ]
  },
  {
   "cell_type": "code",
   "execution_count": 41,
   "metadata": {},
   "outputs": [
    {
     "name": "stderr",
     "output_type": "stream",
     "text": [
      "C:\\Users\\minih\\anaconda3\\lib\\site-packages\\lightgbm\\engine.py:148: UserWarning: Found `num_iterations` in params. Will use it instead of argument\n",
      "  warnings.warn(\"Found `{}` in params. Will use it instead of argument\".format(alias))\n",
      "C:\\Users\\minih\\anaconda3\\lib\\site-packages\\lightgbm\\basic.py:1295: UserWarning: categorical_feature in Dataset is overridden.\n",
      "New categorical_feature is ['cat_id', 'dept_id', 'event_name_1', 'event_name_2', 'item_id', 'state_id', 'store_id']\n",
      "  'New categorical_feature is {}'.format(sorted(list(categorical_feature))))\n"
     ]
    },
    {
     "name": "stdout",
     "output_type": "stream",
     "text": [
      "Training until validation scores don't improve for 50 rounds\n",
      "[20]\ttraining's rmse: 2.62619\tvalid_1's rmse: 2.56452\n",
      "[40]\ttraining's rmse: 2.37552\tvalid_1's rmse: 2.3011\n",
      "[60]\ttraining's rmse: 2.30638\tvalid_1's rmse: 2.22187\n",
      "[80]\ttraining's rmse: 2.27965\tvalid_1's rmse: 2.19887\n",
      "[100]\ttraining's rmse: 2.2614\tvalid_1's rmse: 2.1907\n",
      "[120]\ttraining's rmse: 2.24721\tvalid_1's rmse: 2.18578\n",
      "[140]\ttraining's rmse: 2.23436\tvalid_1's rmse: 2.18142\n",
      "[160]\ttraining's rmse: 2.22274\tvalid_1's rmse: 2.17757\n",
      "[180]\ttraining's rmse: 2.21075\tvalid_1's rmse: 2.17497\n",
      "[200]\ttraining's rmse: 2.19969\tvalid_1's rmse: 2.17162\n",
      "[220]\ttraining's rmse: 2.18974\tvalid_1's rmse: 2.16862\n",
      "[240]\ttraining's rmse: 2.17877\tvalid_1's rmse: 2.16634\n",
      "[260]\ttraining's rmse: 2.17038\tvalid_1's rmse: 2.16254\n",
      "[280]\ttraining's rmse: 2.16479\tvalid_1's rmse: 2.16101\n",
      "[300]\ttraining's rmse: 2.15908\tvalid_1's rmse: 2.15876\n",
      "[320]\ttraining's rmse: 2.15309\tvalid_1's rmse: 2.15699\n",
      "[340]\ttraining's rmse: 2.14449\tvalid_1's rmse: 2.15417\n",
      "[360]\ttraining's rmse: 2.13847\tvalid_1's rmse: 2.15074\n",
      "[380]\ttraining's rmse: 2.13255\tvalid_1's rmse: 2.1493\n",
      "[400]\ttraining's rmse: 2.12748\tvalid_1's rmse: 2.14808\n",
      "[420]\ttraining's rmse: 2.12055\tvalid_1's rmse: 2.14529\n",
      "[440]\ttraining's rmse: 2.1148\tvalid_1's rmse: 2.14537\n",
      "[460]\ttraining's rmse: 2.10889\tvalid_1's rmse: 2.14278\n",
      "[480]\ttraining's rmse: 2.1046\tvalid_1's rmse: 2.14178\n",
      "[500]\ttraining's rmse: 2.09914\tvalid_1's rmse: 2.14086\n",
      "[520]\ttraining's rmse: 2.09581\tvalid_1's rmse: 2.14116\n",
      "[540]\ttraining's rmse: 2.09221\tvalid_1's rmse: 2.14067\n",
      "[560]\ttraining's rmse: 2.08699\tvalid_1's rmse: 2.13903\n",
      "[580]\ttraining's rmse: 2.08315\tvalid_1's rmse: 2.13805\n",
      "[600]\ttraining's rmse: 2.08051\tvalid_1's rmse: 2.13743\n",
      "[620]\ttraining's rmse: 2.07788\tvalid_1's rmse: 2.13704\n",
      "[640]\ttraining's rmse: 2.07386\tvalid_1's rmse: 2.13614\n",
      "[660]\ttraining's rmse: 2.06996\tvalid_1's rmse: 2.13596\n",
      "[680]\ttraining's rmse: 2.06572\tvalid_1's rmse: 2.13498\n",
      "[700]\ttraining's rmse: 2.06297\tvalid_1's rmse: 2.13474\n",
      "[720]\ttraining's rmse: 2.05924\tvalid_1's rmse: 2.1335\n",
      "[740]\ttraining's rmse: 2.05654\tvalid_1's rmse: 2.13312\n",
      "[760]\ttraining's rmse: 2.0536\tvalid_1's rmse: 2.13184\n",
      "[780]\ttraining's rmse: 2.05035\tvalid_1's rmse: 2.13189\n",
      "[800]\ttraining's rmse: 2.04681\tvalid_1's rmse: 2.13129\n",
      "[820]\ttraining's rmse: 2.04424\tvalid_1's rmse: 2.13092\n",
      "[840]\ttraining's rmse: 2.04132\tvalid_1's rmse: 2.13026\n",
      "[860]\ttraining's rmse: 2.0381\tvalid_1's rmse: 2.12977\n",
      "[880]\ttraining's rmse: 2.03545\tvalid_1's rmse: 2.12944\n",
      "[900]\ttraining's rmse: 2.03304\tvalid_1's rmse: 2.1292\n",
      "[920]\ttraining's rmse: 2.03106\tvalid_1's rmse: 2.12913\n",
      "[940]\ttraining's rmse: 2.02852\tvalid_1's rmse: 2.1292\n",
      "[960]\ttraining's rmse: 2.02612\tvalid_1's rmse: 2.1283\n",
      "[980]\ttraining's rmse: 2.02345\tvalid_1's rmse: 2.12726\n",
      "[1000]\ttraining's rmse: 2.02096\tvalid_1's rmse: 2.12714\n",
      "[1020]\ttraining's rmse: 2.01834\tvalid_1's rmse: 2.12696\n",
      "[1040]\ttraining's rmse: 2.01547\tvalid_1's rmse: 2.12635\n",
      "[1060]\ttraining's rmse: 2.01336\tvalid_1's rmse: 2.12617\n",
      "[1080]\ttraining's rmse: 2.01089\tvalid_1's rmse: 2.12558\n",
      "[1100]\ttraining's rmse: 2.00916\tvalid_1's rmse: 2.12534\n",
      "[1120]\ttraining's rmse: 2.00703\tvalid_1's rmse: 2.12514\n",
      "[1140]\ttraining's rmse: 2.00531\tvalid_1's rmse: 2.12465\n",
      "[1160]\ttraining's rmse: 2.00376\tvalid_1's rmse: 2.12445\n",
      "[1180]\ttraining's rmse: 2.00164\tvalid_1's rmse: 2.12405\n",
      "[1200]\ttraining's rmse: 1.99897\tvalid_1's rmse: 2.12366\n",
      "Did not meet early stopping. Best iteration is:\n",
      "[1200]\ttraining's rmse: 1.99897\tvalid_1's rmse: 2.12366\n"
     ]
    }
   ],
   "source": [
    "#訓練\n",
    "model = lgb.train(params, train_set, early_stopping_rounds = 50,\n",
    "        valid_sets = [train_set, val_set], categorical_feature = [\"item_id\",\"dept_id\",\"cat_id\",\"store_id\",\"state_id\",\"event_name_1\",\"event_name_2\"], verbose_eval = 20)\n",
    "#valid_sets = [train_set, val_set], categorical_feature = [\"item_id\",\"dept_id\",\"cat_id\",\"store_id\",\"state_id\",\"event_name_1\",\"event_name_2\"], verbose_eval = 50, feval= wrmsse)\n",
    "#カテゴリ変数は、エンコードしたかに関わらず明示しておいた方が良さそう"
   ]
  },
  {
   "cell_type": "code",
   "execution_count": null,
   "metadata": {},
   "outputs": [],
   "source": []
  },
  {
   "cell_type": "code",
   "execution_count": 69,
   "metadata": {},
   "outputs": [],
   "source": [
    "val_set = lgb.Dataset(x_val[features], y_val)"
   ]
  },
  {
   "cell_type": "code",
   "execution_count": 71,
   "metadata": {},
   "outputs": [],
   "source": [
    "y_pred = model.predict(x_val[features])"
   ]
  },
  {
   "cell_type": "code",
   "execution_count": 48,
   "metadata": {},
   "outputs": [
    {
     "name": "stdout",
     "output_type": "stream",
     "text": [
      "[0.56138117 0.53020786 0.54751081 ... 0.11524689 0.13059556 0.1251127 ]\n",
      "21405592    2.0\n",
      "21436082    1.0\n",
      "21466572    1.0\n",
      "21497062    0.0\n",
      "21527552    4.0\n",
      "           ... \n",
      "22134302    0.0\n",
      "22164792    0.0\n",
      "22195282    0.0\n",
      "22225772    0.0\n",
      "22256262    0.0\n",
      "Name: sell_num, Length: 853720, dtype: float16\n",
      "[[5.62132258e+04 4.72096422e+04 3.30898576e+04 ... 4.35780000e+04\n",
      "  4.66290000e+04 2.34330000e+04]\n",
      " [1.69776174e+04 2.88110061e+04 1.65847177e+04 ... 8.64400000e+03\n",
      "  2.99740000e+04 1.33600000e+04]\n",
      " [1.89630491e+04 1.03372213e+04 3.91510953e+03 ... 1.26430000e+04\n",
      "  1.21610000e+04 7.17600000e+03]\n",
      " ...\n",
      " [3.11584960e+00 2.90533895e+00 1.29857185e+00 ... 1.00000000e+00\n",
      "  0.00000000e+00 0.00000000e+00]\n",
      " [3.30690101e+00 2.43849732e+00 1.35124296e+00 ... 2.00000000e+00\n",
      "  0.00000000e+00 0.00000000e+00]\n",
      " [4.46722500e+00 2.38382817e+00 1.06317356e+00 ... 5.00000000e+00\n",
      "  0.00000000e+00 0.00000000e+00]]\n"
     ]
    }
   ],
   "source": [
    "a,b,c = wrmsse(y_pred, val_set)"
   ]
  },
  {
   "cell_type": "code",
   "execution_count": 72,
   "metadata": {},
   "outputs": [
    {
     "name": "stdout",
     "output_type": "stream",
     "text": [
      "[0.82666268 0.62292328 0.62697753 ... 2.19736406 2.44863782 2.7084968 ]\n",
      "21405592    2.0\n",
      "21436082    1.0\n",
      "21466572    1.0\n",
      "21497062    0.0\n",
      "21527552    4.0\n",
      "           ... \n",
      "22134302    0.0\n",
      "22164792    0.0\n",
      "22195282    0.0\n",
      "22225772    0.0\n",
      "22256262    0.0\n",
      "Name: sell_num, Length: 853720, dtype: float16\n",
      "[[3.64028896e+04 2.89550566e+04 6.47306101e+04 ... 4.35780000e+04\n",
      "  4.66290000e+04 2.34330000e+04]\n",
      " [1.34730186e+04 5.68193787e+03 2.94041948e+04 ... 8.64400000e+03\n",
      "  2.99740000e+04 1.33600000e+04]\n",
      " [8.69126162e+03 1.13926664e+04 2.29781367e+04 ... 1.26430000e+04\n",
      "  1.21610000e+04 7.17600000e+03]\n",
      " ...\n",
      " [6.16680934e-01 7.47650623e-01 5.74906160e-01 ... 1.00000000e+00\n",
      "  0.00000000e+00 0.00000000e+00]\n",
      " [6.21689355e-01 6.22705050e-01 5.14099694e-01 ... 2.00000000e+00\n",
      "  0.00000000e+00 0.00000000e+00]\n",
      " [9.27850158e-01 6.42798430e-01 2.98228492e-01 ... 5.00000000e+00\n",
      "  0.00000000e+00 0.00000000e+00]]\n"
     ]
    }
   ],
   "source": [
    "a,b,c = wrmsse(y_pred, val_set)"
   ]
  },
  {
   "cell_type": "code",
   "execution_count": 49,
   "metadata": {},
   "outputs": [
    {
     "data": {
      "text/plain": [
       "0.7226589791704995"
      ]
     },
     "execution_count": 49,
     "metadata": {},
     "output_type": "execute_result"
    }
   ],
   "source": [
    "b"
   ]
  },
  {
   "cell_type": "code",
   "execution_count": 43,
   "metadata": {},
   "outputs": [
    {
     "data": {
      "text/plain": [
       "0.0"
      ]
     },
     "execution_count": 43,
     "metadata": {},
     "output_type": "execute_result"
    }
   ],
   "source": [
    "np.sum(b)"
   ]
  },
  {
   "cell_type": "code",
   "execution_count": 50,
   "metadata": {},
   "outputs": [
    {
     "name": "stdout",
     "output_type": "stream",
     "text": [
      "C:\\Users\\minih\\python_prac1\\m5\\git-repository\\kaggle-m5-accuracy-library\\library\n"
     ]
    }
   ],
   "source": [
    "cd C:\\Users\\minih\\python_prac1\\m5\\git-repository\\kaggle-m5-accuracy-library\\library"
   ]
  },
  {
   "cell_type": "code",
   "execution_count": 53,
   "metadata": {},
   "outputs": [],
   "source": [
    "import metari"
   ]
  },
  {
   "cell_type": "code",
   "execution_count": 54,
   "metadata": {},
   "outputs": [
    {
     "name": "stdout",
     "output_type": "stream",
     "text": [
      "C:\\Users\\minih\\python_prac1\\library\\m5\n"
     ]
    }
   ],
   "source": [
    "cd C:/Users/minih/python_prac1/library/m5/"
   ]
  },
  {
   "cell_type": "code",
   "execution_count": 55,
   "metadata": {},
   "outputs": [],
   "source": [
    "df = pd.read_csv(\"sales_train_validation.csv\")"
   ]
  },
  {
   "cell_type": "code",
   "execution_count": 57,
   "metadata": {},
   "outputs": [],
   "source": [
    "calendar = pd.read_csv(\"calendar.csv\")"
   ]
  },
  {
   "cell_type": "code",
   "execution_count": 59,
   "metadata": {},
   "outputs": [],
   "source": [
    "prices = pd.read_csv(\"sell_prices.csv\")"
   ]
  },
  {
   "cell_type": "code",
   "execution_count": 61,
   "metadata": {},
   "outputs": [
    {
     "data": {
      "text/html": [
       "<div>\n",
       "<style scoped>\n",
       "    .dataframe tbody tr th:only-of-type {\n",
       "        vertical-align: middle;\n",
       "    }\n",
       "\n",
       "    .dataframe tbody tr th {\n",
       "        vertical-align: top;\n",
       "    }\n",
       "\n",
       "    .dataframe thead th {\n",
       "        text-align: right;\n",
       "    }\n",
       "</style>\n",
       "<table border=\"1\" class=\"dataframe\">\n",
       "  <thead>\n",
       "    <tr style=\"text-align: right;\">\n",
       "      <th></th>\n",
       "      <th>date</th>\n",
       "      <th>wm_yr_wk</th>\n",
       "      <th>weekday</th>\n",
       "      <th>wday</th>\n",
       "      <th>month</th>\n",
       "      <th>year</th>\n",
       "      <th>d</th>\n",
       "      <th>event_name_1</th>\n",
       "      <th>event_type_1</th>\n",
       "      <th>event_name_2</th>\n",
       "      <th>event_type_2</th>\n",
       "      <th>snap_CA</th>\n",
       "      <th>snap_TX</th>\n",
       "      <th>snap_WI</th>\n",
       "    </tr>\n",
       "  </thead>\n",
       "  <tbody>\n",
       "    <tr>\n",
       "      <th>1912</th>\n",
       "      <td>2016-04-24</td>\n",
       "      <td>11613</td>\n",
       "      <td>Sunday</td>\n",
       "      <td>2</td>\n",
       "      <td>4</td>\n",
       "      <td>2016</td>\n",
       "      <td>d_1913</td>\n",
       "      <td>NaN</td>\n",
       "      <td>NaN</td>\n",
       "      <td>NaN</td>\n",
       "      <td>NaN</td>\n",
       "      <td>0</td>\n",
       "      <td>0</td>\n",
       "      <td>0</td>\n",
       "    </tr>\n",
       "  </tbody>\n",
       "</table>\n",
       "</div>"
      ],
      "text/plain": [
       "            date  wm_yr_wk weekday  wday  month  year       d event_name_1  \\\n",
       "1912  2016-04-24     11613  Sunday     2      4  2016  d_1913          NaN   \n",
       "\n",
       "     event_type_1 event_name_2 event_type_2  snap_CA  snap_TX  snap_WI  \n",
       "1912          NaN          NaN          NaN        0        0        0  "
      ]
     },
     "execution_count": 61,
     "metadata": {},
     "output_type": "execute_result"
    }
   ],
   "source": [
    "calendar[calendar[\"date\"] == '2016-04-24']"
   ]
  },
  {
   "cell_type": "code",
   "execution_count": 74,
   "metadata": {},
   "outputs": [
    {
     "name": "stdout",
     "output_type": "stream",
     "text": [
      "精度計算の前の前準備を実行中...\n",
      "重みとRMSSEを計算中...\n"
     ]
    },
    {
     "data": {
      "application/vnd.jupyter.widget-view+json": {
       "model_id": "",
       "version_major": 2,
       "version_minor": 0
      },
      "text/plain": [
       "HBox(children=(FloatProgress(value=0.0, max=12.0), HTML(value='')))"
      ]
     },
     "metadata": {},
     "output_type": "display_data"
    },
    {
     "data": {
      "application/vnd.jupyter.widget-view+json": {
       "model_id": "",
       "version_major": 2,
       "version_minor": 0
      },
      "text/plain": [
       "HBox(children=(FloatProgress(value=0.0, max=12.0), HTML(value='')))"
      ]
     },
     "metadata": {},
     "output_type": "display_data"
    },
    {
     "data": {
      "application/vnd.jupyter.widget-view+json": {
       "model_id": "",
       "version_major": 2,
       "version_minor": 0
      },
      "text/plain": [
       "HBox(children=(FloatProgress(value=0.0, max=12.0), HTML(value='')))"
      ]
     },
     "metadata": {},
     "output_type": "display_data"
    },
    {
     "data": {
      "application/vnd.jupyter.widget-view+json": {
       "model_id": "4a349283a5cd4265a1577497eea34249",
       "version_major": 2,
       "version_minor": 0
      },
      "text/plain": [
       "HBox(children=(FloatProgress(value=0.0, max=42840.0), HTML(value='')))"
      ]
     },
     "metadata": {},
     "output_type": "display_data"
    },
    {
     "name": "stdout",
     "output_type": "stream",
     "text": [
      "\n",
      "精度を計算中...\n"
     ]
    },
    {
     "data": {
      "text/plain": [
       "0.5546378834625361"
      ]
     },
     "execution_count": 74,
     "metadata": {},
     "output_type": "execute_result"
    }
   ],
   "source": [
    "metari.calculate_WRMSSE(df, calendar, prices, 1, 1913, y_pred)"
   ]
  },
  {
   "cell_type": "code",
   "execution_count": 17,
   "metadata": {},
   "outputs": [
    {
     "name": "stderr",
     "output_type": "stream",
     "text": [
      "C:\\Users\\minih\\anaconda3\\lib\\site-packages\\lightgbm\\engine.py:148: UserWarning: Found `num_iterations` in params. Will use it instead of argument\n",
      "  warnings.warn(\"Found `{}` in params. Will use it instead of argument\".format(alias))\n",
      "C:\\Users\\minih\\anaconda3\\lib\\site-packages\\lightgbm\\basic.py:1295: UserWarning: categorical_feature in Dataset is overridden.\n",
      "New categorical_feature is ['cat_id', 'dept_id', 'event_name_1', 'event_name_2', 'item_id', 'state_id', 'store_id']\n",
      "  'New categorical_feature is {}'.format(sorted(list(categorical_feature))))\n"
     ]
    },
    {
     "name": "stdout",
     "output_type": "stream",
     "text": [
      "Training until validation scores don't improve for 50 rounds\n",
      "[20]\ttraining's rmse: 2.43069\ttraining's wrmsse: 1.74106\tvalid_1's rmse: 2.35068\tvalid_1's wrmsse: 1.5442\n",
      "[40]\ttraining's rmse: 2.12502\ttraining's wrmsse: 0.938\tvalid_1's rmse: 2.04454\tvalid_1's wrmsse: 0.891543\n",
      "[60]\ttraining's rmse: 2.04605\ttraining's wrmsse: 0.558812\tvalid_1's rmse: 1.97575\tvalid_1's wrmsse: 0.609344\n",
      "[80]\ttraining's rmse: 2.02209\ttraining's wrmsse: 0.378398\tvalid_1's rmse: 1.96089\tvalid_1's wrmsse: 0.492685\n",
      "[100]\ttraining's rmse: 2.01043\ttraining's wrmsse: 0.290722\tvalid_1's rmse: 1.95577\tvalid_1's wrmsse: 0.449733\n",
      "[120]\ttraining's rmse: 2.00331\ttraining's wrmsse: 0.249491\tvalid_1's rmse: 1.9532\tvalid_1's wrmsse: 0.436555\n",
      "[140]\ttraining's rmse: 1.99671\ttraining's wrmsse: 0.225659\tvalid_1's rmse: 1.95095\tvalid_1's wrmsse: 0.433307\n",
      "[160]\ttraining's rmse: 1.98944\ttraining's wrmsse: 0.21609\tvalid_1's rmse: 1.94701\tvalid_1's wrmsse: 0.432428\n",
      "[180]\ttraining's rmse: 1.98298\ttraining's wrmsse: 0.211851\tvalid_1's rmse: 1.94384\tvalid_1's wrmsse: 0.433497\n",
      "[200]\ttraining's rmse: 1.9782\ttraining's wrmsse: 0.209584\tvalid_1's rmse: 1.9419\tvalid_1's wrmsse: 0.434379\n",
      "[220]\ttraining's rmse: 1.97262\ttraining's wrmsse: 0.208178\tvalid_1's rmse: 1.9396\tvalid_1's wrmsse: 0.435684\n",
      "Early stopping, best iteration is:\n",
      "[170]\ttraining's rmse: 1.98621\ttraining's wrmsse: 0.213886\tvalid_1's rmse: 1.94499\tvalid_1's wrmsse: 0.432081\n"
     ]
    }
   ],
   "source": [
    "#訓練\n",
    "model = lgb.train(params, train_set, early_stopping_rounds = 50,\n",
    "        valid_sets = [train_set, val_set], categorical_feature = [\"item_id\",\"dept_id\",\"cat_id\",\"store_id\",\"state_id\",\"event_name_1\",\"event_name_2\"], verbose_eval = 20, feval= wrmsse)\n",
    "#valid_sets = [train_set, val_set], categorical_feature = [\"item_id\",\"dept_id\",\"cat_id\",\"store_id\",\"state_id\",\"event_name_1\",\"event_name_2\"], verbose_eval = 50, feval= wrmsse)\n",
    "#カテゴリ変数は、エンコードしたかに関わらず明示しておいた方が良さそう"
   ]
  },
  {
   "cell_type": "code",
   "execution_count": 45,
   "metadata": {},
   "outputs": [],
   "source": [
    "import pickle\n",
    "with open('lgb.pickle', mode='wb') as fp:\n",
    "         pickle.dump(model, fp)"
   ]
  },
  {
   "cell_type": "code",
   "execution_count": 42,
   "metadata": {},
   "outputs": [],
   "source": [
    "#いちおうR値でも精度を検証\n",
    "#予測\n",
    "val_pred = model.predict(x_val[features])"
   ]
  },
  {
   "cell_type": "code",
   "execution_count": 24,
   "metadata": {},
   "outputs": [],
   "source": [
    "#x_val.to_pickle(\"lgb_x_val.pickle\")\n",
    "#y_val.to_pickle(\"lgb_y_val.pickle\")"
   ]
  },
  {
   "cell_type": "code",
   "execution_count": 43,
   "metadata": {},
   "outputs": [
    {
     "data": {
      "text/plain": [
       "0.47162795614271924"
      ]
     },
     "execution_count": 43,
     "metadata": {},
     "output_type": "execute_result"
    }
   ],
   "source": [
    "#R値\n",
    "r2_score(val_pred,y_val)"
   ]
  },
  {
   "cell_type": "code",
   "execution_count": 21,
   "metadata": {
    "scrolled": true
   },
   "outputs": [
    {
     "name": "stderr",
     "output_type": "stream",
     "text": [
      "No handles with labels found to put in legend.\n"
     ]
    },
    {
     "data": {
      "text/plain": [
       "<matplotlib.legend.Legend at 0x279a0f54408>"
      ]
     },
     "execution_count": 21,
     "metadata": {},
     "output_type": "execute_result"
    },
    {
     "data": {
      "image/png": "[encoded data removed]",
      "text/plain": [
       "<Figure size 432x288 with 1 Axes>"
      ]
     },
     "metadata": {
      "needs_background": "light"
     },
     "output_type": "display_data"
    }
   ],
   "source": [
    "#R値グラフの表示\n",
    "max_val = np.max(val_pred)\n",
    "if max_val < np.max(y_val):\n",
    "    max_val = np.max(y_val)\n",
    "\n",
    "plt.scatter(val_pred,y_val)\n",
    "plt.plot(np.arange(0,max_val),np.arange(0,max_val),color='red')\n",
    "plt.xlabel(\"predict\")\n",
    "plt.ylabel(\"real\")\n",
    "plt.legend()"
   ]
  },
  {
   "cell_type": "code",
   "execution_count": 22,
   "metadata": {},
   "outputs": [],
   "source": [
    "import pickle"
   ]
  },
  {
   "cell_type": "code",
   "execution_count": 23,
   "metadata": {},
   "outputs": [],
   "source": [
    "with open('lgb4.pickle', mode='wb') as fp:\n",
    "         pickle.dump(model, fp)"
   ]
  },
  {
   "cell_type": "code",
   "execution_count": null,
   "metadata": {},
   "outputs": [],
   "source": []
  },
  {
   "cell_type": "code",
   "execution_count": null,
   "metadata": {},
   "outputs": [],
   "source": []
  },
  {
   "cell_type": "code",
   "execution_count": null,
   "metadata": {},
   "outputs": [],
   "source": []
  },
  {
   "cell_type": "code",
   "execution_count": null,
   "metadata": {},
   "outputs": [],
   "source": [
    "# 1856～1941日(最大ラグ日数分)のtrain_sales_validationデータ\n",
    "te = create_ds()\n",
    "# テスト日のdate名\n",
    "cols = [f\"F{i}\" for i in range(1,29)]\n",
    "    \n",
    "# テストの28日分\n",
    "for tdelta in range(0, 28):\n",
    "    # テスト日\n",
    "    day = fday + timedelta(days=tdelta)\n",
    "    print(tdelta, day)\n",
    "    # テスト日から最大ラグ(57日)前からテスト日までのデータに絞る(4-25日に注目中なら4-25まで)\n",
    "    tst = te[(te['date'] >= day - timedelta(days=maxLags)) & (te['date'] <= day)].copy()\n",
    "    # 特徴量作成 byh\n",
    "    create_features(tst)\n",
    "    # 注目日の学習に用いた特徴量のみにする\n",
    "    tst = tst.loc[tst['date'] == day , trainCols]\n",
    "    # teの方に予測値を代入\n",
    "    te.loc[te['date'] == day, \"sales\"] = alpha * m_lgb.predict(tst) # magic multiplier by kyakovlev\n",
    "    \n",
    "# テスト期間だけに絞る\n",
    "te_sub = te.loc[te['date'] >= fday, [\"id\", \"sales\"]].copy()\n",
    "# FカラムにF1～F28を割り振る\n",
    "te_sub[\"F\"] = [f\"F{rank}\" for rank in te_sub.groupby(\"id\")[\"id\"].cumcount()+1]\n",
    "te_sub = te_sub.set_index([\"id\", \"F\" ]).unstack()[\"sales\"][cols].reset_index()\n",
    "te_sub.fillna(0., inplace = True)\n",
    "te_sub.sort_values(\"id\", inplace = True)\n",
    "te_sub.reset_index(drop=True, inplace = True)\n",
    "te_sub.to_csv(f\"submission_{icount}.csv\",index=False)"
   ]
  },
  {
   "cell_type": "code",
   "execution_count": null,
   "metadata": {},
   "outputs": [],
   "source": []
  },
  {
   "cell_type": "code",
   "execution_count": null,
   "metadata": {},
   "outputs": [],
   "source": []
  },
  {
   "cell_type": "code",
   "execution_count": null,
   "metadata": {},
   "outputs": [],
   "source": []
  },
  {
   "cell_type": "code",
   "execution_count": null,
   "metadata": {},
   "outputs": [],
   "source": []
  },
  {
   "cell_type": "code",
   "execution_count": null,
   "metadata": {},
   "outputs": [],
   "source": []
  },
  {
   "cell_type": "code",
   "execution_count": null,
   "metadata": {},
   "outputs": [],
   "source": []
  },
  {
   "cell_type": "code",
   "execution_count": 52,
   "metadata": {},
   "outputs": [],
   "source": [
    "# Last day used for training\n",
    "trLast = 1913\n",
    "# Maximum lag day\n",
    "maxLags = 57\n",
    "\n",
    "# Create dataset for predictions\n",
    "def create_ds():\n",
    "    \n",
    "    startDay = trLast - maxLags\n",
    "    \n",
    "    numCols = [f\"d_{day}\" for day in range(startDay, trLast + 1)]\n",
    "    catCols = ['id', 'item_id', 'dept_id','store_id', 'cat_id', 'state_id']\n",
    "    \n",
    "    dtype = {numCol:\"float32\" for numCol in numCols} \n",
    "    dtype.update({catCol: \"category\" for catCol in catCols if catCol != \"id\"})\n",
    "    \n",
    "    ds = pd.read_csv(\"sales_train_validation.csv\", \n",
    "                     usecols = catCols + numCols, dtype = dtype)\n",
    "    \n",
    "    for col in catCols:\n",
    "        if col != \"id\":\n",
    "            ds[col] = ds[col].cat.codes.astype(\"int16\")\n",
    "            ds[col] -= ds[col].min()\n",
    "    \n",
    "    for day in range(trLast + 1, trLast+ 28 +1):\n",
    "        ds[f\"d_{day}\"] = np.nan\n",
    "    \n",
    "    ds = pd.melt(ds,\n",
    "                 id_vars = catCols,\n",
    "                 value_vars = [col for col in ds.columns if col.startswith(\"d_\")],\n",
    "                 var_name = \"d\",\n",
    "                 value_name = \"sales\")\n",
    "    \n",
    "    ds = ds.merge(calender, on = \"d\", copy = False)\n",
    "    ds = ds.merge(prices, on = [\"store_id\", \"item_id\", \"wm_yr_wk\"], copy = False)\n",
    "    \n",
    "    return ds"
   ]
  },
  {
   "cell_type": "code",
   "execution_count": 56,
   "metadata": {},
   "outputs": [
    {
     "name": "stdout",
     "output_type": "stream",
     "text": [
      "Mem. usage decreased to  0.12 Mb (41.9% reduction)\n",
      "Mem. usage decreased to 130.48 Mb (37.5% reduction)\n"
     ]
    }
   ],
   "source": [
    "calender = pd.read_csv(\"calendar.csv\").pipe(reduce_mem_usage)\n",
    "prices =  pd.read_csv(\"sell_prices.csv\").pipe(reduce_mem_usage)"
   ]
  },
  {
   "cell_type": "code",
   "execution_count": 57,
   "metadata": {},
   "outputs": [
    {
     "name": "stdout",
     "output_type": "stream",
     "text": [
      "Mem. usage decreased to 45.67 Mb (41.7% reduction)\n"
     ]
    }
   ],
   "source": [
    "prices = encode_categorical(\n",
    "    prices, [\"item_id\", \"store_id\"]\n",
    ").pipe(reduce_mem_usage)"
   ]
  },
  {
   "cell_type": "code",
   "execution_count": 60,
   "metadata": {},
   "outputs": [],
   "source": [
    "def create_features(ds):          \n",
    "    dayLags = [7, 28]\n",
    "    lagSalesCols = [f\"lag_{dayLag}\" for dayLag in dayLags]\n",
    "    for dayLag, lagSalesCol in zip(dayLags, lagSalesCols):\n",
    "        ds[lagSalesCol] = ds[[\"id\",\"sales\"]].groupby(\"id\")[\"sales\"].shift(dayLag)\n",
    "\n",
    "    windows = [7, 28]\n",
    "    for window in windows:\n",
    "        for dayLag, lagSalesCol in zip(dayLags, lagSalesCols):\n",
    "            ds[f\"rmean_{dayLag}_{window}\"] = ds[[\"id\", lagSalesCol]].groupby(\"id\")[lagSalesCol].transform(lambda x: x.rolling(window).mean())\n",
    "          \n",
    "    dateFeatures = {\"wday\": \"weekday\",\n",
    "                    \"week\": \"weekofyear\",\n",
    "                    \"month\": \"month\",\n",
    "                    \"quarter\": \"quarter\",\n",
    "                    \"year\": \"year\",\n",
    "                    \"mday\": \"day\"}\n",
    "\n",
    "    for featName, featFunc in dateFeatures.items():\n",
    "        if featName in ds.columns:\n",
    "            ds[featName] = ds[featName].astype(\"int16\")\n",
    "        else:\n",
    "            ds[featName] = getattr(ds[\"date\"].dt, featFunc).astype(\"int16\")"
   ]
  },
  {
   "cell_type": "code",
   "execution_count": 63,
   "metadata": {},
   "outputs": [],
   "source": [
    "te[\"date\"] = pd.to_datetime(te['date'])"
   ]
  },
  {
   "cell_type": "code",
   "execution_count": 64,
   "metadata": {},
   "outputs": [],
   "source": [
    "fday = datetime(2016,4, 25)\n",
    "day = fday + timedelta(days=0)\n",
    "\n",
    "tst = te[(te['date'] >= day - timedelta(days=maxLags)) & (te['date'] <= day)].copy()\n",
    "        #create_features(tst)"
   ]
  },
  {
   "cell_type": "code",
   "execution_count": 67,
   "metadata": {},
   "outputs": [
    {
     "data": {
      "text/html": [
       "<div>\n",
       "<style scoped>\n",
       "    .dataframe tbody tr th:only-of-type {\n",
       "        vertical-align: middle;\n",
       "    }\n",
       "\n",
       "    .dataframe tbody tr th {\n",
       "        vertical-align: top;\n",
       "    }\n",
       "\n",
       "    .dataframe thead th {\n",
       "        text-align: right;\n",
       "    }\n",
       "</style>\n",
       "<table border=\"1\" class=\"dataframe\">\n",
       "  <thead>\n",
       "    <tr style=\"text-align: right;\">\n",
       "      <th></th>\n",
       "      <th>id</th>\n",
       "      <th>item_id</th>\n",
       "      <th>dept_id</th>\n",
       "      <th>store_id</th>\n",
       "      <th>cat_id</th>\n",
       "      <th>state_id</th>\n",
       "      <th>d</th>\n",
       "      <th>sales</th>\n",
       "      <th>date</th>\n",
       "      <th>wm_yr_wk</th>\n",
       "      <th>...</th>\n",
       "      <th>month</th>\n",
       "      <th>year</th>\n",
       "      <th>event_name_1</th>\n",
       "      <th>event_type_1</th>\n",
       "      <th>event_name_2</th>\n",
       "      <th>event_type_2</th>\n",
       "      <th>snap_CA</th>\n",
       "      <th>snap_TX</th>\n",
       "      <th>snap_WI</th>\n",
       "      <th>sell_price</th>\n",
       "    </tr>\n",
       "  </thead>\n",
       "  <tbody>\n",
       "    <tr>\n",
       "      <th>0</th>\n",
       "      <td>HOBBIES_1_001_CA_1_validation</td>\n",
       "      <td>0</td>\n",
       "      <td>0</td>\n",
       "      <td>0</td>\n",
       "      <td>0</td>\n",
       "      <td>0</td>\n",
       "      <td>d_1856</td>\n",
       "      <td>4.0</td>\n",
       "      <td>2016-02-27</td>\n",
       "      <td>11605</td>\n",
       "      <td>...</td>\n",
       "      <td>2</td>\n",
       "      <td>2016</td>\n",
       "      <td>NaN</td>\n",
       "      <td>NaN</td>\n",
       "      <td>NaN</td>\n",
       "      <td>NaN</td>\n",
       "      <td>0</td>\n",
       "      <td>0</td>\n",
       "      <td>0</td>\n",
       "      <td>2.240234</td>\n",
       "    </tr>\n",
       "    <tr>\n",
       "      <th>1</th>\n",
       "      <td>HOBBIES_1_001_CA_1_validation</td>\n",
       "      <td>0</td>\n",
       "      <td>0</td>\n",
       "      <td>0</td>\n",
       "      <td>0</td>\n",
       "      <td>0</td>\n",
       "      <td>d_1857</td>\n",
       "      <td>2.0</td>\n",
       "      <td>2016-02-28</td>\n",
       "      <td>11605</td>\n",
       "      <td>...</td>\n",
       "      <td>2</td>\n",
       "      <td>2016</td>\n",
       "      <td>NaN</td>\n",
       "      <td>NaN</td>\n",
       "      <td>NaN</td>\n",
       "      <td>NaN</td>\n",
       "      <td>0</td>\n",
       "      <td>0</td>\n",
       "      <td>0</td>\n",
       "      <td>2.240234</td>\n",
       "    </tr>\n",
       "    <tr>\n",
       "      <th>2</th>\n",
       "      <td>HOBBIES_1_001_CA_1_validation</td>\n",
       "      <td>0</td>\n",
       "      <td>0</td>\n",
       "      <td>0</td>\n",
       "      <td>0</td>\n",
       "      <td>0</td>\n",
       "      <td>d_1858</td>\n",
       "      <td>0.0</td>\n",
       "      <td>2016-02-29</td>\n",
       "      <td>11605</td>\n",
       "      <td>...</td>\n",
       "      <td>2</td>\n",
       "      <td>2016</td>\n",
       "      <td>NaN</td>\n",
       "      <td>NaN</td>\n",
       "      <td>NaN</td>\n",
       "      <td>NaN</td>\n",
       "      <td>0</td>\n",
       "      <td>0</td>\n",
       "      <td>0</td>\n",
       "      <td>2.240234</td>\n",
       "    </tr>\n",
       "    <tr>\n",
       "      <th>3</th>\n",
       "      <td>HOBBIES_1_001_CA_1_validation</td>\n",
       "      <td>0</td>\n",
       "      <td>0</td>\n",
       "      <td>0</td>\n",
       "      <td>0</td>\n",
       "      <td>0</td>\n",
       "      <td>d_1859</td>\n",
       "      <td>2.0</td>\n",
       "      <td>2016-03-01</td>\n",
       "      <td>11605</td>\n",
       "      <td>...</td>\n",
       "      <td>3</td>\n",
       "      <td>2016</td>\n",
       "      <td>NaN</td>\n",
       "      <td>NaN</td>\n",
       "      <td>NaN</td>\n",
       "      <td>NaN</td>\n",
       "      <td>1</td>\n",
       "      <td>1</td>\n",
       "      <td>0</td>\n",
       "      <td>2.240234</td>\n",
       "    </tr>\n",
       "    <tr>\n",
       "      <th>4</th>\n",
       "      <td>HOBBIES_1_001_CA_1_validation</td>\n",
       "      <td>0</td>\n",
       "      <td>0</td>\n",
       "      <td>0</td>\n",
       "      <td>0</td>\n",
       "      <td>0</td>\n",
       "      <td>d_1860</td>\n",
       "      <td>0.0</td>\n",
       "      <td>2016-03-02</td>\n",
       "      <td>11605</td>\n",
       "      <td>...</td>\n",
       "      <td>3</td>\n",
       "      <td>2016</td>\n",
       "      <td>NaN</td>\n",
       "      <td>NaN</td>\n",
       "      <td>NaN</td>\n",
       "      <td>NaN</td>\n",
       "      <td>1</td>\n",
       "      <td>0</td>\n",
       "      <td>1</td>\n",
       "      <td>2.240234</td>\n",
       "    </tr>\n",
       "    <tr>\n",
       "      <th>...</th>\n",
       "      <td>...</td>\n",
       "      <td>...</td>\n",
       "      <td>...</td>\n",
       "      <td>...</td>\n",
       "      <td>...</td>\n",
       "      <td>...</td>\n",
       "      <td>...</td>\n",
       "      <td>...</td>\n",
       "      <td>...</td>\n",
       "      <td>...</td>\n",
       "      <td>...</td>\n",
       "      <td>...</td>\n",
       "      <td>...</td>\n",
       "      <td>...</td>\n",
       "      <td>...</td>\n",
       "      <td>...</td>\n",
       "      <td>...</td>\n",
       "      <td>...</td>\n",
       "      <td>...</td>\n",
       "      <td>...</td>\n",
       "      <td>...</td>\n",
       "    </tr>\n",
       "    <tr>\n",
       "      <th>2622135</th>\n",
       "      <td>FOODS_3_825_WI_3_validation</td>\n",
       "      <td>3046</td>\n",
       "      <td>6</td>\n",
       "      <td>9</td>\n",
       "      <td>2</td>\n",
       "      <td>2</td>\n",
       "      <td>d_1941</td>\n",
       "      <td>NaN</td>\n",
       "      <td>2016-05-22</td>\n",
       "      <td>11617</td>\n",
       "      <td>...</td>\n",
       "      <td>5</td>\n",
       "      <td>2016</td>\n",
       "      <td>NaN</td>\n",
       "      <td>NaN</td>\n",
       "      <td>NaN</td>\n",
       "      <td>NaN</td>\n",
       "      <td>0</td>\n",
       "      <td>0</td>\n",
       "      <td>0</td>\n",
       "      <td>19.546875</td>\n",
       "    </tr>\n",
       "    <tr>\n",
       "      <th>2622136</th>\n",
       "      <td>FOODS_3_826_WI_3_validation</td>\n",
       "      <td>3047</td>\n",
       "      <td>6</td>\n",
       "      <td>9</td>\n",
       "      <td>2</td>\n",
       "      <td>2</td>\n",
       "      <td>d_1940</td>\n",
       "      <td>NaN</td>\n",
       "      <td>2016-05-21</td>\n",
       "      <td>11617</td>\n",
       "      <td>...</td>\n",
       "      <td>5</td>\n",
       "      <td>2016</td>\n",
       "      <td>NaN</td>\n",
       "      <td>NaN</td>\n",
       "      <td>NaN</td>\n",
       "      <td>NaN</td>\n",
       "      <td>0</td>\n",
       "      <td>0</td>\n",
       "      <td>0</td>\n",
       "      <td>1.969727</td>\n",
       "    </tr>\n",
       "    <tr>\n",
       "      <th>2622137</th>\n",
       "      <td>FOODS_3_826_WI_3_validation</td>\n",
       "      <td>3047</td>\n",
       "      <td>6</td>\n",
       "      <td>9</td>\n",
       "      <td>2</td>\n",
       "      <td>2</td>\n",
       "      <td>d_1941</td>\n",
       "      <td>NaN</td>\n",
       "      <td>2016-05-22</td>\n",
       "      <td>11617</td>\n",
       "      <td>...</td>\n",
       "      <td>5</td>\n",
       "      <td>2016</td>\n",
       "      <td>NaN</td>\n",
       "      <td>NaN</td>\n",
       "      <td>NaN</td>\n",
       "      <td>NaN</td>\n",
       "      <td>0</td>\n",
       "      <td>0</td>\n",
       "      <td>0</td>\n",
       "      <td>1.969727</td>\n",
       "    </tr>\n",
       "    <tr>\n",
       "      <th>2622138</th>\n",
       "      <td>FOODS_3_827_WI_3_validation</td>\n",
       "      <td>3048</td>\n",
       "      <td>6</td>\n",
       "      <td>9</td>\n",
       "      <td>2</td>\n",
       "      <td>2</td>\n",
       "      <td>d_1940</td>\n",
       "      <td>NaN</td>\n",
       "      <td>2016-05-21</td>\n",
       "      <td>11617</td>\n",
       "      <td>...</td>\n",
       "      <td>5</td>\n",
       "      <td>2016</td>\n",
       "      <td>NaN</td>\n",
       "      <td>NaN</td>\n",
       "      <td>NaN</td>\n",
       "      <td>NaN</td>\n",
       "      <td>0</td>\n",
       "      <td>0</td>\n",
       "      <td>0</td>\n",
       "      <td>5.941406</td>\n",
       "    </tr>\n",
       "    <tr>\n",
       "      <th>2622139</th>\n",
       "      <td>FOODS_3_827_WI_3_validation</td>\n",
       "      <td>3048</td>\n",
       "      <td>6</td>\n",
       "      <td>9</td>\n",
       "      <td>2</td>\n",
       "      <td>2</td>\n",
       "      <td>d_1941</td>\n",
       "      <td>NaN</td>\n",
       "      <td>2016-05-22</td>\n",
       "      <td>11617</td>\n",
       "      <td>...</td>\n",
       "      <td>5</td>\n",
       "      <td>2016</td>\n",
       "      <td>NaN</td>\n",
       "      <td>NaN</td>\n",
       "      <td>NaN</td>\n",
       "      <td>NaN</td>\n",
       "      <td>0</td>\n",
       "      <td>0</td>\n",
       "      <td>0</td>\n",
       "      <td>5.941406</td>\n",
       "    </tr>\n",
       "  </tbody>\n",
       "</table>\n",
       "<p>2622140 rows × 22 columns</p>\n",
       "</div>"
      ],
      "text/plain": [
       "                                    id  item_id  dept_id  store_id  cat_id  \\\n",
       "0        HOBBIES_1_001_CA_1_validation        0        0         0       0   \n",
       "1        HOBBIES_1_001_CA_1_validation        0        0         0       0   \n",
       "2        HOBBIES_1_001_CA_1_validation        0        0         0       0   \n",
       "3        HOBBIES_1_001_CA_1_validation        0        0         0       0   \n",
       "4        HOBBIES_1_001_CA_1_validation        0        0         0       0   \n",
       "...                                ...      ...      ...       ...     ...   \n",
       "2622135    FOODS_3_825_WI_3_validation     3046        6         9       2   \n",
       "2622136    FOODS_3_826_WI_3_validation     3047        6         9       2   \n",
       "2622137    FOODS_3_826_WI_3_validation     3047        6         9       2   \n",
       "2622138    FOODS_3_827_WI_3_validation     3048        6         9       2   \n",
       "2622139    FOODS_3_827_WI_3_validation     3048        6         9       2   \n",
       "\n",
       "         state_id       d  sales       date  wm_yr_wk  ... month  year  \\\n",
       "0               0  d_1856    4.0 2016-02-27     11605  ...     2  2016   \n",
       "1               0  d_1857    2.0 2016-02-28     11605  ...     2  2016   \n",
       "2               0  d_1858    0.0 2016-02-29     11605  ...     2  2016   \n",
       "3               0  d_1859    2.0 2016-03-01     11605  ...     3  2016   \n",
       "4               0  d_1860    0.0 2016-03-02     11605  ...     3  2016   \n",
       "...           ...     ...    ...        ...       ...  ...   ...   ...   \n",
       "2622135         2  d_1941    NaN 2016-05-22     11617  ...     5  2016   \n",
       "2622136         2  d_1940    NaN 2016-05-21     11617  ...     5  2016   \n",
       "2622137         2  d_1941    NaN 2016-05-22     11617  ...     5  2016   \n",
       "2622138         2  d_1940    NaN 2016-05-21     11617  ...     5  2016   \n",
       "2622139         2  d_1941    NaN 2016-05-22     11617  ...     5  2016   \n",
       "\n",
       "         event_name_1  event_type_1 event_name_2 event_type_2 snap_CA snap_TX  \\\n",
       "0                 NaN           NaN          NaN          NaN       0       0   \n",
       "1                 NaN           NaN          NaN          NaN       0       0   \n",
       "2                 NaN           NaN          NaN          NaN       0       0   \n",
       "3                 NaN           NaN          NaN          NaN       1       1   \n",
       "4                 NaN           NaN          NaN          NaN       1       0   \n",
       "...               ...           ...          ...          ...     ...     ...   \n",
       "2622135           NaN           NaN          NaN          NaN       0       0   \n",
       "2622136           NaN           NaN          NaN          NaN       0       0   \n",
       "2622137           NaN           NaN          NaN          NaN       0       0   \n",
       "2622138           NaN           NaN          NaN          NaN       0       0   \n",
       "2622139           NaN           NaN          NaN          NaN       0       0   \n",
       "\n",
       "         snap_WI  sell_price  \n",
       "0              0    2.240234  \n",
       "1              0    2.240234  \n",
       "2              0    2.240234  \n",
       "3              0    2.240234  \n",
       "4              1    2.240234  \n",
       "...          ...         ...  \n",
       "2622135        0   19.546875  \n",
       "2622136        0    1.969727  \n",
       "2622137        0    1.969727  \n",
       "2622138        0    5.941406  \n",
       "2622139        0    5.941406  \n",
       "\n",
       "[2622140 rows x 22 columns]"
      ]
     },
     "execution_count": 67,
     "metadata": {},
     "output_type": "execute_result"
    }
   ],
   "source": [
    "te"
   ]
  },
  {
   "cell_type": "code",
   "execution_count": 65,
   "metadata": {},
   "outputs": [
    {
     "data": {
      "text/html": [
       "<div>\n",
       "<style scoped>\n",
       "    .dataframe tbody tr th:only-of-type {\n",
       "        vertical-align: middle;\n",
       "    }\n",
       "\n",
       "    .dataframe tbody tr th {\n",
       "        vertical-align: top;\n",
       "    }\n",
       "\n",
       "    .dataframe thead th {\n",
       "        text-align: right;\n",
       "    }\n",
       "</style>\n",
       "<table border=\"1\" class=\"dataframe\">\n",
       "  <thead>\n",
       "    <tr style=\"text-align: right;\">\n",
       "      <th></th>\n",
       "      <th>id</th>\n",
       "      <th>item_id</th>\n",
       "      <th>dept_id</th>\n",
       "      <th>store_id</th>\n",
       "      <th>cat_id</th>\n",
       "      <th>state_id</th>\n",
       "      <th>d</th>\n",
       "      <th>sales</th>\n",
       "      <th>date</th>\n",
       "      <th>wm_yr_wk</th>\n",
       "      <th>...</th>\n",
       "      <th>month</th>\n",
       "      <th>year</th>\n",
       "      <th>event_name_1</th>\n",
       "      <th>event_type_1</th>\n",
       "      <th>event_name_2</th>\n",
       "      <th>event_type_2</th>\n",
       "      <th>snap_CA</th>\n",
       "      <th>snap_TX</th>\n",
       "      <th>snap_WI</th>\n",
       "      <th>sell_price</th>\n",
       "    </tr>\n",
       "  </thead>\n",
       "  <tbody>\n",
       "    <tr>\n",
       "      <th>1</th>\n",
       "      <td>HOBBIES_1_001_CA_1_validation</td>\n",
       "      <td>0</td>\n",
       "      <td>0</td>\n",
       "      <td>0</td>\n",
       "      <td>0</td>\n",
       "      <td>0</td>\n",
       "      <td>d_1857</td>\n",
       "      <td>2.0</td>\n",
       "      <td>2016-02-28</td>\n",
       "      <td>11605</td>\n",
       "      <td>...</td>\n",
       "      <td>2</td>\n",
       "      <td>2016</td>\n",
       "      <td>NaN</td>\n",
       "      <td>NaN</td>\n",
       "      <td>NaN</td>\n",
       "      <td>NaN</td>\n",
       "      <td>0</td>\n",
       "      <td>0</td>\n",
       "      <td>0</td>\n",
       "      <td>2.240234</td>\n",
       "    </tr>\n",
       "    <tr>\n",
       "      <th>2</th>\n",
       "      <td>HOBBIES_1_001_CA_1_validation</td>\n",
       "      <td>0</td>\n",
       "      <td>0</td>\n",
       "      <td>0</td>\n",
       "      <td>0</td>\n",
       "      <td>0</td>\n",
       "      <td>d_1858</td>\n",
       "      <td>0.0</td>\n",
       "      <td>2016-02-29</td>\n",
       "      <td>11605</td>\n",
       "      <td>...</td>\n",
       "      <td>2</td>\n",
       "      <td>2016</td>\n",
       "      <td>NaN</td>\n",
       "      <td>NaN</td>\n",
       "      <td>NaN</td>\n",
       "      <td>NaN</td>\n",
       "      <td>0</td>\n",
       "      <td>0</td>\n",
       "      <td>0</td>\n",
       "      <td>2.240234</td>\n",
       "    </tr>\n",
       "    <tr>\n",
       "      <th>3</th>\n",
       "      <td>HOBBIES_1_001_CA_1_validation</td>\n",
       "      <td>0</td>\n",
       "      <td>0</td>\n",
       "      <td>0</td>\n",
       "      <td>0</td>\n",
       "      <td>0</td>\n",
       "      <td>d_1859</td>\n",
       "      <td>2.0</td>\n",
       "      <td>2016-03-01</td>\n",
       "      <td>11605</td>\n",
       "      <td>...</td>\n",
       "      <td>3</td>\n",
       "      <td>2016</td>\n",
       "      <td>NaN</td>\n",
       "      <td>NaN</td>\n",
       "      <td>NaN</td>\n",
       "      <td>NaN</td>\n",
       "      <td>1</td>\n",
       "      <td>1</td>\n",
       "      <td>0</td>\n",
       "      <td>2.240234</td>\n",
       "    </tr>\n",
       "    <tr>\n",
       "      <th>4</th>\n",
       "      <td>HOBBIES_1_001_CA_1_validation</td>\n",
       "      <td>0</td>\n",
       "      <td>0</td>\n",
       "      <td>0</td>\n",
       "      <td>0</td>\n",
       "      <td>0</td>\n",
       "      <td>d_1860</td>\n",
       "      <td>0.0</td>\n",
       "      <td>2016-03-02</td>\n",
       "      <td>11605</td>\n",
       "      <td>...</td>\n",
       "      <td>3</td>\n",
       "      <td>2016</td>\n",
       "      <td>NaN</td>\n",
       "      <td>NaN</td>\n",
       "      <td>NaN</td>\n",
       "      <td>NaN</td>\n",
       "      <td>1</td>\n",
       "      <td>0</td>\n",
       "      <td>1</td>\n",
       "      <td>2.240234</td>\n",
       "    </tr>\n",
       "    <tr>\n",
       "      <th>5</th>\n",
       "      <td>HOBBIES_1_001_CA_1_validation</td>\n",
       "      <td>0</td>\n",
       "      <td>0</td>\n",
       "      <td>0</td>\n",
       "      <td>0</td>\n",
       "      <td>0</td>\n",
       "      <td>d_1861</td>\n",
       "      <td>1.0</td>\n",
       "      <td>2016-03-03</td>\n",
       "      <td>11605</td>\n",
       "      <td>...</td>\n",
       "      <td>3</td>\n",
       "      <td>2016</td>\n",
       "      <td>NaN</td>\n",
       "      <td>NaN</td>\n",
       "      <td>NaN</td>\n",
       "      <td>NaN</td>\n",
       "      <td>1</td>\n",
       "      <td>1</td>\n",
       "      <td>1</td>\n",
       "      <td>2.240234</td>\n",
       "    </tr>\n",
       "    <tr>\n",
       "      <th>...</th>\n",
       "      <td>...</td>\n",
       "      <td>...</td>\n",
       "      <td>...</td>\n",
       "      <td>...</td>\n",
       "      <td>...</td>\n",
       "      <td>...</td>\n",
       "      <td>...</td>\n",
       "      <td>...</td>\n",
       "      <td>...</td>\n",
       "      <td>...</td>\n",
       "      <td>...</td>\n",
       "      <td>...</td>\n",
       "      <td>...</td>\n",
       "      <td>...</td>\n",
       "      <td>...</td>\n",
       "      <td>...</td>\n",
       "      <td>...</td>\n",
       "      <td>...</td>\n",
       "      <td>...</td>\n",
       "      <td>...</td>\n",
       "      <td>...</td>\n",
       "    </tr>\n",
       "    <tr>\n",
       "      <th>1920857</th>\n",
       "      <td>FOODS_3_826_WI_3_validation</td>\n",
       "      <td>3047</td>\n",
       "      <td>6</td>\n",
       "      <td>9</td>\n",
       "      <td>2</td>\n",
       "      <td>2</td>\n",
       "      <td>d_1913</td>\n",
       "      <td>3.0</td>\n",
       "      <td>2016-04-24</td>\n",
       "      <td>11613</td>\n",
       "      <td>...</td>\n",
       "      <td>4</td>\n",
       "      <td>2016</td>\n",
       "      <td>NaN</td>\n",
       "      <td>NaN</td>\n",
       "      <td>NaN</td>\n",
       "      <td>NaN</td>\n",
       "      <td>0</td>\n",
       "      <td>0</td>\n",
       "      <td>0</td>\n",
       "      <td>1.969727</td>\n",
       "    </tr>\n",
       "    <tr>\n",
       "      <th>1920858</th>\n",
       "      <td>FOODS_3_826_WI_3_validation</td>\n",
       "      <td>3047</td>\n",
       "      <td>6</td>\n",
       "      <td>9</td>\n",
       "      <td>2</td>\n",
       "      <td>2</td>\n",
       "      <td>d_1914</td>\n",
       "      <td>NaN</td>\n",
       "      <td>2016-04-25</td>\n",
       "      <td>11613</td>\n",
       "      <td>...</td>\n",
       "      <td>4</td>\n",
       "      <td>2016</td>\n",
       "      <td>NaN</td>\n",
       "      <td>NaN</td>\n",
       "      <td>NaN</td>\n",
       "      <td>NaN</td>\n",
       "      <td>0</td>\n",
       "      <td>0</td>\n",
       "      <td>0</td>\n",
       "      <td>1.969727</td>\n",
       "    </tr>\n",
       "    <tr>\n",
       "      <th>1920863</th>\n",
       "      <td>FOODS_3_827_WI_3_validation</td>\n",
       "      <td>3048</td>\n",
       "      <td>6</td>\n",
       "      <td>9</td>\n",
       "      <td>2</td>\n",
       "      <td>2</td>\n",
       "      <td>d_1912</td>\n",
       "      <td>0.0</td>\n",
       "      <td>2016-04-23</td>\n",
       "      <td>11613</td>\n",
       "      <td>...</td>\n",
       "      <td>4</td>\n",
       "      <td>2016</td>\n",
       "      <td>NaN</td>\n",
       "      <td>NaN</td>\n",
       "      <td>NaN</td>\n",
       "      <td>NaN</td>\n",
       "      <td>0</td>\n",
       "      <td>0</td>\n",
       "      <td>0</td>\n",
       "      <td>5.941406</td>\n",
       "    </tr>\n",
       "    <tr>\n",
       "      <th>1920864</th>\n",
       "      <td>FOODS_3_827_WI_3_validation</td>\n",
       "      <td>3048</td>\n",
       "      <td>6</td>\n",
       "      <td>9</td>\n",
       "      <td>2</td>\n",
       "      <td>2</td>\n",
       "      <td>d_1913</td>\n",
       "      <td>0.0</td>\n",
       "      <td>2016-04-24</td>\n",
       "      <td>11613</td>\n",
       "      <td>...</td>\n",
       "      <td>4</td>\n",
       "      <td>2016</td>\n",
       "      <td>NaN</td>\n",
       "      <td>NaN</td>\n",
       "      <td>NaN</td>\n",
       "      <td>NaN</td>\n",
       "      <td>0</td>\n",
       "      <td>0</td>\n",
       "      <td>0</td>\n",
       "      <td>5.941406</td>\n",
       "    </tr>\n",
       "    <tr>\n",
       "      <th>1920865</th>\n",
       "      <td>FOODS_3_827_WI_3_validation</td>\n",
       "      <td>3048</td>\n",
       "      <td>6</td>\n",
       "      <td>9</td>\n",
       "      <td>2</td>\n",
       "      <td>2</td>\n",
       "      <td>d_1914</td>\n",
       "      <td>NaN</td>\n",
       "      <td>2016-04-25</td>\n",
       "      <td>11613</td>\n",
       "      <td>...</td>\n",
       "      <td>4</td>\n",
       "      <td>2016</td>\n",
       "      <td>NaN</td>\n",
       "      <td>NaN</td>\n",
       "      <td>NaN</td>\n",
       "      <td>NaN</td>\n",
       "      <td>0</td>\n",
       "      <td>0</td>\n",
       "      <td>0</td>\n",
       "      <td>5.941406</td>\n",
       "    </tr>\n",
       "  </tbody>\n",
       "</table>\n",
       "<p>1768420 rows × 22 columns</p>\n",
       "</div>"
      ],
      "text/plain": [
       "                                    id  item_id  dept_id  store_id  cat_id  \\\n",
       "1        HOBBIES_1_001_CA_1_validation        0        0         0       0   \n",
       "2        HOBBIES_1_001_CA_1_validation        0        0         0       0   \n",
       "3        HOBBIES_1_001_CA_1_validation        0        0         0       0   \n",
       "4        HOBBIES_1_001_CA_1_validation        0        0         0       0   \n",
       "5        HOBBIES_1_001_CA_1_validation        0        0         0       0   \n",
       "...                                ...      ...      ...       ...     ...   \n",
       "1920857    FOODS_3_826_WI_3_validation     3047        6         9       2   \n",
       "1920858    FOODS_3_826_WI_3_validation     3047        6         9       2   \n",
       "1920863    FOODS_3_827_WI_3_validation     3048        6         9       2   \n",
       "1920864    FOODS_3_827_WI_3_validation     3048        6         9       2   \n",
       "1920865    FOODS_3_827_WI_3_validation     3048        6         9       2   \n",
       "\n",
       "         state_id       d  sales       date  wm_yr_wk  ... month  year  \\\n",
       "1               0  d_1857    2.0 2016-02-28     11605  ...     2  2016   \n",
       "2               0  d_1858    0.0 2016-02-29     11605  ...     2  2016   \n",
       "3               0  d_1859    2.0 2016-03-01     11605  ...     3  2016   \n",
       "4               0  d_1860    0.0 2016-03-02     11605  ...     3  2016   \n",
       "5               0  d_1861    1.0 2016-03-03     11605  ...     3  2016   \n",
       "...           ...     ...    ...        ...       ...  ...   ...   ...   \n",
       "1920857         2  d_1913    3.0 2016-04-24     11613  ...     4  2016   \n",
       "1920858         2  d_1914    NaN 2016-04-25     11613  ...     4  2016   \n",
       "1920863         2  d_1912    0.0 2016-04-23     11613  ...     4  2016   \n",
       "1920864         2  d_1913    0.0 2016-04-24     11613  ...     4  2016   \n",
       "1920865         2  d_1914    NaN 2016-04-25     11613  ...     4  2016   \n",
       "\n",
       "         event_name_1  event_type_1 event_name_2 event_type_2 snap_CA snap_TX  \\\n",
       "1                 NaN           NaN          NaN          NaN       0       0   \n",
       "2                 NaN           NaN          NaN          NaN       0       0   \n",
       "3                 NaN           NaN          NaN          NaN       1       1   \n",
       "4                 NaN           NaN          NaN          NaN       1       0   \n",
       "5                 NaN           NaN          NaN          NaN       1       1   \n",
       "...               ...           ...          ...          ...     ...     ...   \n",
       "1920857           NaN           NaN          NaN          NaN       0       0   \n",
       "1920858           NaN           NaN          NaN          NaN       0       0   \n",
       "1920863           NaN           NaN          NaN          NaN       0       0   \n",
       "1920864           NaN           NaN          NaN          NaN       0       0   \n",
       "1920865           NaN           NaN          NaN          NaN       0       0   \n",
       "\n",
       "         snap_WI  sell_price  \n",
       "1              0    2.240234  \n",
       "2              0    2.240234  \n",
       "3              0    2.240234  \n",
       "4              1    2.240234  \n",
       "5              1    2.240234  \n",
       "...          ...         ...  \n",
       "1920857        0    1.969727  \n",
       "1920858        0    1.969727  \n",
       "1920863        0    5.941406  \n",
       "1920864        0    5.941406  \n",
       "1920865        0    5.941406  \n",
       "\n",
       "[1768420 rows x 22 columns]"
      ]
     },
     "execution_count": 65,
     "metadata": {},
     "output_type": "execute_result"
    }
   ],
   "source": [
    "tst"
   ]
  },
  {
   "cell_type": "code",
   "execution_count": null,
   "metadata": {},
   "outputs": [],
   "source": []
  },
  {
   "cell_type": "code",
   "execution_count": null,
   "metadata": {},
   "outputs": [],
   "source": []
  },
  {
   "cell_type": "code",
   "execution_count": null,
   "metadata": {},
   "outputs": [],
   "source": []
  },
  {
   "cell_type": "code",
   "execution_count": null,
   "metadata": {},
   "outputs": [],
   "source": [
    "# テスト初日\n",
    "fday = datetime(2016,4, 25) \n",
    "alphas = [1.028, 1.023, 1.018]\n",
    "weights = [1/len(alphas)] * len(alphas)\n",
    "sub = 0.\n",
    "\n",
    "for icount, (alpha, weight) in enumerate(zip(alphas, weights)):\n",
    "    \n",
    "    # 1856～1941日(ラグ日数文)のtrain_sales_validationデータ\n",
    "    te = create_ds()\n",
    "    # テスト日のdate名\n",
    "    cols = [f\"F{i}\" for i in range(1,29)]\n",
    "    \n",
    "    # テストの28日分\n",
    "    for tdelta in range(0, 28):\n",
    "        # テスト日\n",
    "        day = fday + timedelta(days=tdelta)\n",
    "        print(tdelta, day)\n",
    "        # テスト日から最大ラグ(57日)前からテスト日までのデータに絞る(4-25日に注目中なら4-25まで)\n",
    "        tst = te[(te['date'] >= day - timedelta(days=maxLags)) & (te['date'] <= day)].copy()\n",
    "        # 特徴量作成\n",
    "        create_features(tst)\n",
    "        # 注目日の学習に用いた特徴量のみにする\n",
    "        tst = tst.loc[tst['date'] == day , trainCols]\n",
    "        # teの方に予測値を代入\n",
    "        te.loc[te['date'] == day, \"sales\"] = alpha * m_lgb.predict(tst) # magic multiplier by kyakovlev\n",
    "    \n",
    "    # テスト期間だけに絞る\n",
    "    te_sub = te.loc[te['date'] >= fday, [\"id\", \"sales\"]].copy()\n",
    "    # FカラムにF1～F28を割り振る\n",
    "    te_sub[\"F\"] = [f\"F{rank}\" for rank in te_sub.groupby(\"id\")[\"id\"].cumcount()+1]\n",
    "    te_sub = te_sub.set_index([\"id\", \"F\" ]).unstack()[\"sales\"][cols].reset_index()\n",
    "    te_sub.fillna(0., inplace = True)\n",
    "    te_sub.sort_values(\"id\", inplace = True)\n",
    "    te_sub.reset_index(drop=True, inplace = True)\n",
    "    te_sub.to_csv(f\"submission_{icount}.csv\",index=False)\n",
    "    if icount == 0 :\n",
    "        sub = te_sub\n",
    "        sub[cols] *= weight\n",
    "    else:\n",
    "        sub[cols] += te_sub[cols]*weight\n",
    "    print(icount, alpha, weight)\n"
   ]
  },
  {
   "cell_type": "code",
   "execution_count": null,
   "metadata": {},
   "outputs": [],
   "source": []
  },
  {
   "cell_type": "code",
   "execution_count": 33,
   "metadata": {},
   "outputs": [],
   "source": [
    "test = test[test[\"date\"] <= \"2016-05-22\"]"
   ]
  },
  {
   "cell_type": "code",
   "execution_count": 34,
   "metadata": {},
   "outputs": [
    {
     "data": {
      "text/plain": [
       "853720"
      ]
     },
     "execution_count": 34,
     "metadata": {},
     "output_type": "execute_result"
    }
   ],
   "source": [
    "len(test)"
   ]
  },
  {
   "cell_type": "code",
   "execution_count": 38,
   "metadata": {
    "scrolled": true
   },
   "outputs": [],
   "source": [
    "#テストデータを用いて予測\n",
    "y_pred = model.predict(test[features])\n",
    "test['demand'] = y_pred"
   ]
  },
  {
   "cell_type": "code",
   "execution_count": 36,
   "metadata": {},
   "outputs": [
    {
     "data": {
      "text/plain": [
       "Index(['id', 'item_id', 'dept_id', 'cat_id', 'store_id', 'state_id', 'd',\n",
       "       'sell_num', 'date', 'event_name_1', 'event_type_1', 'event_name_2',\n",
       "       'event_type_2', 'snap_CA', 'snap_TX', 'snap_WI', 'sell_price',\n",
       "       'prev_28', 'prev_29', 'prev_35', 'prev_182', 'prev_365', 'p_prev_1',\n",
       "       'rolling_mean_t7', 'rolling_mean_t30', 'rolling_mean_t60',\n",
       "       'rolling_mean_t90', 'rolling_mean_t180', 'price_change_t1',\n",
       "       'rolling_price_max_t365', 'price_change_t365', 'rolling_price_std_t7',\n",
       "       'rolling_price_std_t30', 'year', 'quarter', 'month', 'week', 'day',\n",
       "       'dayofweek', 'is_year_end', 'is_year_start', 'is_quarter_end',\n",
       "       'is_quarter_start', 'is_month_end', 'is_month_start', 'is_weekend',\n",
       "       'demand'],\n",
       "      dtype='object')"
      ]
     },
     "execution_count": 36,
     "metadata": {},
     "output_type": "execute_result"
    }
   ],
   "source": [
    "test.columns"
   ]
  },
  {
   "cell_type": "code",
   "execution_count": 37,
   "metadata": {},
   "outputs": [
    {
     "data": {
      "text/plain": [
       "853720"
      ]
     },
     "execution_count": 37,
     "metadata": {},
     "output_type": "execute_result"
    }
   ],
   "source": [
    "len(y_pred)"
   ]
  },
  {
   "cell_type": "code",
   "execution_count": 41,
   "metadata": {},
   "outputs": [],
   "source": [
    "#提出用ファイルを読み込む\n",
    "submission = pd.read_csv('sample_submission.csv')"
   ]
  },
  {
   "cell_type": "code",
   "execution_count": 33,
   "metadata": {},
   "outputs": [
    {
     "data": {
      "text/plain": [
       "558       2016-04-25\n",
       "559       2016-04-26\n",
       "560       2016-04-27\n",
       "561       2016-04-28\n",
       "562       2016-04-29\n",
       "             ...    \n",
       "2668524   2016-05-18\n",
       "2668525   2016-05-19\n",
       "2668526   2016-05-20\n",
       "2668527   2016-05-21\n",
       "2668528   2016-05-22\n",
       "Name: date, Length: 853720, dtype: datetime64[ns]"
      ]
     },
     "execution_count": 33,
     "metadata": {},
     "output_type": "execute_result"
    }
   ],
   "source": [
    "test[\"date\"]"
   ]
  },
  {
   "cell_type": "code",
   "execution_count": 42,
   "metadata": {},
   "outputs": [],
   "source": [
    "#予測値を提出用ファイルに整形\n",
    "predictions = test[['id', 'date', 'demand']]\n",
    "predictions = pd.pivot(predictions, index = 'id', columns = 'date', values = 'demand').reset_index()\n",
    "predictions.columns = ['id'] + ['F' + str(i + 1) for i in range(28)]\n",
    "\n",
    "evaluation_rows = [row for row in submission['id'] if 'evaluation' in row] \n",
    "evaluation = submission[submission['id'].isin(evaluation_rows)]\n",
    "\n",
    "validation = submission[['id']].merge(predictions, on = 'id')\n",
    "final = pd.concat([validation, evaluation])"
   ]
  },
  {
   "cell_type": "code",
   "execution_count": 43,
   "metadata": {},
   "outputs": [],
   "source": [
    "#finalが提出形式のdfなので、これをto_csvする\n",
    "final.to_csv('create3.csv', index = False)"
   ]
  }
 ],
 "metadata": {
  "kernelspec": {
   "display_name": "Python 3",
   "language": "python",
   "name": "python3"
  },
  "language_info": {
   "codemirror_mode": {
    "name": "ipython",
    "version": 3
   },
   "file_extension": ".py",
   "mimetype": "text/x-python",
   "name": "python",
   "nbconvert_exporter": "python",
   "pygments_lexer": "ipython3",
   "version": "3.7.7"
  }
 },
 "nbformat": 4,
 "nbformat_minor": 4
}
