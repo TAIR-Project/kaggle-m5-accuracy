{
 "cells": [
  {
   "cell_type": "code",
   "execution_count": 1,
   "metadata": {},
   "outputs": [],
   "source": [
    "import numpy as np\n",
    "import pandas as pd\n",
    "import matplotlib.pyplot as plt\n",
    "#import optuna.integration.lightgbm as lgb_o\n",
    "import lightgbm as lgb\n",
    "from sklearn import preprocessing, metrics\n",
    "from sklearn.metrics import r2_score\n",
    "from sklearn.preprocessing import LabelEncoder\n",
    "import gc\n",
    "from tqdm import tqdm\n",
    "from scipy.sparse import csr_matrix\n",
    "from datetime import datetime, timedelta\n",
    "\n",
    "import seaborn as sns\n",
    "from sklearn.model_selection import train_test_split\n",
    "from sklearn.metrics import mean_squared_error\n",
    "import optuna"
   ]
  },
  {
   "cell_type": "code",
   "execution_count": 2,
   "metadata": {},
   "outputs": [
    {
     "name": "stdout",
     "output_type": "stream",
     "text": [
      "C:\\Users\\minih\\python_prac1\\m5\\git-repository\\kaggle-m5-accuracy-library\\library\n"
     ]
    }
   ],
   "source": [
    "cd C:\\Users\\minih\\python_prac1\\m5\\git-repository\\kaggle-m5-accuracy-library\\library"
   ]
  },
  {
   "cell_type": "code",
   "execution_count": 3,
   "metadata": {},
   "outputs": [],
   "source": [
    "from patair import reduce_mem_usage"
   ]
  },
  {
   "cell_type": "code",
   "execution_count": 4,
   "metadata": {},
   "outputs": [
    {
     "name": "stdout",
     "output_type": "stream",
     "text": [
      "C:\\Users\\minih\\python_prac1\\library\\m5\n"
     ]
    }
   ],
   "source": [
    "cd C:/Users/minih/python_prac1/library/m5/"
   ]
  },
  {
   "cell_type": "code",
   "execution_count": 5,
   "metadata": {},
   "outputs": [
    {
     "name": "stdout",
     "output_type": "stream",
     "text": [
      "Mem. usage decreased to  0.64 Mb (0.0% reduction)\n"
     ]
    }
   ],
   "source": [
    "product = pd.read_pickle(\"product.pickle\").pipe(reduce_mem_usage)"
   ]
  },
  {
   "cell_type": "code",
   "execution_count": 6,
   "metadata": {},
   "outputs": [],
   "source": [
    "datas = pd.read_pickle(\"all_sales_train_validation_translated_contain_null.pickle\")"
   ]
  },
  {
   "cell_type": "code",
   "execution_count": null,
   "metadata": {},
   "outputs": [],
   "source": [
    "datas = datas[(datas[\"date\"] == \"2016-02-02\") | (datas[\"date\"] == \"2016-02-03\")]"
   ]
  },
  {
   "cell_type": "code",
   "execution_count": 7,
   "metadata": {},
   "outputs": [],
   "source": [
    "check_feature=[\n",
    "               'prev_28', 'p_prev_1','rolling_mean_t7', \n",
    "               'rolling_mean_t14', 'price_change_t1','rolling_std_t7', 'rolling_std_t14',\n",
    "               'rolling_price_std_t7', 'rolling_price_std_t30', 'price_change_t1', 'rolling_price_std_t7',\n",
    "               ]"
   ]
  },
  {
   "cell_type": "code",
   "execution_count": 8,
   "metadata": {},
   "outputs": [],
   "source": [
    "#dataの時系列特徴列(prev_〇など)をみてnanを含むデータ削除する\n",
    "#len(np.unique(datas.dropna(subset=check_feature)[\"id\"]))\n",
    "datas.dropna(subset=check_feature, inplace=True)\n",
    "#len(np.unique(datas.dropna(subset=check_feature)[\"id\"]))"
   ]
  },
  {
   "cell_type": "code",
   "execution_count": 19,
   "metadata": {},
   "outputs": [
    {
     "data": {
      "text/plain": [
       "id                               object\n",
       "item_id                           int16\n",
       "dept_id                            int8\n",
       "cat_id                             int8\n",
       "store_id                           int8\n",
       "state_id                           int8\n",
       "sell_num                        float16\n",
       "date                     datetime64[ns]\n",
       "event_name_1                       int8\n",
       "event_type_1                       int8\n",
       "event_name_2                       int8\n",
       "event_type_2                       int8\n",
       "snap_CA                            int8\n",
       "snap_TX                            int8\n",
       "snap_WI                            int8\n",
       "sell_price                      float16\n",
       "prev_28                         float16\n",
       "p_prev_1                        float16\n",
       "rolling_mean_t7                 float16\n",
       "rolling_mean_t14                float16\n",
       "rolling_mean_t30                float16\n",
       "rolling_std_t7                  float16\n",
       "rolling_std_t14                 float16\n",
       "rolling_std_t30                 float16\n",
       "price_change_t1                 float16\n",
       "rolling_price_std_t7            float16\n",
       "rolling_price_std_t30           float16\n",
       "year                              int16\n",
       "quarter                            int8\n",
       "month                              int8\n",
       "week                               int8\n",
       "day                                int8\n",
       "dayofweek                          int8\n",
       "is_weekend                         int8\n",
       "dtype: object"
      ]
     },
     "execution_count": 19,
     "metadata": {},
     "output_type": "execute_result"
    }
   ],
   "source": [
    "datas.dtypes"
   ]
  },
  {
   "cell_type": "code",
   "execution_count": 8,
   "metadata": {},
   "outputs": [
    {
     "ename": "KeyboardInterrupt",
     "evalue": "",
     "output_type": "error",
     "traceback": [
      "\u001b[1;31m---------------------------------------------------------------------------\u001b[0m",
      "\u001b[1;31mKeyboardInterrupt\u001b[0m                         Traceback (most recent call last)",
      "\u001b[1;32m<ipython-input-8-a64053b216dd>\u001b[0m in \u001b[0;36m<module>\u001b[1;34m\u001b[0m\n\u001b[0;32m     15\u001b[0m                    \u001b[0mpd\u001b[0m\u001b[1;33m.\u001b[0m\u001b[0mget_dummies\u001b[0m\u001b[1;33m(\u001b[0m\u001b[0mproduct\u001b[0m\u001b[1;33m.\u001b[0m\u001b[0mitem_id\u001b[0m\u001b[1;33m.\u001b[0m\u001b[0mastype\u001b[0m\u001b[1;33m(\u001b[0m\u001b[0mstr\u001b[0m\u001b[1;33m)\u001b[0m\u001b[1;33m,\u001b[0m\u001b[0mdrop_first\u001b[0m\u001b[1;33m=\u001b[0m\u001b[1;32mFalse\u001b[0m\u001b[1;33m)\u001b[0m\u001b[1;33m.\u001b[0m\u001b[0mastype\u001b[0m\u001b[1;33m(\u001b[0m\u001b[1;34m'int8'\u001b[0m\u001b[1;33m)\u001b[0m\u001b[1;33m.\u001b[0m\u001b[0mvalues\u001b[0m\u001b[1;33m,\u001b[0m\u001b[1;33m\u001b[0m\u001b[1;33m\u001b[0m\u001b[0m\n\u001b[0;32m     16\u001b[0m                    \u001b[0mpd\u001b[0m\u001b[1;33m.\u001b[0m\u001b[0mget_dummies\u001b[0m\u001b[1;33m(\u001b[0m\u001b[0mproduct\u001b[0m\u001b[1;33m.\u001b[0m\u001b[0mstate_id\u001b[0m\u001b[1;33m.\u001b[0m\u001b[0mastype\u001b[0m\u001b[1;33m(\u001b[0m\u001b[0mstr\u001b[0m\u001b[1;33m)\u001b[0m \u001b[1;33m+\u001b[0m \u001b[0mproduct\u001b[0m\u001b[1;33m.\u001b[0m\u001b[0mitem_id\u001b[0m\u001b[1;33m.\u001b[0m\u001b[0mastype\u001b[0m\u001b[1;33m(\u001b[0m\u001b[0mstr\u001b[0m\u001b[1;33m)\u001b[0m\u001b[1;33m,\u001b[0m\u001b[0mdrop_first\u001b[0m\u001b[1;33m=\u001b[0m\u001b[1;32mFalse\u001b[0m\u001b[1;33m)\u001b[0m\u001b[1;33m.\u001b[0m\u001b[0mastype\u001b[0m\u001b[1;33m(\u001b[0m\u001b[1;34m'int8'\u001b[0m\u001b[1;33m)\u001b[0m\u001b[1;33m.\u001b[0m\u001b[0mvalues\u001b[0m\u001b[1;33m,\u001b[0m\u001b[1;33m\u001b[0m\u001b[1;33m\u001b[0m\u001b[0m\n\u001b[1;32m---> 17\u001b[1;33m                    \u001b[0mnp\u001b[0m\u001b[1;33m.\u001b[0m\u001b[0midentity\u001b[0m\u001b[1;33m(\u001b[0m\u001b[0mNUM_ITEMS\u001b[0m\u001b[1;33m)\u001b[0m\u001b[1;33m.\u001b[0m\u001b[0mastype\u001b[0m\u001b[1;33m(\u001b[0m\u001b[0mnp\u001b[0m\u001b[1;33m.\u001b[0m\u001b[0mint8\u001b[0m\u001b[1;33m)\u001b[0m \u001b[1;31m#item :level 12\u001b[0m\u001b[1;33m\u001b[0m\u001b[1;33m\u001b[0m\u001b[0m\n\u001b[0m\u001b[0;32m     18\u001b[0m                    ].T\n\u001b[0;32m     19\u001b[0m \u001b[1;33m\u001b[0m\u001b[0m\n",
      "\u001b[1;31mKeyboardInterrupt\u001b[0m: "
     ]
    }
   ],
   "source": [
    "#WRMSSEの計算用(kernelより)\n",
    "\n",
    "NUM_ITEMS = 30490\n",
    "DAYS_PRED = 28\n",
    "\n",
    "weight_mat = np.c_[np.ones([NUM_ITEMS,1]).astype(np.int8), # level 1\n",
    "                   pd.get_dummies(product.state_id.astype(str),drop_first=False).astype('int8').values,\n",
    "                   pd.get_dummies(product.store_id.astype(str),drop_first=False).astype('int8').values,\n",
    "                   pd.get_dummies(product.cat_id.astype(str),drop_first=False).astype('int8').values,\n",
    "                   pd.get_dummies(product.dept_id.astype(str),drop_first=False).astype('int8').values,\n",
    "                   pd.get_dummies(product.state_id.astype(str) + product.cat_id.astype(str),drop_first=False).astype('int8').values,\n",
    "                   pd.get_dummies(product.state_id.astype(str) + product.dept_id.astype(str),drop_first=False).astype('int8').values,\n",
    "                   pd.get_dummies(product.store_id.astype(str) + product.cat_id.astype(str),drop_first=False).astype('int8').values,\n",
    "                   pd.get_dummies(product.store_id.astype(str) + product.dept_id.astype(str),drop_first=False).astype('int8').values,\n",
    "                   pd.get_dummies(product.item_id.astype(str),drop_first=False).astype('int8').values,\n",
    "                   pd.get_dummies(product.state_id.astype(str) + product.item_id.astype(str),drop_first=False).astype('int8').values,\n",
    "                   np.identity(NUM_ITEMS).astype(np.int8) #item :level 12\n",
    "                   ].T\n",
    "\n",
    "weight_mat_csr = csr_matrix(weight_mat)\n",
    "del weight_mat; gc.collect()\n",
    "\n",
    "def weight_calc(data,product):\n",
    "    \n",
    "    # calculate the denominator of RMSSE, and calculate the weight base on sales amount\n",
    "\n",
    "    sales_train_val = pd.read_csv('sales_train_validation.csv')\n",
    "\n",
    "    d_name = ['d_' + str(i+1) for i in range(1913)]\n",
    "\n",
    "    sales_train_val = weight_mat_csr * sales_train_val[d_name].values\n",
    "\n",
    "    # calculate the start position(first non-zero demand observed date) for each item / 商品の最初の売上日\n",
    "    # 1-1914のdayの数列のうち, 売上が存在しない日を一旦0にし、0を9999に置換。そのうえでminimum numberを計算\n",
    "    df_tmp = ((sales_train_val>0) * np.tile(np.arange(1,1914),(weight_mat_csr.shape[0],1)))\n",
    "\n",
    "    start_no = np.min(np.where(df_tmp==0,9999,df_tmp),axis=1)-1\n",
    "\n",
    "    flag = np.dot(np.diag(1/(start_no+1)) , np.tile(np.arange(1,1914),(weight_mat_csr.shape[0],1)))<1\n",
    "\n",
    "    sales_train_val = np.where(flag,np.nan,sales_train_val)\n",
    "\n",
    "    # denominator of RMSSE / RMSSEの分母\n",
    "    weight1 = np.nansum(np.diff(sales_train_val,axis=1)**2,axis=1)/(1913-start_no)\n",
    "\n",
    "    # calculate the sales amount for each item/level\n",
    "    df_tmp = data[(data['date'] > '2016-03-27') & (data['date'] <= '2016-04-24')]\n",
    "    df_tmp['sell_num'] = df_tmp['sell_num'] * df_tmp['sell_price']\n",
    "    df_tmp =df_tmp.groupby(['id'])['sell_num'].apply(np.sum)\n",
    "    df_tmp = df_tmp[product.id].values\n",
    "    \n",
    "    weight2 = weight_mat_csr * df_tmp \n",
    "\n",
    "    weight2 = weight2/np.sum(weight2)\n",
    "\n",
    "    del sales_train_val\n",
    "    gc.collect()\n",
    "    \n",
    "    return weight1, weight2\n",
    "\n",
    "#weight1, weight2 = weight_calc(datas,product)\n",
    "\n",
    "def wrmsse(preds, data):\n",
    "    \n",
    "    # this function is calculate for last 28 days to consider the non-zero demand period\n",
    "    \n",
    "    # actual obserbed values / 正解ラベル\n",
    "    y_true = data.get_label()\n",
    "    \n",
    "    y_true = y_true[-(NUM_ITEMS * DAYS_PRED):]\n",
    "    preds = preds[-(NUM_ITEMS * DAYS_PRED):]\n",
    "    # number of columns\n",
    "    num_col = DAYS_PRED\n",
    "    \n",
    "    # reshape data to original array((NUM_ITEMS*num_col,1)->(NUM_ITEMS, num_col) ) / 推論の結果が 1 次元の配列になっているので直す\n",
    "    #print(preds)\n",
    "    #print(y_true)\n",
    "    reshaped_preds = preds.reshape(num_col, NUM_ITEMS).T\n",
    "    reshaped_true = np.array(y_true).reshape(num_col, NUM_ITEMS).T\n",
    "    \n",
    "          \n",
    "    train = weight_mat_csr*np.c_[reshaped_preds, reshaped_true]\n",
    "    #print(train)\n",
    "    \n",
    "    score = np.sum(\n",
    "                np.sqrt(\n",
    "                    np.mean(\n",
    "                        np.square(\n",
    "                            train[:,:num_col] - train[:,num_col:])\n",
    "                        ,axis=1) / weight1) * weight2)\n",
    "    \n",
    "    return 'wrmsse', score, False\n",
    "\n",
    "def wrmsse_simple(preds, data):\n",
    "    \n",
    "    # actual obserbed values / 正解ラベル\n",
    "    y_true = data.get_label()\n",
    "    \n",
    "    y_true = y_true[-(NUM_ITEMS * DAYS_PRED):]\n",
    "    preds = preds[-(NUM_ITEMS * DAYS_PRED):]\n",
    "    # number of columns\n",
    "    num_col = DAYS_PRED\n",
    "    \n",
    "    # reshape data to original array((NUM_ITEMS*num_col,1)->(NUM_ITEMS, num_col) ) / 推論の結果が 1 次元の配列になっているので直す\n",
    "    reshaped_preds = preds.reshape(num_col, NUM_ITEMS).T\n",
    "    reshaped_true = y_true.reshape(num_col, NUM_ITEMS).T\n",
    "          \n",
    "    train = np.c_[reshaped_preds, reshaped_true]\n",
    "   \n",
    "    \n",
    "    weight2_2 = weight2[:NUM_ITEMS]\n",
    "    weight2_2 = weight2_2/np.sum(weight2_2)\n",
    "    \n",
    "    score = np.sum(\n",
    "                np.sqrt(\n",
    "                    np.mean(\n",
    "                        np.square(\n",
    "                            train[:,:num_col] - train[:,num_col:])\n",
    "                        ,axis=1) /  weight1[:NUM_ITEMS])*weight2_2)\n",
    "    \n",
    "    return 'wrmsse', score, False"
   ]
  },
  {
   "cell_type": "code",
   "execution_count": null,
   "metadata": {},
   "outputs": [],
   "source": [
    "#weight_mat_csr\n",
    "weights = pd.read_pickle(\"weight.pickle\")\n",
    "weight1 = weights[weights.index ==0]\n",
    "weight2 = weights[weights.index ==1]"
   ]
  },
  {
   "cell_type": "code",
   "execution_count": null,
   "metadata": {},
   "outputs": [],
   "source": [
    "weight1=weight1.values\n",
    "weight2=weight2.values"
   ]
  },
  {
   "cell_type": "code",
   "execution_count": null,
   "metadata": {},
   "outputs": [],
   "source": [
    "#x_train = datas[datas['date'] < '2016-04-18']\n",
    "x_train = datas[datas['date'] < '2016-03-28']\n",
    "y_train = x_train['sell_num']\n",
    "#x_val = datas[datas['date'] >= '2016-04-18']\n",
    "x_val = datas[(datas['date'] >= '2016-03-28')& (datas['date'] <= '2016-04-24')]\n",
    "y_val = x_val['sell_num']\n",
    "test = datas[datas['date'] > '2016-04-24']\n",
    "del datas\n",
    "gc.collect()"
   ]
  },
  {
   "cell_type": "code",
   "execution_count": null,
   "metadata": {},
   "outputs": [],
   "source": []
  },
  {
   "cell_type": "code",
   "execution_count": null,
   "metadata": {},
   "outputs": [],
   "source": []
  },
  {
   "cell_type": "code",
   "execution_count": 14,
   "metadata": {},
   "outputs": [],
   "source": [
    "features = [\n",
    "   #訓練に用いる特徴量をここに記述\n",
    "    \"item_id\",\n",
    "    \"dept_id\",\n",
    "    \"cat_id\",\n",
    "    \"store_id\",\n",
    "    \"state_id\",\n",
    "    \"event_name_1\",\n",
    "    #\"event_type_1\",\n",
    "    \"event_name_2\",\n",
    "    #\"event_type_2\",\n",
    "    \n",
    "    \n",
    "    \"snap_CA\",\n",
    "    \"snap_TX\",\n",
    "    \"snap_WI\",\n",
    "    \n",
    "    \"sell_price\",\n",
    "    # demand features.\n",
    "    #'prev_1',\n",
    "    #'prev_2',\n",
    "    #'prev_7', \n",
    "    #'prev_14', \n",
    "    'prev_28',\n",
    "    #'prev_182', \n",
    "    #'prev_365', \n",
    "    'p_prev_1', \n",
    "    'rolling_mean_t7',\n",
    "    'rolling_mean_t14', \n",
    "    'rolling_mean_t30',\n",
    "    'rolling_std_t7',\n",
    "    'rolling_std_t14',\n",
    "    'rolling_std_t30',\n",
    "    #'rolling_mean_t60', \n",
    "    #'rolling_mean_t90',\n",
    "    #'rolling_mean_t180',  \n",
    "    # price features\n",
    "    \"price_change_t1\",\n",
    "    #\"price_change_t365\",\n",
    "    #'rolling_price_max_t365', \n",
    "    #'price_change_t365',\n",
    "    \"rolling_price_std_t7\",\n",
    "    \"rolling_price_std_t30\",\n",
    "    # time features.\n",
    "    \"year\",\n",
    "    \"month\",\n",
    "    \"week\",\n",
    "    \"day\",\n",
    "    \"dayofweek\",\n",
    "    #\"is_year_end\",\n",
    "    #\"is_year_start\",\n",
    "    #\"is_quarter_end\",\n",
    "    #\"is_quarter_start\",\n",
    "    #\"is_month_end\",\n",
    "    #\"is_month_start\",\n",
    "    #\"is_weekend\",\n",
    "]\n",
    "\n",
    "#train_set = lgb_o.Dataset(x_train[features], y_train)\n",
    "#val_set = lgb_o.Dataset(x_val[features], y_val)\n",
    "\n",
    "#del x_train, y_train"
   ]
  },
  {
   "cell_type": "code",
   "execution_count": 18,
   "metadata": {},
   "outputs": [],
   "source": [
    "def objectives(trial):\n",
    "    #==== 最適化したいパラメータ ====\n",
    "    lambda_l1 = trial.suggest_loguniform('lambda_l1', 1e-8, 10.0)\n",
    "    lambda_l2 = trial.suggest_loguniform('lambda_l2', 1e-8, 10.0)\n",
    "         \n",
    "    learning_rate = trial.suggest_uniform('learning_rate', 0, 1.0)\n",
    "     \n",
    "    feature_fraction = trial.suggest_uniform('feature_fraction', 0, 1.0)\n",
    "     \n",
    "    bagging_fraction = trial.suggest_uniform('bagging_fraction', 0, 1.0)\n",
    "    bagging_freq = trial.suggest_int('bagging_freq', 5, 500)\n",
    "     \n",
    "    num_leaves = trial.suggest_int('num_leaves', 5, 1000)\n",
    "    num_iterations = trial.suggest_int('num_iterations', 5, 1000)\n",
    "     \n",
    "    min_child_samples = trial.suggest_int('min_child_samples', 5, 500)\n",
    "    min_child_weight = trial.suggest_int('min_child_weight', 5, 500)\n",
    "     \n",
    "    max_dapth = trial.suggest_int('max_dapth', 5, 100)\n",
    "     \n",
    "    #==== 定義したパラメータ ====\n",
    "    params = {\"objective\": \"poisson\",\n",
    "              \"metric\": \"custom\",\n",
    "              \"lambda_l1\": lambda_l1,\n",
    "              \"lambda_l2\": lambda_l2,\n",
    "              \"learning_rate\": learning_rate,\n",
    "              \"feature_fraction\": feature_fraction,\n",
    "              \"bagging_fraction\": bagging_fraction,\n",
    "              \"bagging_freq\": bagging_freq,\n",
    "              \"num_leaves\": num_leaves,\n",
    "              \"num_iterations\": num_iterations,\n",
    "              \"min_child_samples\": min_child_samples,\n",
    "              \"min_child_weight\": min_child_weight,\n",
    "              \"max_dapth\": max_dapth,\n",
    "              \"verbosity\": -1\n",
    "              }\n",
    "     \n",
    "    dtrain = lgb.Dataset(x_train[features], label=y_train)\n",
    "    dvalid = lgb.Dataset(x_val[features], label=y_val)\n",
    "         \n",
    "    clf = lgb.train(params, \n",
    "                    dtrain, \n",
    "                    2000, \n",
    "                    valid_sets = [dtrain, dvalid],\n",
    "                    verbose_eval=20, \n",
    "                    categorical_feature = [\"item_id\",\"dept_id\",\"cat_id\",\"store_id\",\"state_id\",\"event_name_1\",\"event_name_2\"],\n",
    "                    early_stopping_rounds=50,\n",
    "                    feval=wrmsse,\n",
    "                   )\n",
    "\n",
    "    val_pred = clf.predict(x_val[features])\n",
    "    a,score,b = wrmsse(val_pred, lgb.Dataset(x_val[features], label=y_val))\n",
    "    return score"
   ]
  },
  {
   "cell_type": "code",
   "execution_count": 19,
   "metadata": {},
   "outputs": [
    {
     "name": "stderr",
     "output_type": "stream",
     "text": [
      "C:\\Users\\minih\\anaconda3\\lib\\site-packages\\lightgbm\\engine.py:148: UserWarning: Found `num_iterations` in params. Will use it instead of argument\n",
      "  warnings.warn(\"Found `{}` in params. Will use it instead of argument\".format(alias))\n",
      "C:\\Users\\minih\\anaconda3\\lib\\site-packages\\lightgbm\\basic.py:1295: UserWarning: categorical_feature in Dataset is overridden.\n",
      "New categorical_feature is ['cat_id', 'dept_id', 'event_name_1', 'event_name_2', 'item_id', 'state_id', 'store_id']\n",
      "  'New categorical_feature is {}'.format(sorted(list(categorical_feature))))\n"
     ]
    },
    {
     "name": "stdout",
     "output_type": "stream",
     "text": [
      "Training until validation scores don't improve for 50 rounds\n",
      "[20]\ttraining's wrmsse: 0.334274\tvalid_1's wrmsse: 1834.86\n",
      "[40]\ttraining's wrmsse: 0.313164\tvalid_1's wrmsse: 6.06482\n",
      "[60]\ttraining's wrmsse: 0.315491\tvalid_1's wrmsse: 0.784392\n",
      "[80]\ttraining's wrmsse: 0.314586\tvalid_1's wrmsse: 0.781552\n",
      "[100]\ttraining's wrmsse: 0.315028\tvalid_1's wrmsse: 0.770199\n",
      "[120]\ttraining's wrmsse: 0.308494\tvalid_1's wrmsse: 0.765467\n",
      "[140]\ttraining's wrmsse: 0.311103\tvalid_1's wrmsse: 0.781698\n",
      "[160]\ttraining's wrmsse: 0.313135\tvalid_1's wrmsse: 0.777136\n",
      "Early stopping, best iteration is:\n",
      "[112]\ttraining's wrmsse: 0.316328\tvalid_1's wrmsse: 0.761077\n"
     ]
    },
    {
     "name": "stderr",
     "output_type": "stream",
     "text": [
      "[W 2020-06-02 22:33:05,696] Setting status of trial#0 as TrialState.FAIL because of the following error: AttributeError(\"'Series' object has no attribute 'get_label'\")\n",
      "Traceback (most recent call last):\n",
      "  File \"C:\\Users\\minih\\anaconda3\\lib\\site-packages\\optuna\\study.py\", line 699, in _run_trial\n",
      "    result = func(trial)\n",
      "  File \"<ipython-input-18-5fbf02df4506>\", line 52, in objectives\n",
      "    a,score,b = wrmsse(val_pred,y_val)\n",
      "  File \"<ipython-input-9-a64053b216dd>\", line 68, in wrmsse\n",
      "    y_true = data.get_label()\n",
      "  File \"C:\\Users\\minih\\anaconda3\\lib\\site-packages\\pandas\\core\\generic.py\", line 5274, in __getattr__\n",
      "    return object.__getattribute__(self, name)\n",
      "AttributeError: 'Series' object has no attribute 'get_label'\n"
     ]
    },
    {
     "ename": "AttributeError",
     "evalue": "'Series' object has no attribute 'get_label'",
     "output_type": "error",
     "traceback": [
      "\u001b[1;31m---------------------------------------------------------------------------\u001b[0m",
      "\u001b[1;31mAttributeError\u001b[0m                            Traceback (most recent call last)",
      "\u001b[1;32m<ipython-input-19-06754b2feb06>\u001b[0m in \u001b[0;36m<module>\u001b[1;34m\u001b[0m\n\u001b[0;32m      1\u001b[0m \u001b[1;31m# scoreの最大化を目指す\"maximize\"。最小化の場合は\"minimize\"\u001b[0m\u001b[1;33m\u001b[0m\u001b[1;33m\u001b[0m\u001b[1;33m\u001b[0m\u001b[0m\n\u001b[0;32m      2\u001b[0m \u001b[0mopt\u001b[0m \u001b[1;33m=\u001b[0m \u001b[0moptuna\u001b[0m\u001b[1;33m.\u001b[0m\u001b[0mcreate_study\u001b[0m\u001b[1;33m(\u001b[0m\u001b[0mdirection\u001b[0m\u001b[1;33m=\u001b[0m\u001b[1;34m'minimize'\u001b[0m\u001b[1;33m)\u001b[0m\u001b[1;33m\u001b[0m\u001b[1;33m\u001b[0m\u001b[0m\n\u001b[1;32m----> 3\u001b[1;33m \u001b[0mopt\u001b[0m\u001b[1;33m.\u001b[0m\u001b[0moptimize\u001b[0m\u001b[1;33m(\u001b[0m\u001b[0mobjectives\u001b[0m\u001b[1;33m,\u001b[0m \u001b[0mn_trials\u001b[0m\u001b[1;33m=\u001b[0m\u001b[1;36m5\u001b[0m\u001b[1;33m)\u001b[0m\u001b[1;33m\u001b[0m\u001b[1;33m\u001b[0m\u001b[0m\n\u001b[0m\u001b[0;32m      4\u001b[0m \u001b[1;33m\u001b[0m\u001b[0m\n\u001b[0;32m      5\u001b[0m \u001b[0mtrial\u001b[0m \u001b[1;33m=\u001b[0m \u001b[0mopt\u001b[0m\u001b[1;33m.\u001b[0m\u001b[0mbest_trial\u001b[0m\u001b[1;33m\u001b[0m\u001b[1;33m\u001b[0m\u001b[0m\n",
      "\u001b[1;32m~\\anaconda3\\lib\\site-packages\\optuna\\study.py\u001b[0m in \u001b[0;36moptimize\u001b[1;34m(self, func, n_trials, timeout, n_jobs, catch, callbacks, gc_after_trial, show_progress_bar)\u001b[0m\n\u001b[0;32m    332\u001b[0m             \u001b[1;32mif\u001b[0m \u001b[0mn_jobs\u001b[0m \u001b[1;33m==\u001b[0m \u001b[1;36m1\u001b[0m\u001b[1;33m:\u001b[0m\u001b[1;33m\u001b[0m\u001b[1;33m\u001b[0m\u001b[0m\n\u001b[0;32m    333\u001b[0m                 self._optimize_sequential(\n\u001b[1;32m--> 334\u001b[1;33m                     \u001b[0mfunc\u001b[0m\u001b[1;33m,\u001b[0m \u001b[0mn_trials\u001b[0m\u001b[1;33m,\u001b[0m \u001b[0mtimeout\u001b[0m\u001b[1;33m,\u001b[0m \u001b[0mcatch\u001b[0m\u001b[1;33m,\u001b[0m \u001b[0mcallbacks\u001b[0m\u001b[1;33m,\u001b[0m \u001b[0mgc_after_trial\u001b[0m\u001b[1;33m,\u001b[0m \u001b[1;32mNone\u001b[0m\u001b[1;33m\u001b[0m\u001b[1;33m\u001b[0m\u001b[0m\n\u001b[0m\u001b[0;32m    335\u001b[0m                 )\n\u001b[0;32m    336\u001b[0m             \u001b[1;32melse\u001b[0m\u001b[1;33m:\u001b[0m\u001b[1;33m\u001b[0m\u001b[1;33m\u001b[0m\u001b[0m\n",
      "\u001b[1;32m~\\anaconda3\\lib\\site-packages\\optuna\\study.py\u001b[0m in \u001b[0;36m_optimize_sequential\u001b[1;34m(self, func, n_trials, timeout, catch, callbacks, gc_after_trial, time_start)\u001b[0m\n\u001b[0;32m    646\u001b[0m                     \u001b[1;32mbreak\u001b[0m\u001b[1;33m\u001b[0m\u001b[1;33m\u001b[0m\u001b[0m\n\u001b[0;32m    647\u001b[0m \u001b[1;33m\u001b[0m\u001b[0m\n\u001b[1;32m--> 648\u001b[1;33m             \u001b[0mself\u001b[0m\u001b[1;33m.\u001b[0m\u001b[0m_run_trial_and_callbacks\u001b[0m\u001b[1;33m(\u001b[0m\u001b[0mfunc\u001b[0m\u001b[1;33m,\u001b[0m \u001b[0mcatch\u001b[0m\u001b[1;33m,\u001b[0m \u001b[0mcallbacks\u001b[0m\u001b[1;33m,\u001b[0m \u001b[0mgc_after_trial\u001b[0m\u001b[1;33m)\u001b[0m\u001b[1;33m\u001b[0m\u001b[1;33m\u001b[0m\u001b[0m\n\u001b[0m\u001b[0;32m    649\u001b[0m \u001b[1;33m\u001b[0m\u001b[0m\n\u001b[0;32m    650\u001b[0m             \u001b[0mself\u001b[0m\u001b[1;33m.\u001b[0m\u001b[0m_progress_bar\u001b[0m\u001b[1;33m.\u001b[0m\u001b[0mupdate\u001b[0m\u001b[1;33m(\u001b[0m\u001b[1;33m(\u001b[0m\u001b[0mdatetime\u001b[0m\u001b[1;33m.\u001b[0m\u001b[0mdatetime\u001b[0m\u001b[1;33m.\u001b[0m\u001b[0mnow\u001b[0m\u001b[1;33m(\u001b[0m\u001b[1;33m)\u001b[0m \u001b[1;33m-\u001b[0m \u001b[0mtime_start\u001b[0m\u001b[1;33m)\u001b[0m\u001b[1;33m.\u001b[0m\u001b[0mtotal_seconds\u001b[0m\u001b[1;33m(\u001b[0m\u001b[1;33m)\u001b[0m\u001b[1;33m)\u001b[0m\u001b[1;33m\u001b[0m\u001b[1;33m\u001b[0m\u001b[0m\n",
      "\u001b[1;32m~\\anaconda3\\lib\\site-packages\\optuna\\study.py\u001b[0m in \u001b[0;36m_run_trial_and_callbacks\u001b[1;34m(self, func, catch, callbacks, gc_after_trial)\u001b[0m\n\u001b[0;32m    676\u001b[0m         \u001b[1;31m# type: (...) -> None\u001b[0m\u001b[1;33m\u001b[0m\u001b[1;33m\u001b[0m\u001b[1;33m\u001b[0m\u001b[0m\n\u001b[0;32m    677\u001b[0m \u001b[1;33m\u001b[0m\u001b[0m\n\u001b[1;32m--> 678\u001b[1;33m         \u001b[0mtrial\u001b[0m \u001b[1;33m=\u001b[0m \u001b[0mself\u001b[0m\u001b[1;33m.\u001b[0m\u001b[0m_run_trial\u001b[0m\u001b[1;33m(\u001b[0m\u001b[0mfunc\u001b[0m\u001b[1;33m,\u001b[0m \u001b[0mcatch\u001b[0m\u001b[1;33m,\u001b[0m \u001b[0mgc_after_trial\u001b[0m\u001b[1;33m)\u001b[0m\u001b[1;33m\u001b[0m\u001b[1;33m\u001b[0m\u001b[0m\n\u001b[0m\u001b[0;32m    679\u001b[0m         \u001b[1;32mif\u001b[0m \u001b[0mcallbacks\u001b[0m \u001b[1;32mis\u001b[0m \u001b[1;32mnot\u001b[0m \u001b[1;32mNone\u001b[0m\u001b[1;33m:\u001b[0m\u001b[1;33m\u001b[0m\u001b[1;33m\u001b[0m\u001b[0m\n\u001b[0;32m    680\u001b[0m             \u001b[0mfrozen_trial\u001b[0m \u001b[1;33m=\u001b[0m \u001b[0mself\u001b[0m\u001b[1;33m.\u001b[0m\u001b[0m_storage\u001b[0m\u001b[1;33m.\u001b[0m\u001b[0mget_trial\u001b[0m\u001b[1;33m(\u001b[0m\u001b[0mtrial\u001b[0m\u001b[1;33m.\u001b[0m\u001b[0m_trial_id\u001b[0m\u001b[1;33m)\u001b[0m\u001b[1;33m\u001b[0m\u001b[1;33m\u001b[0m\u001b[0m\n",
      "\u001b[1;32m~\\anaconda3\\lib\\site-packages\\optuna\\study.py\u001b[0m in \u001b[0;36m_run_trial\u001b[1;34m(self, func, catch, gc_after_trial)\u001b[0m\n\u001b[0;32m    697\u001b[0m \u001b[1;33m\u001b[0m\u001b[0m\n\u001b[0;32m    698\u001b[0m         \u001b[1;32mtry\u001b[0m\u001b[1;33m:\u001b[0m\u001b[1;33m\u001b[0m\u001b[1;33m\u001b[0m\u001b[0m\n\u001b[1;32m--> 699\u001b[1;33m             \u001b[0mresult\u001b[0m \u001b[1;33m=\u001b[0m \u001b[0mfunc\u001b[0m\u001b[1;33m(\u001b[0m\u001b[0mtrial\u001b[0m\u001b[1;33m)\u001b[0m\u001b[1;33m\u001b[0m\u001b[1;33m\u001b[0m\u001b[0m\n\u001b[0m\u001b[0;32m    700\u001b[0m         \u001b[1;32mexcept\u001b[0m \u001b[0mexceptions\u001b[0m\u001b[1;33m.\u001b[0m\u001b[0mTrialPruned\u001b[0m \u001b[1;32mas\u001b[0m \u001b[0me\u001b[0m\u001b[1;33m:\u001b[0m\u001b[1;33m\u001b[0m\u001b[1;33m\u001b[0m\u001b[0m\n\u001b[0;32m    701\u001b[0m             message = \"Setting status of trial#{} as {}. {}\".format(\n",
      "\u001b[1;32m<ipython-input-18-5fbf02df4506>\u001b[0m in \u001b[0;36mobjectives\u001b[1;34m(trial)\u001b[0m\n\u001b[0;32m     50\u001b[0m \u001b[1;33m\u001b[0m\u001b[0m\n\u001b[0;32m     51\u001b[0m     \u001b[0mval_pred\u001b[0m \u001b[1;33m=\u001b[0m \u001b[0mclf\u001b[0m\u001b[1;33m.\u001b[0m\u001b[0mpredict\u001b[0m\u001b[1;33m(\u001b[0m\u001b[0mx_val\u001b[0m\u001b[1;33m[\u001b[0m\u001b[0mfeatures\u001b[0m\u001b[1;33m]\u001b[0m\u001b[1;33m)\u001b[0m\u001b[1;33m\u001b[0m\u001b[1;33m\u001b[0m\u001b[0m\n\u001b[1;32m---> 52\u001b[1;33m     \u001b[0ma\u001b[0m\u001b[1;33m,\u001b[0m\u001b[0mscore\u001b[0m\u001b[1;33m,\u001b[0m\u001b[0mb\u001b[0m \u001b[1;33m=\u001b[0m \u001b[0mwrmsse\u001b[0m\u001b[1;33m(\u001b[0m\u001b[0mval_pred\u001b[0m\u001b[1;33m,\u001b[0m\u001b[0my_val\u001b[0m\u001b[1;33m)\u001b[0m\u001b[1;33m\u001b[0m\u001b[1;33m\u001b[0m\u001b[0m\n\u001b[0m\u001b[0;32m     53\u001b[0m     \u001b[1;32mreturn\u001b[0m \u001b[0mscore\u001b[0m\u001b[1;33m\u001b[0m\u001b[1;33m\u001b[0m\u001b[0m\n",
      "\u001b[1;32m<ipython-input-9-a64053b216dd>\u001b[0m in \u001b[0;36mwrmsse\u001b[1;34m(preds, data)\u001b[0m\n\u001b[0;32m     66\u001b[0m \u001b[1;33m\u001b[0m\u001b[0m\n\u001b[0;32m     67\u001b[0m     \u001b[1;31m# actual obserbed values / 正解ラベル\u001b[0m\u001b[1;33m\u001b[0m\u001b[1;33m\u001b[0m\u001b[1;33m\u001b[0m\u001b[0m\n\u001b[1;32m---> 68\u001b[1;33m     \u001b[0my_true\u001b[0m \u001b[1;33m=\u001b[0m \u001b[0mdata\u001b[0m\u001b[1;33m.\u001b[0m\u001b[0mget_label\u001b[0m\u001b[1;33m(\u001b[0m\u001b[1;33m)\u001b[0m\u001b[1;33m\u001b[0m\u001b[1;33m\u001b[0m\u001b[0m\n\u001b[0m\u001b[0;32m     69\u001b[0m \u001b[1;33m\u001b[0m\u001b[0m\n\u001b[0;32m     70\u001b[0m     \u001b[0my_true\u001b[0m \u001b[1;33m=\u001b[0m \u001b[0my_true\u001b[0m\u001b[1;33m[\u001b[0m\u001b[1;33m-\u001b[0m\u001b[1;33m(\u001b[0m\u001b[0mNUM_ITEMS\u001b[0m \u001b[1;33m*\u001b[0m \u001b[0mDAYS_PRED\u001b[0m\u001b[1;33m)\u001b[0m\u001b[1;33m:\u001b[0m\u001b[1;33m]\u001b[0m\u001b[1;33m\u001b[0m\u001b[1;33m\u001b[0m\u001b[0m\n",
      "\u001b[1;32m~\\anaconda3\\lib\\site-packages\\pandas\\core\\generic.py\u001b[0m in \u001b[0;36m__getattr__\u001b[1;34m(self, name)\u001b[0m\n\u001b[0;32m   5272\u001b[0m             \u001b[1;32mif\u001b[0m \u001b[0mself\u001b[0m\u001b[1;33m.\u001b[0m\u001b[0m_info_axis\u001b[0m\u001b[1;33m.\u001b[0m\u001b[0m_can_hold_identifiers_and_holds_name\u001b[0m\u001b[1;33m(\u001b[0m\u001b[0mname\u001b[0m\u001b[1;33m)\u001b[0m\u001b[1;33m:\u001b[0m\u001b[1;33m\u001b[0m\u001b[1;33m\u001b[0m\u001b[0m\n\u001b[0;32m   5273\u001b[0m                 \u001b[1;32mreturn\u001b[0m \u001b[0mself\u001b[0m\u001b[1;33m[\u001b[0m\u001b[0mname\u001b[0m\u001b[1;33m]\u001b[0m\u001b[1;33m\u001b[0m\u001b[1;33m\u001b[0m\u001b[0m\n\u001b[1;32m-> 5274\u001b[1;33m             \u001b[1;32mreturn\u001b[0m \u001b[0mobject\u001b[0m\u001b[1;33m.\u001b[0m\u001b[0m__getattribute__\u001b[0m\u001b[1;33m(\u001b[0m\u001b[0mself\u001b[0m\u001b[1;33m,\u001b[0m \u001b[0mname\u001b[0m\u001b[1;33m)\u001b[0m\u001b[1;33m\u001b[0m\u001b[1;33m\u001b[0m\u001b[0m\n\u001b[0m\u001b[0;32m   5275\u001b[0m \u001b[1;33m\u001b[0m\u001b[0m\n\u001b[0;32m   5276\u001b[0m     \u001b[1;32mdef\u001b[0m \u001b[0m__setattr__\u001b[0m\u001b[1;33m(\u001b[0m\u001b[0mself\u001b[0m\u001b[1;33m,\u001b[0m \u001b[0mname\u001b[0m\u001b[1;33m:\u001b[0m \u001b[0mstr\u001b[0m\u001b[1;33m,\u001b[0m \u001b[0mvalue\u001b[0m\u001b[1;33m)\u001b[0m \u001b[1;33m->\u001b[0m \u001b[1;32mNone\u001b[0m\u001b[1;33m:\u001b[0m\u001b[1;33m\u001b[0m\u001b[1;33m\u001b[0m\u001b[0m\n",
      "\u001b[1;31mAttributeError\u001b[0m: 'Series' object has no attribute 'get_label'"
     ]
    }
   ],
   "source": [
    "# scoreの最大化を目指す\"maximize\"。最小化の場合は\"minimize\"\n",
    "opt = optuna.create_study(direction='minimize')\n",
    "opt.optimize(objectives, n_trials=5)\n",
    " \n",
    "trial = opt.best_trial\n",
    "print(trial.params)"
   ]
  },
  {
   "cell_type": "code",
   "execution_count": null,
   "metadata": {},
   "outputs": [],
   "source": []
  },
  {
   "cell_type": "code",
   "execution_count": 17,
   "metadata": {},
   "outputs": [],
   "source": [
    "# 学習用基本パラメータ\n",
    "lgb_params = {\n",
    "    \"objective\" : \"poisson\",\n",
    "    'metric': 'custom',\n",
    "    'rondom_state':32,\n",
    "}"
   ]
  },
  {
   "cell_type": "code",
   "execution_count": 25,
   "metadata": {},
   "outputs": [
    {
     "data": {
      "text/plain": [
       "{'lambda_l1': 0.0,\n",
       " 'lambda_l2': 0.0,\n",
       " 'num_leaves': 31,\n",
       " 'feature_fraction': 1.0,\n",
       " 'bagging_fraction': 1.0,\n",
       " 'bagging_freq': 0,\n",
       " 'min_child_samples': 20}"
      ]
     },
     "execution_count": 25,
     "metadata": {},
     "output_type": "execute_result"
    }
   ],
   "source": [
    "best_params"
   ]
  },
  {
   "cell_type": "code",
   "execution_count": 32,
   "metadata": {},
   "outputs": [
    {
     "name": "stderr",
     "output_type": "stream",
     "text": [
      "C:\\Users\\minih\\anaconda3\\lib\\site-packages\\optuna\\_experimental.py:90: ExperimentalWarning: train is experimental (supported from v0.18.0). The interface can change in the future.\n",
      "  ExperimentalWarning,\n",
      "feature_fraction, val_score: inf:   0%|          | 0/7 [00:00<?, ?it/s]"
     ]
    },
    {
     "name": "stdout",
     "output_type": "stream",
     "text": [
      "Training until validation scores don't improve for 50 rounds\n",
      "[20]\ttraining's rmse: 1.99993\tvalid_1's rmse: 2.59877\n",
      "[40]\ttraining's rmse: 1.73454\tvalid_1's rmse: 2.37224\n",
      "[60]\ttraining's rmse: 1.61838\tvalid_1's rmse: 2.30091\n",
      "[80]\ttraining's rmse: 1.55206\tvalid_1's rmse: 2.2795\n",
      "[100]\ttraining's rmse: 1.51869\tvalid_1's rmse: 2.26717\n",
      "[120]\ttraining's rmse: 1.48901\tvalid_1's rmse: 2.26163\n",
      "[140]\ttraining's rmse: 1.46462\tvalid_1's rmse: 2.25797\n",
      "[160]\ttraining's rmse: 1.43566\tvalid_1's rmse: 2.25579\n",
      "[180]\ttraining's rmse: 1.42281\tvalid_1's rmse: 2.25402\n",
      "[200]\ttraining's rmse: 1.39389\tvalid_1's rmse: 2.2541\n",
      "[220]\ttraining's rmse: 1.37425\tvalid_1's rmse: 2.25452\n",
      "[240]\ttraining's rmse: 1.35969\tvalid_1's rmse: 2.25385\n",
      "Early stopping, best iteration is:\n",
      "[192]\ttraining's rmse: 1.40295\tvalid_1's rmse: 2.25303\n"
     ]
    },
    {
     "name": "stderr",
     "output_type": "stream",
     "text": [
      "feature_fraction, val_score: 2.253028:  14%|#4        | 1/7 [00:04<00:28,  4.77s/it][I 2020-05-29 18:05:08,316] Finished trial#0 with value: 2.253027953669946 with parameters: {'feature_fraction': 0.8}. Best is trial#0 with value: 2.253027953669946.\n",
      "feature_fraction, val_score: 2.253028:  14%|#4        | 1/7 [00:05<00:28,  4.77s/it]"
     ]
    },
    {
     "name": "stdout",
     "output_type": "stream",
     "text": [
      "Training until validation scores don't improve for 50 rounds\n",
      "[20]\ttraining's rmse: 2.00734\tvalid_1's rmse: 2.60665\n",
      "[40]\ttraining's rmse: 1.73482\tvalid_1's rmse: 2.37443\n",
      "[60]\ttraining's rmse: 1.60989\tvalid_1's rmse: 2.29929\n",
      "[80]\ttraining's rmse: 1.54803\tvalid_1's rmse: 2.28192\n",
      "[100]\ttraining's rmse: 1.51679\tvalid_1's rmse: 2.27259\n",
      "[120]\ttraining's rmse: 1.48368\tvalid_1's rmse: 2.26616\n",
      "[140]\ttraining's rmse: 1.46334\tvalid_1's rmse: 2.26329\n",
      "[160]\ttraining's rmse: 1.44334\tvalid_1's rmse: 2.26077\n",
      "[180]\ttraining's rmse: 1.42818\tvalid_1's rmse: 2.25967\n",
      "[200]\ttraining's rmse: 1.40606\tvalid_1's rmse: 2.26219\n",
      "[220]\ttraining's rmse: 1.38529\tvalid_1's rmse: 2.26355\n",
      "Early stopping, best iteration is:\n",
      "[173]\ttraining's rmse: 1.43252\tvalid_1's rmse: 2.25926\n"
     ]
    },
    {
     "name": "stderr",
     "output_type": "stream",
     "text": [
      "feature_fraction, val_score: 2.253028:  29%|##8       | 2/7 [00:09<00:23,  4.72s/it][I 2020-05-29 18:05:12,859] Finished trial#1 with value: 2.2592622024555 with parameters: {'feature_fraction': 1.0}. Best is trial#0 with value: 2.253027953669946.\n",
      "feature_fraction, val_score: 2.253028:  29%|##8       | 2/7 [00:09<00:23,  4.72s/it]"
     ]
    },
    {
     "name": "stdout",
     "output_type": "stream",
     "text": [
      "Training until validation scores don't improve for 50 rounds\n",
      "[20]\ttraining's rmse: 2.02197\tvalid_1's rmse: 2.616\n",
      "[40]\ttraining's rmse: 1.74915\tvalid_1's rmse: 2.38029\n",
      "[60]\ttraining's rmse: 1.62558\tvalid_1's rmse: 2.30414\n",
      "[80]\ttraining's rmse: 1.55272\tvalid_1's rmse: 2.2755\n",
      "[100]\ttraining's rmse: 1.51591\tvalid_1's rmse: 2.2654\n",
      "[120]\ttraining's rmse: 1.48391\tvalid_1's rmse: 2.25964\n",
      "[140]\ttraining's rmse: 1.46062\tvalid_1's rmse: 2.25585\n",
      "[160]\ttraining's rmse: 1.43088\tvalid_1's rmse: 2.25336\n",
      "[180]\ttraining's rmse: 1.40764\tvalid_1's rmse: 2.25074\n",
      "[200]\ttraining's rmse: 1.38353\tvalid_1's rmse: 2.25361\n",
      "[220]\ttraining's rmse: 1.36317\tvalid_1's rmse: 2.25554\n",
      "Early stopping, best iteration is:\n",
      "[181]\ttraining's rmse: 1.4071\tvalid_1's rmse: 2.25039\n"
     ]
    },
    {
     "name": "stderr",
     "output_type": "stream",
     "text": [
      "feature_fraction, val_score: 2.250385:  43%|####2     | 3/7 [00:13<00:18,  4.63s/it][I 2020-05-29 18:05:17,338] Finished trial#2 with value: 2.2503852512942957 with parameters: {'feature_fraction': 0.7}. Best is trial#2 with value: 2.2503852512942957.\n",
      "feature_fraction, val_score: 2.250385:  43%|####2     | 3/7 [00:14<00:18,  4.63s/it]"
     ]
    },
    {
     "name": "stdout",
     "output_type": "stream",
     "text": [
      "Training until validation scores don't improve for 50 rounds\n",
      "[20]\ttraining's rmse: 2.02491\tvalid_1's rmse: 2.61555\n",
      "[40]\ttraining's rmse: 1.75747\tvalid_1's rmse: 2.38154\n",
      "[60]\ttraining's rmse: 1.64418\tvalid_1's rmse: 2.31217\n",
      "[80]\ttraining's rmse: 1.56833\tvalid_1's rmse: 2.28517\n",
      "[100]\ttraining's rmse: 1.52946\tvalid_1's rmse: 2.27251\n",
      "[120]\ttraining's rmse: 1.49645\tvalid_1's rmse: 2.26752\n",
      "[140]\ttraining's rmse: 1.46455\tvalid_1's rmse: 2.26443\n",
      "[160]\ttraining's rmse: 1.43345\tvalid_1's rmse: 2.26344\n",
      "[180]\ttraining's rmse: 1.41438\tvalid_1's rmse: 2.26433\n",
      "[200]\ttraining's rmse: 1.39094\tvalid_1's rmse: 2.26478\n",
      "Early stopping, best iteration is:\n",
      "[155]\ttraining's rmse: 1.44286\tvalid_1's rmse: 2.26215\n"
     ]
    },
    {
     "name": "stderr",
     "output_type": "stream",
     "text": [
      "feature_fraction, val_score: 2.250385:  57%|#####7    | 4/7 [00:17<00:13,  4.41s/it][I 2020-05-29 18:05:21,226] Finished trial#3 with value: 2.2621458764752704 with parameters: {'feature_fraction': 0.6}. Best is trial#2 with value: 2.2503852512942957.\n",
      "feature_fraction, val_score: 2.250385:  57%|#####7    | 4/7 [00:17<00:13,  4.41s/it]"
     ]
    },
    {
     "name": "stdout",
     "output_type": "stream",
     "text": [
      "Training until validation scores don't improve for 50 rounds\n",
      "[20]\ttraining's rmse: 2.02952\tvalid_1's rmse: 2.62249\n",
      "[40]\ttraining's rmse: 1.76621\tvalid_1's rmse: 2.38963\n",
      "[60]\ttraining's rmse: 1.66076\tvalid_1's rmse: 2.3222\n",
      "[80]\ttraining's rmse: 1.57485\tvalid_1's rmse: 2.28873\n",
      "[100]\ttraining's rmse: 1.53739\tvalid_1's rmse: 2.27952\n",
      "[120]\ttraining's rmse: 1.50045\tvalid_1's rmse: 2.27287\n",
      "[140]\ttraining's rmse: 1.4709\tvalid_1's rmse: 2.27031\n",
      "[160]\ttraining's rmse: 1.44179\tvalid_1's rmse: 2.26859\n",
      "[180]\ttraining's rmse: 1.42111\tvalid_1's rmse: 2.26797\n",
      "[200]\ttraining's rmse: 1.39764\tvalid_1's rmse: 2.27056\n",
      "[220]\ttraining's rmse: 1.37846\tvalid_1's rmse: 2.2697\n",
      "Early stopping, best iteration is:\n",
      "[178]\ttraining's rmse: 1.42249\tvalid_1's rmse: 2.26706\n"
     ]
    },
    {
     "name": "stderr",
     "output_type": "stream",
     "text": [
      "feature_fraction, val_score: 2.250385:  71%|#######1  | 5/7 [00:22<00:08,  4.48s/it][I 2020-05-29 18:05:25,837] Finished trial#4 with value: 2.2670634130212357 with parameters: {'feature_fraction': 0.5}. Best is trial#2 with value: 2.2503852512942957.\n",
      "feature_fraction, val_score: 2.250385:  71%|#######1  | 5/7 [00:22<00:08,  4.48s/it]"
     ]
    },
    {
     "name": "stdout",
     "output_type": "stream",
     "text": [
      "Training until validation scores don't improve for 50 rounds\n",
      "[20]\ttraining's rmse: 2.07719\tvalid_1's rmse: 2.66586\n",
      "[40]\ttraining's rmse: 1.82783\tvalid_1's rmse: 2.45091\n",
      "[60]\ttraining's rmse: 1.70162\tvalid_1's rmse: 2.36511\n",
      "[80]\ttraining's rmse: 1.62139\tvalid_1's rmse: 2.32512\n",
      "[100]\ttraining's rmse: 1.57399\tvalid_1's rmse: 2.31229\n",
      "[120]\ttraining's rmse: 1.53481\tvalid_1's rmse: 2.30449\n",
      "[140]\ttraining's rmse: 1.49937\tvalid_1's rmse: 2.30343\n",
      "[160]\ttraining's rmse: 1.47409\tvalid_1's rmse: 2.30087\n",
      "[180]\ttraining's rmse: 1.44789\tvalid_1's rmse: 2.30085\n",
      "[200]\ttraining's rmse: 1.42496\tvalid_1's rmse: 2.30159\n",
      "[220]\ttraining's rmse: 1.40397\tvalid_1's rmse: 2.29993\n",
      "[240]\ttraining's rmse: 1.38276\tvalid_1's rmse: 2.29989\n",
      "[260]\ttraining's rmse: 1.36378\tvalid_1's rmse: 2.30039\n",
      "[280]\ttraining's rmse: 1.34826\tvalid_1's rmse: 2.29964\n",
      "[300]\ttraining's rmse: 1.3307\tvalid_1's rmse: 2.29857\n",
      "[320]\ttraining's rmse: 1.31362\tvalid_1's rmse: 2.29803\n",
      "[340]\ttraining's rmse: 1.29962\tvalid_1's rmse: 2.2968\n",
      "[360]\ttraining's rmse: 1.28483\tvalid_1's rmse: 2.29653\n",
      "[380]\ttraining's rmse: 1.26947\tvalid_1's rmse: 2.29832\n",
      "[400]\ttraining's rmse: 1.25753\tvalid_1's rmse: 2.29765\n",
      "Early stopping, best iteration is:\n",
      "[354]\ttraining's rmse: 1.28892\tvalid_1's rmse: 2.29597\n"
     ]
    },
    {
     "name": "stderr",
     "output_type": "stream",
     "text": [
      "feature_fraction, val_score: 2.250385:  86%|########5 | 6/7 [00:28<00:04,  4.97s/it][I 2020-05-29 18:05:31,928] Finished trial#5 with value: 2.2959671271233657 with parameters: {'feature_fraction': 0.4}. Best is trial#2 with value: 2.2503852512942957.\n",
      "feature_fraction, val_score: 2.250385:  86%|########5 | 6/7 [00:28<00:04,  4.97s/it]"
     ]
    },
    {
     "name": "stdout",
     "output_type": "stream",
     "text": [
      "Training until validation scores don't improve for 50 rounds\n",
      "[20]\ttraining's rmse: 2.00094\tvalid_1's rmse: 2.60141\n",
      "[40]\ttraining's rmse: 1.73416\tvalid_1's rmse: 2.3746\n",
      "[60]\ttraining's rmse: 1.61985\tvalid_1's rmse: 2.30531\n",
      "[80]\ttraining's rmse: 1.54781\tvalid_1's rmse: 2.28072\n",
      "[100]\ttraining's rmse: 1.51785\tvalid_1's rmse: 2.26879\n",
      "[120]\ttraining's rmse: 1.48927\tvalid_1's rmse: 2.26382\n",
      "[140]\ttraining's rmse: 1.46082\tvalid_1's rmse: 2.25984\n",
      "[160]\ttraining's rmse: 1.43877\tvalid_1's rmse: 2.25607\n",
      "[180]\ttraining's rmse: 1.42069\tvalid_1's rmse: 2.25345\n",
      "[200]\ttraining's rmse: 1.39242\tvalid_1's rmse: 2.25578\n",
      "[220]\ttraining's rmse: 1.37901\tvalid_1's rmse: 2.25587\n",
      "Early stopping, best iteration is:\n",
      "[188]\ttraining's rmse: 1.41125\tvalid_1's rmse: 2.25327\n"
     ]
    },
    {
     "name": "stderr",
     "output_type": "stream",
     "text": [
      "feature_fraction, val_score: 2.250385: 100%|##########| 7/7 [00:33<00:00,  5.05s/it][I 2020-05-29 18:05:37,238] Finished trial#6 with value: 2.2532689302949858 with parameters: {'feature_fraction': 0.8999999999999999}. Best is trial#2 with value: 2.2503852512942957.\n",
      "feature_fraction, val_score: 2.250385: 100%|##########| 7/7 [00:33<00:00,  4.85s/it]\n",
      "num_leaves, val_score: 2.250385:   0%|          | 0/20 [00:00<?, ?it/s]"
     ]
    },
    {
     "name": "stdout",
     "output_type": "stream",
     "text": [
      "Training until validation scores don't improve for 50 rounds\n",
      "[20]\ttraining's rmse: 1.89135\tvalid_1's rmse: 2.59918\n",
      "[40]\ttraining's rmse: 1.52426\tvalid_1's rmse: 2.37729\n",
      "[60]\ttraining's rmse: 1.35036\tvalid_1's rmse: 2.30426\n",
      "[80]\ttraining's rmse: 1.21773\tvalid_1's rmse: 2.27347\n",
      "[100]\ttraining's rmse: 1.15203\tvalid_1's rmse: 2.26958\n",
      "[120]\ttraining's rmse: 1.09653\tvalid_1's rmse: 2.27046\n",
      "[140]\ttraining's rmse: 1.05063\tvalid_1's rmse: 2.27413\n",
      "[160]\ttraining's rmse: 1.0041\tvalid_1's rmse: 2.27907\n",
      "Early stopping, best iteration is:\n",
      "[113]\ttraining's rmse: 1.11951\tvalid_1's rmse: 2.26788\n"
     ]
    },
    {
     "name": "stderr",
     "output_type": "stream",
     "text": [
      "num_leaves, val_score: 2.250385:   5%|5         | 1/20 [00:05<01:50,  5.80s/it][I 2020-05-29 18:05:43,264] Finished trial#7 with value: 2.2678759941226194 with parameters: {'num_leaves': 144}. Best is trial#7 with value: 2.2678759941226194.\n",
      "num_leaves, val_score: 2.250385:   5%|5         | 1/20 [00:06<01:50,  5.80s/it]"
     ]
    },
    {
     "name": "stdout",
     "output_type": "stream",
     "text": [
      "Training until validation scores don't improve for 50 rounds\n",
      "[20]\ttraining's rmse: 1.86282\tvalid_1's rmse: 2.59731\n",
      "[40]\ttraining's rmse: 1.46713\tvalid_1's rmse: 2.37366\n",
      "[60]\ttraining's rmse: 1.26881\tvalid_1's rmse: 2.29866\n",
      "[80]\ttraining's rmse: 1.12863\tvalid_1's rmse: 2.27102\n",
      "[100]\ttraining's rmse: 1.05027\tvalid_1's rmse: 2.26757\n",
      "[120]\ttraining's rmse: 0.986608\tvalid_1's rmse: 2.26732\n",
      "[140]\ttraining's rmse: 0.924352\tvalid_1's rmse: 2.27536\n",
      "[160]\ttraining's rmse: 0.868112\tvalid_1's rmse: 2.28099\n",
      "Early stopping, best iteration is:\n",
      "[114]\ttraining's rmse: 1.00917\tvalid_1's rmse: 2.26466\n"
     ]
    },
    {
     "name": "stderr",
     "output_type": "stream",
     "text": [
      "num_leaves, val_score: 2.250385:  10%|#         | 2/20 [00:12<01:50,  6.16s/it][I 2020-05-29 18:05:50,275] Finished trial#8 with value: 2.2646613412063052 with parameters: {'num_leaves': 222}. Best is trial#8 with value: 2.2646613412063052.\n",
      "num_leaves, val_score: 2.250385:  10%|#         | 2/20 [00:13<01:50,  6.16s/it]"
     ]
    },
    {
     "name": "stdout",
     "output_type": "stream",
     "text": [
      "Training until validation scores don't improve for 50 rounds\n",
      "[20]\ttraining's rmse: 1.8922\tvalid_1's rmse: 2.59754\n",
      "[40]\ttraining's rmse: 1.52559\tvalid_1's rmse: 2.36863\n",
      "[60]\ttraining's rmse: 1.35373\tvalid_1's rmse: 2.29577\n",
      "[80]\ttraining's rmse: 1.22806\tvalid_1's rmse: 2.26943\n",
      "[100]\ttraining's rmse: 1.1637\tvalid_1's rmse: 2.26251\n",
      "[120]\ttraining's rmse: 1.10977\tvalid_1's rmse: 2.26184\n",
      "[140]\ttraining's rmse: 1.06982\tvalid_1's rmse: 2.26386\n",
      "[160]\ttraining's rmse: 1.01868\tvalid_1's rmse: 2.2689\n",
      "Early stopping, best iteration is:\n",
      "[114]\ttraining's rmse: 1.12813\tvalid_1's rmse: 2.26039\n"
     ]
    },
    {
     "name": "stderr",
     "output_type": "stream",
     "text": [
      "num_leaves, val_score: 2.250385:  15%|#5        | 3/20 [00:18<01:43,  6.06s/it][I 2020-05-29 18:05:56,101] Finished trial#9 with value: 2.2603941562457024 with parameters: {'num_leaves': 140}. Best is trial#9 with value: 2.2603941562457024.\n",
      "num_leaves, val_score: 2.250385:  15%|#5        | 3/20 [00:18<01:43,  6.06s/it]"
     ]
    },
    {
     "name": "stdout",
     "output_type": "stream",
     "text": [
      "Training until validation scores don't improve for 50 rounds\n",
      "[20]\ttraining's rmse: 1.92226\tvalid_1's rmse: 2.59847\n",
      "[40]\ttraining's rmse: 1.59054\tvalid_1's rmse: 2.37476\n",
      "[60]\ttraining's rmse: 1.44202\tvalid_1's rmse: 2.30087\n",
      "[80]\ttraining's rmse: 1.3339\tvalid_1's rmse: 2.27549\n",
      "[100]\ttraining's rmse: 1.28321\tvalid_1's rmse: 2.26668\n",
      "[120]\ttraining's rmse: 1.23697\tvalid_1's rmse: 2.26809\n",
      "[140]\ttraining's rmse: 1.19877\tvalid_1's rmse: 2.26846\n",
      "Early stopping, best iteration is:\n",
      "[101]\ttraining's rmse: 1.28106\tvalid_1's rmse: 2.26667\n"
     ]
    },
    {
     "name": "stderr",
     "output_type": "stream",
     "text": [
      "num_leaves, val_score: 2.250385:  20%|##        | 4/20 [00:22<01:28,  5.54s/it][I 2020-05-29 18:06:00,414] Finished trial#10 with value: 2.266674724461265 with parameters: {'num_leaves': 85}. Best is trial#9 with value: 2.2603941562457024.\n",
      "num_leaves, val_score: 2.250385:  20%|##        | 4/20 [00:23<01:28,  5.54s/it]"
     ]
    },
    {
     "name": "stdout",
     "output_type": "stream",
     "text": [
      "Training until validation scores don't improve for 50 rounds\n",
      "[20]\ttraining's rmse: 2.19373\tvalid_1's rmse: 2.72704\n",
      "[40]\ttraining's rmse: 1.94557\tvalid_1's rmse: 2.47499\n",
      "[60]\ttraining's rmse: 1.84491\tvalid_1's rmse: 2.38268\n",
      "[80]\ttraining's rmse: 1.79257\tvalid_1's rmse: 2.34247\n",
      "[100]\ttraining's rmse: 1.77404\tvalid_1's rmse: 2.32491\n",
      "[120]\ttraining's rmse: 1.75884\tvalid_1's rmse: 2.31633\n",
      "[140]\ttraining's rmse: 1.74379\tvalid_1's rmse: 2.31095\n",
      "[160]\ttraining's rmse: 1.72673\tvalid_1's rmse: 2.30013\n",
      "[180]\ttraining's rmse: 1.71639\tvalid_1's rmse: 2.29715\n",
      "[200]\ttraining's rmse: 1.70402\tvalid_1's rmse: 2.29188\n",
      "[220]\ttraining's rmse: 1.69136\tvalid_1's rmse: 2.28719\n",
      "[240]\ttraining's rmse: 1.68069\tvalid_1's rmse: 2.28107\n",
      "[260]\ttraining's rmse: 1.67099\tvalid_1's rmse: 2.27529\n",
      "[280]\ttraining's rmse: 1.66342\tvalid_1's rmse: 2.27244\n",
      "[300]\ttraining's rmse: 1.65375\tvalid_1's rmse: 2.27097\n",
      "[320]\ttraining's rmse: 1.64602\tvalid_1's rmse: 2.26778\n",
      "[340]\ttraining's rmse: 1.63886\tvalid_1's rmse: 2.2662\n",
      "[360]\ttraining's rmse: 1.62974\tvalid_1's rmse: 2.26786\n",
      "[380]\ttraining's rmse: 1.62352\tvalid_1's rmse: 2.26594\n",
      "[400]\ttraining's rmse: 1.61632\tvalid_1's rmse: 2.26312\n",
      "[420]\ttraining's rmse: 1.60864\tvalid_1's rmse: 2.26294\n",
      "[440]\ttraining's rmse: 1.60352\tvalid_1's rmse: 2.26214\n",
      "[460]\ttraining's rmse: 1.59811\tvalid_1's rmse: 2.26041\n",
      "[480]\ttraining's rmse: 1.59003\tvalid_1's rmse: 2.26239\n",
      "[500]\ttraining's rmse: 1.58282\tvalid_1's rmse: 2.26126\n",
      "[520]\ttraining's rmse: 1.577\tvalid_1's rmse: 2.26152\n",
      "[540]\ttraining's rmse: 1.57139\tvalid_1's rmse: 2.26047\n",
      "[560]\ttraining's rmse: 1.5636\tvalid_1's rmse: 2.25981\n",
      "[580]\ttraining's rmse: 1.55923\tvalid_1's rmse: 2.25883\n",
      "[600]\ttraining's rmse: 1.55287\tvalid_1's rmse: 2.25948\n",
      "[620]\ttraining's rmse: 1.54879\tvalid_1's rmse: 2.26063\n",
      "Early stopping, best iteration is:\n",
      "[580]\ttraining's rmse: 1.55923\tvalid_1's rmse: 2.25883\n"
     ]
    },
    {
     "name": "stderr",
     "output_type": "stream",
     "text": [
      "num_leaves, val_score: 2.250385:  25%|##5       | 5/20 [00:27<01:20,  5.34s/it][I 2020-05-29 18:06:05,377] Finished trial#11 with value: 2.258828686577221 with parameters: {'num_leaves': 7}. Best is trial#11 with value: 2.258828686577221.\n",
      "num_leaves, val_score: 2.250385:  25%|##5       | 5/20 [00:28<01:20,  5.34s/it]"
     ]
    },
    {
     "name": "stdout",
     "output_type": "stream",
     "text": [
      "Training until validation scores don't improve for 50 rounds\n",
      "[20]\ttraining's rmse: 1.98168\tvalid_1's rmse: 2.60618\n",
      "[40]\ttraining's rmse: 1.6943\tvalid_1's rmse: 2.37652\n",
      "[60]\ttraining's rmse: 1.56711\tvalid_1's rmse: 2.30063\n",
      "[80]\ttraining's rmse: 1.4851\tvalid_1's rmse: 2.26857\n",
      "[100]\ttraining's rmse: 1.44554\tvalid_1's rmse: 2.25874\n",
      "[120]\ttraining's rmse: 1.41658\tvalid_1's rmse: 2.25629\n",
      "[140]\ttraining's rmse: 1.38521\tvalid_1's rmse: 2.25427\n",
      "[160]\ttraining's rmse: 1.35734\tvalid_1's rmse: 2.25561\n",
      "[180]\ttraining's rmse: 1.32722\tvalid_1's rmse: 2.25808\n",
      "Early stopping, best iteration is:\n",
      "[137]\ttraining's rmse: 1.38767\tvalid_1's rmse: 2.25397\n"
     ]
    },
    {
     "name": "stderr",
     "output_type": "stream",
     "text": [
      "num_leaves, val_score: 2.250385:  30%|###       | 6/20 [00:32<01:10,  5.01s/it][I 2020-05-29 18:06:09,554] Finished trial#12 with value: 2.253971947139862 with parameters: {'num_leaves': 43}. Best is trial#12 with value: 2.253971947139862.\n",
      "num_leaves, val_score: 2.250385:  30%|###       | 6/20 [00:32<01:10,  5.01s/it]"
     ]
    },
    {
     "name": "stdout",
     "output_type": "stream",
     "text": [
      "Training until validation scores don't improve for 50 rounds\n",
      "[20]\ttraining's rmse: 2.21465\tvalid_1's rmse: 2.74553\n",
      "[40]\ttraining's rmse: 1.9792\tvalid_1's rmse: 2.51203\n",
      "[60]\ttraining's rmse: 1.88602\tvalid_1's rmse: 2.42476\n",
      "[80]\ttraining's rmse: 1.8242\tvalid_1's rmse: 2.37218\n",
      "[100]\ttraining's rmse: 1.80135\tvalid_1's rmse: 2.35107\n",
      "[120]\ttraining's rmse: 1.78674\tvalid_1's rmse: 2.34232\n",
      "[140]\ttraining's rmse: 1.77197\tvalid_1's rmse: 2.33316\n",
      "[160]\ttraining's rmse: 1.75748\tvalid_1's rmse: 2.32335\n",
      "[180]\ttraining's rmse: 1.74972\tvalid_1's rmse: 2.32077\n",
      "[200]\ttraining's rmse: 1.73379\tvalid_1's rmse: 2.30952\n",
      "[220]\ttraining's rmse: 1.72082\tvalid_1's rmse: 2.30148\n",
      "[240]\ttraining's rmse: 1.7136\tvalid_1's rmse: 2.29848\n",
      "[260]\ttraining's rmse: 1.70488\tvalid_1's rmse: 2.29157\n",
      "[280]\ttraining's rmse: 1.69594\tvalid_1's rmse: 2.28688\n",
      "[300]\ttraining's rmse: 1.68959\tvalid_1's rmse: 2.28532\n",
      "[320]\ttraining's rmse: 1.68344\tvalid_1's rmse: 2.282\n",
      "[340]\ttraining's rmse: 1.67288\tvalid_1's rmse: 2.28105\n",
      "[360]\ttraining's rmse: 1.6672\tvalid_1's rmse: 2.281\n",
      "[380]\ttraining's rmse: 1.6607\tvalid_1's rmse: 2.2767\n",
      "[400]\ttraining's rmse: 1.65144\tvalid_1's rmse: 2.27439\n",
      "[420]\ttraining's rmse: 1.64509\tvalid_1's rmse: 2.2742\n",
      "[440]\ttraining's rmse: 1.63967\tvalid_1's rmse: 2.2718\n",
      "[460]\ttraining's rmse: 1.63149\tvalid_1's rmse: 2.27129\n",
      "[480]\ttraining's rmse: 1.62579\tvalid_1's rmse: 2.26899\n",
      "[500]\ttraining's rmse: 1.6192\tvalid_1's rmse: 2.26736\n",
      "[520]\ttraining's rmse: 1.61387\tvalid_1's rmse: 2.26675\n",
      "[540]\ttraining's rmse: 1.60639\tvalid_1's rmse: 2.26653\n",
      "[560]\ttraining's rmse: 1.60066\tvalid_1's rmse: 2.26648\n",
      "[580]\ttraining's rmse: 1.5964\tvalid_1's rmse: 2.2643\n",
      "[600]\ttraining's rmse: 1.58942\tvalid_1's rmse: 2.26442\n",
      "[620]\ttraining's rmse: 1.58495\tvalid_1's rmse: 2.26427\n",
      "[640]\ttraining's rmse: 1.57985\tvalid_1's rmse: 2.26397\n",
      "[660]\ttraining's rmse: 1.57654\tvalid_1's rmse: 2.26479\n",
      "[680]\ttraining's rmse: 1.57037\tvalid_1's rmse: 2.26455\n",
      "Early stopping, best iteration is:\n",
      "[633]\ttraining's rmse: 1.58314\tvalid_1's rmse: 2.26345\n"
     ]
    },
    {
     "name": "stderr",
     "output_type": "stream",
     "text": [
      "num_leaves, val_score: 2.250385:  35%|###5      | 7/20 [00:37<01:06,  5.08s/it][I 2020-05-29 18:06:14,778] Finished trial#13 with value: 2.263451091419747 with parameters: {'num_leaves': 6}. Best is trial#12 with value: 2.253971947139862.\n",
      "num_leaves, val_score: 2.250385:  35%|###5      | 7/20 [00:37<01:06,  5.08s/it]"
     ]
    },
    {
     "name": "stdout",
     "output_type": "stream",
     "text": [
      "Training until validation scores don't improve for 50 rounds\n",
      "[20]\ttraining's rmse: 1.99938\tvalid_1's rmse: 2.60236\n",
      "[40]\ttraining's rmse: 1.72731\tvalid_1's rmse: 2.37109\n",
      "[60]\ttraining's rmse: 1.59918\tvalid_1's rmse: 2.29276\n",
      "[80]\ttraining's rmse: 1.52146\tvalid_1's rmse: 2.26206\n",
      "[100]\ttraining's rmse: 1.47808\tvalid_1's rmse: 2.25107\n",
      "[120]\ttraining's rmse: 1.4482\tvalid_1's rmse: 2.24489\n",
      "[140]\ttraining's rmse: 1.41776\tvalid_1's rmse: 2.24456\n",
      "[160]\ttraining's rmse: 1.38942\tvalid_1's rmse: 2.2459\n",
      "[180]\ttraining's rmse: 1.36971\tvalid_1's rmse: 2.24769\n",
      "Early stopping, best iteration is:\n",
      "[146]\ttraining's rmse: 1.40893\tvalid_1's rmse: 2.24395\n"
     ]
    },
    {
     "name": "stderr",
     "output_type": "stream",
     "text": [
      "num_leaves, val_score: 2.243954:  40%|####      | 8/20 [00:41<00:56,  4.74s/it][I 2020-05-29 18:06:18,854] Finished trial#14 with value: 2.2439541856024547 with parameters: {'num_leaves': 36}. Best is trial#14 with value: 2.2439541856024547.\n",
      "num_leaves, val_score: 2.243954:  40%|####      | 8/20 [00:41<00:56,  4.74s/it]"
     ]
    },
    {
     "name": "stdout",
     "output_type": "stream",
     "text": [
      "Training until validation scores don't improve for 50 rounds\n",
      "[20]\ttraining's rmse: 1.89135\tvalid_1's rmse: 2.59918\n",
      "[40]\ttraining's rmse: 1.52426\tvalid_1's rmse: 2.37729\n",
      "[60]\ttraining's rmse: 1.35036\tvalid_1's rmse: 2.30426\n",
      "[80]\ttraining's rmse: 1.21773\tvalid_1's rmse: 2.27347\n",
      "[100]\ttraining's rmse: 1.15203\tvalid_1's rmse: 2.26958\n",
      "[120]\ttraining's rmse: 1.09653\tvalid_1's rmse: 2.27046\n",
      "[140]\ttraining's rmse: 1.05063\tvalid_1's rmse: 2.27413\n",
      "[160]\ttraining's rmse: 1.0041\tvalid_1's rmse: 2.27907\n",
      "Early stopping, best iteration is:\n",
      "[113]\ttraining's rmse: 1.11951\tvalid_1's rmse: 2.26788\n"
     ]
    },
    {
     "name": "stderr",
     "output_type": "stream",
     "text": [
      "num_leaves, val_score: 2.243954:  45%|####5     | 9/20 [00:48<00:58,  5.34s/it][I 2020-05-29 18:06:25,477] Finished trial#15 with value: 2.2678759941226194 with parameters: {'num_leaves': 144}. Best is trial#14 with value: 2.2439541856024547.\n",
      "num_leaves, val_score: 2.243954:  45%|####5     | 9/20 [00:48<00:58,  5.34s/it]"
     ]
    },
    {
     "name": "stdout",
     "output_type": "stream",
     "text": [
      "Training until validation scores don't improve for 50 rounds\n",
      "[20]\ttraining's rmse: 1.86448\tvalid_1's rmse: 2.6011\n",
      "[40]\ttraining's rmse: 1.47581\tvalid_1's rmse: 2.38125\n",
      "[60]\ttraining's rmse: 1.28173\tvalid_1's rmse: 2.30911\n",
      "[80]\ttraining's rmse: 1.14072\tvalid_1's rmse: 2.28135\n",
      "[100]\ttraining's rmse: 1.05598\tvalid_1's rmse: 2.27833\n",
      "[120]\ttraining's rmse: 0.999552\tvalid_1's rmse: 2.27715\n",
      "[140]\ttraining's rmse: 0.942614\tvalid_1's rmse: 2.28109\n",
      "[160]\ttraining's rmse: 0.883828\tvalid_1's rmse: 2.28658\n",
      "Early stopping, best iteration is:\n",
      "[117]\ttraining's rmse: 1.00737\tvalid_1's rmse: 2.276\n"
     ]
    },
    {
     "name": "stderr",
     "output_type": "stream",
     "text": [
      "num_leaves, val_score: 2.243954:  50%|#####     | 10/20 [00:54<00:57,  5.75s/it][I 2020-05-29 18:06:32,182] Finished trial#16 with value: 2.276002643407156 with parameters: {'num_leaves': 212}. Best is trial#14 with value: 2.2439541856024547.\n",
      "num_leaves, val_score: 2.243954:  50%|#####     | 10/20 [00:54<00:57,  5.75s/it]"
     ]
    },
    {
     "name": "stdout",
     "output_type": "stream",
     "text": [
      "Training until validation scores don't improve for 50 rounds\n",
      "[20]\ttraining's rmse: 1.93802\tvalid_1's rmse: 2.60258\n",
      "[40]\ttraining's rmse: 1.6187\tvalid_1's rmse: 2.37264\n",
      "[60]\ttraining's rmse: 1.47523\tvalid_1's rmse: 2.30242\n",
      "[80]\ttraining's rmse: 1.37624\tvalid_1's rmse: 2.27383\n",
      "[100]\ttraining's rmse: 1.3257\tvalid_1's rmse: 2.26766\n",
      "[120]\ttraining's rmse: 1.2854\tvalid_1's rmse: 2.26518\n",
      "[140]\ttraining's rmse: 1.24754\tvalid_1's rmse: 2.26498\n",
      "[160]\ttraining's rmse: 1.21274\tvalid_1's rmse: 2.26762\n",
      "[180]\ttraining's rmse: 1.18447\tvalid_1's rmse: 2.26991\n",
      "Early stopping, best iteration is:\n",
      "[130]\ttraining's rmse: 1.26659\tvalid_1's rmse: 2.26428\n"
     ]
    },
    {
     "name": "stderr",
     "output_type": "stream",
     "text": [
      "num_leaves, val_score: 2.243954:  55%|#####5    | 11/20 [00:59<00:50,  5.59s/it][I 2020-05-29 18:06:37,399] Finished trial#17 with value: 2.264282184468641 with parameters: {'num_leaves': 71}. Best is trial#14 with value: 2.2439541856024547.\n",
      "num_leaves, val_score: 2.243954:  55%|#####5    | 11/20 [01:00<00:50,  5.59s/it]"
     ]
    },
    {
     "name": "stdout",
     "output_type": "stream",
     "text": [
      "Training until validation scores don't improve for 50 rounds\n",
      "[20]\ttraining's rmse: 1.97511\tvalid_1's rmse: 2.60718\n",
      "[40]\ttraining's rmse: 1.68188\tvalid_1's rmse: 2.37814\n",
      "[60]\ttraining's rmse: 1.54764\tvalid_1's rmse: 2.30547\n",
      "[80]\ttraining's rmse: 1.45706\tvalid_1's rmse: 2.27823\n",
      "[100]\ttraining's rmse: 1.40212\tvalid_1's rmse: 2.2708\n",
      "[120]\ttraining's rmse: 1.3639\tvalid_1's rmse: 2.26716\n",
      "[140]\ttraining's rmse: 1.32919\tvalid_1's rmse: 2.26905\n",
      "[160]\ttraining's rmse: 1.29356\tvalid_1's rmse: 2.2712\n",
      "Early stopping, best iteration is:\n",
      "[118]\ttraining's rmse: 1.36604\tvalid_1's rmse: 2.26684\n"
     ]
    },
    {
     "name": "stderr",
     "output_type": "stream",
     "text": [
      "num_leaves, val_score: 2.243954:  60%|######    | 12/20 [01:04<00:42,  5.29s/it][I 2020-05-29 18:06:42,245] Finished trial#18 with value: 2.266837741070029 with parameters: {'num_leaves': 54}. Best is trial#14 with value: 2.2439541856024547.\n",
      "num_leaves, val_score: 2.243954:  60%|######    | 12/20 [01:05<00:42,  5.29s/it]"
     ]
    },
    {
     "name": "stdout",
     "output_type": "stream",
     "text": [
      "Training until validation scores don't improve for 50 rounds\n",
      "[20]\ttraining's rmse: 2.0349\tvalid_1's rmse: 2.61401\n",
      "[40]\ttraining's rmse: 1.77849\tvalid_1's rmse: 2.37872\n",
      "[60]\ttraining's rmse: 1.66163\tvalid_1's rmse: 2.30227\n",
      "[80]\ttraining's rmse: 1.59402\tvalid_1's rmse: 2.27842\n",
      "[100]\ttraining's rmse: 1.55578\tvalid_1's rmse: 2.26645\n",
      "[120]\ttraining's rmse: 1.52622\tvalid_1's rmse: 2.26067\n",
      "[140]\ttraining's rmse: 1.50249\tvalid_1's rmse: 2.25736\n",
      "[160]\ttraining's rmse: 1.4796\tvalid_1's rmse: 2.25548\n",
      "[180]\ttraining's rmse: 1.46248\tvalid_1's rmse: 2.25225\n",
      "[200]\ttraining's rmse: 1.43739\tvalid_1's rmse: 2.25454\n",
      "[220]\ttraining's rmse: 1.41805\tvalid_1's rmse: 2.25232\n",
      "Early stopping, best iteration is:\n",
      "[178]\ttraining's rmse: 1.46333\tvalid_1's rmse: 2.2522\n"
     ]
    },
    {
     "name": "stderr",
     "output_type": "stream",
     "text": [
      "num_leaves, val_score: 2.243954:  65%|######5   | 13/20 [01:09<00:35,  5.14s/it][I 2020-05-29 18:06:46,789] Finished trial#19 with value: 2.2522009481085616 with parameters: {'num_leaves': 27}. Best is trial#14 with value: 2.2439541856024547.\n",
      "num_leaves, val_score: 2.243954:  65%|######5   | 13/20 [01:09<00:35,  5.14s/it]"
     ]
    },
    {
     "name": "stdout",
     "output_type": "stream",
     "text": [
      "Training until validation scores don't improve for 50 rounds\n",
      "[20]\ttraining's rmse: 2.12053\tvalid_1's rmse: 2.66601\n",
      "[40]\ttraining's rmse: 1.86893\tvalid_1's rmse: 2.41709\n",
      "[60]\ttraining's rmse: 1.77041\tvalid_1's rmse: 2.33353\n",
      "[80]\ttraining's rmse: 1.71995\tvalid_1's rmse: 2.30986\n",
      "[100]\ttraining's rmse: 1.68873\tvalid_1's rmse: 2.29848\n",
      "[120]\ttraining's rmse: 1.66349\tvalid_1's rmse: 2.28578\n",
      "[140]\ttraining's rmse: 1.6493\tvalid_1's rmse: 2.28094\n",
      "[160]\ttraining's rmse: 1.63052\tvalid_1's rmse: 2.27401\n",
      "[180]\ttraining's rmse: 1.61834\tvalid_1's rmse: 2.272\n",
      "[200]\ttraining's rmse: 1.60303\tvalid_1's rmse: 2.2683\n",
      "[220]\ttraining's rmse: 1.58531\tvalid_1's rmse: 2.26386\n",
      "[240]\ttraining's rmse: 1.57126\tvalid_1's rmse: 2.26279\n",
      "[260]\ttraining's rmse: 1.55954\tvalid_1's rmse: 2.26087\n",
      "[280]\ttraining's rmse: 1.54837\tvalid_1's rmse: 2.26077\n",
      "[300]\ttraining's rmse: 1.53522\tvalid_1's rmse: 2.26254\n",
      "[320]\ttraining's rmse: 1.5233\tvalid_1's rmse: 2.26191\n",
      "Early stopping, best iteration is:\n",
      "[286]\ttraining's rmse: 1.5471\tvalid_1's rmse: 2.26023\n"
     ]
    },
    {
     "name": "stderr",
     "output_type": "stream",
     "text": [
      "num_leaves, val_score: 2.243954:  70%|#######   | 14/20 [01:13<00:28,  4.82s/it][I 2020-05-29 18:06:50,887] Finished trial#20 with value: 2.260230038930822 with parameters: {'num_leaves': 13}. Best is trial#14 with value: 2.2439541856024547.\n",
      "num_leaves, val_score: 2.243954:  70%|#######   | 14/20 [01:13<00:28,  4.82s/it]"
     ]
    },
    {
     "name": "stdout",
     "output_type": "stream",
     "text": [
      "Training until validation scores don't improve for 50 rounds\n",
      "[20]\ttraining's rmse: 1.91403\tvalid_1's rmse: 2.59746\n",
      "[40]\ttraining's rmse: 1.56267\tvalid_1's rmse: 2.36759\n",
      "[60]\ttraining's rmse: 1.40991\tvalid_1's rmse: 2.29464\n",
      "[80]\ttraining's rmse: 1.28973\tvalid_1's rmse: 2.26821\n",
      "[100]\ttraining's rmse: 1.22974\tvalid_1's rmse: 2.26083\n",
      "[120]\ttraining's rmse: 1.17929\tvalid_1's rmse: 2.26054\n",
      "[140]\ttraining's rmse: 1.14074\tvalid_1's rmse: 2.26325\n",
      "Early stopping, best iteration is:\n",
      "[104]\ttraining's rmse: 1.21914\tvalid_1's rmse: 2.25936\n"
     ]
    },
    {
     "name": "stderr",
     "output_type": "stream",
     "text": [
      "num_leaves, val_score: 2.243954:  75%|#######5  | 15/20 [01:18<00:24,  4.86s/it][I 2020-05-29 18:06:55,826] Finished trial#21 with value: 2.2593562637411484 with parameters: {'num_leaves': 107}. Best is trial#14 with value: 2.2439541856024547.\n",
      "num_leaves, val_score: 2.243954:  75%|#######5  | 15/20 [01:18<00:24,  4.86s/it]"
     ]
    },
    {
     "name": "stdout",
     "output_type": "stream",
     "text": [
      "Training until validation scores don't improve for 50 rounds\n",
      "[20]\ttraining's rmse: 2.00644\tvalid_1's rmse: 2.60715\n",
      "[40]\ttraining's rmse: 1.73075\tvalid_1's rmse: 2.37252\n",
      "[60]\ttraining's rmse: 1.60897\tvalid_1's rmse: 2.30181\n",
      "[80]\ttraining's rmse: 1.53294\tvalid_1's rmse: 2.27426\n",
      "[100]\ttraining's rmse: 1.49438\tvalid_1's rmse: 2.26387\n",
      "[120]\ttraining's rmse: 1.46482\tvalid_1's rmse: 2.25894\n",
      "[140]\ttraining's rmse: 1.43999\tvalid_1's rmse: 2.25802\n",
      "[160]\ttraining's rmse: 1.4079\tvalid_1's rmse: 2.25944\n",
      "[180]\ttraining's rmse: 1.38681\tvalid_1's rmse: 2.25978\n",
      "[200]\ttraining's rmse: 1.36216\tvalid_1's rmse: 2.2606\n",
      "Early stopping, best iteration is:\n",
      "[150]\ttraining's rmse: 1.42579\tvalid_1's rmse: 2.25612\n"
     ]
    },
    {
     "name": "stderr",
     "output_type": "stream",
     "text": [
      "num_leaves, val_score: 2.243954:  80%|########  | 16/20 [01:22<00:18,  4.64s/it][I 2020-05-29 18:06:59,918] Finished trial#22 with value: 2.2561237828898686 with parameters: {'num_leaves': 34}. Best is trial#14 with value: 2.2439541856024547.\n",
      "num_leaves, val_score: 2.243954:  80%|########  | 16/20 [01:22<00:18,  4.64s/it]"
     ]
    },
    {
     "name": "stdout",
     "output_type": "stream",
     "text": [
      "Training until validation scores don't improve for 50 rounds\n",
      "[20]\ttraining's rmse: 1.8737\tvalid_1's rmse: 2.59505\n",
      "[40]\ttraining's rmse: 1.49186\tvalid_1's rmse: 2.36755\n",
      "[60]\ttraining's rmse: 1.3098\tvalid_1's rmse: 2.29826\n",
      "[80]\ttraining's rmse: 1.18217\tvalid_1's rmse: 2.27007\n",
      "[100]\ttraining's rmse: 1.10888\tvalid_1's rmse: 2.26656\n",
      "[120]\ttraining's rmse: 1.04933\tvalid_1's rmse: 2.26664\n",
      "[140]\ttraining's rmse: 0.996931\tvalid_1's rmse: 2.27161\n",
      "[160]\ttraining's rmse: 0.942436\tvalid_1's rmse: 2.27854\n",
      "Early stopping, best iteration is:\n",
      "[114]\ttraining's rmse: 1.07088\tvalid_1's rmse: 2.2644\n"
     ]
    },
    {
     "name": "stderr",
     "output_type": "stream",
     "text": [
      "num_leaves, val_score: 2.243954:  85%|########5 | 17/20 [01:28<00:15,  5.14s/it][I 2020-05-29 18:07:06,242] Finished trial#23 with value: 2.2644005438369397 with parameters: {'num_leaves': 179}. Best is trial#14 with value: 2.2439541856024547.\n",
      "num_leaves, val_score: 2.243954:  85%|########5 | 17/20 [01:28<00:15,  5.14s/it]"
     ]
    },
    {
     "name": "stdout",
     "output_type": "stream",
     "text": [
      "Training until validation scores don't improve for 50 rounds\n",
      "[20]\ttraining's rmse: 1.93518\tvalid_1's rmse: 2.60325\n",
      "[40]\ttraining's rmse: 1.61999\tvalid_1's rmse: 2.37604\n",
      "[60]\ttraining's rmse: 1.47234\tvalid_1's rmse: 2.30242\n",
      "[80]\ttraining's rmse: 1.37276\tvalid_1's rmse: 2.27678\n",
      "[100]\ttraining's rmse: 1.32166\tvalid_1's rmse: 2.27006\n",
      "[120]\ttraining's rmse: 1.28077\tvalid_1's rmse: 2.27027\n",
      "[140]\ttraining's rmse: 1.2404\tvalid_1's rmse: 2.2721\n",
      "Early stopping, best iteration is:\n",
      "[109]\ttraining's rmse: 1.3007\tvalid_1's rmse: 2.26875\n"
     ]
    },
    {
     "name": "stderr",
     "output_type": "stream",
     "text": [
      "num_leaves, val_score: 2.243954:  90%|######### | 18/20 [01:33<00:10,  5.00s/it][I 2020-05-29 18:07:10,925] Finished trial#24 with value: 2.2687474328111747 with parameters: {'num_leaves': 73}. Best is trial#14 with value: 2.2439541856024547.\n",
      "num_leaves, val_score: 2.243954:  90%|######### | 18/20 [01:33<00:10,  5.00s/it]"
     ]
    },
    {
     "name": "stdout",
     "output_type": "stream",
     "text": [
      "Training until validation scores don't improve for 50 rounds\n",
      "[20]\ttraining's rmse: 1.90855\tvalid_1's rmse: 2.59416\n",
      "[40]\ttraining's rmse: 1.55993\tvalid_1's rmse: 2.36547\n",
      "[60]\ttraining's rmse: 1.40521\tvalid_1's rmse: 2.29363\n",
      "[80]\ttraining's rmse: 1.28789\tvalid_1's rmse: 2.27032\n",
      "[100]\ttraining's rmse: 1.22795\tvalid_1's rmse: 2.2623\n",
      "[120]\ttraining's rmse: 1.17784\tvalid_1's rmse: 2.26206\n",
      "[140]\ttraining's rmse: 1.12975\tvalid_1's rmse: 2.26527\n",
      "[160]\ttraining's rmse: 1.08336\tvalid_1's rmse: 2.26945\n",
      "Early stopping, best iteration is:\n",
      "[110]\ttraining's rmse: 1.2026\tvalid_1's rmse: 2.26007\n"
     ]
    },
    {
     "name": "stderr",
     "output_type": "stream",
     "text": [
      "num_leaves, val_score: 2.243954:  95%|#########5| 19/20 [01:39<00:05,  5.24s/it][I 2020-05-29 18:07:16,686] Finished trial#25 with value: 2.2600702675599997 with parameters: {'num_leaves': 111}. Best is trial#14 with value: 2.2439541856024547.\n",
      "num_leaves, val_score: 2.243954:  95%|#########5| 19/20 [01:39<00:05,  5.24s/it]"
     ]
    },
    {
     "name": "stdout",
     "output_type": "stream",
     "text": [
      "Training until validation scores don't improve for 50 rounds\n",
      "[20]\ttraining's rmse: 2.02197\tvalid_1's rmse: 2.616\n",
      "[40]\ttraining's rmse: 1.74915\tvalid_1's rmse: 2.38029\n",
      "[60]\ttraining's rmse: 1.62558\tvalid_1's rmse: 2.30414\n",
      "[80]\ttraining's rmse: 1.55272\tvalid_1's rmse: 2.2755\n",
      "[100]\ttraining's rmse: 1.51591\tvalid_1's rmse: 2.2654\n",
      "[120]\ttraining's rmse: 1.48391\tvalid_1's rmse: 2.25964\n",
      "[140]\ttraining's rmse: 1.46062\tvalid_1's rmse: 2.25585\n",
      "[160]\ttraining's rmse: 1.43088\tvalid_1's rmse: 2.25336\n",
      "[180]\ttraining's rmse: 1.40764\tvalid_1's rmse: 2.25074\n",
      "[200]\ttraining's rmse: 1.38353\tvalid_1's rmse: 2.25361\n",
      "[220]\ttraining's rmse: 1.36317\tvalid_1's rmse: 2.25554\n",
      "Early stopping, best iteration is:\n",
      "[181]\ttraining's rmse: 1.4071\tvalid_1's rmse: 2.25039\n"
     ]
    },
    {
     "name": "stderr",
     "output_type": "stream",
     "text": [
      "num_leaves, val_score: 2.243954: 100%|##########| 20/20 [01:43<00:00,  4.93s/it][I 2020-05-29 18:07:20,899] Finished trial#26 with value: 2.2503852512942957 with parameters: {'num_leaves': 31}. Best is trial#14 with value: 2.2439541856024547.\n",
      "num_leaves, val_score: 2.243954: 100%|##########| 20/20 [01:43<00:00,  5.18s/it]\n",
      "bagging, val_score: 2.243954:   0%|          | 0/10 [00:00<?, ?it/s]"
     ]
    },
    {
     "name": "stdout",
     "output_type": "stream",
     "text": [
      "Training until validation scores don't improve for 50 rounds\n",
      "[20]\ttraining's rmse: 2.06572\tvalid_1's rmse: 2.64107\n",
      "[40]\ttraining's rmse: 1.84454\tvalid_1's rmse: 2.44489\n",
      "[60]\ttraining's rmse: 1.75163\tvalid_1's rmse: 2.38589\n",
      "[80]\ttraining's rmse: 1.69069\tvalid_1's rmse: 2.35438\n",
      "[100]\ttraining's rmse: 1.64173\tvalid_1's rmse: 2.34043\n",
      "[120]\ttraining's rmse: 1.58512\tvalid_1's rmse: 2.32469\n",
      "[140]\ttraining's rmse: 1.54029\tvalid_1's rmse: 2.30897\n",
      "[160]\ttraining's rmse: 1.50618\tvalid_1's rmse: 2.30928\n",
      "[180]\ttraining's rmse: 1.47173\tvalid_1's rmse: 2.30982\n",
      "[200]\ttraining's rmse: 1.44403\tvalid_1's rmse: 2.30695\n",
      "[220]\ttraining's rmse: 1.41341\tvalid_1's rmse: 2.30134\n",
      "[240]\ttraining's rmse: 1.38491\tvalid_1's rmse: 2.29564\n",
      "[260]\ttraining's rmse: 1.35963\tvalid_1's rmse: 2.2962\n",
      "[280]\ttraining's rmse: 1.3361\tvalid_1's rmse: 2.29505\n",
      "[300]\ttraining's rmse: 1.31392\tvalid_1's rmse: 2.29056\n",
      "[320]\ttraining's rmse: 1.29447\tvalid_1's rmse: 2.29091\n",
      "[340]\ttraining's rmse: 1.27925\tvalid_1's rmse: 2.28916\n",
      "[360]\ttraining's rmse: 1.26052\tvalid_1's rmse: 2.28804\n",
      "[380]\ttraining's rmse: 1.24256\tvalid_1's rmse: 2.2863\n",
      "[400]\ttraining's rmse: 1.22572\tvalid_1's rmse: 2.28523\n",
      "[420]\ttraining's rmse: 1.21284\tvalid_1's rmse: 2.28572\n",
      "[440]\ttraining's rmse: 1.19544\tvalid_1's rmse: 2.2822\n",
      "[460]\ttraining's rmse: 1.17931\tvalid_1's rmse: 2.28203\n",
      "[480]\ttraining's rmse: 1.1661\tvalid_1's rmse: 2.28262\n",
      "[500]\ttraining's rmse: 1.15382\tvalid_1's rmse: 2.28538\n",
      "Early stopping, best iteration is:\n",
      "[451]\ttraining's rmse: 1.18609\tvalid_1's rmse: 2.28075\n"
     ]
    },
    {
     "name": "stderr",
     "output_type": "stream",
     "text": [
      "bagging, val_score: 2.243954:  10%|#         | 1/10 [00:04<00:42,  4.73s/it][I 2020-05-29 18:07:25,871] Finished trial#27 with value: 2.2807548175079004 with parameters: {'bagging_fraction': 0.7099611679954501, 'bagging_freq': 2}. Best is trial#27 with value: 2.2807548175079004.\n",
      "bagging, val_score: 2.243954:  10%|#         | 1/10 [00:04<00:42,  4.73s/it]"
     ]
    },
    {
     "name": "stdout",
     "output_type": "stream",
     "text": [
      "Training until validation scores don't improve for 50 rounds\n",
      "[20]\ttraining's rmse: 2.07865\tvalid_1's rmse: 2.64896\n",
      "[40]\ttraining's rmse: 1.87067\tvalid_1's rmse: 2.46418\n",
      "[60]\ttraining's rmse: 1.78657\tvalid_1's rmse: 2.40534\n",
      "[80]\ttraining's rmse: 1.72675\tvalid_1's rmse: 2.37244\n",
      "[100]\ttraining's rmse: 1.67522\tvalid_1's rmse: 2.36169\n",
      "[120]\ttraining's rmse: 1.63168\tvalid_1's rmse: 2.34452\n",
      "[140]\ttraining's rmse: 1.59318\tvalid_1's rmse: 2.33055\n",
      "[160]\ttraining's rmse: 1.56101\tvalid_1's rmse: 2.32527\n",
      "[180]\ttraining's rmse: 1.52451\tvalid_1's rmse: 2.31879\n",
      "[200]\ttraining's rmse: 1.49776\tvalid_1's rmse: 2.31615\n",
      "[220]\ttraining's rmse: 1.47262\tvalid_1's rmse: 2.31638\n",
      "[240]\ttraining's rmse: 1.44798\tvalid_1's rmse: 2.30774\n",
      "[260]\ttraining's rmse: 1.42673\tvalid_1's rmse: 2.30803\n",
      "[280]\ttraining's rmse: 1.40766\tvalid_1's rmse: 2.30656\n",
      "[300]\ttraining's rmse: 1.38778\tvalid_1's rmse: 2.30445\n",
      "[320]\ttraining's rmse: 1.37001\tvalid_1's rmse: 2.30243\n",
      "[340]\ttraining's rmse: 1.35595\tvalid_1's rmse: 2.306\n",
      "[360]\ttraining's rmse: 1.34037\tvalid_1's rmse: 2.30345\n",
      "[380]\ttraining's rmse: 1.32439\tvalid_1's rmse: 2.29858\n",
      "[400]\ttraining's rmse: 1.30807\tvalid_1's rmse: 2.29527\n",
      "[420]\ttraining's rmse: 1.29804\tvalid_1's rmse: 2.2988\n",
      "[440]\ttraining's rmse: 1.28225\tvalid_1's rmse: 2.2988\n",
      "Early stopping, best iteration is:\n",
      "[395]\ttraining's rmse: 1.31241\tvalid_1's rmse: 2.29399\n"
     ]
    },
    {
     "name": "stderr",
     "output_type": "stream",
     "text": [
      "bagging, val_score: 2.243954:  20%|##        | 2/10 [00:09<00:37,  4.69s/it][I 2020-05-29 18:07:30,494] Finished trial#28 with value: 2.2939897858021174 with parameters: {'bagging_fraction': 0.5473754507079075, 'bagging_freq': 1}. Best is trial#27 with value: 2.2807548175079004.\n",
      "bagging, val_score: 2.243954:  20%|##        | 2/10 [00:09<00:37,  4.69s/it]"
     ]
    },
    {
     "name": "stdout",
     "output_type": "stream",
     "text": [
      "Training until validation scores don't improve for 50 rounds\n",
      "[20]\ttraining's rmse: 2.06802\tvalid_1's rmse: 2.64471\n",
      "[40]\ttraining's rmse: 1.86912\tvalid_1's rmse: 2.47735\n",
      "[60]\ttraining's rmse: 1.78466\tvalid_1's rmse: 2.41921\n",
      "[80]\ttraining's rmse: 1.72009\tvalid_1's rmse: 2.37978\n",
      "[100]\ttraining's rmse: 1.67234\tvalid_1's rmse: 2.35818\n",
      "[120]\ttraining's rmse: 1.63074\tvalid_1's rmse: 2.34663\n",
      "[140]\ttraining's rmse: 1.58875\tvalid_1's rmse: 2.33971\n",
      "[160]\ttraining's rmse: 1.54698\tvalid_1's rmse: 2.32795\n",
      "[180]\ttraining's rmse: 1.5133\tvalid_1's rmse: 2.32109\n",
      "[200]\ttraining's rmse: 1.48809\tvalid_1's rmse: 2.32357\n",
      "[220]\ttraining's rmse: 1.45499\tvalid_1's rmse: 2.31907\n",
      "[240]\ttraining's rmse: 1.43629\tvalid_1's rmse: 2.32155\n",
      "[260]\ttraining's rmse: 1.4161\tvalid_1's rmse: 2.32028\n",
      "Early stopping, best iteration is:\n",
      "[214]\ttraining's rmse: 1.46477\tvalid_1's rmse: 2.31818\n"
     ]
    },
    {
     "name": "stderr",
     "output_type": "stream",
     "text": [
      "bagging, val_score: 2.243954:  30%|###       | 3/10 [00:12<00:28,  4.10s/it][I 2020-05-29 18:07:33,225] Finished trial#29 with value: 2.3181791321407665 with parameters: {'bagging_fraction': 0.6425694159613616, 'bagging_freq': 7}. Best is trial#27 with value: 2.2807548175079004.\n",
      "bagging, val_score: 2.243954:  30%|###       | 3/10 [00:12<00:28,  4.10s/it]"
     ]
    },
    {
     "name": "stdout",
     "output_type": "stream",
     "text": [
      "Training until validation scores don't improve for 50 rounds\n",
      "[20]\ttraining's rmse: 2.06251\tvalid_1's rmse: 2.63517\n",
      "[40]\ttraining's rmse: 1.85515\tvalid_1's rmse: 2.44229\n",
      "[60]\ttraining's rmse: 1.76556\tvalid_1's rmse: 2.37328\n",
      "[80]\ttraining's rmse: 1.69541\tvalid_1's rmse: 2.33197\n",
      "[100]\ttraining's rmse: 1.65251\tvalid_1's rmse: 2.32423\n",
      "[120]\ttraining's rmse: 1.6085\tvalid_1's rmse: 2.30719\n",
      "[140]\ttraining's rmse: 1.56571\tvalid_1's rmse: 2.29988\n",
      "[160]\ttraining's rmse: 1.52046\tvalid_1's rmse: 2.28917\n",
      "[180]\ttraining's rmse: 1.48181\tvalid_1's rmse: 2.28695\n",
      "[200]\ttraining's rmse: 1.45936\tvalid_1's rmse: 2.2933\n",
      "[220]\ttraining's rmse: 1.42035\tvalid_1's rmse: 2.28505\n",
      "Early stopping, best iteration is:\n",
      "[173]\ttraining's rmse: 1.49305\tvalid_1's rmse: 2.28271\n"
     ]
    },
    {
     "name": "stderr",
     "output_type": "stream",
     "text": [
      "bagging, val_score: 2.243954:  40%|####      | 4/10 [00:14<00:21,  3.59s/it][I 2020-05-29 18:07:35,565] Finished trial#30 with value: 2.2827093864119328 with parameters: {'bagging_fraction': 0.7146215864680681, 'bagging_freq': 7}. Best is trial#27 with value: 2.2807548175079004.\n",
      "bagging, val_score: 2.243954:  40%|####      | 4/10 [00:14<00:21,  3.59s/it]"
     ]
    },
    {
     "name": "stdout",
     "output_type": "stream",
     "text": [
      "Training until validation scores don't improve for 50 rounds\n",
      "[20]\ttraining's rmse: 2.09098\tvalid_1's rmse: 2.66262\n",
      "[40]\ttraining's rmse: 1.86735\tvalid_1's rmse: 2.46085\n",
      "[60]\ttraining's rmse: 1.78315\tvalid_1's rmse: 2.39723\n",
      "[80]\ttraining's rmse: 1.72549\tvalid_1's rmse: 2.37091\n",
      "[100]\ttraining's rmse: 1.67892\tvalid_1's rmse: 2.35973\n",
      "[120]\ttraining's rmse: 1.63194\tvalid_1's rmse: 2.34656\n",
      "[140]\ttraining's rmse: 1.59814\tvalid_1's rmse: 2.33521\n",
      "[160]\ttraining's rmse: 1.55515\tvalid_1's rmse: 2.33382\n",
      "[180]\ttraining's rmse: 1.52069\tvalid_1's rmse: 2.3182\n",
      "[200]\ttraining's rmse: 1.50071\tvalid_1's rmse: 2.32109\n",
      "[220]\ttraining's rmse: 1.47492\tvalid_1's rmse: 2.31956\n",
      "[240]\ttraining's rmse: 1.45525\tvalid_1's rmse: 2.32259\n",
      "Early stopping, best iteration is:\n",
      "[196]\ttraining's rmse: 1.50427\tvalid_1's rmse: 2.31673\n"
     ]
    },
    {
     "name": "stderr",
     "output_type": "stream",
     "text": [
      "bagging, val_score: 2.243954:  50%|#####     | 5/10 [00:16<00:16,  3.21s/it][I 2020-05-29 18:07:37,901] Finished trial#31 with value: 2.3167256709227333 with parameters: {'bagging_fraction': 0.5573689692742523, 'bagging_freq': 6}. Best is trial#27 with value: 2.2807548175079004.\n",
      "bagging, val_score: 2.243954:  50%|#####     | 5/10 [00:16<00:16,  3.21s/it]"
     ]
    },
    {
     "name": "stdout",
     "output_type": "stream",
     "text": [
      "Training until validation scores don't improve for 50 rounds\n",
      "[20]\ttraining's rmse: 2.06162\tvalid_1's rmse: 2.65037\n",
      "[40]\ttraining's rmse: 1.84088\tvalid_1's rmse: 2.46155\n",
      "[60]\ttraining's rmse: 1.74446\tvalid_1's rmse: 2.39276\n",
      "[80]\ttraining's rmse: 1.67357\tvalid_1's rmse: 2.35837\n",
      "[100]\ttraining's rmse: 1.60864\tvalid_1's rmse: 2.34766\n",
      "[120]\ttraining's rmse: 1.54541\tvalid_1's rmse: 2.32652\n",
      "[140]\ttraining's rmse: 1.50088\tvalid_1's rmse: 2.31522\n",
      "[160]\ttraining's rmse: 1.45545\tvalid_1's rmse: 2.31191\n",
      "[180]\ttraining's rmse: 1.41611\tvalid_1's rmse: 2.30785\n",
      "[200]\ttraining's rmse: 1.3862\tvalid_1's rmse: 2.30473\n",
      "[220]\ttraining's rmse: 1.35511\tvalid_1's rmse: 2.29784\n",
      "[240]\ttraining's rmse: 1.32707\tvalid_1's rmse: 2.29161\n",
      "[260]\ttraining's rmse: 1.3018\tvalid_1's rmse: 2.29125\n",
      "[280]\ttraining's rmse: 1.28041\tvalid_1's rmse: 2.29214\n",
      "Early stopping, best iteration is:\n",
      "[237]\ttraining's rmse: 1.33193\tvalid_1's rmse: 2.29077\n"
     ]
    },
    {
     "name": "stderr",
     "output_type": "stream",
     "text": [
      "bagging, val_score: 2.243954:  60%|######    | 6/10 [00:19<00:12,  3.17s/it][I 2020-05-29 18:07:41,012] Finished trial#32 with value: 2.2907723213855244 with parameters: {'bagging_fraction': 0.8005420163944097, 'bagging_freq': 4}. Best is trial#27 with value: 2.2807548175079004.\n",
      "bagging, val_score: 2.243954:  60%|######    | 6/10 [00:20<00:12,  3.17s/it]"
     ]
    },
    {
     "name": "stdout",
     "output_type": "stream",
     "text": [
      "Training until validation scores don't improve for 50 rounds\n",
      "[20]\ttraining's rmse: 2.11005\tvalid_1's rmse: 2.66602\n",
      "[40]\ttraining's rmse: 1.89546\tvalid_1's rmse: 2.45906\n",
      "[60]\ttraining's rmse: 1.81245\tvalid_1's rmse: 2.40974\n",
      "[80]\ttraining's rmse: 1.75687\tvalid_1's rmse: 2.38081\n",
      "[100]\ttraining's rmse: 1.70391\tvalid_1's rmse: 2.36541\n",
      "[120]\ttraining's rmse: 1.65518\tvalid_1's rmse: 2.35215\n",
      "[140]\ttraining's rmse: 1.62849\tvalid_1's rmse: 2.35341\n",
      "[160]\ttraining's rmse: 1.58729\tvalid_1's rmse: 2.34979\n",
      "[180]\ttraining's rmse: 1.55157\tvalid_1's rmse: 2.33394\n",
      "[200]\ttraining's rmse: 1.52819\tvalid_1's rmse: 2.32761\n",
      "[220]\ttraining's rmse: 1.50603\tvalid_1's rmse: 2.31995\n",
      "[240]\ttraining's rmse: 1.47594\tvalid_1's rmse: 2.31561\n",
      "[260]\ttraining's rmse: 1.4568\tvalid_1's rmse: 2.31355\n",
      "[280]\ttraining's rmse: 1.43655\tvalid_1's rmse: 2.31996\n",
      "[300]\ttraining's rmse: 1.41827\tvalid_1's rmse: 2.31649\n",
      "Early stopping, best iteration is:\n",
      "[253]\ttraining's rmse: 1.46269\tvalid_1's rmse: 2.31085\n"
     ]
    },
    {
     "name": "stderr",
     "output_type": "stream",
     "text": [
      "bagging, val_score: 2.243954:  70%|#######   | 7/10 [00:22<00:09,  3.03s/it][I 2020-05-29 18:07:43,674] Finished trial#33 with value: 2.3108517786147784 with parameters: {'bagging_fraction': 0.5046041800676062, 'bagging_freq': 6}. Best is trial#27 with value: 2.2807548175079004.\n",
      "bagging, val_score: 2.243954:  70%|#######   | 7/10 [00:22<00:09,  3.03s/it]"
     ]
    },
    {
     "name": "stdout",
     "output_type": "stream",
     "text": [
      "Training until validation scores don't improve for 50 rounds\n",
      "[20]\ttraining's rmse: 2.09037\tvalid_1's rmse: 2.64831\n",
      "[40]\ttraining's rmse: 1.8921\tvalid_1's rmse: 2.46723\n",
      "[60]\ttraining's rmse: 1.81241\tvalid_1's rmse: 2.40797\n",
      "[80]\ttraining's rmse: 1.75449\tvalid_1's rmse: 2.36974\n",
      "[100]\ttraining's rmse: 1.71104\tvalid_1's rmse: 2.35263\n",
      "[120]\ttraining's rmse: 1.66362\tvalid_1's rmse: 2.34174\n",
      "[140]\ttraining's rmse: 1.62874\tvalid_1's rmse: 2.33552\n",
      "[160]\ttraining's rmse: 1.59063\tvalid_1's rmse: 2.32891\n",
      "[180]\ttraining's rmse: 1.55823\tvalid_1's rmse: 2.32296\n",
      "[200]\ttraining's rmse: 1.53023\tvalid_1's rmse: 2.3157\n",
      "[220]\ttraining's rmse: 1.50336\tvalid_1's rmse: 2.32002\n",
      "[240]\ttraining's rmse: 1.47435\tvalid_1's rmse: 2.31175\n",
      "[260]\ttraining's rmse: 1.4509\tvalid_1's rmse: 2.31108\n",
      "[280]\ttraining's rmse: 1.42991\tvalid_1's rmse: 2.30907\n",
      "[300]\ttraining's rmse: 1.41132\tvalid_1's rmse: 2.30276\n",
      "[320]\ttraining's rmse: 1.39383\tvalid_1's rmse: 2.3044\n",
      "[340]\ttraining's rmse: 1.3781\tvalid_1's rmse: 2.3053\n",
      "Early stopping, best iteration is:\n",
      "[306]\ttraining's rmse: 1.40405\tvalid_1's rmse: 2.29987\n"
     ]
    },
    {
     "name": "stderr",
     "output_type": "stream",
     "text": [
      "bagging, val_score: 2.243954:  80%|########  | 8/10 [00:26<00:06,  3.28s/it][I 2020-05-29 18:07:47,552] Finished trial#34 with value: 2.2998738959558542 with parameters: {'bagging_fraction': 0.4912268937497147, 'bagging_freq': 1}. Best is trial#27 with value: 2.2807548175079004.\n",
      "bagging, val_score: 2.243954:  80%|########  | 8/10 [00:26<00:06,  3.28s/it]"
     ]
    },
    {
     "name": "stdout",
     "output_type": "stream",
     "text": [
      "Training until validation scores don't improve for 50 rounds\n",
      "[20]\ttraining's rmse: 2.00959\tvalid_1's rmse: 2.60718\n",
      "[40]\ttraining's rmse: 1.73395\tvalid_1's rmse: 2.37166\n",
      "[60]\ttraining's rmse: 1.60938\tvalid_1's rmse: 2.299\n",
      "[80]\ttraining's rmse: 1.5308\tvalid_1's rmse: 2.27261\n",
      "[100]\ttraining's rmse: 1.48629\tvalid_1's rmse: 2.26411\n",
      "[120]\ttraining's rmse: 1.45626\tvalid_1's rmse: 2.2605\n",
      "[140]\ttraining's rmse: 1.43267\tvalid_1's rmse: 2.25972\n",
      "[160]\ttraining's rmse: 1.39748\tvalid_1's rmse: 2.26176\n",
      "[180]\ttraining's rmse: 1.37331\tvalid_1's rmse: 2.26205\n",
      "Early stopping, best iteration is:\n",
      "[142]\ttraining's rmse: 1.43081\tvalid_1's rmse: 2.25922\n"
     ]
    },
    {
     "name": "stderr",
     "output_type": "stream",
     "text": [
      "bagging, val_score: 2.243954:  90%|######### | 9/10 [00:30<00:03,  3.59s/it][I 2020-05-29 18:07:51,903] Finished trial#35 with value: 2.259224790060273 with parameters: {'bagging_fraction': 0.9933967101480038, 'bagging_freq': 4}. Best is trial#35 with value: 2.259224790060273.\n",
      "bagging, val_score: 2.243954:  90%|######### | 9/10 [00:30<00:03,  3.59s/it]"
     ]
    },
    {
     "name": "stdout",
     "output_type": "stream",
     "text": [
      "Training until validation scores don't improve for 50 rounds\n",
      "[20]\ttraining's rmse: 2.05881\tvalid_1's rmse: 2.65433\n",
      "[40]\ttraining's rmse: 1.81211\tvalid_1's rmse: 2.44767\n",
      "[60]\ttraining's rmse: 1.69496\tvalid_1's rmse: 2.36352\n",
      "[80]\ttraining's rmse: 1.60275\tvalid_1's rmse: 2.32538\n",
      "[100]\ttraining's rmse: 1.53291\tvalid_1's rmse: 2.30628\n",
      "[120]\ttraining's rmse: 1.47406\tvalid_1's rmse: 2.29228\n",
      "[140]\ttraining's rmse: 1.43786\tvalid_1's rmse: 2.28578\n",
      "[160]\ttraining's rmse: 1.39927\tvalid_1's rmse: 2.2839\n",
      "[180]\ttraining's rmse: 1.36843\tvalid_1's rmse: 2.28279\n",
      "[200]\ttraining's rmse: 1.34571\tvalid_1's rmse: 2.28076\n",
      "[220]\ttraining's rmse: 1.3229\tvalid_1's rmse: 2.28139\n",
      "[240]\ttraining's rmse: 1.3041\tvalid_1's rmse: 2.28141\n",
      "[260]\ttraining's rmse: 1.28439\tvalid_1's rmse: 2.2823\n",
      "Early stopping, best iteration is:\n",
      "[226]\ttraining's rmse: 1.31719\tvalid_1's rmse: 2.2794\n"
     ]
    },
    {
     "name": "stderr",
     "output_type": "stream",
     "text": [
      "bagging, val_score: 2.243954: 100%|##########| 10/10 [00:34<00:00,  3.77s/it][I 2020-05-29 18:07:56,034] Finished trial#36 with value: 2.279402346115223 with parameters: {'bagging_fraction': 0.9070410518527408, 'bagging_freq': 4}. Best is trial#35 with value: 2.259224790060273.\n",
      "bagging, val_score: 2.243954: 100%|##########| 10/10 [00:35<00:00,  3.51s/it]\n",
      "feature_fraction_stage2, val_score: 2.243954:   0%|          | 0/6 [00:00<?, ?it/s]"
     ]
    },
    {
     "name": "stdout",
     "output_type": "stream",
     "text": [
      "Training until validation scores don't improve for 50 rounds\n",
      "[20]\ttraining's rmse: 1.99321\tvalid_1's rmse: 2.60503\n",
      "[40]\ttraining's rmse: 1.71709\tvalid_1's rmse: 2.38003\n",
      "[60]\ttraining's rmse: 1.59616\tvalid_1's rmse: 2.30755\n",
      "[80]\ttraining's rmse: 1.51298\tvalid_1's rmse: 2.28113\n",
      "[100]\ttraining's rmse: 1.47474\tvalid_1's rmse: 2.27001\n",
      "[120]\ttraining's rmse: 1.44634\tvalid_1's rmse: 2.26361\n",
      "[140]\ttraining's rmse: 1.42169\tvalid_1's rmse: 2.26154\n",
      "[160]\ttraining's rmse: 1.39223\tvalid_1's rmse: 2.26137\n",
      "[180]\ttraining's rmse: 1.37834\tvalid_1's rmse: 2.26108\n",
      "[200]\ttraining's rmse: 1.35302\tvalid_1's rmse: 2.26365\n",
      "Early stopping, best iteration is:\n",
      "[152]\ttraining's rmse: 1.40414\tvalid_1's rmse: 2.25965\n"
     ]
    },
    {
     "name": "stderr",
     "output_type": "stream",
     "text": [
      "feature_fraction_stage2, val_score: 2.243954:  17%|#6        | 1/6 [00:03<00:18,  3.75s/it][I 2020-05-29 18:07:59,993] Finished trial#37 with value: 2.259645290580765 with parameters: {'feature_fraction': 0.7799999999999999}. Best is trial#37 with value: 2.259645290580765.\n",
      "feature_fraction_stage2, val_score: 2.243954:  17%|#6        | 1/6 [00:03<00:18,  3.75s/it]"
     ]
    },
    {
     "name": "stdout",
     "output_type": "stream",
     "text": [
      "Training until validation scores don't improve for 50 rounds\n",
      "[20]\ttraining's rmse: 2.00937\tvalid_1's rmse: 2.61242\n",
      "[40]\ttraining's rmse: 1.73291\tvalid_1's rmse: 2.38331\n",
      "[60]\ttraining's rmse: 1.61923\tvalid_1's rmse: 2.30617\n",
      "[80]\ttraining's rmse: 1.5386\tvalid_1's rmse: 2.27878\n",
      "[100]\ttraining's rmse: 1.49869\tvalid_1's rmse: 2.26825\n",
      "[120]\ttraining's rmse: 1.46784\tvalid_1's rmse: 2.26215\n",
      "[140]\ttraining's rmse: 1.43785\tvalid_1's rmse: 2.26094\n",
      "[160]\ttraining's rmse: 1.40208\tvalid_1's rmse: 2.26125\n",
      "Early stopping, best iteration is:\n",
      "[128]\ttraining's rmse: 1.45724\tvalid_1's rmse: 2.26051\n"
     ]
    },
    {
     "name": "stderr",
     "output_type": "stream",
     "text": [
      "feature_fraction_stage2, val_score: 2.243954:  33%|###3      | 2/6 [00:07<00:14,  3.68s/it][I 2020-05-29 18:08:03,521] Finished trial#38 with value: 2.2605110892373856 with parameters: {'feature_fraction': 0.652}. Best is trial#37 with value: 2.259645290580765.\n",
      "feature_fraction_stage2, val_score: 2.243954:  33%|###3      | 2/6 [00:07<00:14,  3.68s/it]"
     ]
    },
    {
     "name": "stdout",
     "output_type": "stream",
     "text": [
      "Training until validation scores don't improve for 50 rounds\n",
      "[20]\ttraining's rmse: 2.00937\tvalid_1's rmse: 2.61242\n",
      "[40]\ttraining's rmse: 1.73291\tvalid_1's rmse: 2.38331\n",
      "[60]\ttraining's rmse: 1.61923\tvalid_1's rmse: 2.30617\n",
      "[80]\ttraining's rmse: 1.5386\tvalid_1's rmse: 2.27878\n",
      "[100]\ttraining's rmse: 1.49869\tvalid_1's rmse: 2.26825\n",
      "[120]\ttraining's rmse: 1.46784\tvalid_1's rmse: 2.26215\n",
      "[140]\ttraining's rmse: 1.43785\tvalid_1's rmse: 2.26094\n",
      "[160]\ttraining's rmse: 1.40208\tvalid_1's rmse: 2.26125\n",
      "Early stopping, best iteration is:\n",
      "[128]\ttraining's rmse: 1.45724\tvalid_1's rmse: 2.26051\n"
     ]
    },
    {
     "name": "stderr",
     "output_type": "stream",
     "text": [
      "feature_fraction_stage2, val_score: 2.243954:  50%|#####     | 3/6 [00:10<00:10,  3.62s/it][I 2020-05-29 18:08:06,991] Finished trial#39 with value: 2.2605110892373856 with parameters: {'feature_fraction': 0.62}. Best is trial#37 with value: 2.259645290580765.\n",
      "feature_fraction_stage2, val_score: 2.243954:  50%|#####     | 3/6 [00:10<00:10,  3.62s/it]"
     ]
    },
    {
     "name": "stdout",
     "output_type": "stream",
     "text": [
      "Training until validation scores don't improve for 50 rounds\n",
      "[20]\ttraining's rmse: 1.99321\tvalid_1's rmse: 2.60503\n",
      "[40]\ttraining's rmse: 1.71709\tvalid_1's rmse: 2.38003\n",
      "[60]\ttraining's rmse: 1.59616\tvalid_1's rmse: 2.30755\n",
      "[80]\ttraining's rmse: 1.51298\tvalid_1's rmse: 2.28113\n",
      "[100]\ttraining's rmse: 1.47474\tvalid_1's rmse: 2.27001\n",
      "[120]\ttraining's rmse: 1.44634\tvalid_1's rmse: 2.26361\n",
      "[140]\ttraining's rmse: 1.42169\tvalid_1's rmse: 2.26154\n",
      "[160]\ttraining's rmse: 1.39223\tvalid_1's rmse: 2.26137\n",
      "[180]\ttraining's rmse: 1.37834\tvalid_1's rmse: 2.26108\n",
      "[200]\ttraining's rmse: 1.35302\tvalid_1's rmse: 2.26365\n",
      "Early stopping, best iteration is:\n",
      "[152]\ttraining's rmse: 1.40414\tvalid_1's rmse: 2.25965\n"
     ]
    },
    {
     "name": "stderr",
     "output_type": "stream",
     "text": [
      "feature_fraction_stage2, val_score: 2.243954:  67%|######6   | 4/6 [00:14<00:07,  3.73s/it][I 2020-05-29 18:08:11,006] Finished trial#40 with value: 2.259645290580765 with parameters: {'feature_fraction': 0.748}. Best is trial#37 with value: 2.259645290580765.\n",
      "feature_fraction_stage2, val_score: 2.243954:  67%|######6   | 4/6 [00:14<00:07,  3.73s/it]"
     ]
    },
    {
     "name": "stdout",
     "output_type": "stream",
     "text": [
      "Training until validation scores don't improve for 50 rounds\n",
      "[20]\ttraining's rmse: 1.99938\tvalid_1's rmse: 2.60236\n",
      "[40]\ttraining's rmse: 1.72731\tvalid_1's rmse: 2.37109\n",
      "[60]\ttraining's rmse: 1.59918\tvalid_1's rmse: 2.29276\n",
      "[80]\ttraining's rmse: 1.52146\tvalid_1's rmse: 2.26206\n",
      "[100]\ttraining's rmse: 1.47808\tvalid_1's rmse: 2.25107\n",
      "[120]\ttraining's rmse: 1.4482\tvalid_1's rmse: 2.24489\n",
      "[140]\ttraining's rmse: 1.41776\tvalid_1's rmse: 2.24456\n",
      "[160]\ttraining's rmse: 1.38942\tvalid_1's rmse: 2.2459\n",
      "[180]\ttraining's rmse: 1.36971\tvalid_1's rmse: 2.24769\n",
      "Early stopping, best iteration is:\n",
      "[146]\ttraining's rmse: 1.40893\tvalid_1's rmse: 2.24395\n"
     ]
    },
    {
     "name": "stderr",
     "output_type": "stream",
     "text": [
      "feature_fraction_stage2, val_score: 2.243954:  83%|########3 | 5/6 [00:18<00:03,  3.88s/it][I 2020-05-29 18:08:15,271] Finished trial#41 with value: 2.2439541856024547 with parameters: {'feature_fraction': 0.716}. Best is trial#41 with value: 2.2439541856024547.\n",
      "feature_fraction_stage2, val_score: 2.243954:  83%|########3 | 5/6 [00:19<00:03,  3.88s/it]"
     ]
    },
    {
     "name": "stdout",
     "output_type": "stream",
     "text": [
      "Training until validation scores don't improve for 50 rounds\n",
      "[20]\ttraining's rmse: 1.99938\tvalid_1's rmse: 2.60236\n",
      "[40]\ttraining's rmse: 1.72731\tvalid_1's rmse: 2.37109\n",
      "[60]\ttraining's rmse: 1.59918\tvalid_1's rmse: 2.29276\n",
      "[80]\ttraining's rmse: 1.52146\tvalid_1's rmse: 2.26206\n",
      "[100]\ttraining's rmse: 1.47808\tvalid_1's rmse: 2.25107\n",
      "[120]\ttraining's rmse: 1.4482\tvalid_1's rmse: 2.24489\n",
      "[140]\ttraining's rmse: 1.41776\tvalid_1's rmse: 2.24456\n",
      "[160]\ttraining's rmse: 1.38942\tvalid_1's rmse: 2.2459\n",
      "[180]\ttraining's rmse: 1.36971\tvalid_1's rmse: 2.24769\n",
      "Early stopping, best iteration is:\n",
      "[146]\ttraining's rmse: 1.40893\tvalid_1's rmse: 2.24395\n"
     ]
    },
    {
     "name": "stderr",
     "output_type": "stream",
     "text": [
      "feature_fraction_stage2, val_score: 2.243954: 100%|##########| 6/6 [00:23<00:00,  4.18s/it][I 2020-05-29 18:08:20,101] Finished trial#42 with value: 2.2439541856024547 with parameters: {'feature_fraction': 0.6839999999999999}. Best is trial#41 with value: 2.2439541856024547.\n",
      "feature_fraction_stage2, val_score: 2.243954: 100%|##########| 6/6 [00:24<00:00,  4.01s/it]\n",
      "regularization_factors, val_score: 2.243954:   0%|          | 0/20 [00:00<?, ?it/s]"
     ]
    },
    {
     "name": "stdout",
     "output_type": "stream",
     "text": [
      "Training until validation scores don't improve for 50 rounds\n",
      "[20]\ttraining's rmse: 1.99952\tvalid_1's rmse: 2.60188\n",
      "[40]\ttraining's rmse: 1.72627\tvalid_1's rmse: 2.36934\n",
      "[60]\ttraining's rmse: 1.60216\tvalid_1's rmse: 2.29045\n",
      "[80]\ttraining's rmse: 1.52722\tvalid_1's rmse: 2.26654\n",
      "[100]\ttraining's rmse: 1.48791\tvalid_1's rmse: 2.25611\n",
      "[120]\ttraining's rmse: 1.4617\tvalid_1's rmse: 2.24969\n",
      "[140]\ttraining's rmse: 1.43552\tvalid_1's rmse: 2.24572\n",
      "[160]\ttraining's rmse: 1.40395\tvalid_1's rmse: 2.24694\n",
      "[180]\ttraining's rmse: 1.37683\tvalid_1's rmse: 2.24783\n",
      "[200]\ttraining's rmse: 1.35572\tvalid_1's rmse: 2.24713\n",
      "Early stopping, best iteration is:\n",
      "[151]\ttraining's rmse: 1.41929\tvalid_1's rmse: 2.24484\n"
     ]
    },
    {
     "name": "stderr",
     "output_type": "stream",
     "text": [
      "regularization_factors, val_score: 2.243954:   5%|5         | 1/20 [00:04<01:17,  4.07s/it][I 2020-05-29 18:08:24,401] Finished trial#43 with value: 2.244837431733532 with parameters: {'lambda_l1': 0.002607254509041053, 'lambda_l2': 0.005779960534342695}. Best is trial#43 with value: 2.244837431733532.\n",
      "regularization_factors, val_score: 2.243954:   5%|5         | 1/20 [00:04<01:17,  4.07s/it]"
     ]
    },
    {
     "name": "stdout",
     "output_type": "stream",
     "text": [
      "Training until validation scores don't improve for 50 rounds\n",
      "[20]\ttraining's rmse: 2.02098\tvalid_1's rmse: 2.61931\n",
      "[40]\ttraining's rmse: 1.74592\tvalid_1's rmse: 2.38635\n",
      "[60]\ttraining's rmse: 1.61952\tvalid_1's rmse: 2.3095\n",
      "[80]\ttraining's rmse: 1.53803\tvalid_1's rmse: 2.28276\n",
      "[100]\ttraining's rmse: 1.49602\tvalid_1's rmse: 2.27494\n",
      "[120]\ttraining's rmse: 1.46343\tvalid_1's rmse: 2.26997\n",
      "[140]\ttraining's rmse: 1.43101\tvalid_1's rmse: 2.26808\n",
      "[160]\ttraining's rmse: 1.39689\tvalid_1's rmse: 2.26902\n",
      "[180]\ttraining's rmse: 1.36951\tvalid_1's rmse: 2.26954\n",
      "Early stopping, best iteration is:\n",
      "[141]\ttraining's rmse: 1.43012\tvalid_1's rmse: 2.26799\n"
     ]
    },
    {
     "name": "stderr",
     "output_type": "stream",
     "text": [
      "regularization_factors, val_score: 2.243954:  10%|#         | 2/20 [00:07<01:11,  3.99s/it][I 2020-05-29 18:08:28,214] Finished trial#44 with value: 2.267986744387565 with parameters: {'lambda_l1': 4.59397618204549, 'lambda_l2': 1.026725582075639}. Best is trial#43 with value: 2.244837431733532.\n",
      "regularization_factors, val_score: 2.243954:  10%|#         | 2/20 [00:08<01:11,  3.99s/it]"
     ]
    },
    {
     "name": "stdout",
     "output_type": "stream",
     "text": [
      "Training until validation scores don't improve for 50 rounds\n",
      "[20]\ttraining's rmse: 1.99939\tvalid_1's rmse: 2.60236\n",
      "[40]\ttraining's rmse: 1.72731\tvalid_1's rmse: 2.37109\n",
      "[60]\ttraining's rmse: 1.59918\tvalid_1's rmse: 2.29276\n",
      "[80]\ttraining's rmse: 1.51905\tvalid_1's rmse: 2.26165\n",
      "[100]\ttraining's rmse: 1.47733\tvalid_1's rmse: 2.25203\n",
      "[120]\ttraining's rmse: 1.4454\tvalid_1's rmse: 2.24623\n",
      "[140]\ttraining's rmse: 1.4186\tvalid_1's rmse: 2.24613\n",
      "[160]\ttraining's rmse: 1.38377\tvalid_1's rmse: 2.247\n",
      "[180]\ttraining's rmse: 1.36299\tvalid_1's rmse: 2.24864\n",
      "Early stopping, best iteration is:\n",
      "[132]\ttraining's rmse: 1.42894\tvalid_1's rmse: 2.24511\n"
     ]
    },
    {
     "name": "stderr",
     "output_type": "stream",
     "text": [
      "regularization_factors, val_score: 2.243954:  15%|#5        | 3/20 [00:11<01:06,  3.91s/it][I 2020-05-29 18:08:31,928] Finished trial#45 with value: 2.2451146525928944 with parameters: {'lambda_l1': 5.00402519102733e-06, 'lambda_l2': 0.0008098607588210403}. Best is trial#43 with value: 2.244837431733532.\n",
      "regularization_factors, val_score: 2.243954:  15%|#5        | 3/20 [00:11<01:06,  3.91s/it]"
     ]
    },
    {
     "name": "stdout",
     "output_type": "stream",
     "text": [
      "Training until validation scores don't improve for 50 rounds\n",
      "[20]\ttraining's rmse: 1.99951\tvalid_1's rmse: 2.60188\n",
      "[40]\ttraining's rmse: 1.72627\tvalid_1's rmse: 2.36934\n",
      "[60]\ttraining's rmse: 1.60215\tvalid_1's rmse: 2.29047\n",
      "[80]\ttraining's rmse: 1.52609\tvalid_1's rmse: 2.26174\n",
      "[100]\ttraining's rmse: 1.48762\tvalid_1's rmse: 2.25257\n",
      "[120]\ttraining's rmse: 1.45856\tvalid_1's rmse: 2.24906\n",
      "[140]\ttraining's rmse: 1.42545\tvalid_1's rmse: 2.24848\n",
      "[160]\ttraining's rmse: 1.39818\tvalid_1's rmse: 2.24823\n",
      "[180]\ttraining's rmse: 1.37934\tvalid_1's rmse: 2.25006\n",
      "[200]\ttraining's rmse: 1.3509\tvalid_1's rmse: 2.25233\n",
      "Early stopping, best iteration is:\n",
      "[151]\ttraining's rmse: 1.4098\tvalid_1's rmse: 2.24683\n"
     ]
    },
    {
     "name": "stderr",
     "output_type": "stream",
     "text": [
      "regularization_factors, val_score: 2.243954:  20%|##        | 4/20 [00:15<01:04,  4.05s/it][I 2020-05-29 18:08:36,350] Finished trial#46 with value: 2.2468286993724234 with parameters: {'lambda_l1': 0.0024896090757742834, 'lambda_l2': 5.487163599242039e-07}. Best is trial#43 with value: 2.244837431733532.\n",
      "regularization_factors, val_score: 2.243954:  20%|##        | 4/20 [00:16<01:04,  4.05s/it]"
     ]
    },
    {
     "name": "stdout",
     "output_type": "stream",
     "text": [
      "Training until validation scores don't improve for 50 rounds\n",
      "[20]\ttraining's rmse: 1.99939\tvalid_1's rmse: 2.60237\n",
      "[40]\ttraining's rmse: 1.72741\tvalid_1's rmse: 2.37141\n",
      "[60]\ttraining's rmse: 1.59999\tvalid_1's rmse: 2.29338\n",
      "[80]\ttraining's rmse: 1.52047\tvalid_1's rmse: 2.26366\n",
      "[100]\ttraining's rmse: 1.4801\tvalid_1's rmse: 2.25046\n",
      "[120]\ttraining's rmse: 1.45222\tvalid_1's rmse: 2.24695\n",
      "[140]\ttraining's rmse: 1.42884\tvalid_1's rmse: 2.24723\n",
      "[160]\ttraining's rmse: 1.4004\tvalid_1's rmse: 2.24754\n",
      "Early stopping, best iteration is:\n",
      "[122]\ttraining's rmse: 1.44895\tvalid_1's rmse: 2.24635\n"
     ]
    },
    {
     "name": "stderr",
     "output_type": "stream",
     "text": [
      "regularization_factors, val_score: 2.243954:  25%|##5       | 5/20 [00:19<00:59,  3.94s/it][I 2020-05-29 18:08:39,978] Finished trial#47 with value: 2.246354271360219 with parameters: {'lambda_l1': 0.00033539580574508377, 'lambda_l2': 0.002053563550316313}. Best is trial#43 with value: 2.244837431733532.\n",
      "regularization_factors, val_score: 2.243954:  25%|##5       | 5/20 [00:19<00:59,  3.94s/it]"
     ]
    },
    {
     "name": "stdout",
     "output_type": "stream",
     "text": [
      "Training until validation scores don't improve for 50 rounds\n",
      "[20]\ttraining's rmse: 1.99951\tvalid_1's rmse: 2.60188\n",
      "[40]\ttraining's rmse: 1.72632\tvalid_1's rmse: 2.36873\n",
      "[60]\ttraining's rmse: 1.60336\tvalid_1's rmse: 2.291\n",
      "[80]\ttraining's rmse: 1.52331\tvalid_1's rmse: 2.262\n",
      "[100]\ttraining's rmse: 1.48257\tvalid_1's rmse: 2.25269\n",
      "[120]\ttraining's rmse: 1.45881\tvalid_1's rmse: 2.24822\n",
      "[140]\ttraining's rmse: 1.42777\tvalid_1's rmse: 2.24849\n",
      "[160]\ttraining's rmse: 1.39589\tvalid_1's rmse: 2.25044\n",
      "Early stopping, best iteration is:\n",
      "[114]\ttraining's rmse: 1.46612\tvalid_1's rmse: 2.24689\n"
     ]
    },
    {
     "name": "stderr",
     "output_type": "stream",
     "text": [
      "regularization_factors, val_score: 2.243954:  30%|###       | 6/20 [00:22<00:52,  3.76s/it][I 2020-05-29 18:08:43,356] Finished trial#48 with value: 2.246893631821731 with parameters: {'lambda_l1': 8.66319690956144e-05, 'lambda_l2': 0.0013082175172981234}. Best is trial#43 with value: 2.244837431733532.\n",
      "regularization_factors, val_score: 2.243954:  30%|###       | 6/20 [00:23<00:52,  3.76s/it]"
     ]
    },
    {
     "name": "stdout",
     "output_type": "stream",
     "text": [
      "Training until validation scores don't improve for 50 rounds\n",
      "[20]\ttraining's rmse: 1.99995\tvalid_1's rmse: 2.60793\n",
      "[40]\ttraining's rmse: 1.72453\tvalid_1's rmse: 2.37111\n",
      "[60]\ttraining's rmse: 1.59461\tvalid_1's rmse: 2.29783\n",
      "[80]\ttraining's rmse: 1.51743\tvalid_1's rmse: 2.26942\n",
      "[100]\ttraining's rmse: 1.47945\tvalid_1's rmse: 2.25965\n",
      "[120]\ttraining's rmse: 1.45237\tvalid_1's rmse: 2.25598\n",
      "[140]\ttraining's rmse: 1.42177\tvalid_1's rmse: 2.25521\n",
      "[160]\ttraining's rmse: 1.39589\tvalid_1's rmse: 2.2559\n",
      "Early stopping, best iteration is:\n",
      "[126]\ttraining's rmse: 1.44174\tvalid_1's rmse: 2.25444\n"
     ]
    },
    {
     "name": "stderr",
     "output_type": "stream",
     "text": [
      "regularization_factors, val_score: 2.243954:  35%|###5      | 7/20 [00:26<00:48,  3.73s/it][I 2020-05-29 18:08:46,995] Finished trial#49 with value: 2.254444395237467 with parameters: {'lambda_l1': 0.6849860313148293, 'lambda_l2': 5.744088256859738e-07}. Best is trial#43 with value: 2.244837431733532.\n",
      "regularization_factors, val_score: 2.243954:  35%|###5      | 7/20 [00:26<00:48,  3.73s/it]"
     ]
    },
    {
     "name": "stdout",
     "output_type": "stream",
     "text": [
      "Training until validation scores don't improve for 50 rounds\n",
      "[20]\ttraining's rmse: 1.99938\tvalid_1's rmse: 2.60237\n",
      "[40]\ttraining's rmse: 1.72731\tvalid_1's rmse: 2.3711\n",
      "[60]\ttraining's rmse: 1.60242\tvalid_1's rmse: 2.29182\n",
      "[80]\ttraining's rmse: 1.52094\tvalid_1's rmse: 2.26135\n",
      "[100]\ttraining's rmse: 1.47672\tvalid_1's rmse: 2.2497\n",
      "[120]\ttraining's rmse: 1.44875\tvalid_1's rmse: 2.24558\n",
      "[140]\ttraining's rmse: 1.41935\tvalid_1's rmse: 2.24798\n",
      "[160]\ttraining's rmse: 1.39424\tvalid_1's rmse: 2.24547\n",
      "Early stopping, best iteration is:\n",
      "[121]\ttraining's rmse: 1.44731\tvalid_1's rmse: 2.24469\n"
     ]
    },
    {
     "name": "stderr",
     "output_type": "stream",
     "text": [
      "regularization_factors, val_score: 2.243954:  40%|####      | 8/20 [00:30<00:44,  3.71s/it][I 2020-05-29 18:08:50,648] Finished trial#50 with value: 2.2446872219708482 with parameters: {'lambda_l1': 0.00017141104538727624, 'lambda_l2': 6.200897546763299e-05}. Best is trial#50 with value: 2.2446872219708482.\n",
      "regularization_factors, val_score: 2.243954:  40%|####      | 8/20 [00:30<00:44,  3.71s/it]"
     ]
    },
    {
     "name": "stdout",
     "output_type": "stream",
     "text": [
      "Training until validation scores don't improve for 50 rounds\n",
      "[20]\ttraining's rmse: 1.99951\tvalid_1's rmse: 2.60187\n",
      "[40]\ttraining's rmse: 1.72626\tvalid_1's rmse: 2.36934\n",
      "[60]\ttraining's rmse: 1.60216\tvalid_1's rmse: 2.29044\n",
      "[80]\ttraining's rmse: 1.52574\tvalid_1's rmse: 2.26446\n",
      "[100]\ttraining's rmse: 1.48686\tvalid_1's rmse: 2.2557\n",
      "[120]\ttraining's rmse: 1.4582\tvalid_1's rmse: 2.25001\n",
      "[140]\ttraining's rmse: 1.43459\tvalid_1's rmse: 2.24664\n",
      "[160]\ttraining's rmse: 1.4009\tvalid_1's rmse: 2.24741\n",
      "[180]\ttraining's rmse: 1.38073\tvalid_1's rmse: 2.24789\n",
      "Early stopping, best iteration is:\n",
      "[138]\ttraining's rmse: 1.43618\tvalid_1's rmse: 2.24599\n"
     ]
    },
    {
     "name": "stderr",
     "output_type": "stream",
     "text": [
      "regularization_factors, val_score: 2.243954:  45%|####5     | 9/20 [00:34<00:41,  3.76s/it][I 2020-05-29 18:08:54,535] Finished trial#51 with value: 2.2459852857486005 with parameters: {'lambda_l1': 0.0024123608186227712, 'lambda_l2': 3.1912313557740225e-06}. Best is trial#50 with value: 2.2446872219708482.\n",
      "regularization_factors, val_score: 2.243954:  45%|####5     | 9/20 [00:34<00:41,  3.76s/it]"
     ]
    },
    {
     "name": "stdout",
     "output_type": "stream",
     "text": [
      "Training until validation scores don't improve for 50 rounds\n",
      "[20]\ttraining's rmse: 2.00944\tvalid_1's rmse: 2.61096\n",
      "[40]\ttraining's rmse: 1.73101\tvalid_1's rmse: 2.37299\n",
      "[60]\ttraining's rmse: 1.61148\tvalid_1's rmse: 2.30313\n",
      "[80]\ttraining's rmse: 1.53399\tvalid_1's rmse: 2.2739\n",
      "[100]\ttraining's rmse: 1.49152\tvalid_1's rmse: 2.26279\n",
      "[120]\ttraining's rmse: 1.46169\tvalid_1's rmse: 2.25785\n",
      "[140]\ttraining's rmse: 1.43076\tvalid_1's rmse: 2.25624\n",
      "[160]\ttraining's rmse: 1.4036\tvalid_1's rmse: 2.25682\n",
      "[180]\ttraining's rmse: 1.37924\tvalid_1's rmse: 2.25848\n",
      "Early stopping, best iteration is:\n",
      "[146]\ttraining's rmse: 1.42444\tvalid_1's rmse: 2.25535\n"
     ]
    },
    {
     "name": "stderr",
     "output_type": "stream",
     "text": [
      "regularization_factors, val_score: 2.243954:  50%|#####     | 10/20 [00:38<00:38,  3.81s/it][I 2020-05-29 18:08:58,458] Finished trial#52 with value: 2.255349519786146 with parameters: {'lambda_l1': 0.08173250873345876, 'lambda_l2': 0.11387562769113935}. Best is trial#50 with value: 2.2446872219708482.\n",
      "regularization_factors, val_score: 2.243954:  50%|#####     | 10/20 [00:38<00:38,  3.81s/it]"
     ]
    },
    {
     "name": "stdout",
     "output_type": "stream",
     "text": [
      "Training until validation scores don't improve for 50 rounds\n",
      "[20]\ttraining's rmse: 1.99938\tvalid_1's rmse: 2.60236\n",
      "[40]\ttraining's rmse: 1.72731\tvalid_1's rmse: 2.37109\n",
      "[60]\ttraining's rmse: 1.59918\tvalid_1's rmse: 2.29276\n",
      "[80]\ttraining's rmse: 1.52146\tvalid_1's rmse: 2.26206\n",
      "[100]\ttraining's rmse: 1.47808\tvalid_1's rmse: 2.25107\n",
      "[120]\ttraining's rmse: 1.4482\tvalid_1's rmse: 2.24489\n",
      "[140]\ttraining's rmse: 1.41776\tvalid_1's rmse: 2.24456\n",
      "[160]\ttraining's rmse: 1.38942\tvalid_1's rmse: 2.2459\n",
      "[180]\ttraining's rmse: 1.36971\tvalid_1's rmse: 2.24769\n",
      "Early stopping, best iteration is:\n",
      "[146]\ttraining's rmse: 1.40893\tvalid_1's rmse: 2.24395\n"
     ]
    },
    {
     "name": "stderr",
     "output_type": "stream",
     "text": [
      "regularization_factors, val_score: 2.243954:  55%|#####5    | 11/20 [00:42<00:35,  3.97s/it][I 2020-05-29 18:09:02,795] Finished trial#53 with value: 2.243954185630734 with parameters: {'lambda_l1': 1.0067350857022236e-08, 'lambda_l2': 1.501216250765232e-08}. Best is trial#53 with value: 2.243954185630734.\n",
      "regularization_factors, val_score: 2.243954:  55%|#####5    | 11/20 [00:42<00:35,  3.97s/it]"
     ]
    },
    {
     "name": "stdout",
     "output_type": "stream",
     "text": [
      "Training until validation scores don't improve for 50 rounds\n",
      "[20]\ttraining's rmse: 1.99938\tvalid_1's rmse: 2.60236\n",
      "[40]\ttraining's rmse: 1.72731\tvalid_1's rmse: 2.37109\n",
      "[60]\ttraining's rmse: 1.59918\tvalid_1's rmse: 2.29276\n",
      "[80]\ttraining's rmse: 1.52146\tvalid_1's rmse: 2.26206\n",
      "[100]\ttraining's rmse: 1.47808\tvalid_1's rmse: 2.25107\n",
      "[120]\ttraining's rmse: 1.4482\tvalid_1's rmse: 2.24489\n",
      "[140]\ttraining's rmse: 1.41776\tvalid_1's rmse: 2.24456\n",
      "[160]\ttraining's rmse: 1.38942\tvalid_1's rmse: 2.2459\n",
      "[180]\ttraining's rmse: 1.36971\tvalid_1's rmse: 2.24769\n",
      "Early stopping, best iteration is:\n",
      "[146]\ttraining's rmse: 1.40893\tvalid_1's rmse: 2.24395\n"
     ]
    },
    {
     "name": "stderr",
     "output_type": "stream",
     "text": [
      "regularization_factors, val_score: 2.243954:  60%|######    | 12/20 [00:46<00:32,  4.09s/it][I 2020-05-29 18:09:07,181] Finished trial#54 with value: 2.243954185698006 with parameters: {'lambda_l1': 4.9321984557543196e-08, 'lambda_l2': 1.0664175585269692e-08}. Best is trial#53 with value: 2.243954185630734.\n",
      "regularization_factors, val_score: 2.243954:  60%|######    | 12/20 [00:47<00:32,  4.09s/it]"
     ]
    },
    {
     "name": "stdout",
     "output_type": "stream",
     "text": [
      "Training until validation scores don't improve for 50 rounds\n",
      "[20]\ttraining's rmse: 1.99938\tvalid_1's rmse: 2.60236\n",
      "[40]\ttraining's rmse: 1.72731\tvalid_1's rmse: 2.37109\n",
      "[60]\ttraining's rmse: 1.59918\tvalid_1's rmse: 2.29276\n",
      "[80]\ttraining's rmse: 1.52146\tvalid_1's rmse: 2.26206\n",
      "[100]\ttraining's rmse: 1.47808\tvalid_1's rmse: 2.25107\n",
      "[120]\ttraining's rmse: 1.4482\tvalid_1's rmse: 2.24489\n",
      "[140]\ttraining's rmse: 1.41776\tvalid_1's rmse: 2.24456\n",
      "[160]\ttraining's rmse: 1.38942\tvalid_1's rmse: 2.2459\n",
      "[180]\ttraining's rmse: 1.36971\tvalid_1's rmse: 2.24769\n",
      "Early stopping, best iteration is:\n",
      "[146]\ttraining's rmse: 1.40893\tvalid_1's rmse: 2.24395\n"
     ]
    },
    {
     "name": "stderr",
     "output_type": "stream",
     "text": [
      "regularization_factors, val_score: 2.243954:  65%|######5   | 13/20 [00:51<00:28,  4.14s/it][I 2020-05-29 18:09:11,410] Finished trial#55 with value: 2.2439541856377487 with parameters: {'lambda_l1': 2.6739677738248535e-08, 'lambda_l2': 1.085501105772308e-08}. Best is trial#53 with value: 2.243954185630734.\n",
      "regularization_factors, val_score: 2.243954:  65%|######5   | 13/20 [00:51<00:28,  4.14s/it]"
     ]
    },
    {
     "name": "stdout",
     "output_type": "stream",
     "text": [
      "Training until validation scores don't improve for 50 rounds\n",
      "[20]\ttraining's rmse: 1.99938\tvalid_1's rmse: 2.60236\n",
      "[40]\ttraining's rmse: 1.72731\tvalid_1's rmse: 2.37109\n",
      "[60]\ttraining's rmse: 1.59918\tvalid_1's rmse: 2.29276\n",
      "[80]\ttraining's rmse: 1.52146\tvalid_1's rmse: 2.26206\n",
      "[100]\ttraining's rmse: 1.47808\tvalid_1's rmse: 2.25107\n",
      "[120]\ttraining's rmse: 1.4482\tvalid_1's rmse: 2.24489\n",
      "[140]\ttraining's rmse: 1.41776\tvalid_1's rmse: 2.24456\n",
      "[160]\ttraining's rmse: 1.38942\tvalid_1's rmse: 2.2459\n",
      "[180]\ttraining's rmse: 1.36971\tvalid_1's rmse: 2.24769\n",
      "Early stopping, best iteration is:\n",
      "[146]\ttraining's rmse: 1.40893\tvalid_1's rmse: 2.24395\n"
     ]
    },
    {
     "name": "stderr",
     "output_type": "stream",
     "text": [
      "regularization_factors, val_score: 2.243954:  70%|#######   | 14/20 [00:55<00:24,  4.16s/it][I 2020-05-29 18:09:15,605] Finished trial#56 with value: 2.2439541856389518 with parameters: {'lambda_l1': 2.6071110712588914e-08, 'lambda_l2': 1.1477140713558194e-08}. Best is trial#53 with value: 2.243954185630734.\n",
      "regularization_factors, val_score: 2.243954:  70%|#######   | 14/20 [00:55<00:24,  4.16s/it]"
     ]
    },
    {
     "name": "stdout",
     "output_type": "stream",
     "text": [
      "Training until validation scores don't improve for 50 rounds\n",
      "[20]\ttraining's rmse: 1.99938\tvalid_1's rmse: 2.60236\n",
      "[40]\ttraining's rmse: 1.72731\tvalid_1's rmse: 2.37109\n",
      "[60]\ttraining's rmse: 1.59918\tvalid_1's rmse: 2.29276\n",
      "[80]\ttraining's rmse: 1.52146\tvalid_1's rmse: 2.26206\n",
      "[100]\ttraining's rmse: 1.47808\tvalid_1's rmse: 2.25107\n",
      "[120]\ttraining's rmse: 1.4482\tvalid_1's rmse: 2.24489\n",
      "[140]\ttraining's rmse: 1.41776\tvalid_1's rmse: 2.24456\n",
      "[160]\ttraining's rmse: 1.38942\tvalid_1's rmse: 2.2459\n",
      "[180]\ttraining's rmse: 1.36971\tvalid_1's rmse: 2.24769\n",
      "Early stopping, best iteration is:\n",
      "[146]\ttraining's rmse: 1.40893\tvalid_1's rmse: 2.24395\n"
     ]
    },
    {
     "name": "stderr",
     "output_type": "stream",
     "text": [
      "regularization_factors, val_score: 2.243954:  75%|#######5  | 15/20 [00:59<00:20,  4.06s/it][I 2020-05-29 18:09:19,430] Finished trial#57 with value: 2.2439541859925343 with parameters: {'lambda_l1': 5.965741436060452e-07, 'lambda_l2': 1.7424705551562528e-08}. Best is trial#53 with value: 2.243954185630734.\n",
      "regularization_factors, val_score: 2.243954:  75%|#######5  | 15/20 [00:59<00:20,  4.06s/it]"
     ]
    },
    {
     "name": "stdout",
     "output_type": "stream",
     "text": [
      "Training until validation scores don't improve for 50 rounds\n",
      "[20]\ttraining's rmse: 1.99938\tvalid_1's rmse: 2.60236\n",
      "[40]\ttraining's rmse: 1.72731\tvalid_1's rmse: 2.37109\n",
      "[60]\ttraining's rmse: 1.59918\tvalid_1's rmse: 2.29276\n",
      "[80]\ttraining's rmse: 1.52146\tvalid_1's rmse: 2.26206\n",
      "[100]\ttraining's rmse: 1.47808\tvalid_1's rmse: 2.25107\n",
      "[120]\ttraining's rmse: 1.4482\tvalid_1's rmse: 2.24489\n",
      "[140]\ttraining's rmse: 1.41776\tvalid_1's rmse: 2.24456\n",
      "[160]\ttraining's rmse: 1.38942\tvalid_1's rmse: 2.2459\n",
      "[180]\ttraining's rmse: 1.36971\tvalid_1's rmse: 2.24769\n",
      "Early stopping, best iteration is:\n",
      "[146]\ttraining's rmse: 1.40893\tvalid_1's rmse: 2.24395\n"
     ]
    },
    {
     "name": "stderr",
     "output_type": "stream",
     "text": [
      "regularization_factors, val_score: 2.243954:  80%|########  | 16/20 [01:03<00:16,  4.04s/it][I 2020-05-29 18:09:23,422] Finished trial#58 with value: 2.243954185974236 with parameters: {'lambda_l1': 4.137774224594063e-07, 'lambda_l2': 1.303649835048846e-07}. Best is trial#53 with value: 2.243954185630734.\n",
      "regularization_factors, val_score: 2.243954:  80%|########  | 16/20 [01:03<00:16,  4.04s/it]"
     ]
    },
    {
     "name": "stdout",
     "output_type": "stream",
     "text": [
      "Training until validation scores don't improve for 50 rounds\n",
      "[20]\ttraining's rmse: 1.99938\tvalid_1's rmse: 2.60236\n",
      "[40]\ttraining's rmse: 1.72731\tvalid_1's rmse: 2.37109\n",
      "[60]\ttraining's rmse: 1.59918\tvalid_1's rmse: 2.29276\n",
      "[80]\ttraining's rmse: 1.52146\tvalid_1's rmse: 2.26206\n",
      "[100]\ttraining's rmse: 1.47808\tvalid_1's rmse: 2.25107\n",
      "[120]\ttraining's rmse: 1.4482\tvalid_1's rmse: 2.24489\n",
      "[140]\ttraining's rmse: 1.41857\tvalid_1's rmse: 2.24534\n",
      "[160]\ttraining's rmse: 1.38821\tvalid_1's rmse: 2.24644\n",
      "Early stopping, best iteration is:\n",
      "[121]\ttraining's rmse: 1.44708\tvalid_1's rmse: 2.24453\n"
     ]
    },
    {
     "name": "stderr",
     "output_type": "stream",
     "text": [
      "regularization_factors, val_score: 2.243954:  85%|########5 | 17/20 [01:06<00:11,  3.86s/it][I 2020-05-29 18:09:26,874] Finished trial#59 with value: 2.244534319911181 with parameters: {'lambda_l1': 1.1519798057546553e-08, 'lambda_l2': 1.5168369679248269e-05}. Best is trial#53 with value: 2.243954185630734.\n",
      "regularization_factors, val_score: 2.243954:  85%|########5 | 17/20 [01:06<00:11,  3.86s/it]"
     ]
    },
    {
     "name": "stdout",
     "output_type": "stream",
     "text": [
      "Training until validation scores don't improve for 50 rounds\n",
      "[20]\ttraining's rmse: 1.99938\tvalid_1's rmse: 2.60236\n",
      "[40]\ttraining's rmse: 1.72731\tvalid_1's rmse: 2.37109\n",
      "[60]\ttraining's rmse: 1.59918\tvalid_1's rmse: 2.29276\n",
      "[80]\ttraining's rmse: 1.52146\tvalid_1's rmse: 2.26206\n",
      "[100]\ttraining's rmse: 1.47808\tvalid_1's rmse: 2.25107\n",
      "[120]\ttraining's rmse: 1.4482\tvalid_1's rmse: 2.24489\n",
      "[140]\ttraining's rmse: 1.41776\tvalid_1's rmse: 2.24456\n",
      "[160]\ttraining's rmse: 1.38942\tvalid_1's rmse: 2.2459\n",
      "[180]\ttraining's rmse: 1.36971\tvalid_1's rmse: 2.24769\n",
      "Early stopping, best iteration is:\n",
      "[146]\ttraining's rmse: 1.40893\tvalid_1's rmse: 2.24395\n"
     ]
    },
    {
     "name": "stderr",
     "output_type": "stream",
     "text": [
      "regularization_factors, val_score: 2.243954:  90%|######### | 18/20 [01:10<00:07,  3.87s/it][I 2020-05-29 18:09:30,764] Finished trial#60 with value: 2.2439541860100665 with parameters: {'lambda_l1': 3.7775403567872197e-07, 'lambda_l2': 1.7923338491107956e-07}. Best is trial#53 with value: 2.243954185630734.\n",
      "regularization_factors, val_score: 2.243954:  90%|######### | 18/20 [01:10<00:07,  3.87s/it]"
     ]
    },
    {
     "name": "stdout",
     "output_type": "stream",
     "text": [
      "Training until validation scores don't improve for 50 rounds\n",
      "[20]\ttraining's rmse: 1.99938\tvalid_1's rmse: 2.60236\n",
      "[40]\ttraining's rmse: 1.72731\tvalid_1's rmse: 2.37109\n",
      "[60]\ttraining's rmse: 1.59918\tvalid_1's rmse: 2.29276\n",
      "[80]\ttraining's rmse: 1.52146\tvalid_1's rmse: 2.26206\n",
      "[100]\ttraining's rmse: 1.47808\tvalid_1's rmse: 2.25107\n",
      "[120]\ttraining's rmse: 1.4482\tvalid_1's rmse: 2.24489\n",
      "[140]\ttraining's rmse: 1.41729\tvalid_1's rmse: 2.24599\n",
      "[160]\ttraining's rmse: 1.38719\tvalid_1's rmse: 2.24611\n",
      "[180]\ttraining's rmse: 1.36779\tvalid_1's rmse: 2.24628\n",
      "[200]\ttraining's rmse: 1.3439\tvalid_1's rmse: 2.24815\n",
      "Early stopping, best iteration is:\n",
      "[157]\ttraining's rmse: 1.39744\tvalid_1's rmse: 2.24438\n"
     ]
    },
    {
     "name": "stderr",
     "output_type": "stream",
     "text": [
      "regularization_factors, val_score: 2.243954:  95%|#########5| 19/20 [01:14<00:03,  3.89s/it][I 2020-05-29 18:09:34,706] Finished trial#61 with value: 2.2443769132549964 with parameters: {'lambda_l1': 1.0437137789861244e-05, 'lambda_l2': 3.348010609320608e-08}. Best is trial#53 with value: 2.243954185630734.\n",
      "regularization_factors, val_score: 2.243954:  95%|#########5| 19/20 [01:14<00:03,  3.89s/it]"
     ]
    },
    {
     "name": "stdout",
     "output_type": "stream",
     "text": [
      "Training until validation scores don't improve for 50 rounds\n",
      "[20]\ttraining's rmse: 1.99938\tvalid_1's rmse: 2.60236\n",
      "[40]\ttraining's rmse: 1.72731\tvalid_1's rmse: 2.37109\n",
      "[60]\ttraining's rmse: 1.59918\tvalid_1's rmse: 2.29276\n",
      "[80]\ttraining's rmse: 1.52146\tvalid_1's rmse: 2.26206\n",
      "[100]\ttraining's rmse: 1.47808\tvalid_1's rmse: 2.25107\n",
      "[120]\ttraining's rmse: 1.4482\tvalid_1's rmse: 2.24489\n",
      "[140]\ttraining's rmse: 1.41776\tvalid_1's rmse: 2.24456\n",
      "[160]\ttraining's rmse: 1.38942\tvalid_1's rmse: 2.2459\n",
      "[180]\ttraining's rmse: 1.36971\tvalid_1's rmse: 2.24769\n",
      "Early stopping, best iteration is:\n",
      "[146]\ttraining's rmse: 1.40893\tvalid_1's rmse: 2.24395\n"
     ]
    },
    {
     "name": "stderr",
     "output_type": "stream",
     "text": [
      "regularization_factors, val_score: 2.243954: 100%|##########| 20/20 [01:18<00:00,  3.97s/it][I 2020-05-29 18:09:38,857] Finished trial#62 with value: 2.243954186434208 with parameters: {'lambda_l1': 1.3291412723051362e-08, 'lambda_l2': 4.439717162743716e-06}. Best is trial#53 with value: 2.243954185630734.\n",
      "regularization_factors, val_score: 2.243954: 100%|##########| 20/20 [01:18<00:00,  3.94s/it]\n",
      "min_data_in_leaf, val_score: 2.243954:   0%|          | 0/5 [00:00<?, ?it/s]"
     ]
    },
    {
     "name": "stdout",
     "output_type": "stream",
     "text": [
      "Training until validation scores don't improve for 50 rounds\n",
      "[20]\ttraining's rmse: 2.10355\tvalid_1's rmse: 2.6635\n",
      "[40]\ttraining's rmse: 1.82978\tvalid_1's rmse: 2.42729\n",
      "[60]\ttraining's rmse: 1.7011\tvalid_1's rmse: 2.34103\n",
      "[80]\ttraining's rmse: 1.61432\tvalid_1's rmse: 2.30111\n",
      "[100]\ttraining's rmse: 1.58178\tvalid_1's rmse: 2.29003\n",
      "[120]\ttraining's rmse: 1.55875\tvalid_1's rmse: 2.28091\n",
      "[140]\ttraining's rmse: 1.53715\tvalid_1's rmse: 2.27555\n",
      "[160]\ttraining's rmse: 1.51691\tvalid_1's rmse: 2.27036\n",
      "[180]\ttraining's rmse: 1.49679\tvalid_1's rmse: 2.26838\n",
      "[200]\ttraining's rmse: 1.47437\tvalid_1's rmse: 2.2675\n",
      "[220]\ttraining's rmse: 1.45445\tvalid_1's rmse: 2.26652\n",
      "[240]\ttraining's rmse: 1.4365\tvalid_1's rmse: 2.26475\n",
      "[260]\ttraining's rmse: 1.41681\tvalid_1's rmse: 2.26486\n",
      "[280]\ttraining's rmse: 1.40244\tvalid_1's rmse: 2.26478\n",
      "[300]\ttraining's rmse: 1.38555\tvalid_1's rmse: 2.26409\n",
      "[320]\ttraining's rmse: 1.37012\tvalid_1's rmse: 2.26577\n",
      "[340]\ttraining's rmse: 1.3531\tvalid_1's rmse: 2.26857\n",
      "Early stopping, best iteration is:\n",
      "[307]\ttraining's rmse: 1.37981\tvalid_1's rmse: 2.2638\n"
     ]
    },
    {
     "name": "stderr",
     "output_type": "stream",
     "text": [
      "min_data_in_leaf, val_score: 2.243954:  20%|##        | 1/5 [00:06<00:26,  6.60s/it][I 2020-05-29 18:09:45,678] Finished trial#63 with value: 2.26380461458721 with parameters: {'min_child_samples': 100}. Best is trial#63 with value: 2.26380461458721.\n",
      "min_data_in_leaf, val_score: 2.243954:  20%|##        | 1/5 [00:06<00:26,  6.60s/it]"
     ]
    },
    {
     "name": "stdout",
     "output_type": "stream",
     "text": [
      "Training until validation scores don't improve for 50 rounds\n",
      "[20]\ttraining's rmse: 1.95462\tvalid_1's rmse: 2.57687\n",
      "[40]\ttraining's rmse: 1.67784\tvalid_1's rmse: 2.35166\n",
      "[60]\ttraining's rmse: 1.5581\tvalid_1's rmse: 2.28492\n",
      "[80]\ttraining's rmse: 1.48108\tvalid_1's rmse: 2.26004\n",
      "[100]\ttraining's rmse: 1.44386\tvalid_1's rmse: 2.25078\n",
      "[120]\ttraining's rmse: 1.41781\tvalid_1's rmse: 2.24487\n",
      "[140]\ttraining's rmse: 1.37929\tvalid_1's rmse: 2.24667\n",
      "[160]\ttraining's rmse: 1.34977\tvalid_1's rmse: 2.2457\n",
      "Early stopping, best iteration is:\n",
      "[120]\ttraining's rmse: 1.41781\tvalid_1's rmse: 2.24487\n"
     ]
    },
    {
     "name": "stderr",
     "output_type": "stream",
     "text": [
      "min_data_in_leaf, val_score: 2.243954:  40%|####      | 2/5 [00:09<00:16,  5.59s/it][I 2020-05-29 18:09:48,900] Finished trial#64 with value: 2.2448659122967283 with parameters: {'min_child_samples': 10}. Best is trial#64 with value: 2.2448659122967283.\n",
      "min_data_in_leaf, val_score: 2.243954:  40%|####      | 2/5 [00:10<00:16,  5.59s/it]"
     ]
    },
    {
     "name": "stdout",
     "output_type": "stream",
     "text": [
      "Training until validation scores don't improve for 50 rounds\n",
      "[20]\ttraining's rmse: 2.06623\tvalid_1's rmse: 2.64242\n",
      "[40]\ttraining's rmse: 1.7896\tvalid_1's rmse: 2.402\n",
      "[60]\ttraining's rmse: 1.65477\tvalid_1's rmse: 2.31234\n",
      "[80]\ttraining's rmse: 1.57355\tvalid_1's rmse: 2.28818\n",
      "[100]\ttraining's rmse: 1.53635\tvalid_1's rmse: 2.27841\n",
      "[120]\ttraining's rmse: 1.51137\tvalid_1's rmse: 2.27693\n",
      "[140]\ttraining's rmse: 1.48748\tvalid_1's rmse: 2.27156\n",
      "[160]\ttraining's rmse: 1.46492\tvalid_1's rmse: 2.26882\n",
      "[180]\ttraining's rmse: 1.44798\tvalid_1's rmse: 2.26597\n",
      "[200]\ttraining's rmse: 1.42307\tvalid_1's rmse: 2.26428\n",
      "[220]\ttraining's rmse: 1.40595\tvalid_1's rmse: 2.26364\n",
      "[240]\ttraining's rmse: 1.39053\tvalid_1's rmse: 2.26342\n",
      "[260]\ttraining's rmse: 1.37005\tvalid_1's rmse: 2.26175\n",
      "[280]\ttraining's rmse: 1.35565\tvalid_1's rmse: 2.26133\n",
      "[300]\ttraining's rmse: 1.34121\tvalid_1's rmse: 2.26258\n",
      "[320]\ttraining's rmse: 1.32419\tvalid_1's rmse: 2.26213\n",
      "[340]\ttraining's rmse: 1.30815\tvalid_1's rmse: 2.26228\n",
      "Early stopping, best iteration is:\n",
      "[291]\ttraining's rmse: 1.34784\tvalid_1's rmse: 2.26071\n"
     ]
    },
    {
     "name": "stderr",
     "output_type": "stream",
     "text": [
      "min_data_in_leaf, val_score: 2.243954:  60%|######    | 3/5 [00:16<00:11,  5.87s/it][I 2020-05-29 18:09:55,421] Finished trial#65 with value: 2.260713670108471 with parameters: {'min_child_samples': 50}. Best is trial#64 with value: 2.2448659122967283.\n",
      "min_data_in_leaf, val_score: 2.243954:  60%|######    | 3/5 [00:16<00:11,  5.87s/it]"
     ]
    },
    {
     "name": "stdout",
     "output_type": "stream",
     "text": [
      "Training until validation scores don't improve for 50 rounds\n",
      "[20]\ttraining's rmse: 2.01375\tvalid_1's rmse: 2.62025\n",
      "[40]\ttraining's rmse: 1.73887\tvalid_1's rmse: 2.38949\n",
      "[60]\ttraining's rmse: 1.60949\tvalid_1's rmse: 2.30981\n",
      "[80]\ttraining's rmse: 1.52967\tvalid_1's rmse: 2.28429\n",
      "[100]\ttraining's rmse: 1.49099\tvalid_1's rmse: 2.27238\n",
      "[120]\ttraining's rmse: 1.46678\tvalid_1's rmse: 2.26766\n",
      "[140]\ttraining's rmse: 1.44035\tvalid_1's rmse: 2.26412\n",
      "[160]\ttraining's rmse: 1.41204\tvalid_1's rmse: 2.26393\n",
      "[180]\ttraining's rmse: 1.38532\tvalid_1's rmse: 2.26515\n",
      "[200]\ttraining's rmse: 1.3585\tvalid_1's rmse: 2.26703\n",
      "Early stopping, best iteration is:\n",
      "[159]\ttraining's rmse: 1.41545\tvalid_1's rmse: 2.26312\n"
     ]
    },
    {
     "name": "stderr",
     "output_type": "stream",
     "text": [
      "min_data_in_leaf, val_score: 2.243954:  80%|########  | 4/5 [00:20<00:05,  5.46s/it][I 2020-05-29 18:10:00,097] Finished trial#66 with value: 2.263121225070395 with parameters: {'min_child_samples': 25}. Best is trial#64 with value: 2.2448659122967283.\n",
      "min_data_in_leaf, val_score: 2.243954:  80%|########  | 4/5 [00:21<00:05,  5.46s/it]"
     ]
    },
    {
     "name": "stdout",
     "output_type": "stream",
     "text": [
      "Training until validation scores don't improve for 50 rounds\n",
      "[20]\ttraining's rmse: 1.91384\tvalid_1's rmse: 2.56492\n",
      "[40]\ttraining's rmse: 1.64816\tvalid_1's rmse: 2.35135\n",
      "[60]\ttraining's rmse: 1.53252\tvalid_1's rmse: 2.29161\n",
      "[80]\ttraining's rmse: 1.45408\tvalid_1's rmse: 2.26307\n",
      "[100]\ttraining's rmse: 1.41709\tvalid_1's rmse: 2.25373\n",
      "[120]\ttraining's rmse: 1.3881\tvalid_1's rmse: 2.24654\n",
      "[140]\ttraining's rmse: 1.35609\tvalid_1's rmse: 2.23865\n",
      "[160]\ttraining's rmse: 1.32257\tvalid_1's rmse: 2.23476\n",
      "[180]\ttraining's rmse: 1.30163\tvalid_1's rmse: 2.23722\n",
      "[200]\ttraining's rmse: 1.28101\tvalid_1's rmse: 2.23649\n",
      "Early stopping, best iteration is:\n",
      "[162]\ttraining's rmse: 1.32123\tvalid_1's rmse: 2.23465\n"
     ]
    },
    {
     "name": "stderr",
     "output_type": "stream",
     "text": [
      "min_data_in_leaf, val_score: 2.234649: 100%|##########| 5/5 [00:25<00:00,  5.12s/it][I 2020-05-29 18:10:04,299] Finished trial#67 with value: 2.234648708397086 with parameters: {'min_child_samples': 5}. Best is trial#67 with value: 2.234648708397086.\n",
      "min_data_in_leaf, val_score: 2.234649: 100%|##########| 5/5 [00:25<00:00,  5.09s/it]\n"
     ]
    }
   ],
   "source": [
    " # Optuna でハイパーパラメータを Stepwise Optimization する\n",
    "best_params = {}\n",
    "tuning_history = []\n",
    "    \n",
    "tuned_booster = lgb_o.train(lgb_params, train_set,\n",
    "                                     valid_sets=[train_set,val_set],\n",
    "                                     num_boost_round=1000,\n",
    "                                     categorical_feature = [\"item_id\",\"dept_id\",\"cat_id\",\"store_id\",\"state_id\",\"event_name_1\",\"event_name_2\"],\n",
    "                                     early_stopping_rounds=50,\n",
    "                                     best_params=best_params,\n",
    "                                     tuning_history=tuning_history,\n",
    "                                     verbose_eval=20,\n",
    "                                     callbacks=[pruning_callback]\n",
    "                                     feval= wrmsse,\n",
    "                                     )"
   ]
  },
  {
   "cell_type": "code",
   "execution_count": 34,
   "metadata": {},
   "outputs": [
    {
     "data": {
      "text/plain": [
       "defaultdict(collections.OrderedDict,\n",
       "            {'training': OrderedDict([('rmse', 1.3212286037885301)]),\n",
       "             'valid_1': OrderedDict([('rmse', 2.234648708397086)])})"
      ]
     },
     "execution_count": 34,
     "metadata": {},
     "output_type": "execute_result"
    }
   ],
   "source": [
    "tuned_booster.best_score"
   ]
  },
  {
   "cell_type": "code",
   "execution_count": null,
   "metadata": {},
   "outputs": [],
   "source": []
  },
  {
   "cell_type": "code",
   "execution_count": null,
   "metadata": {},
   "outputs": [],
   "source": []
  },
  {
   "cell_type": "code",
   "execution_count": null,
   "metadata": {},
   "outputs": [],
   "source": []
  },
  {
   "cell_type": "code",
   "execution_count": null,
   "metadata": {},
   "outputs": [],
   "source": []
  },
  {
   "cell_type": "code",
   "execution_count": null,
   "metadata": {},
   "outputs": [],
   "source": []
  },
  {
   "cell_type": "code",
   "execution_count": null,
   "metadata": {},
   "outputs": [],
   "source": []
  },
  {
   "cell_type": "code",
   "execution_count": null,
   "metadata": {},
   "outputs": [],
   "source": []
  },
  {
   "cell_type": "code",
   "execution_count": null,
   "metadata": {},
   "outputs": [],
   "source": []
  },
  {
   "cell_type": "code",
   "execution_count": null,
   "metadata": {},
   "outputs": [],
   "source": []
  },
  {
   "cell_type": "code",
   "execution_count": null,
   "metadata": {},
   "outputs": [],
   "source": []
  }
 ],
 "metadata": {
  "kernelspec": {
   "display_name": "Python 3",
   "language": "python",
   "name": "python3"
  },
  "language_info": {
   "codemirror_mode": {
    "name": "ipython",
    "version": 3
   },
   "file_extension": ".py",
   "mimetype": "text/x-python",
   "name": "python",
   "nbconvert_exporter": "python",
   "pygments_lexer": "ipython3",
   "version": "3.7.7"
  }
 },
 "nbformat": 4,
 "nbformat_minor": 4
}
