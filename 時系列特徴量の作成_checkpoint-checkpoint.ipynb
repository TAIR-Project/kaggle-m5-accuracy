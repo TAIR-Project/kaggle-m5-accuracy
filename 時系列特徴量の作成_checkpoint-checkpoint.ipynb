{
 "cells": [
  {
   "cell_type": "code",
   "execution_count": 1,
   "metadata": {
    "colab": {},
    "colab_type": "code",
    "id": "yztD0TkSE43-"
   },
   "outputs": [
    {
     "name": "stderr",
     "output_type": "stream",
     "text": [
      "Duplicate key in file 'C:\\\\Users\\\\User\\\\.matplotlib\\\\matplotlibrc' line #250.\n"
     ]
    }
   ],
   "source": [
    "import numpy as np\n",
    "import pandas as pd\n",
    "import matplotlib.pyplot as plt\n",
    "\n",
    "import psutil "
   ]
  },
  {
   "cell_type": "code",
   "execution_count": 2,
   "metadata": {
    "colab": {},
    "colab_type": "code",
    "id": "W2N_re8aE44D",
    "outputId": "2e6412d1-1bd6-4f97-bb44-52a08ccc45a2"
   },
   "outputs": [],
   "source": [
    "# cd C:/Users/minih/python_prac1/m5/git-repository/kaggle-m5-accuracy-library/library/"
   ]
  },
  {
   "cell_type": "code",
   "execution_count": 3,
   "metadata": {
    "colab": {},
    "colab_type": "code",
    "id": "ZUkoDsumE44M"
   },
   "outputs": [],
   "source": [
    "import patair"
   ]
  },
  {
   "cell_type": "code",
   "execution_count": 5,
   "metadata": {
    "colab": {},
    "colab_type": "code",
    "id": "J2t4aMT7E44R",
    "outputId": "120ec2f2-6158-41e5-bf38-3e4d627ccfb9"
   },
   "outputs": [],
   "source": [
    "# cd C:\\Users\\minih\\python_prac1\\library\\m5"
   ]
  },
  {
   "cell_type": "code",
   "execution_count": 6,
   "metadata": {
    "colab": {},
    "colab_type": "code",
    "id": "kAjJmDNTE44Y"
   },
   "outputs": [],
   "source": [
    "datas = pd.read_pickle('all_sales_train_validation.pickle')"
   ]
  },
  {
   "cell_type": "code",
   "execution_count": 7,
   "metadata": {
    "colab": {},
    "colab_type": "code",
    "id": "C-une4PrE44b",
    "outputId": "1ee1abb5-f5ac-4820-e294-6894aeb0ce62"
   },
   "outputs": [
    {
     "data": {
      "text/plain": [
       "(22589864, 17)"
      ]
     },
     "execution_count": 7,
     "metadata": {},
     "output_type": "execute_result"
    }
   ],
   "source": [
    "datas.shape"
   ]
  },
  {
   "cell_type": "code",
   "execution_count": 8,
   "metadata": {
    "colab": {},
    "colab_type": "code",
    "id": "9VGEKOq1E44f",
    "outputId": "41424c49-fea9-41ea-ef68-5f4a2878242b",
    "scrolled": true
   },
   "outputs": [
    {
     "data": {
      "text/html": [
       "<div>\n",
       "<style scoped>\n",
       "    .dataframe tbody tr th:only-of-type {\n",
       "        vertical-align: middle;\n",
       "    }\n",
       "\n",
       "    .dataframe tbody tr th {\n",
       "        vertical-align: top;\n",
       "    }\n",
       "\n",
       "    .dataframe thead th {\n",
       "        text-align: right;\n",
       "    }\n",
       "</style>\n",
       "<table border=\"1\" class=\"dataframe\">\n",
       "  <thead>\n",
       "    <tr style=\"text-align: right;\">\n",
       "      <th></th>\n",
       "      <th>id</th>\n",
       "      <th>item_id</th>\n",
       "      <th>dept_id</th>\n",
       "      <th>cat_id</th>\n",
       "      <th>store_id</th>\n",
       "      <th>state_id</th>\n",
       "      <th>sell_num</th>\n",
       "      <th>date</th>\n",
       "      <th>wm_yr_wk</th>\n",
       "      <th>event_name_1</th>\n",
       "      <th>event_type_1</th>\n",
       "      <th>event_name_2</th>\n",
       "      <th>event_type_2</th>\n",
       "      <th>snap_CA</th>\n",
       "      <th>snap_TX</th>\n",
       "      <th>snap_WI</th>\n",
       "      <th>sell_price</th>\n",
       "    </tr>\n",
       "  </thead>\n",
       "  <tbody>\n",
       "    <tr>\n",
       "      <th>0</th>\n",
       "      <td>HOBBIES_1_001_CA_1_validation</td>\n",
       "      <td>1437</td>\n",
       "      <td>3</td>\n",
       "      <td>1</td>\n",
       "      <td>0</td>\n",
       "      <td>0</td>\n",
       "      <td>0.0</td>\n",
       "      <td>2014-04-26</td>\n",
       "      <td>11413</td>\n",
       "      <td>30</td>\n",
       "      <td>4</td>\n",
       "      <td>4</td>\n",
       "      <td>2</td>\n",
       "      <td>0</td>\n",
       "      <td>0</td>\n",
       "      <td>0</td>\n",
       "      <td>8.257812</td>\n",
       "    </tr>\n",
       "    <tr>\n",
       "      <th>1</th>\n",
       "      <td>HOBBIES_1_002_CA_1_validation</td>\n",
       "      <td>1438</td>\n",
       "      <td>3</td>\n",
       "      <td>1</td>\n",
       "      <td>0</td>\n",
       "      <td>0</td>\n",
       "      <td>0.0</td>\n",
       "      <td>2014-04-26</td>\n",
       "      <td>11413</td>\n",
       "      <td>30</td>\n",
       "      <td>4</td>\n",
       "      <td>4</td>\n",
       "      <td>2</td>\n",
       "      <td>0</td>\n",
       "      <td>0</td>\n",
       "      <td>0</td>\n",
       "      <td>3.970703</td>\n",
       "    </tr>\n",
       "    <tr>\n",
       "      <th>2</th>\n",
       "      <td>HOBBIES_1_003_CA_1_validation</td>\n",
       "      <td>1439</td>\n",
       "      <td>3</td>\n",
       "      <td>1</td>\n",
       "      <td>0</td>\n",
       "      <td>0</td>\n",
       "      <td>0.0</td>\n",
       "      <td>2014-04-26</td>\n",
       "      <td>11413</td>\n",
       "      <td>30</td>\n",
       "      <td>4</td>\n",
       "      <td>4</td>\n",
       "      <td>2</td>\n",
       "      <td>0</td>\n",
       "      <td>0</td>\n",
       "      <td>0</td>\n",
       "      <td>2.970703</td>\n",
       "    </tr>\n",
       "  </tbody>\n",
       "</table>\n",
       "</div>"
      ],
      "text/plain": [
       "                              id  item_id  dept_id  cat_id  store_id  \\\n",
       "0  HOBBIES_1_001_CA_1_validation     1437        3       1         0   \n",
       "1  HOBBIES_1_002_CA_1_validation     1438        3       1         0   \n",
       "2  HOBBIES_1_003_CA_1_validation     1439        3       1         0   \n",
       "\n",
       "   state_id  sell_num        date  wm_yr_wk  event_name_1  event_type_1  \\\n",
       "0         0       0.0  2014-04-26     11413            30             4   \n",
       "1         0       0.0  2014-04-26     11413            30             4   \n",
       "2         0       0.0  2014-04-26     11413            30             4   \n",
       "\n",
       "   event_name_2  event_type_2  snap_CA  snap_TX  snap_WI  sell_price  \n",
       "0             4             2        0        0        0    8.257812  \n",
       "1             4             2        0        0        0    3.970703  \n",
       "2             4             2        0        0        0    2.970703  "
      ]
     },
     "execution_count": 8,
     "metadata": {},
     "output_type": "execute_result"
    }
   ],
   "source": [
    "datas.head(3)"
   ]
  },
  {
   "cell_type": "code",
   "execution_count": 9,
   "metadata": {
    "colab": {},
    "colab_type": "code",
    "id": "Qlmh1DPeE44k"
   },
   "outputs": [],
   "source": [
    "datas['date'] = pd.to_datetime(datas['date'])"
   ]
  },
  {
   "cell_type": "code",
   "execution_count": 10,
   "metadata": {
    "colab": {},
    "colab_type": "code",
    "id": "d9BiSJFEE44q",
    "outputId": "d9c531ae-0439-48ca-934d-c7a544ed4b16"
   },
   "outputs": [
    {
     "data": {
      "text/plain": [
       "id                      object\n",
       "item_id                  int16\n",
       "dept_id                   int8\n",
       "cat_id                    int8\n",
       "store_id                  int8\n",
       "state_id                  int8\n",
       "sell_num               float16\n",
       "date            datetime64[ns]\n",
       "wm_yr_wk                 int16\n",
       "event_name_1              int8\n",
       "event_type_1              int8\n",
       "event_name_2              int8\n",
       "event_type_2              int8\n",
       "snap_CA                   int8\n",
       "snap_TX                   int8\n",
       "snap_WI                   int8\n",
       "sell_price             float16\n",
       "dtype: object"
      ]
     },
     "execution_count": 10,
     "metadata": {},
     "output_type": "execute_result"
    }
   ],
   "source": [
    "datas.dtypes"
   ]
  },
  {
   "cell_type": "code",
   "execution_count": 11,
   "metadata": {
    "colab": {},
    "colab_type": "code",
    "id": "LWQ91L3ZE44x",
    "outputId": "74cdb426-749a-49b3-f18f-30c6c3a0fea6"
   },
   "outputs": [
    {
     "data": {
      "text/plain": [
       "(22589864, 17)"
      ]
     },
     "execution_count": 11,
     "metadata": {},
     "output_type": "execute_result"
    }
   ],
   "source": [
    "datas.shape"
   ]
  },
  {
   "cell_type": "code",
   "execution_count": 12,
   "metadata": {
    "colab": {},
    "colab_type": "code",
    "id": "53eTGth6E444",
    "outputId": "3a3b9c6c-b780-4bb9-c09a-72a67c75fe83"
   },
   "outputs": [
    {
     "data": {
      "text/plain": [
       "(22589864, 17)"
      ]
     },
     "execution_count": 12,
     "metadata": {},
     "output_type": "execute_result"
    }
   ],
   "source": [
    "datas.shape"
   ]
  },
  {
   "cell_type": "code",
   "execution_count": 13,
   "metadata": {
    "colab": {},
    "colab_type": "code",
    "id": "0ocMUdBQE449"
   },
   "outputs": [],
   "source": [
    "#maps = datas.groupby(\"id\").groups"
   ]
  },
  {
   "cell_type": "code",
   "execution_count": 14,
   "metadata": {
    "colab": {},
    "colab_type": "code",
    "id": "KwG18Ru_E45A"
   },
   "outputs": [],
   "source": [
    "#list(maps.values())[0]"
   ]
  },
  {
   "cell_type": "code",
   "execution_count": 15,
   "metadata": {
    "colab": {},
    "colab_type": "code",
    "id": "l3lSp7JYE45D"
   },
   "outputs": [],
   "source": [
    "#base_index = datas.index"
   ]
  },
  {
   "cell_type": "code",
   "execution_count": 16,
   "metadata": {
    "colab": {},
    "colab_type": "code",
    "id": "YYD50cDFE45F"
   },
   "outputs": [],
   "source": [
    "#j = 0\n",
    "#for i in np.arange(30490):\n",
    " #   if j % 1000 == 0:\n",
    "  #      print(j)\n",
    "   # if not datas.loc[list(maps.values())[i]].isnull().sum()[\"sell_price\"] == 0:\n",
    "    #    datas.loc[list(maps.values())[i]] = datas.loc[list(maps.values())[i]].interpolate()\n",
    "    #j+=1"
   ]
  },
  {
   "cell_type": "code",
   "execution_count": 17,
   "metadata": {
    "colab": {},
    "colab_type": "code",
    "id": "sWm57gmlE45I"
   },
   "outputs": [],
   "source": [
    "#datas.to_pickle(\"all_sales_train_val_interpolate.pickle\")"
   ]
  },
  {
   "cell_type": "code",
   "execution_count": 18,
   "metadata": {
    "colab": {},
    "colab_type": "code",
    "id": "gMlaHiAQE45L"
   },
   "outputs": [],
   "source": [
    "#datas.reset_index(inplace=True)"
   ]
  },
  {
   "cell_type": "code",
   "execution_count": 19,
   "metadata": {
    "colab": {},
    "colab_type": "code",
    "id": "ETobNeSmE45O",
    "outputId": "b7cb55d6-0d88-4b89-fbb8-965759081b57"
   },
   "outputs": [
    {
     "data": {
      "text/html": [
       "<div>\n",
       "<style scoped>\n",
       "    .dataframe tbody tr th:only-of-type {\n",
       "        vertical-align: middle;\n",
       "    }\n",
       "\n",
       "    .dataframe tbody tr th {\n",
       "        vertical-align: top;\n",
       "    }\n",
       "\n",
       "    .dataframe thead th {\n",
       "        text-align: right;\n",
       "    }\n",
       "</style>\n",
       "<table border=\"1\" class=\"dataframe\">\n",
       "  <thead>\n",
       "    <tr style=\"text-align: right;\">\n",
       "      <th></th>\n",
       "      <th>id</th>\n",
       "      <th>item_id</th>\n",
       "      <th>dept_id</th>\n",
       "      <th>cat_id</th>\n",
       "      <th>store_id</th>\n",
       "      <th>state_id</th>\n",
       "      <th>sell_num</th>\n",
       "      <th>date</th>\n",
       "      <th>wm_yr_wk</th>\n",
       "      <th>event_name_1</th>\n",
       "      <th>event_type_1</th>\n",
       "      <th>event_name_2</th>\n",
       "      <th>event_type_2</th>\n",
       "      <th>snap_CA</th>\n",
       "      <th>snap_TX</th>\n",
       "      <th>snap_WI</th>\n",
       "      <th>sell_price</th>\n",
       "    </tr>\n",
       "  </thead>\n",
       "  <tbody>\n",
       "    <tr>\n",
       "      <th>0</th>\n",
       "      <td>HOBBIES_1_001_CA_1_validation</td>\n",
       "      <td>1437</td>\n",
       "      <td>3</td>\n",
       "      <td>1</td>\n",
       "      <td>0</td>\n",
       "      <td>0</td>\n",
       "      <td>0.0</td>\n",
       "      <td>2014-04-26</td>\n",
       "      <td>11413</td>\n",
       "      <td>30</td>\n",
       "      <td>4</td>\n",
       "      <td>4</td>\n",
       "      <td>2</td>\n",
       "      <td>0</td>\n",
       "      <td>0</td>\n",
       "      <td>0</td>\n",
       "      <td>8.257812</td>\n",
       "    </tr>\n",
       "    <tr>\n",
       "      <th>1</th>\n",
       "      <td>HOBBIES_1_002_CA_1_validation</td>\n",
       "      <td>1438</td>\n",
       "      <td>3</td>\n",
       "      <td>1</td>\n",
       "      <td>0</td>\n",
       "      <td>0</td>\n",
       "      <td>0.0</td>\n",
       "      <td>2014-04-26</td>\n",
       "      <td>11413</td>\n",
       "      <td>30</td>\n",
       "      <td>4</td>\n",
       "      <td>4</td>\n",
       "      <td>2</td>\n",
       "      <td>0</td>\n",
       "      <td>0</td>\n",
       "      <td>0</td>\n",
       "      <td>3.970703</td>\n",
       "    </tr>\n",
       "    <tr>\n",
       "      <th>2</th>\n",
       "      <td>HOBBIES_1_003_CA_1_validation</td>\n",
       "      <td>1439</td>\n",
       "      <td>3</td>\n",
       "      <td>1</td>\n",
       "      <td>0</td>\n",
       "      <td>0</td>\n",
       "      <td>0.0</td>\n",
       "      <td>2014-04-26</td>\n",
       "      <td>11413</td>\n",
       "      <td>30</td>\n",
       "      <td>4</td>\n",
       "      <td>4</td>\n",
       "      <td>2</td>\n",
       "      <td>0</td>\n",
       "      <td>0</td>\n",
       "      <td>0</td>\n",
       "      <td>2.970703</td>\n",
       "    </tr>\n",
       "  </tbody>\n",
       "</table>\n",
       "</div>"
      ],
      "text/plain": [
       "                              id  item_id  dept_id  cat_id  store_id  \\\n",
       "0  HOBBIES_1_001_CA_1_validation     1437        3       1         0   \n",
       "1  HOBBIES_1_002_CA_1_validation     1438        3       1         0   \n",
       "2  HOBBIES_1_003_CA_1_validation     1439        3       1         0   \n",
       "\n",
       "   state_id  sell_num       date  wm_yr_wk  event_name_1  event_type_1  \\\n",
       "0         0       0.0 2014-04-26     11413            30             4   \n",
       "1         0       0.0 2014-04-26     11413            30             4   \n",
       "2         0       0.0 2014-04-26     11413            30             4   \n",
       "\n",
       "   event_name_2  event_type_2  snap_CA  snap_TX  snap_WI  sell_price  \n",
       "0             4             2        0        0        0    8.257812  \n",
       "1             4             2        0        0        0    3.970703  \n",
       "2             4             2        0        0        0    2.970703  "
      ]
     },
     "execution_count": 19,
     "metadata": {},
     "output_type": "execute_result"
    }
   ],
   "source": [
    "datas.head(3)"
   ]
  },
  {
   "cell_type": "code",
   "execution_count": 20,
   "metadata": {
    "colab": {},
    "colab_type": "code",
    "id": "Tz2ddRTfE45T"
   },
   "outputs": [],
   "source": [
    "#datas.set_index(\"id\",inplace=True)"
   ]
  },
  {
   "cell_type": "code",
   "execution_count": 21,
   "metadata": {
    "colab": {},
    "colab_type": "code",
    "id": "EfbJnA5wE45X",
    "outputId": "1a184ca2-6a08-4ac1-9dbc-a5a202035c3c"
   },
   "outputs": [
    {
     "data": {
      "text/plain": [
       "Timestamp('2016-05-22 00:00:00')"
      ]
     },
     "execution_count": 21,
     "metadata": {},
     "output_type": "execute_result"
    }
   ],
   "source": [
    "np.max(datas[\"date\"])"
   ]
  },
  {
   "cell_type": "code",
   "execution_count": 22,
   "metadata": {
    "colab": {},
    "colab_type": "code",
    "id": "qTEb7B4QE45b"
   },
   "outputs": [],
   "source": [
    "#answear_val = datas[(datas[\"date\"] >= \"2016-03-28\") & (datas[\"date\"] <= \"2016-04-24\")]#[\"sell_num\"]"
   ]
  },
  {
   "cell_type": "code",
   "execution_count": 23,
   "metadata": {
    "colab": {},
    "colab_type": "code",
    "id": "xm5kj2QlE45d"
   },
   "outputs": [],
   "source": [
    "#answear_val.shape"
   ]
  },
  {
   "cell_type": "code",
   "execution_count": 24,
   "metadata": {
    "colab": {},
    "colab_type": "code",
    "id": "GnDH1kjWE45g"
   },
   "outputs": [],
   "source": [
    "#answear_val.to_pickle(\"answear_val.pickle\")"
   ]
  },
  {
   "cell_type": "code",
   "execution_count": 25,
   "metadata": {
    "colab": {},
    "colab_type": "code",
    "id": "wy4kwsfbE45j"
   },
   "outputs": [],
   "source": [
    "#datas.loc[((datas[\"date\"] >= \"2016-03-28\")),\"sell_num\"] = np.NaN"
   ]
  },
  {
   "cell_type": "code",
   "execution_count": 26,
   "metadata": {
    "colab": {},
    "colab_type": "code",
    "id": "0A9cz3OzE45n",
    "scrolled": false
   },
   "outputs": [],
   "source": [
    "#1日前の売り上げ個数を特徴に追加\n",
    "#datas[\"prev_1\"] = datas.groupby(\"id\")[\"sell_num\"].transform(lambda x:x.shift(1))\n",
    "\n",
    "#2日前の売り上げ個数を特徴に追加\n",
    "#datas[\"prev_2\"] = datas.groupby(\"id\")[\"sell_num\"].transform(lambda x:x.shift(2))\n",
    "\n",
    "#7日前の売り上げ個数を特徴に追加\n",
    "#datas[\"prev_7\"] = datas.groupby(\"id\")[\"sell_num\"].transform(lambda x:x.shift(7))\n",
    "\n",
    "\n",
    "#14日前の売り上げ個数を特徴に追加\n",
    "#datas[\"prev_14\"] = datas.groupby(\"id\")[\"sell_num\"].transform(lambda x:x.shift(14))\n",
    "\n",
    "#############\n",
    "\n",
    "#28日前の売り上げ個数を特徴に追加\n",
    "datas[\"prev_28\"] = datas.groupby(\"id\")[\"sell_num\"].transform(lambda x:x.shift(28))\n",
    "\n",
    "#29日前の売り上げ個数を特徴に追加\n",
    "#datas[\"prev_29\"] = datas.groupby(\"id\")[\"sell_num\"].transform(lambda x:x.shift(29))\n",
    "\n",
    "#30日前の売り上げ個数を特徴に追加\n",
    "#datas[\"prev_30\"] = datas.groupby(\"id\")[\"sell_num\"].transform(lambda x:x.shift(30))\n",
    "\n",
    "#35日前の売り上げ個数を特徴に追加\n",
    "#datas[\"prev_35\"] = datas.groupby(\"id\")[\"sell_num\"].transform(lambda x:x.shift(35))\n",
    "\n",
    "#半年前(182日前)の売り上げ個数を特徴に追加\n",
    "#datas[\"prev_182\"] = datas.groupby(\"id\")[\"sell_num\"].transform(lambda x:x.shift(182))\n",
    "\n",
    "#1年前(365日前)の売り上げ個数を特徴に追加\n",
    "#datas[\"prev_365\"] = datas.groupby(\"id\")[\"sell_num\"].transform(lambda x:x.shift(365))"
   ]
  },
  {
   "cell_type": "code",
   "execution_count": 27,
   "metadata": {
    "colab": {},
    "colab_type": "code",
    "id": "p1hG7lIFE45r",
    "outputId": "e87f996f-b491-4fc4-d5e7-d28f69a62f24"
   },
   "outputs": [
    {
     "name": "stdout",
     "output_type": "stream",
     "text": [
      "Mem. usage decreased to 969.45 Mb (0.0% reduction)\n"
     ]
    }
   ],
   "source": [
    "datas = patair.reduce_mem_usage(datas,True)"
   ]
  },
  {
   "cell_type": "code",
   "execution_count": 28,
   "metadata": {
    "colab": {},
    "colab_type": "code",
    "id": "d_feDUQZE45u"
   },
   "outputs": [],
   "source": [
    "#1日前の価格を特徴に追加\n",
    "datas[\"p_prev_1\"] = datas.groupby(\"id\")[\"sell_price\"].transform(lambda x:x.shift(1))\n",
    "\n",
    "#2日前の価格を特徴に追加\n",
    "#datas[\"p_prev_2\"] = datas.groupby(\"id\")[\"sell_price\"].transform(lambda x:x.shift(2))\n",
    "\n",
    "#3日前の価格を特徴に追加\n",
    "#datas[\"p_prev_3\"] = datas.groupby(\"id\")[\"sell_price\"].transform(lambda x:x.shift(3))\n",
    "\n",
    "#7日前の価格を特徴に追加\n",
    "#datas[\"p_prev_7\"] = datas.groupby(\"id\")[\"sell_price\"].transform(lambda x:x.shift(7))\n",
    "\n",
    "#14日前の価格を特徴に追加\n",
    "#datas[\"p_prev_14\"] = datas.groupby(\"id\")[\"sell_price\"].transform(lambda x:x.shift(14))\n",
    "\n",
    "#28日前の価格を特徴に追加\n",
    "#datas[\"p_prev_28\"] = datas.groupby(\"id\")[\"sell_price\"].transform(lambda x:x.shift(28))\n",
    "#あまりラグを大きくしすぎるとアイテムによってはデータが全然ない状況に..."
   ]
  },
  {
   "cell_type": "code",
   "execution_count": null,
   "metadata": {
    "colab": {},
    "colab_type": "code",
    "id": "2zWtyQVWE45x"
   },
   "outputs": [],
   "source": [
    "#for size in [7, 30]:\n",
    "#        datas[f\"rolling_mean_t{size}\"] = datas.groupby([\"id\"])[\"sell_num\"].transform(\n",
    "#            lambda x: x.shift(7).rolling(size).mean()\n",
    "#        )\n",
    "for size in [7, 14]:\n",
    "        datas[f\"rolling_mean_t{size}\"] = datas.groupby([\"id\"])[\"sell_num\"].transform(\n",
    "            lambda x: x.shift(28).rolling(size).mean()\n",
    "        )\n",
    "#for size in [7, 30, 60, 90, 180]:\n",
    "#        datas[f\"rolling_mean_t{size}\"] = datas.groupby([\"id\"])[\"sell_num\"].transform(\n",
    "#            lambda x: x.shift(28).rolling(size).mean()\n",
    "#        )"
   ]
  },
  {
   "cell_type": "code",
   "execution_count": null,
   "metadata": {
    "colab": {},
    "colab_type": "code",
    "id": "6buoNJNiE450"
   },
   "outputs": [],
   "source": [
    "#for size in [7, 30]:\n",
    "#        datas[f\"rolling_std_t{size}\"] = datas.groupby([\"id\"])[\"sell_num\"].transform(\n",
    "#            lambda x: x.shift(7).rolling(size).std()\n",
    "#        )\n",
    "for size in [7, 14]:\n",
    "        datas[f\"rolling_std_t{size}\"] = datas.groupby([\"id\"])[\"sell_num\"].transform(\n",
    "            lambda x: x.shift(28).rolling(size).std()\n",
    "        )"
   ]
  },
  {
   "cell_type": "code",
   "execution_count": null,
   "metadata": {
    "colab": {},
    "colab_type": "code",
    "id": "EDEkrjH4E452"
   },
   "outputs": [],
   "source": [
    "datas[\"price_change_t1\"] = (datas[\"p_prev_1\"] - datas[\"sell_price\"]) / (\n",
    "        datas[\"p_prev_1\"]\n",
    "    )"
   ]
  },
  {
   "cell_type": "code",
   "execution_count": null,
   "metadata": {
    "colab": {},
    "colab_type": "code",
    "id": "TduPwkgTE455"
   },
   "outputs": [],
   "source": [
    "#datas[\"rolling_price_max_t365\"] = datas.groupby([\"id\"])[\"sell_price\"].transform(\n",
    "#        lambda x: x.shift(1).rolling(365).max()\n",
    "#)"
   ]
  },
  {
   "cell_type": "code",
   "execution_count": null,
   "metadata": {
    "colab": {},
    "colab_type": "code",
    "id": "TDSAxKkrE458"
   },
   "outputs": [],
   "source": [
    "#datas[\"price_change_t365\"] = (datas[\"rolling_price_max_t365\"] - datas[\"sell_price\"]) / (\n",
    "#        datas[\"rolling_price_max_t365\"]\n",
    "#)"
   ]
  },
  {
   "cell_type": "code",
   "execution_count": null,
   "metadata": {
    "colab": {},
    "colab_type": "code",
    "id": "tTtzocdpE45_"
   },
   "outputs": [],
   "source": [
    "datas[\"rolling_price_std_t7\"] = datas.groupby([\"id\"])[\"sell_price\"].transform(\n",
    "        lambda x: x.rolling(7).std()\n",
    "    )\n",
    "datas[\"rolling_price_std_t30\"] = datas.groupby([\"id\"])[\"sell_price\"].transform(\n",
    "        lambda x: x.rolling(30).std()\n",
    "    )"
   ]
  },
  {
   "cell_type": "code",
   "execution_count": null,
   "metadata": {
    "colab": {},
    "colab_type": "code",
    "id": "XjjyYyuBE46B",
    "outputId": "afb2a45a-17f2-4a76-f6f7-b08afc3d9aef"
   },
   "outputs": [],
   "source": [
    "datas.columns"
   ]
  },
  {
   "cell_type": "code",
   "execution_count": null,
   "metadata": {
    "colab": {},
    "colab_type": "code",
    "id": "l-EmedqPE46E",
    "outputId": "95e41d53-b88c-4e4d-e6be-92710ea6c561"
   },
   "outputs": [],
   "source": [
    "datas"
   ]
  },
  {
   "cell_type": "code",
   "execution_count": null,
   "metadata": {
    "colab": {},
    "colab_type": "code",
    "id": "z0r6VPP-E46G"
   },
   "outputs": [],
   "source": [
    " attrs = [\n",
    "        \"year\",\n",
    "        \"quarter\",\n",
    "        \"month\",\n",
    "        \"week\",\n",
    "        \"day\",\n",
    "        \"dayofweek\",\n",
    "        #\"is_year_end\",\n",
    "        #\"is_year_start\",\n",
    "        #\"is_quarter_end\",\n",
    "        #\"is_quarter_start\",\n",
    "        #\"is_month_end\",\n",
    "        #\"is_month_start\",\n",
    "    ]\n",
    "\n",
    "for attr in attrs:\n",
    "    dtype = np.int16 if attr == \"year\" else np.int8\n",
    "    datas[attr] = getattr(datas[\"date\"].dt, attr).astype(dtype)\n",
    "\n",
    "datas[\"is_weekend\"] = datas[\"dayofweek\"].isin([5, 6]).astype(np.int8)"
   ]
  },
  {
   "cell_type": "code",
   "execution_count": null,
   "metadata": {
    "colab": {},
    "colab_type": "code",
    "id": "YPzMlOj1E46J",
    "outputId": "ecf25909-f602-4702-f328-cf9d2dc8f90d"
   },
   "outputs": [],
   "source": [
    "datas = patair.reduce_mem_usage(datas,True)"
   ]
  },
  {
   "cell_type": "code",
   "execution_count": null,
   "metadata": {
    "colab": {},
    "colab_type": "code",
    "id": "uh7M8CYeE46M",
    "outputId": "d31b92a4-9501-4939-9ff1-15038a90e404"
   },
   "outputs": [],
   "source": [
    "datas.columns"
   ]
  },
  {
   "cell_type": "code",
   "execution_count": null,
   "metadata": {
    "colab": {},
    "colab_type": "code",
    "id": "WvO1FLXLE46O"
   },
   "outputs": [],
   "source": [
    "#nanのデータをdrop\n",
    "#datas.dropna(subset=[ 'sell_price', 'prev_28', 'prev_29', 'prev_35',\n",
    " #      'prev_182', 'prev_365', 'p_prev_1', 'rolling_mean_t7',\n",
    "  #     'rolling_mean_t30', 'rolling_mean_t60', 'rolling_mean_t90',\n",
    "   #    'rolling_mean_t180', 'price_change_t1',\n",
    "    #   'rolling_price_std_t7', 'rolling_price_std_t30'],inplace=True)"
   ]
  },
  {
   "cell_type": "code",
   "execution_count": null,
   "metadata": {
    "colab": {},
    "colab_type": "code",
    "id": "b9ujaqxlE46R"
   },
   "outputs": [],
   "source": [
    "#datas.drop(['rolling_price_max_t365','price_change_t365'],axis=1,inplace=True)"
   ]
  },
  {
   "cell_type": "code",
   "execution_count": null,
   "metadata": {
    "colab": {},
    "colab_type": "code",
    "id": "zCR6teYmE46T",
    "scrolled": true
   },
   "outputs": [],
   "source": [
    "datas.shape"
   ]
  },
  {
   "cell_type": "code",
   "execution_count": null,
   "metadata": {
    "colab": {},
    "colab_type": "code",
    "id": "76DjaSTJE46Y"
   },
   "outputs": [],
   "source": [
    "datas.drop(\"wm_yr_wk\",axis=1,inplace=True)"
   ]
  },
  {
   "cell_type": "code",
   "execution_count": null,
   "metadata": {
    "colab": {},
    "colab_type": "code",
    "id": "qIlX07FFE46d"
   },
   "outputs": [],
   "source": [
    "datas.to_pickle('all_sales_train_validation_translated_contain_null.pickle')"
   ]
  },
  {
   "cell_type": "code",
   "execution_count": null,
   "metadata": {
    "colab": {},
    "colab_type": "code",
    "id": "zI0qxWMBE46g"
   },
   "outputs": [],
   "source": [
    "buff = datas[datas[\"id\"] == \"FOODS_1_001_CA_1_validation\"][['date','sell_num', 'sell_price','prev_28', 'p_prev_1','rolling_mean_t7', \n",
    "               'rolling_mean_t30', 'price_change_t1','rolling_std_t7', 'rolling_std_t30',\n",
    "               'rolling_price_std_t7', 'rolling_price_std_t30', 'price_change_t1', 'rolling_price_std_t7']]"
   ]
  },
  {
   "cell_type": "code",
   "execution_count": null,
   "metadata": {
    "colab": {},
    "colab_type": "code",
    "id": "ueRMH3JsE46k",
    "outputId": "ac441632-6d17-4304-d4f5-2f053d508817"
   },
   "outputs": [],
   "source": [
    "#最大ラグを早めに出しておこう！！\n",
    "buff.head(37)"
   ]
  },
  {
   "cell_type": "code",
   "execution_count": null,
   "metadata": {
    "colab": {},
    "colab_type": "code",
    "id": "69dSDV-tE46n"
   },
   "outputs": [],
   "source": [
    "buff.to_csv(\"try.csv\")"
   ]
  },
  {
   "cell_type": "code",
   "execution_count": null,
   "metadata": {
    "colab": {},
    "colab_type": "code",
    "id": "XDRg7EWRE46q"
   },
   "outputs": [],
   "source": [
    "#datas.to_pickle('all_sales_train_validation_translated.pickle')"
   ]
  },
  {
   "cell_type": "code",
   "execution_count": null,
   "metadata": {},
   "outputs": [],
   "source": []
  }
 ],
 "metadata": {
  "colab": {
   "name": "時系列特徴量の作成-checkpoint.ipynb",
   "provenance": []
  },
  "kernelspec": {
   "display_name": "Python 3",
   "language": "python",
   "name": "python3"
  },
  "language_info": {
   "codemirror_mode": {
    "name": "ipython",
    "version": 3
   },
   "file_extension": ".py",
   "mimetype": "text/x-python",
   "name": "python",
   "nbconvert_exporter": "python",
   "pygments_lexer": "ipython3",
   "version": "3.7.4"
  }
 },
 "nbformat": 4,
 "nbformat_minor": 1
}
